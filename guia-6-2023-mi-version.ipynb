{
 "cells": [
  {
   "cell_type": "markdown",
   "metadata": {},
   "source": [
    "# Métodos Numéricos (2023)\n",
    "\n",
    "## Guía 5: Integración Numérica"
   ]
  },
  {
   "cell_type": "code",
   "execution_count": 2,
   "metadata": {},
   "outputs": [],
   "source": [
    "using Plots\n",
    "using DataFrames"
   ]
  },
  {
   "cell_type": "markdown",
   "metadata": {},
   "source": [
    "## Problema 1\n",
    "1. Haciendo los calculos a mano y trabajando con 7 cifras significativas, encuentre las aproximaciones a las integrales definidas:\n",
    "\n",
    "    a. $I_1 = \\int_0^1 x^4 dx$\n",
    "\n",
    "    b. $I_2 = \\int_0^{\\pi} \\sin{(x)} dx$\n",
    "\n",
    "utilizando las reglas simples de *i) punto medio*, *ii) trapecio* y *iii) Simpson*. \n",
    "\n",
    "2. Calcule el error absoluto y el error relativo en cada caso y para cada método."
   ]
  },
  {
   "cell_type": "code",
   "execution_count": 3,
   "metadata": {},
   "outputs": [],
   "source": [
    "#1) "
   ]
  },
  {
   "cell_type": "code",
   "execution_count": 4,
   "metadata": {},
   "outputs": [
    {
     "name": "stdout",
     "output_type": "stream",
     "text": [
      "I1 = 0.2 \n",
      "I2 = 2.0\n"
     ]
    }
   ],
   "source": [
    "a(x) = x^4\n",
    "b(x) = sin(x)\n",
    "A(x) = (x^5)/5\n",
    "B(x) = -cos(x)\n",
    "I1 = A(1)-A(0)\n",
    "I2 = B(pi)-B(0)\n",
    "println(\"I1 = $I1 \\nI2 = $I2\")"
   ]
  },
  {
   "cell_type": "code",
   "execution_count": 5,
   "metadata": {},
   "outputs": [],
   "source": [
    "#2) "
   ]
  },
  {
   "cell_type": "code",
   "execution_count": 6,
   "metadata": {},
   "outputs": [
    {
     "data": {
      "text/plain": [
       "PM (generic function with 1 method)"
      ]
     },
     "execution_count": 6,
     "metadata": {},
     "output_type": "execute_result"
    }
   ],
   "source": [
    "function PM(a,b,f)\n",
    "    \n",
    "    I = (b-a)*f((a+b)/2)\n",
    "    return I \n",
    "    \n",
    "end"
   ]
  },
  {
   "cell_type": "code",
   "execution_count": 7,
   "metadata": {},
   "outputs": [
    {
     "data": {
      "text/plain": [
       "T (generic function with 1 method)"
      ]
     },
     "execution_count": 7,
     "metadata": {},
     "output_type": "execute_result"
    }
   ],
   "source": [
    "function T(a,b,f)\n",
    "    \n",
    "    I = (b-a)*((f(a)+f(b))/2)\n",
    "    return I \n",
    "    \n",
    "end"
   ]
  },
  {
   "cell_type": "code",
   "execution_count": 8,
   "metadata": {},
   "outputs": [
    {
     "data": {
      "text/plain": [
       "S (generic function with 1 method)"
      ]
     },
     "execution_count": 8,
     "metadata": {},
     "output_type": "execute_result"
    }
   ],
   "source": [
    "function S(a,b,f)\n",
    "    \n",
    "    I = ((b-a)/6)*(f(a)+f(b)+4*f((a+b)/2))\n",
    "    return I \n",
    "    \n",
    "end"
   ]
  },
  {
   "cell_type": "code",
   "execution_count": 9,
   "metadata": {},
   "outputs": [],
   "source": [
    "#a) "
   ]
  },
  {
   "cell_type": "code",
   "execution_count": 10,
   "metadata": {},
   "outputs": [
    {
     "data": {
      "text/html": [
       "<div><div style = \"float: left;\"><span>4×4 DataFrame</span></div><div style = \"clear: both;\"></div></div><div class = \"data-frame\" style = \"overflow-x: scroll;\"><table class = \"data-frame\" style = \"margin-bottom: 6px;\"><thead><tr class = \"header\"><th class = \"rowNumber\" style = \"font-weight: bold; text-align: right;\">Row</th><th style = \"text-align: left;\">Descripción</th><th style = \"text-align: left;\">Punto Medio</th><th style = \"text-align: left;\">Trapecio</th><th style = \"text-align: left;\">Simpson</th></tr><tr class = \"subheader headerLastRow\"><th class = \"rowNumber\" style = \"font-weight: bold; text-align: right;\"></th><th title = \"String\" style = \"text-align: left;\">String</th><th title = \"Float64\" style = \"text-align: left;\">Float64</th><th title = \"Float64\" style = \"text-align: left;\">Float64</th><th title = \"Float64\" style = \"text-align: left;\">Float64</th></tr></thead><tbody><tr><td class = \"rowNumber\" style = \"font-weight: bold; text-align: right;\">1</td><td style = \"text-align: left;\">Valor real</td><td style = \"text-align: right;\">0.2</td><td style = \"text-align: right;\">0.2</td><td style = \"text-align: right;\">0.2</td></tr><tr><td class = \"rowNumber\" style = \"font-weight: bold; text-align: right;\">2</td><td style = \"text-align: left;\">Valor Aproximado</td><td style = \"text-align: right;\">0.0625</td><td style = \"text-align: right;\">0.5</td><td style = \"text-align: right;\">0.208333</td></tr><tr><td class = \"rowNumber\" style = \"font-weight: bold; text-align: right;\">3</td><td style = \"text-align: left;\">Error Absoluto</td><td style = \"text-align: right;\">0.1375</td><td style = \"text-align: right;\">0.3</td><td style = \"text-align: right;\">0.00833333</td></tr><tr><td class = \"rowNumber\" style = \"font-weight: bold; text-align: right;\">4</td><td style = \"text-align: left;\">Error Relativo</td><td style = \"text-align: right;\">0.6875</td><td style = \"text-align: right;\">1.5</td><td style = \"text-align: right;\">0.0416667</td></tr></tbody></table></div>"
      ],
      "text/latex": [
       "\\begin{tabular}{r|cccc}\n",
       "\t& Descripción & Punto Medio & Trapecio & Simpson\\\\\n",
       "\t\\hline\n",
       "\t& String & Float64 & Float64 & Float64\\\\\n",
       "\t\\hline\n",
       "\t1 & Valor real & 0.2 & 0.2 & 0.2 \\\\\n",
       "\t2 & Valor Aproximado & 0.0625 & 0.5 & 0.208333 \\\\\n",
       "\t3 & Error Absoluto & 0.1375 & 0.3 & 0.00833333 \\\\\n",
       "\t4 & Error Relativo & 0.6875 & 1.5 & 0.0416667 \\\\\n",
       "\\end{tabular}\n"
      ],
      "text/plain": [
       "\u001b[1m4×4 DataFrame\u001b[0m\n",
       "\u001b[1m Row \u001b[0m│\u001b[1m Descripción      \u001b[0m\u001b[1m Punto Medio \u001b[0m\u001b[1m Trapecio \u001b[0m\u001b[1m Simpson    \u001b[0m\n",
       "     │\u001b[90m String           \u001b[0m\u001b[90m Float64     \u001b[0m\u001b[90m Float64  \u001b[0m\u001b[90m Float64    \u001b[0m\n",
       "─────┼─────────────────────────────────────────────────────\n",
       "   1 │ Valor real             0.2          0.2  0.2\n",
       "   2 │ Valor Aproximado       0.0625       0.5  0.208333\n",
       "   3 │ Error Absoluto         0.1375       0.3  0.00833333\n",
       "   4 │ Error Relativo         0.6875       1.5  0.0416667"
      ]
     },
     "execution_count": 10,
     "metadata": {},
     "output_type": "execute_result"
    }
   ],
   "source": [
    "A´ = [\"Valor real\", \"Valor Aproximado\", \"Error Absoluto\" , \"Error Relativo\"]\n",
    "B´ = [I1, PM(0,1,a), abs(I1 - PM(0,1,a)), (abs(I1 - PM(0,1,a)))/I1]\n",
    "C´ = [I1, T(0,1,a), abs(I1 - T(0,1,a)), (abs(I1 - T(0,1,a)))/I1]\n",
    "D´ = [I1, S(0,1,a), abs(I1 - S(0,1,a)), (abs(I1 - S(0,1,a)))/I1]\n",
    "\n",
    "DataFrame(\"Descripción\" => A´, \"Punto Medio\" => B´, \"Trapecio\" => C´,\"Simpson\" => D´)\n"
   ]
  },
  {
   "cell_type": "code",
   "execution_count": 11,
   "metadata": {},
   "outputs": [],
   "source": [
    "#b) "
   ]
  },
  {
   "cell_type": "code",
   "execution_count": 12,
   "metadata": {},
   "outputs": [
    {
     "data": {
      "text/html": [
       "<div><div style = \"float: left;\"><span>4×4 DataFrame</span></div><div style = \"clear: both;\"></div></div><div class = \"data-frame\" style = \"overflow-x: scroll;\"><table class = \"data-frame\" style = \"margin-bottom: 6px;\"><thead><tr class = \"header\"><th class = \"rowNumber\" style = \"font-weight: bold; text-align: right;\">Row</th><th style = \"text-align: left;\">Descripción</th><th style = \"text-align: left;\">Punto Medio</th><th style = \"text-align: left;\">Trapecio</th><th style = \"text-align: left;\">Simpson</th></tr><tr class = \"subheader headerLastRow\"><th class = \"rowNumber\" style = \"font-weight: bold; text-align: right;\"></th><th title = \"String\" style = \"text-align: left;\">String</th><th title = \"Float64\" style = \"text-align: left;\">Float64</th><th title = \"Float64\" style = \"text-align: left;\">Float64</th><th title = \"Float64\" style = \"text-align: left;\">Float64</th></tr></thead><tbody><tr><td class = \"rowNumber\" style = \"font-weight: bold; text-align: right;\">1</td><td style = \"text-align: left;\">Valor real</td><td style = \"text-align: right;\">2.0</td><td style = \"text-align: right;\">2.0</td><td style = \"text-align: right;\">2.0</td></tr><tr><td class = \"rowNumber\" style = \"font-weight: bold; text-align: right;\">2</td><td style = \"text-align: left;\">Valor Aproximado</td><td style = \"text-align: right;\">3.14159</td><td style = \"text-align: right;\">0.0</td><td style = \"text-align: right;\">2.0944</td></tr><tr><td class = \"rowNumber\" style = \"font-weight: bold; text-align: right;\">3</td><td style = \"text-align: left;\">Error Absoluto</td><td style = \"text-align: right;\">1.14159</td><td style = \"text-align: right;\">2.0</td><td style = \"text-align: right;\">0.0943951</td></tr><tr><td class = \"rowNumber\" style = \"font-weight: bold; text-align: right;\">4</td><td style = \"text-align: left;\">Error Relativo</td><td style = \"text-align: right;\">0.570796</td><td style = \"text-align: right;\">1.0</td><td style = \"text-align: right;\">0.0471976</td></tr></tbody></table></div>"
      ],
      "text/latex": [
       "\\begin{tabular}{r|cccc}\n",
       "\t& Descripción & Punto Medio & Trapecio & Simpson\\\\\n",
       "\t\\hline\n",
       "\t& String & Float64 & Float64 & Float64\\\\\n",
       "\t\\hline\n",
       "\t1 & Valor real & 2.0 & 2.0 & 2.0 \\\\\n",
       "\t2 & Valor Aproximado & 3.14159 & 0.0 & 2.0944 \\\\\n",
       "\t3 & Error Absoluto & 1.14159 & 2.0 & 0.0943951 \\\\\n",
       "\t4 & Error Relativo & 0.570796 & 1.0 & 0.0471976 \\\\\n",
       "\\end{tabular}\n"
      ],
      "text/plain": [
       "\u001b[1m4×4 DataFrame\u001b[0m\n",
       "\u001b[1m Row \u001b[0m│\u001b[1m Descripción      \u001b[0m\u001b[1m Punto Medio \u001b[0m\u001b[1m Trapecio \u001b[0m\u001b[1m Simpson   \u001b[0m\n",
       "     │\u001b[90m String           \u001b[0m\u001b[90m Float64     \u001b[0m\u001b[90m Float64  \u001b[0m\u001b[90m Float64   \u001b[0m\n",
       "─────┼────────────────────────────────────────────────────\n",
       "   1 │ Valor real           2.0            2.0  2.0\n",
       "   2 │ Valor Aproximado     3.14159        0.0  2.0944\n",
       "   3 │ Error Absoluto       1.14159        2.0  0.0943951\n",
       "   4 │ Error Relativo       0.570796       1.0  0.0471976"
      ]
     },
     "execution_count": 12,
     "metadata": {},
     "output_type": "execute_result"
    }
   ],
   "source": [
    "A´ = [\"Valor real\", \"Valor Aproximado\", \"Error Absoluto\" , \"Error Relativo\"]\n",
    "B´ = [I2, PM(0,pi,b), abs(I2 - PM(0,pi,b)), (abs(I2 - PM(0,pi,b)))/I2]\n",
    "C´ = [I2, T(0,pi,b), abs(I2 - T(0,pi,b)), (abs(I2 - T(0,pi,b)))/I2]\n",
    "D´ = [I2, S(0,pi,b), abs(I2 - S(0,pi,b)), (abs(I2 - S(0,pi,b)))/I2]\n",
    "\n",
    "DataFrame(\"Descripción\" => A´, \"Punto Medio\" => B´, \"Trapecio\" => C´,\"Simpson\" => D´)\n"
   ]
  },
  {
   "cell_type": "markdown",
   "metadata": {},
   "source": [
    "## Problema 2\n",
    "\n",
    "1. Repita el problema 1 dividiendo el intervalo de integración en dos subintervalos de igual tamaño. Es decir:\n",
    "\n",
    "    a. $I_1=\\int_0^{1/2} x^4 dx+ \\int_{1/2}^1 x^4 dx$\n",
    "\n",
    "    b. $I_2=\\int_0^{\\pi/2}\\sin{(x)}dx+\\int_{\\pi/2}^{\\pi}\\sin{(x)} dx$\n",
    "\n",
    "2. Compare resultados con lo obtenido en el problema 1."
   ]
  },
  {
   "cell_type": "code",
   "execution_count": 13,
   "metadata": {},
   "outputs": [],
   "source": [
    "#1) "
   ]
  },
  {
   "cell_type": "code",
   "execution_count": 14,
   "metadata": {},
   "outputs": [],
   "source": [
    "#a) "
   ]
  },
  {
   "cell_type": "code",
   "execution_count": 15,
   "metadata": {},
   "outputs": [
    {
     "data": {
      "text/html": [
       "<div><div style = \"float: left;\"><span>4×4 DataFrame</span></div><div style = \"clear: both;\"></div></div><div class = \"data-frame\" style = \"overflow-x: scroll;\"><table class = \"data-frame\" style = \"margin-bottom: 6px;\"><thead><tr class = \"header\"><th class = \"rowNumber\" style = \"font-weight: bold; text-align: right;\">Row</th><th style = \"text-align: left;\">Descripción</th><th style = \"text-align: left;\">Punto Medio</th><th style = \"text-align: left;\">Trapecio</th><th style = \"text-align: left;\">Simpson</th></tr><tr class = \"subheader headerLastRow\"><th class = \"rowNumber\" style = \"font-weight: bold; text-align: right;\"></th><th title = \"String\" style = \"text-align: left;\">String</th><th title = \"Float64\" style = \"text-align: left;\">Float64</th><th title = \"Float64\" style = \"text-align: left;\">Float64</th><th title = \"Float64\" style = \"text-align: left;\">Float64</th></tr></thead><tbody><tr><td class = \"rowNumber\" style = \"font-weight: bold; text-align: right;\">1</td><td style = \"text-align: left;\">Valor real</td><td style = \"text-align: right;\">0.2</td><td style = \"text-align: right;\">0.2</td><td style = \"text-align: right;\">0.2</td></tr><tr><td class = \"rowNumber\" style = \"font-weight: bold; text-align: right;\">2</td><td style = \"text-align: left;\">Valor Aproximado</td><td style = \"text-align: right;\">0.160156</td><td style = \"text-align: right;\">0.28125</td><td style = \"text-align: right;\">0.200521</td></tr><tr><td class = \"rowNumber\" style = \"font-weight: bold; text-align: right;\">3</td><td style = \"text-align: left;\">Error Absoluto</td><td style = \"text-align: right;\">0.0398438</td><td style = \"text-align: right;\">0.08125</td><td style = \"text-align: right;\">0.000520833</td></tr><tr><td class = \"rowNumber\" style = \"font-weight: bold; text-align: right;\">4</td><td style = \"text-align: left;\">Error Relativo</td><td style = \"text-align: right;\">0.199219</td><td style = \"text-align: right;\">0.40625</td><td style = \"text-align: right;\">0.00260417</td></tr></tbody></table></div>"
      ],
      "text/latex": [
       "\\begin{tabular}{r|cccc}\n",
       "\t& Descripción & Punto Medio & Trapecio & Simpson\\\\\n",
       "\t\\hline\n",
       "\t& String & Float64 & Float64 & Float64\\\\\n",
       "\t\\hline\n",
       "\t1 & Valor real & 0.2 & 0.2 & 0.2 \\\\\n",
       "\t2 & Valor Aproximado & 0.160156 & 0.28125 & 0.200521 \\\\\n",
       "\t3 & Error Absoluto & 0.0398438 & 0.08125 & 0.000520833 \\\\\n",
       "\t4 & Error Relativo & 0.199219 & 0.40625 & 0.00260417 \\\\\n",
       "\\end{tabular}\n"
      ],
      "text/plain": [
       "\u001b[1m4×4 DataFrame\u001b[0m\n",
       "\u001b[1m Row \u001b[0m│\u001b[1m Descripción      \u001b[0m\u001b[1m Punto Medio \u001b[0m\u001b[1m Trapecio \u001b[0m\u001b[1m Simpson     \u001b[0m\n",
       "     │\u001b[90m String           \u001b[0m\u001b[90m Float64     \u001b[0m\u001b[90m Float64  \u001b[0m\u001b[90m Float64     \u001b[0m\n",
       "─────┼──────────────────────────────────────────────────────\n",
       "   1 │ Valor real          0.2         0.2      0.2\n",
       "   2 │ Valor Aproximado    0.160156    0.28125  0.200521\n",
       "   3 │ Error Absoluto      0.0398438   0.08125  0.000520833\n",
       "   4 │ Error Relativo      0.199219    0.40625  0.00260417"
      ]
     },
     "execution_count": 15,
     "metadata": {},
     "output_type": "execute_result"
    }
   ],
   "source": [
    "A´ = [\"Valor real\", \"Valor Aproximado\", \"Error Absoluto\" , \"Error Relativo\"]\n",
    "B´ = [I1, PM(0,1/2,a)+PM(1/2,1,a), abs(I1 - (PM(0,1/2,a)+PM(1/2,1,a))), (abs(I1 - (PM(0,1/2,a)+PM(1/2,1,a))))/I1]\n",
    "C´ = [I1, T(0,1/2,a)+T(1/2,1,a), abs(I1 - (T(0,1/2,a)+T(1/2,1,a))), (abs(I1 - (T(0,1/2,a)+T(1/2,1,a))))/I1]\n",
    "D´ = [I1, S(0,1/2,a)+S(1/2,1,a), abs(I1 - (S(0,1/2,a)+S(1/2,1,a))), (abs(I1 - (S(0,1/2,a)+S(1/2,1,a))))/I1]\n",
    "\n",
    "DataFrame(\"Descripción\" => A´, \"Punto Medio\" => B´, \"Trapecio\" => C´,\"Simpson\" => D´)\n"
   ]
  },
  {
   "cell_type": "code",
   "execution_count": 16,
   "metadata": {},
   "outputs": [],
   "source": [
    "#b) "
   ]
  },
  {
   "cell_type": "code",
   "execution_count": 17,
   "metadata": {},
   "outputs": [
    {
     "data": {
      "text/html": [
       "<div><div style = \"float: left;\"><span>4×4 DataFrame</span></div><div style = \"clear: both;\"></div></div><div class = \"data-frame\" style = \"overflow-x: scroll;\"><table class = \"data-frame\" style = \"margin-bottom: 6px;\"><thead><tr class = \"header\"><th class = \"rowNumber\" style = \"font-weight: bold; text-align: right;\">Row</th><th style = \"text-align: left;\">Descripción</th><th style = \"text-align: left;\">Punto Medio</th><th style = \"text-align: left;\">Trapecio</th><th style = \"text-align: left;\">Simpson</th></tr><tr class = \"subheader headerLastRow\"><th class = \"rowNumber\" style = \"font-weight: bold; text-align: right;\"></th><th title = \"String\" style = \"text-align: left;\">String</th><th title = \"Float64\" style = \"text-align: left;\">Float64</th><th title = \"Float64\" style = \"text-align: left;\">Float64</th><th title = \"Float64\" style = \"text-align: left;\">Float64</th></tr></thead><tbody><tr><td class = \"rowNumber\" style = \"font-weight: bold; text-align: right;\">1</td><td style = \"text-align: left;\">Valor real</td><td style = \"text-align: right;\">2.0</td><td style = \"text-align: right;\">2.0</td><td style = \"text-align: right;\">2.0</td></tr><tr><td class = \"rowNumber\" style = \"font-weight: bold; text-align: right;\">2</td><td style = \"text-align: left;\">Valor Aproximado</td><td style = \"text-align: right;\">2.22144</td><td style = \"text-align: right;\">1.5708</td><td style = \"text-align: right;\">2.00456</td></tr><tr><td class = \"rowNumber\" style = \"font-weight: bold; text-align: right;\">3</td><td style = \"text-align: left;\">Error Absoluto</td><td style = \"text-align: right;\">0.221441</td><td style = \"text-align: right;\">0.429204</td><td style = \"text-align: right;\">0.00455975</td></tr><tr><td class = \"rowNumber\" style = \"font-weight: bold; text-align: right;\">4</td><td style = \"text-align: left;\">Error Relativo</td><td style = \"text-align: right;\">0.110721</td><td style = \"text-align: right;\">0.214602</td><td style = \"text-align: right;\">0.00227988</td></tr></tbody></table></div>"
      ],
      "text/latex": [
       "\\begin{tabular}{r|cccc}\n",
       "\t& Descripción & Punto Medio & Trapecio & Simpson\\\\\n",
       "\t\\hline\n",
       "\t& String & Float64 & Float64 & Float64\\\\\n",
       "\t\\hline\n",
       "\t1 & Valor real & 2.0 & 2.0 & 2.0 \\\\\n",
       "\t2 & Valor Aproximado & 2.22144 & 1.5708 & 2.00456 \\\\\n",
       "\t3 & Error Absoluto & 0.221441 & 0.429204 & 0.00455975 \\\\\n",
       "\t4 & Error Relativo & 0.110721 & 0.214602 & 0.00227988 \\\\\n",
       "\\end{tabular}\n"
      ],
      "text/plain": [
       "\u001b[1m4×4 DataFrame\u001b[0m\n",
       "\u001b[1m Row \u001b[0m│\u001b[1m Descripción      \u001b[0m\u001b[1m Punto Medio \u001b[0m\u001b[1m Trapecio \u001b[0m\u001b[1m Simpson    \u001b[0m\n",
       "     │\u001b[90m String           \u001b[0m\u001b[90m Float64     \u001b[0m\u001b[90m Float64  \u001b[0m\u001b[90m Float64    \u001b[0m\n",
       "─────┼─────────────────────────────────────────────────────\n",
       "   1 │ Valor real           2.0       2.0       2.0\n",
       "   2 │ Valor Aproximado     2.22144   1.5708    2.00456\n",
       "   3 │ Error Absoluto       0.221441  0.429204  0.00455975\n",
       "   4 │ Error Relativo       0.110721  0.214602  0.00227988"
      ]
     },
     "execution_count": 17,
     "metadata": {},
     "output_type": "execute_result"
    }
   ],
   "source": [
    "A´ = [\"Valor real\", \"Valor Aproximado\", \"Error Absoluto\" , \"Error Relativo\"]\n",
    "B´ = [I2, PM(0,pi/2,b)+PM(pi/2,pi,b), abs(I2 - (PM(0,pi/2,b)+PM(pi/2,pi,b))), (abs(I2 - (PM(0,pi/2,b)+PM(pi/2,pi,b))))/I2]\n",
    "C´ = [I2, T(0,pi/2,b)+T(pi/2,pi,b), abs(I2 - (T(0,pi/2,b)+T(pi/2,pi,b))), (abs(I2 - (T(0,pi/2,b)+T(pi/2,pi,b))))/I2]\n",
    "D´ = [I2, S(0,pi/2,b)+S(pi/2,pi,b), abs(I2 - (S(0,pi/2,b)+S(pi/2,pi,b))), (abs(I2 - (S(0,pi/2,b)+S(pi/2,pi,b))))/I2]\n",
    "\n",
    "DataFrame(\"Descripción\" => A´, \"Punto Medio\" => B´, \"Trapecio\" => C´,\"Simpson\" => D´)\n"
   ]
  },
  {
   "cell_type": "code",
   "execution_count": null,
   "metadata": {},
   "outputs": [],
   "source": []
  },
  {
   "cell_type": "code",
   "execution_count": null,
   "metadata": {},
   "outputs": [],
   "source": []
  },
  {
   "cell_type": "markdown",
   "metadata": {},
   "source": [
    "## Problema 3\n",
    "1. Construya funciones que dada una función arbitraria, retornen  las aproximaciones numéricas $S_M$, $S_T$ y $S_S$ a una integral de la forma\n",
    "$$\n",
    "I = \\int_a ^b f(x) dx\n",
    "$$\n",
    "utilizando las reglas compuestas del *punto medio*, del *trapecio* y de *Simpson*, respectivamente.\n",
    "Las funciones deben evaluar el integrando $f(x)$ en $n+1$ puntos equiespaciados $x_i$ para $i=0,1,2,...,n$ y con espaciamiento $h=(b-a)/n$.\n",
    "En el caso del punto medio, se evalúa en los $x_i+h/2$ para $i=0,1,...,n-1$.\n",
    "\n",
    "2. Calcule $S_M$, $S_T$ y $S_S$ para la integral:\n",
    "$$\n",
    "I = \\int _0 ^1 e^{-x} dx\n",
    "$$\n",
    "Utilice un espaciamiento $h_1=0.05$ em ambos casos. Luego repita el procedimiento disminuyendo su \n",
    "espaciamiento a la mitad, $h_2=h_1/2=0.025$.\n",
    "\n",
    "3. Teniendo en cuenta que es posible conocer el resultado exacto de la integral en cuestión, evalúe el error\n",
    "$\\varepsilon(h)=|S-I|$, para $h=0.05$ y $h=0.025$ para los tres métodos de aproximación.\n",
    "Verifique que el cociente de precisión, definido como \n",
    "$$\n",
    "Q = \\frac{\\varepsilon(h)}{\\varepsilon(h/2)}\n",
    "$$\n",
    "toma un valor aproximado a $4$ cuando se usa la regla del *punto medio* y del *trapecio*, y un valor aproximado a $16$ cuando se usa la regla de *Simpson*. \n",
    "Teniendo en cuenta la expresión del error de truncamiento en cada caso, justifique este resultado.\n",
    "\n",
    "**Consejo:** tener cuidado con *Simpson* en elegir siempre un número par de intervalos, i.e, un número impar de puntos. Pruebe con una integral conocida, qué resultados da cuando usa un número impar de intervalos. Incluya en la función para dicho método un chequeo de que el número de puntos sea par."
   ]
  },
  {
   "cell_type": "code",
   "execution_count": 18,
   "metadata": {},
   "outputs": [],
   "source": [
    "#1) "
   ]
  },
  {
   "cell_type": "code",
   "execution_count": 19,
   "metadata": {},
   "outputs": [
    {
     "data": {
      "text/plain": [
       "f (generic function with 1 method)"
      ]
     },
     "execution_count": 19,
     "metadata": {},
     "output_type": "execute_result"
    }
   ],
   "source": [
    "f(x) = 1/(exp(x))"
   ]
  },
  {
   "cell_type": "code",
   "execution_count": 20,
   "metadata": {},
   "outputs": [
    {
     "data": {
      "text/plain": [
       "SM (generic function with 1 method)"
      ]
     },
     "execution_count": 20,
     "metadata": {},
     "output_type": "execute_result"
    }
   ],
   "source": [
    "function SM(a,b,n,f)\n",
    "    \n",
    "    h = (b-a)/(n+2)\n",
    "    sp = 0\n",
    "    \n",
    "    for j in 0:(n/2)\n",
    "        sp = sp + f(a+(2*j+1)*h)\n",
    "    end\n",
    "    \n",
    "    I = 2*h*sp\n",
    "    return I \n",
    "    \n",
    "end"
   ]
  },
  {
   "cell_type": "code",
   "execution_count": 21,
   "metadata": {},
   "outputs": [
    {
     "data": {
      "text/plain": [
       "ST (generic function with 1 method)"
      ]
     },
     "execution_count": 21,
     "metadata": {},
     "output_type": "execute_result"
    }
   ],
   "source": [
    "function ST(a,b,n,f)\n",
    "    \n",
    "    h = (b-a)/n\n",
    "    sp = 0\n",
    "    \n",
    "    for j in 1:(n-1)\n",
    "        sp = sp + f(a + j*h)\n",
    "    end\n",
    "    \n",
    "    I = (h/2)*(f(a)+2*sp+f(b))\n",
    "    return I \n",
    "    \n",
    "end"
   ]
  },
  {
   "cell_type": "code",
   "execution_count": 22,
   "metadata": {},
   "outputs": [
    {
     "data": {
      "text/plain": [
       "SS (generic function with 1 method)"
      ]
     },
     "execution_count": 22,
     "metadata": {},
     "output_type": "execute_result"
    }
   ],
   "source": [
    "function SS(a,b,n,f)\n",
    "    \n",
    "    @assert(n%2 == 0)\n",
    "    h = (b-a)/n\n",
    "    sp = 0\n",
    "    si = 0\n",
    "    \n",
    "    for j in 1:((n/2)-1)\n",
    "        sp = sp + f(a + h*2j)\n",
    "    end\n",
    "    \n",
    "     for j in 1:(n/2)\n",
    "        si = si + f(a + h*(2*j-1))\n",
    "    end\n",
    "    \n",
    "    I = (h/3)*(f(a)+2*sp+4*si+f(b))\n",
    "    return I \n",
    "    \n",
    "end"
   ]
  },
  {
   "cell_type": "code",
   "execution_count": 23,
   "metadata": {},
   "outputs": [],
   "source": [
    "#2) "
   ]
  },
  {
   "cell_type": "code",
   "execution_count": 24,
   "metadata": {},
   "outputs": [
    {
     "data": {
      "text/html": [
       "<div><div style = \"float: left;\"><span>5×4 DataFrame</span></div><div style = \"clear: both;\"></div></div><div class = \"data-frame\" style = \"overflow-x: scroll;\"><table class = \"data-frame\" style = \"margin-bottom: 6px;\"><thead><tr class = \"header\"><th class = \"rowNumber\" style = \"font-weight: bold; text-align: right;\">Row</th><th style = \"text-align: left;\">Descripción</th><th style = \"text-align: left;\">Punto Medio</th><th style = \"text-align: left;\">Trapecio</th><th style = \"text-align: left;\">Simpson</th></tr><tr class = \"subheader headerLastRow\"><th class = \"rowNumber\" style = \"font-weight: bold; text-align: right;\"></th><th title = \"String\" style = \"text-align: left;\">String</th><th title = \"Float64\" style = \"text-align: left;\">Float64</th><th title = \"Float64\" style = \"text-align: left;\">Float64</th><th title = \"Float64\" style = \"text-align: left;\">Float64</th></tr></thead><tbody><tr><td class = \"rowNumber\" style = \"font-weight: bold; text-align: right;\">1</td><td style = \"text-align: left;\">Valor real</td><td style = \"text-align: right;\">0.632121</td><td style = \"text-align: right;\">0.632121</td><td style = \"text-align: right;\">0.632121</td></tr><tr><td class = \"rowNumber\" style = \"font-weight: bold; text-align: right;\">2</td><td style = \"text-align: left;\">h = 0.05</td><td style = \"text-align: right;\">0.631857</td><td style = \"text-align: right;\">0.632252</td><td style = \"text-align: right;\">0.632121</td></tr><tr><td class = \"rowNumber\" style = \"font-weight: bold; text-align: right;\">3</td><td style = \"text-align: left;\">Error absoluto</td><td style = \"text-align: right;\">0.000263307</td><td style = \"text-align: right;\">0.000131686</td><td style = \"text-align: right;\">2.19421e-8</td></tr><tr><td class = \"rowNumber\" style = \"font-weight: bold; text-align: right;\">4</td><td style = \"text-align: left;\">h = 0.025</td><td style = \"text-align: right;\">0.632055</td><td style = \"text-align: right;\">0.632153</td><td style = \"text-align: right;\">0.632121</td></tr><tr><td class = \"rowNumber\" style = \"font-weight: bold; text-align: right;\">5</td><td style = \"text-align: left;\">Error absoluto</td><td style = \"text-align: right;\">6.58411e-5</td><td style = \"text-align: right;\">3.29226e-5</td><td style = \"text-align: right;\">1.37169e-9</td></tr></tbody></table></div>"
      ],
      "text/latex": [
       "\\begin{tabular}{r|cccc}\n",
       "\t& Descripción & Punto Medio & Trapecio & Simpson\\\\\n",
       "\t\\hline\n",
       "\t& String & Float64 & Float64 & Float64\\\\\n",
       "\t\\hline\n",
       "\t1 & Valor real & 0.632121 & 0.632121 & 0.632121 \\\\\n",
       "\t2 & h = 0.05 & 0.631857 & 0.632252 & 0.632121 \\\\\n",
       "\t3 & Error absoluto & 0.000263307 & 0.000131686 & 2.19421e-8 \\\\\n",
       "\t4 & h = 0.025 & 0.632055 & 0.632153 & 0.632121 \\\\\n",
       "\t5 & Error absoluto & 6.58411e-5 & 3.29226e-5 & 1.37169e-9 \\\\\n",
       "\\end{tabular}\n"
      ],
      "text/plain": [
       "\u001b[1m5×4 DataFrame\u001b[0m\n",
       "\u001b[1m Row \u001b[0m│\u001b[1m Descripción    \u001b[0m\u001b[1m Punto Medio \u001b[0m\u001b[1m Trapecio    \u001b[0m\u001b[1m Simpson    \u001b[0m\n",
       "     │\u001b[90m String         \u001b[0m\u001b[90m Float64     \u001b[0m\u001b[90m Float64     \u001b[0m\u001b[90m Float64    \u001b[0m\n",
       "─────┼──────────────────────────────────────────────────────\n",
       "   1 │ Valor real      0.632121     0.632121     0.632121\n",
       "   2 │ h = 0.05        0.631857     0.632252     0.632121\n",
       "   3 │ Error absoluto  0.000263307  0.000131686  2.19421e-8\n",
       "   4 │ h = 0.025       0.632055     0.632153     0.632121\n",
       "   5 │ Error absoluto  6.58411e-5   3.29226e-5   1.37169e-9"
      ]
     },
     "execution_count": 24,
     "metadata": {},
     "output_type": "execute_result"
    }
   ],
   "source": [
    "A´ = [\"Valor real\", \"h = 0.05\", \"Error absoluto\", \"h = 0.025\", \"Error absoluto\"]\n",
    "B´ = [-f(1)+f(0), SM(0,1,18,f), abs(-f(1)+f(0)-SM(0,1,18,f)), SM(0,1,38,f), abs(-f(1)+f(0)-SM(0,1,38,f))]\n",
    "C´ = [-f(1)+f(0), ST(0,1,20,f), abs(-f(1)+f(0)-ST(0,1,20,f)), ST(0,1,40,f), abs(-f(1)+f(0)-ST(0,1,40,f))]\n",
    "D´ = [-f(1)+f(0), SS(0,1,20,f), abs(-f(1)+f(0)-SS(0,1,20,f)), SS(0,1,40,f), abs(-f(1)+f(0)-SS(0,1,40,f))]\n",
    "\n",
    "DataFrame(\"Descripción\" => A´, \"Punto Medio\" => B´, \"Trapecio\" => C´,\"Simpson\" => D´)\n"
   ]
  },
  {
   "cell_type": "code",
   "execution_count": 25,
   "metadata": {},
   "outputs": [],
   "source": [
    "#3) "
   ]
  },
  {
   "cell_type": "code",
   "execution_count": 26,
   "metadata": {},
   "outputs": [
    {
     "data": {
      "text/html": [
       "<div><div style = \"float: left;\"><span>2×4 DataFrame</span></div><div style = \"clear: both;\"></div></div><div class = \"data-frame\" style = \"overflow-x: scroll;\"><table class = \"data-frame\" style = \"margin-bottom: 6px;\"><thead><tr class = \"header\"><th class = \"rowNumber\" style = \"font-weight: bold; text-align: right;\">Row</th><th style = \"text-align: left;\">Descripción</th><th style = \"text-align: left;\">Punto Medio</th><th style = \"text-align: left;\">Trapecio</th><th style = \"text-align: left;\">Simpson</th></tr><tr class = \"subheader headerLastRow\"><th class = \"rowNumber\" style = \"font-weight: bold; text-align: right;\"></th><th title = \"String\" style = \"text-align: left;\">String</th><th title = \"Float64\" style = \"text-align: left;\">Float64</th><th title = \"Float64\" style = \"text-align: left;\">Float64</th><th title = \"Float64\" style = \"text-align: left;\">Float64</th></tr></thead><tbody><tr><td class = \"rowNumber\" style = \"font-weight: bold; text-align: right;\">1</td><td style = \"text-align: left;\">Valor ideal</td><td style = \"text-align: right;\">4.0</td><td style = \"text-align: right;\">4.0</td><td style = \"text-align: right;\">16.0</td></tr><tr><td class = \"rowNumber\" style = \"font-weight: bold; text-align: right;\">2</td><td style = \"text-align: left;\">Cociente real</td><td style = \"text-align: right;\">3.99913</td><td style = \"text-align: right;\">3.99988</td><td style = \"text-align: right;\">15.9964</td></tr></tbody></table></div>"
      ],
      "text/latex": [
       "\\begin{tabular}{r|cccc}\n",
       "\t& Descripción & Punto Medio & Trapecio & Simpson\\\\\n",
       "\t\\hline\n",
       "\t& String & Float64 & Float64 & Float64\\\\\n",
       "\t\\hline\n",
       "\t1 & Valor ideal & 4.0 & 4.0 & 16.0 \\\\\n",
       "\t2 & Cociente real & 3.99913 & 3.99988 & 15.9964 \\\\\n",
       "\\end{tabular}\n"
      ],
      "text/plain": [
       "\u001b[1m2×4 DataFrame\u001b[0m\n",
       "\u001b[1m Row \u001b[0m│\u001b[1m Descripción   \u001b[0m\u001b[1m Punto Medio \u001b[0m\u001b[1m Trapecio \u001b[0m\u001b[1m Simpson \u001b[0m\n",
       "     │\u001b[90m String        \u001b[0m\u001b[90m Float64     \u001b[0m\u001b[90m Float64  \u001b[0m\u001b[90m Float64 \u001b[0m\n",
       "─────┼───────────────────────────────────────────────\n",
       "   1 │ Valor ideal        4.0       4.0      16.0\n",
       "   2 │ Cociente real      3.99913   3.99988  15.9964"
      ]
     },
     "execution_count": 26,
     "metadata": {},
     "output_type": "execute_result"
    }
   ],
   "source": [
    "A´ = [\"Valor ideal\", \"Cociente real\"]\n",
    "B´ = [4, (abs(-f(1)+f(0)-SM(0,1,18,f)))/(abs(-f(1)+f(0)-SM(0,1,38,f)))]\n",
    "C´ = [4, (abs(-f(1)+f(0)-ST(0,1,20,f)))/(abs(-f(1)+f(0)-ST(0,1,40,f)))]\n",
    "D´ = [16, (abs(-f(1)+f(0)-SS(0,1,20,f)))/(abs(-f(1)+f(0)-SS(0,1,40,f)))]\n",
    "\n",
    "DataFrame(\"Descripción\" => A´, \"Punto Medio\" => B´, \"Trapecio\" => C´,\"Simpson\" => D´)\n"
   ]
  },
  {
   "cell_type": "code",
   "execution_count": null,
   "metadata": {},
   "outputs": [],
   "source": []
  },
  {
   "cell_type": "code",
   "execution_count": null,
   "metadata": {},
   "outputs": [],
   "source": []
  },
  {
   "cell_type": "code",
   "execution_count": null,
   "metadata": {},
   "outputs": [],
   "source": []
  },
  {
   "cell_type": "markdown",
   "metadata": {},
   "source": [
    "## Problema 4\n",
    "1. Para los métodos de integración numérica del problema 3, implemente fórmulas de estimación del error en función de el número de puntos $n$, una cota máxima $M$ asociada a $f(x)$ o alguna de sus derivadas, y los extremos $a$ y $b$ del intérvalo de integración.\n",
    "\n",
    "2. Indique, para cada método, el mínimo $n$ necesario para alcanzar un error relativo menor a $10^{-7}$ de las siguientes integrales\n",
    "\n",
    "    a. $\\int_0^{1/2} \\frac{2}{x-4} \\; dx$\n",
    "\n",
    "    b. $\\int_1^{3/2} x^2 \\log x \\; dx$\n",
    "\n",
    "3. Compruebe usando los métodos del problema 3 si las estimaciones de $n$ son adecuadas."
   ]
  },
  {
   "cell_type": "code",
   "execution_count": 27,
   "metadata": {},
   "outputs": [],
   "source": [
    "#1) "
   ]
  },
  {
   "cell_type": "code",
   "execution_count": 28,
   "metadata": {},
   "outputs": [
    {
     "data": {
      "text/plain": [
       "ESM (generic function with 1 method)"
      ]
     },
     "execution_count": 28,
     "metadata": {},
     "output_type": "execute_result"
    }
   ],
   "source": [
    "function ESM(a,b,M,n)\n",
    "    \n",
    "    h = (b-a)/(n+2)\n",
    "    e = ((b-a)/6)*(h^2)*M \n",
    "    return e\n",
    "    \n",
    "end"
   ]
  },
  {
   "cell_type": "code",
   "execution_count": 29,
   "metadata": {},
   "outputs": [
    {
     "data": {
      "text/plain": [
       "EST (generic function with 1 method)"
      ]
     },
     "execution_count": 29,
     "metadata": {},
     "output_type": "execute_result"
    }
   ],
   "source": [
    "function EST(a,b,M,n)\n",
    "    \n",
    "    h = (b-a)/n\n",
    "    e = ((b-a)/12)*(h^2)*M \n",
    "    return e\n",
    "    \n",
    "end"
   ]
  },
  {
   "cell_type": "code",
   "execution_count": 30,
   "metadata": {},
   "outputs": [
    {
     "data": {
      "text/plain": [
       "ESS (generic function with 1 method)"
      ]
     },
     "execution_count": 30,
     "metadata": {},
     "output_type": "execute_result"
    }
   ],
   "source": [
    "function ESS(a,b,M,n)\n",
    "    \n",
    "    h = (b-a)/n\n",
    "    e = ((b-a)/180)*(h^4)*M \n",
    "    return e\n",
    "    \n",
    "end"
   ]
  },
  {
   "cell_type": "code",
   "execution_count": 31,
   "metadata": {},
   "outputs": [],
   "source": [
    "#2) "
   ]
  },
  {
   "cell_type": "code",
   "execution_count": 32,
   "metadata": {},
   "outputs": [
    {
     "data": {
      "text/plain": [
       "K (generic function with 1 method)"
      ]
     },
     "execution_count": 32,
     "metadata": {},
     "output_type": "execute_result"
    }
   ],
   "source": [
    "k(x) = 2/(x-4)\n",
    "k2(x) = 4/(x-4)^3\n",
    "k4(x) = 48/(x-4)^5\n",
    "K(x) = 2*log(4-x)"
   ]
  },
  {
   "cell_type": "code",
   "execution_count": 33,
   "metadata": {},
   "outputs": [
    {
     "data": {
      "text/plain": [
       "-0.09139049205688106"
      ]
     },
     "execution_count": 33,
     "metadata": {},
     "output_type": "execute_result"
    }
   ],
   "source": [
    "k4(1/2)"
   ]
  },
  {
   "cell_type": "code",
   "execution_count": 34,
   "metadata": {},
   "outputs": [
    {
     "data": {
      "image/svg+xml": [
       "<?xml version=\"1.0\" encoding=\"utf-8\"?>\n",
       "<svg xmlns=\"http://www.w3.org/2000/svg\" xmlns:xlink=\"http://www.w3.org/1999/xlink\" width=\"600\" height=\"400\" viewBox=\"0 0 2400 1600\">\n",
       "<defs>\n",
       "  <clipPath id=\"clip780\">\n",
       "    <rect x=\"0\" y=\"0\" width=\"2400\" height=\"1600\"/>\n",
       "  </clipPath>\n",
       "</defs>\n",
       "<path clip-path=\"url(#clip780)\" d=\"M0 1600 L2400 1600 L2400 0 L0 0  Z\" fill=\"#ffffff\" fill-rule=\"evenodd\" fill-opacity=\"1\"/>\n",
       "<defs>\n",
       "  <clipPath id=\"clip781\">\n",
       "    <rect x=\"480\" y=\"0\" width=\"1681\" height=\"1600\"/>\n",
       "  </clipPath>\n",
       "</defs>\n",
       "<path clip-path=\"url(#clip780)\" d=\"M147.478 1486.45 L2352.76 1486.45 L2352.76 47.2441 L147.478 47.2441  Z\" fill=\"#ffffff\" fill-rule=\"evenodd\" fill-opacity=\"1\"/>\n",
       "<defs>\n",
       "  <clipPath id=\"clip782\">\n",
       "    <rect x=\"147\" y=\"47\" width=\"2206\" height=\"1440\"/>\n",
       "  </clipPath>\n",
       "</defs>\n",
       "<polyline clip-path=\"url(#clip782)\" style=\"stroke:#000000; stroke-linecap:round; stroke-linejoin:round; stroke-width:2; stroke-opacity:0.1; fill:none\" points=\"147.478,1486.45 147.478,47.2441 \"/>\n",
       "<polyline clip-path=\"url(#clip782)\" style=\"stroke:#000000; stroke-linecap:round; stroke-linejoin:round; stroke-width:2; stroke-opacity:0.1; fill:none\" points=\"882.571,1486.45 882.571,47.2441 \"/>\n",
       "<polyline clip-path=\"url(#clip782)\" style=\"stroke:#000000; stroke-linecap:round; stroke-linejoin:round; stroke-width:2; stroke-opacity:0.1; fill:none\" points=\"1617.66,1486.45 1617.66,47.2441 \"/>\n",
       "<polyline clip-path=\"url(#clip782)\" style=\"stroke:#000000; stroke-linecap:round; stroke-linejoin:round; stroke-width:2; stroke-opacity:0.1; fill:none\" points=\"2352.76,1486.45 2352.76,47.2441 \"/>\n",
       "<polyline clip-path=\"url(#clip780)\" style=\"stroke:#000000; stroke-linecap:round; stroke-linejoin:round; stroke-width:4; stroke-opacity:1; fill:none\" points=\"147.478,1486.45 2352.76,1486.45 \"/>\n",
       "<polyline clip-path=\"url(#clip780)\" style=\"stroke:#000000; stroke-linecap:round; stroke-linejoin:round; stroke-width:4; stroke-opacity:1; fill:none\" points=\"147.478,1486.45 147.478,1467.55 \"/>\n",
       "<polyline clip-path=\"url(#clip780)\" style=\"stroke:#000000; stroke-linecap:round; stroke-linejoin:round; stroke-width:4; stroke-opacity:1; fill:none\" points=\"882.571,1486.45 882.571,1467.55 \"/>\n",
       "<polyline clip-path=\"url(#clip780)\" style=\"stroke:#000000; stroke-linecap:round; stroke-linejoin:round; stroke-width:4; stroke-opacity:1; fill:none\" points=\"1617.66,1486.45 1617.66,1467.55 \"/>\n",
       "<polyline clip-path=\"url(#clip780)\" style=\"stroke:#000000; stroke-linecap:round; stroke-linejoin:round; stroke-width:4; stroke-opacity:1; fill:none\" points=\"2352.76,1486.45 2352.76,1467.55 \"/>\n",
       "<path clip-path=\"url(#clip780)\" d=\"M117.235 1532.02 L146.911 1532.02 L146.911 1535.95 L117.235 1535.95 L117.235 1532.02 Z\" fill=\"#000000\" fill-rule=\"evenodd\" fill-opacity=\"1\" /><path clip-path=\"url(#clip780)\" d=\"M157.814 1544.91 L165.452 1544.91 L165.452 1518.55 L157.142 1520.21 L157.142 1515.95 L165.406 1514.29 L170.082 1514.29 L170.082 1544.91 L177.721 1544.91 L177.721 1548.85 L157.814 1548.85 L157.814 1544.91 Z\" fill=\"#000000\" fill-rule=\"evenodd\" fill-opacity=\"1\" /><path clip-path=\"url(#clip780)\" d=\"M882.571 1517.37 Q878.959 1517.37 877.131 1520.93 Q875.325 1524.47 875.325 1531.6 Q875.325 1538.71 877.131 1542.27 Q878.959 1545.82 882.571 1545.82 Q886.205 1545.82 888.01 1542.27 Q889.839 1538.71 889.839 1531.6 Q889.839 1524.47 888.01 1520.93 Q886.205 1517.37 882.571 1517.37 M882.571 1513.66 Q888.381 1513.66 891.436 1518.27 Q894.515 1522.85 894.515 1531.6 Q894.515 1540.33 891.436 1544.94 Q888.381 1549.52 882.571 1549.52 Q876.76 1549.52 873.682 1544.94 Q870.626 1540.33 870.626 1531.6 Q870.626 1522.85 873.682 1518.27 Q876.76 1513.66 882.571 1513.66 Z\" fill=\"#000000\" fill-rule=\"evenodd\" fill-opacity=\"1\" /><path clip-path=\"url(#clip780)\" d=\"M1608.05 1544.91 L1615.68 1544.91 L1615.68 1518.55 L1607.37 1520.21 L1607.37 1515.95 L1615.64 1514.29 L1620.31 1514.29 L1620.31 1544.91 L1627.95 1544.91 L1627.95 1548.85 L1608.05 1548.85 L1608.05 1544.91 Z\" fill=\"#000000\" fill-rule=\"evenodd\" fill-opacity=\"1\" /><path clip-path=\"url(#clip780)\" d=\"M2347.41 1544.91 L2363.73 1544.91 L2363.73 1548.85 L2341.78 1548.85 L2341.78 1544.91 Q2344.45 1542.16 2349.03 1537.53 Q2353.64 1532.88 2354.82 1531.53 Q2357.06 1529.01 2357.94 1527.27 Q2358.84 1525.51 2358.84 1523.82 Q2358.84 1521.07 2356.9 1519.33 Q2354.98 1517.6 2351.88 1517.6 Q2349.68 1517.6 2347.22 1518.36 Q2344.79 1519.13 2342.02 1520.68 L2342.02 1515.95 Q2344.84 1514.82 2347.29 1514.24 Q2349.75 1513.66 2351.78 1513.66 Q2357.15 1513.66 2360.35 1516.35 Q2363.54 1519.03 2363.54 1523.52 Q2363.54 1525.65 2362.73 1527.57 Q2361.95 1529.47 2359.84 1532.07 Q2359.26 1532.74 2356.16 1535.95 Q2353.06 1539.15 2347.41 1544.91 Z\" fill=\"#000000\" fill-rule=\"evenodd\" fill-opacity=\"1\" /><polyline clip-path=\"url(#clip782)\" style=\"stroke:#000000; stroke-linecap:round; stroke-linejoin:round; stroke-width:2; stroke-opacity:0.1; fill:none\" points=\"147.478,1486.45 2352.76,1486.45 \"/>\n",
       "<polyline clip-path=\"url(#clip782)\" style=\"stroke:#000000; stroke-linecap:round; stroke-linejoin:round; stroke-width:2; stroke-opacity:0.1; fill:none\" points=\"147.478,1126.65 2352.76,1126.65 \"/>\n",
       "<polyline clip-path=\"url(#clip782)\" style=\"stroke:#000000; stroke-linecap:round; stroke-linejoin:round; stroke-width:2; stroke-opacity:0.1; fill:none\" points=\"147.478,766.846 2352.76,766.846 \"/>\n",
       "<polyline clip-path=\"url(#clip782)\" style=\"stroke:#000000; stroke-linecap:round; stroke-linejoin:round; stroke-width:2; stroke-opacity:0.1; fill:none\" points=\"147.478,407.045 2352.76,407.045 \"/>\n",
       "<polyline clip-path=\"url(#clip782)\" style=\"stroke:#000000; stroke-linecap:round; stroke-linejoin:round; stroke-width:2; stroke-opacity:0.1; fill:none\" points=\"147.478,47.2441 2352.76,47.2441 \"/>\n",
       "<polyline clip-path=\"url(#clip780)\" style=\"stroke:#000000; stroke-linecap:round; stroke-linejoin:round; stroke-width:4; stroke-opacity:1; fill:none\" points=\"147.478,1486.45 147.478,47.2441 \"/>\n",
       "<polyline clip-path=\"url(#clip780)\" style=\"stroke:#000000; stroke-linecap:round; stroke-linejoin:round; stroke-width:4; stroke-opacity:1; fill:none\" points=\"147.478,1486.45 166.376,1486.45 \"/>\n",
       "<polyline clip-path=\"url(#clip780)\" style=\"stroke:#000000; stroke-linecap:round; stroke-linejoin:round; stroke-width:4; stroke-opacity:1; fill:none\" points=\"147.478,1126.65 166.376,1126.65 \"/>\n",
       "<polyline clip-path=\"url(#clip780)\" style=\"stroke:#000000; stroke-linecap:round; stroke-linejoin:round; stroke-width:4; stroke-opacity:1; fill:none\" points=\"147.478,766.846 166.376,766.846 \"/>\n",
       "<polyline clip-path=\"url(#clip780)\" style=\"stroke:#000000; stroke-linecap:round; stroke-linejoin:round; stroke-width:4; stroke-opacity:1; fill:none\" points=\"147.478,407.045 166.376,407.045 \"/>\n",
       "<polyline clip-path=\"url(#clip780)\" style=\"stroke:#000000; stroke-linecap:round; stroke-linejoin:round; stroke-width:4; stroke-opacity:1; fill:none\" points=\"147.478,47.2441 166.376,47.2441 \"/>\n",
       "<path clip-path=\"url(#clip780)\" d=\"M51.3625 1486.9 L81.0383 1486.9 L81.0383 1490.83 L51.3625 1490.83 L51.3625 1486.9 Z\" fill=\"#000000\" fill-rule=\"evenodd\" fill-opacity=\"1\" /><path clip-path=\"url(#clip780)\" d=\"M95.1586 1499.79 L111.478 1499.79 L111.478 1503.73 L89.5336 1503.73 L89.5336 1499.79 Q92.1956 1497.04 96.7789 1492.41 Q101.385 1487.76 102.566 1486.41 Q104.811 1483.89 105.691 1482.15 Q106.594 1480.39 106.594 1478.7 Q106.594 1475.95 104.649 1474.21 Q102.728 1472.48 99.6261 1472.48 Q97.4271 1472.48 94.9734 1473.24 Q92.5428 1474.01 89.7651 1475.56 L89.7651 1470.83 Q92.5891 1469.7 95.0428 1469.12 Q97.4965 1468.54 99.5335 1468.54 Q104.904 1468.54 108.098 1471.23 Q111.293 1473.91 111.293 1478.4 Q111.293 1480.53 110.483 1482.45 Q109.696 1484.35 107.589 1486.95 Q107.01 1487.62 103.909 1490.83 Q100.807 1494.03 95.1586 1499.79 Z\" fill=\"#000000\" fill-rule=\"evenodd\" fill-opacity=\"1\" /><path clip-path=\"url(#clip780)\" d=\"M50.9921 1127.1 L80.6679 1127.1 L80.6679 1131.03 L50.9921 1131.03 L50.9921 1127.1 Z\" fill=\"#000000\" fill-rule=\"evenodd\" fill-opacity=\"1\" /><path clip-path=\"url(#clip780)\" d=\"M91.5706 1139.99 L99.2095 1139.99 L99.2095 1113.63 L90.8993 1115.29 L90.8993 1111.03 L99.1632 1109.37 L103.839 1109.37 L103.839 1139.99 L111.478 1139.99 L111.478 1143.93 L91.5706 1143.93 L91.5706 1139.99 Z\" fill=\"#000000\" fill-rule=\"evenodd\" fill-opacity=\"1\" /><path clip-path=\"url(#clip780)\" d=\"M99.5335 752.645 Q95.9224 752.645 94.0937 756.209 Q92.2882 759.751 92.2882 766.881 Q92.2882 773.987 94.0937 777.552 Q95.9224 781.094 99.5335 781.094 Q103.168 781.094 104.973 777.552 Q106.802 773.987 106.802 766.881 Q106.802 759.751 104.973 756.209 Q103.168 752.645 99.5335 752.645 M99.5335 748.941 Q105.344 748.941 108.399 753.547 Q111.478 758.131 111.478 766.881 Q111.478 775.608 108.399 780.214 Q105.344 784.797 99.5335 784.797 Q93.7234 784.797 90.6447 780.214 Q87.5892 775.608 87.5892 766.881 Q87.5892 758.131 90.6447 753.547 Q93.7234 748.941 99.5335 748.941 Z\" fill=\"#000000\" fill-rule=\"evenodd\" fill-opacity=\"1\" /><path clip-path=\"url(#clip780)\" d=\"M91.5706 420.39 L99.2095 420.39 L99.2095 394.024 L90.8993 395.691 L90.8993 391.432 L99.1632 389.765 L103.839 389.765 L103.839 420.39 L111.478 420.39 L111.478 424.325 L91.5706 424.325 L91.5706 420.39 Z\" fill=\"#000000\" fill-rule=\"evenodd\" fill-opacity=\"1\" /><path clip-path=\"url(#clip780)\" d=\"M95.1586 60.5889 L111.478 60.5889 L111.478 64.5241 L89.5336 64.5241 L89.5336 60.5889 Q92.1956 57.8343 96.7789 53.2047 Q101.385 48.552 102.566 47.2094 Q104.811 44.6862 105.691 42.9501 Q106.594 41.1909 106.594 39.5011 Q106.594 36.7465 104.649 35.0104 Q102.728 33.2743 99.6261 33.2743 Q97.4271 33.2743 94.9734 34.0381 Q92.5428 34.802 89.7651 36.3529 L89.7651 31.6308 Q92.5891 30.4965 95.0428 29.9178 Q97.4965 29.3391 99.5335 29.3391 Q104.904 29.3391 108.098 32.0243 Q111.293 34.7094 111.293 39.2002 Q111.293 41.3298 110.483 43.2511 Q109.696 45.1492 107.589 47.7418 Q107.01 48.4131 103.909 51.6306 Q100.807 54.8251 95.1586 60.5889 Z\" fill=\"#000000\" fill-rule=\"evenodd\" fill-opacity=\"1\" /><polyline clip-path=\"url(#clip782)\" style=\"stroke:#009af9; stroke-linecap:round; stroke-linejoin:round; stroke-width:4; stroke-opacity:1; fill:none\" points=\"-2792.89,846.802 -2745.03,847.384 -2302.51,853.203 -2036.58,857.122 -1811.73,860.724 -1567.48,864.978 -1342.31,869.256 -1100.9,874.277 -821.204,880.747 -572.643,887.188 -354.677,893.467 -117.036,901.104 122.018,909.776 386.323,920.769 637.802,932.922 899.281,947.775 1119.39,962.505 1388.12,984.1 1634.29,1008.54 1861.66,1036.55 2091.96,1072.44 2350.08,1125.99 2583.97,1193.79 2851.76,1311.51 3099.7,1498.24 3221.93,1646.98 3344.15,1871.66 3462.82,2235.73 3581.49,2957.67 3611.9,3273.39 3642.32,3695.43 3672.73,4288.37 3703.14,5182.37 3718.35,5824.34 3733.56,6684.73 3748.76,7897.86 3763.97,9736.63 3771.57,11064.2 3779.17,12853.1 3782.98,14002.8 3786.78,15394.2 3790.58,17112.6 3794.38,19288.3 3798.18,22132.3 3801.98,26008 3803.89,28525.8 3805.79,31601.5 3807.69,35443.7 3809.59,40379.7 3811.49,46954.2 3813.39,56145.3 3815.29,69903.1 3817.19,92756.2 3819.09,138178 3820.99,272206 3822.89,4.1943e+06 3824.79,-284728 3826.88,-133648 3828.96,-87132.7 3831.04,-64534.7 3833.12,-51179.7 3835.21,-42359.8 3837.29,-36100.2 3839.37,-31427.4 3841.45,-27805.9 3843.54,-24916.7 3845.62,-22558.2 3847.7,-20596.4 3849.78,-18939 3853.95,-16292.1 3858.11,-14272.1 3862.28,-12679.8 3866.45,-11392.4 3870.61,-10330 3874.78,-9438.3 3883.11,-8025.32 3891.44,-6956.03 3908.1,-5445.06 3924.76,-4428.58 3941.42,-3697.99 3958.08,-3147.53 3991.4,-2373.27 4024.72,-1854.72 4058.04,-1483.16 4091.36,-1203.85 4284.98,-378.032 4478.59,-39.9461 4518.31,6.13924 4558.03,47.2441 \"/>\n",
       "<path clip-path=\"url(#clip780)\" d=\"M2006.29 198.898 L2279.25 198.898 L2279.25 95.2176 L2006.29 95.2176  Z\" fill=\"#ffffff\" fill-rule=\"evenodd\" fill-opacity=\"1\"/>\n",
       "<polyline clip-path=\"url(#clip780)\" style=\"stroke:#000000; stroke-linecap:round; stroke-linejoin:round; stroke-width:4; stroke-opacity:1; fill:none\" points=\"2006.29,198.898 2279.25,198.898 2279.25,95.2176 2006.29,95.2176 2006.29,198.898 \"/>\n",
       "<polyline clip-path=\"url(#clip780)\" style=\"stroke:#009af9; stroke-linecap:round; stroke-linejoin:round; stroke-width:4; stroke-opacity:1; fill:none\" points=\"2030.79,147.058 2177.81,147.058 \"/>\n",
       "<path clip-path=\"url(#clip780)\" d=\"M2216.16 166.745 Q2214.35 171.375 2212.64 172.787 Q2210.92 174.199 2208.05 174.199 L2204.65 174.199 L2204.65 170.634 L2207.15 170.634 Q2208.91 170.634 2209.88 169.8 Q2210.85 168.967 2212.04 165.865 L2212.8 163.921 L2202.31 138.412 L2206.83 138.412 L2214.93 158.689 L2223.03 138.412 L2227.54 138.412 L2216.16 166.745 Z\" fill=\"#000000\" fill-rule=\"evenodd\" fill-opacity=\"1\" /><path clip-path=\"url(#clip780)\" d=\"M2234.84 160.402 L2242.48 160.402 L2242.48 134.037 L2234.16 135.703 L2234.16 131.444 L2242.43 129.778 L2247.1 129.778 L2247.1 160.402 L2254.74 160.402 L2254.74 164.338 L2234.84 164.338 L2234.84 160.402 Z\" fill=\"#000000\" fill-rule=\"evenodd\" fill-opacity=\"1\" /></svg>\n"
      ]
     },
     "execution_count": 34,
     "metadata": {},
     "output_type": "execute_result"
    }
   ],
   "source": [
    "plot(k)\n",
    "xlims!(-1,2)\n",
    "ylims!(-2,2)"
   ]
  },
  {
   "cell_type": "code",
   "execution_count": 35,
   "metadata": {},
   "outputs": [
    {
     "data": {
      "image/svg+xml": [
       "<?xml version=\"1.0\" encoding=\"utf-8\"?>\n",
       "<svg xmlns=\"http://www.w3.org/2000/svg\" xmlns:xlink=\"http://www.w3.org/1999/xlink\" width=\"600\" height=\"400\" viewBox=\"0 0 2400 1600\">\n",
       "<defs>\n",
       "  <clipPath id=\"clip820\">\n",
       "    <rect x=\"0\" y=\"0\" width=\"2400\" height=\"1600\"/>\n",
       "  </clipPath>\n",
       "</defs>\n",
       "<path clip-path=\"url(#clip820)\" d=\"M0 1600 L2400 1600 L2400 0 L0 0  Z\" fill=\"#ffffff\" fill-rule=\"evenodd\" fill-opacity=\"1\"/>\n",
       "<defs>\n",
       "  <clipPath id=\"clip821\">\n",
       "    <rect x=\"480\" y=\"0\" width=\"1681\" height=\"1600\"/>\n",
       "  </clipPath>\n",
       "</defs>\n",
       "<path clip-path=\"url(#clip820)\" d=\"M147.478 1486.45 L2352.76 1486.45 L2352.76 47.2441 L147.478 47.2441  Z\" fill=\"#ffffff\" fill-rule=\"evenodd\" fill-opacity=\"1\"/>\n",
       "<defs>\n",
       "  <clipPath id=\"clip822\">\n",
       "    <rect x=\"147\" y=\"47\" width=\"2206\" height=\"1440\"/>\n",
       "  </clipPath>\n",
       "</defs>\n",
       "<polyline clip-path=\"url(#clip822)\" style=\"stroke:#000000; stroke-linecap:round; stroke-linejoin:round; stroke-width:2; stroke-opacity:0.1; fill:none\" points=\"209.891,1486.45 209.891,47.2441 \"/>\n",
       "<polyline clip-path=\"url(#clip822)\" style=\"stroke:#000000; stroke-linecap:round; stroke-linejoin:round; stroke-width:2; stroke-opacity:0.1; fill:none\" points=\"556.633,1486.45 556.633,47.2441 \"/>\n",
       "<polyline clip-path=\"url(#clip822)\" style=\"stroke:#000000; stroke-linecap:round; stroke-linejoin:round; stroke-width:2; stroke-opacity:0.1; fill:none\" points=\"903.375,1486.45 903.375,47.2441 \"/>\n",
       "<polyline clip-path=\"url(#clip822)\" style=\"stroke:#000000; stroke-linecap:round; stroke-linejoin:round; stroke-width:2; stroke-opacity:0.1; fill:none\" points=\"1250.12,1486.45 1250.12,47.2441 \"/>\n",
       "<polyline clip-path=\"url(#clip822)\" style=\"stroke:#000000; stroke-linecap:round; stroke-linejoin:round; stroke-width:2; stroke-opacity:0.1; fill:none\" points=\"1596.86,1486.45 1596.86,47.2441 \"/>\n",
       "<polyline clip-path=\"url(#clip822)\" style=\"stroke:#000000; stroke-linecap:round; stroke-linejoin:round; stroke-width:2; stroke-opacity:0.1; fill:none\" points=\"1943.6,1486.45 1943.6,47.2441 \"/>\n",
       "<polyline clip-path=\"url(#clip822)\" style=\"stroke:#000000; stroke-linecap:round; stroke-linejoin:round; stroke-width:2; stroke-opacity:0.1; fill:none\" points=\"2290.34,1486.45 2290.34,47.2441 \"/>\n",
       "<polyline clip-path=\"url(#clip820)\" style=\"stroke:#000000; stroke-linecap:round; stroke-linejoin:round; stroke-width:4; stroke-opacity:1; fill:none\" points=\"147.478,1486.45 2352.76,1486.45 \"/>\n",
       "<polyline clip-path=\"url(#clip820)\" style=\"stroke:#000000; stroke-linecap:round; stroke-linejoin:round; stroke-width:4; stroke-opacity:1; fill:none\" points=\"209.891,1486.45 209.891,1467.55 \"/>\n",
       "<polyline clip-path=\"url(#clip820)\" style=\"stroke:#000000; stroke-linecap:round; stroke-linejoin:round; stroke-width:4; stroke-opacity:1; fill:none\" points=\"556.633,1486.45 556.633,1467.55 \"/>\n",
       "<polyline clip-path=\"url(#clip820)\" style=\"stroke:#000000; stroke-linecap:round; stroke-linejoin:round; stroke-width:4; stroke-opacity:1; fill:none\" points=\"903.375,1486.45 903.375,1467.55 \"/>\n",
       "<polyline clip-path=\"url(#clip820)\" style=\"stroke:#000000; stroke-linecap:round; stroke-linejoin:round; stroke-width:4; stroke-opacity:1; fill:none\" points=\"1250.12,1486.45 1250.12,1467.55 \"/>\n",
       "<polyline clip-path=\"url(#clip820)\" style=\"stroke:#000000; stroke-linecap:round; stroke-linejoin:round; stroke-width:4; stroke-opacity:1; fill:none\" points=\"1596.86,1486.45 1596.86,1467.55 \"/>\n",
       "<polyline clip-path=\"url(#clip820)\" style=\"stroke:#000000; stroke-linecap:round; stroke-linejoin:round; stroke-width:4; stroke-opacity:1; fill:none\" points=\"1943.6,1486.45 1943.6,1467.55 \"/>\n",
       "<polyline clip-path=\"url(#clip820)\" style=\"stroke:#000000; stroke-linecap:round; stroke-linejoin:round; stroke-width:4; stroke-opacity:1; fill:none\" points=\"2290.34,1486.45 2290.34,1467.55 \"/>\n",
       "<path clip-path=\"url(#clip820)\" d=\"M179.533 1532.02 L209.209 1532.02 L209.209 1535.95 L179.533 1535.95 L179.533 1532.02 Z\" fill=\"#000000\" fill-rule=\"evenodd\" fill-opacity=\"1\" /><path clip-path=\"url(#clip820)\" d=\"M219.347 1514.29 L237.704 1514.29 L237.704 1518.22 L223.63 1518.22 L223.63 1526.7 Q224.648 1526.35 225.667 1526.19 Q226.685 1526 227.704 1526 Q233.491 1526 236.87 1529.17 Q240.25 1532.34 240.25 1537.76 Q240.25 1543.34 236.778 1546.44 Q233.306 1549.52 226.986 1549.52 Q224.81 1549.52 222.542 1549.15 Q220.296 1548.78 217.889 1548.04 L217.889 1543.34 Q219.972 1544.47 222.195 1545.03 Q224.417 1545.58 226.894 1545.58 Q230.898 1545.58 233.236 1543.48 Q235.574 1541.37 235.574 1537.76 Q235.574 1534.15 233.236 1532.04 Q230.898 1529.94 226.894 1529.94 Q225.019 1529.94 223.144 1530.35 Q221.292 1530.77 219.347 1531.65 L219.347 1514.29 Z\" fill=\"#000000\" fill-rule=\"evenodd\" fill-opacity=\"1\" /><path clip-path=\"url(#clip820)\" d=\"M525.534 1532.02 L555.21 1532.02 L555.21 1535.95 L525.534 1535.95 L525.534 1532.02 Z\" fill=\"#000000\" fill-rule=\"evenodd\" fill-opacity=\"1\" /><path clip-path=\"url(#clip820)\" d=\"M578.149 1518.36 L566.344 1536.81 L578.149 1536.81 L578.149 1518.36 M576.923 1514.29 L582.802 1514.29 L582.802 1536.81 L587.733 1536.81 L587.733 1540.7 L582.802 1540.7 L582.802 1548.85 L578.149 1548.85 L578.149 1540.7 L562.548 1540.7 L562.548 1536.19 L576.923 1514.29 Z\" fill=\"#000000\" fill-rule=\"evenodd\" fill-opacity=\"1\" /><path clip-path=\"url(#clip820)\" d=\"M872.843 1532.02 L902.519 1532.02 L902.519 1535.95 L872.843 1535.95 L872.843 1532.02 Z\" fill=\"#000000\" fill-rule=\"evenodd\" fill-opacity=\"1\" /><path clip-path=\"url(#clip820)\" d=\"M926.778 1530.21 Q930.134 1530.93 932.009 1533.2 Q933.907 1535.47 933.907 1538.8 Q933.907 1543.92 930.389 1546.72 Q926.87 1549.52 920.389 1549.52 Q918.213 1549.52 915.898 1549.08 Q913.607 1548.66 911.153 1547.81 L911.153 1543.29 Q913.097 1544.43 915.412 1545.01 Q917.727 1545.58 920.25 1545.58 Q924.648 1545.58 926.94 1543.85 Q929.255 1542.11 929.255 1538.8 Q929.255 1535.75 927.102 1534.03 Q924.972 1532.3 921.153 1532.3 L917.125 1532.3 L917.125 1528.45 L921.338 1528.45 Q924.787 1528.45 926.616 1527.09 Q928.444 1525.7 928.444 1523.11 Q928.444 1520.45 926.546 1519.03 Q924.671 1517.6 921.153 1517.6 Q919.231 1517.6 917.032 1518.01 Q914.833 1518.43 912.194 1519.31 L912.194 1515.14 Q914.857 1514.4 917.171 1514.03 Q919.509 1513.66 921.569 1513.66 Q926.893 1513.66 929.995 1516.09 Q933.097 1518.5 933.097 1522.62 Q933.097 1525.49 931.454 1527.48 Q929.81 1529.45 926.778 1530.21 Z\" fill=\"#000000\" fill-rule=\"evenodd\" fill-opacity=\"1\" /><path clip-path=\"url(#clip820)\" d=\"M1220.06 1532.02 L1249.73 1532.02 L1249.73 1535.95 L1220.06 1535.95 L1220.06 1532.02 Z\" fill=\"#000000\" fill-rule=\"evenodd\" fill-opacity=\"1\" /><path clip-path=\"url(#clip820)\" d=\"M1263.86 1544.91 L1280.17 1544.91 L1280.17 1548.85 L1258.23 1548.85 L1258.23 1544.91 Q1260.89 1542.16 1265.48 1537.53 Q1270.08 1532.88 1271.26 1531.53 Q1273.51 1529.01 1274.39 1527.27 Q1275.29 1525.51 1275.29 1523.82 Q1275.29 1521.07 1273.35 1519.33 Q1271.42 1517.6 1268.32 1517.6 Q1266.12 1517.6 1263.67 1518.36 Q1261.24 1519.13 1258.46 1520.68 L1258.46 1515.95 Q1261.29 1514.82 1263.74 1514.24 Q1266.19 1513.66 1268.23 1513.66 Q1273.6 1513.66 1276.8 1516.35 Q1279.99 1519.03 1279.99 1523.52 Q1279.99 1525.65 1279.18 1527.57 Q1278.39 1529.47 1276.29 1532.07 Q1275.71 1532.74 1272.61 1535.95 Q1269.5 1539.15 1263.86 1544.91 Z\" fill=\"#000000\" fill-rule=\"evenodd\" fill-opacity=\"1\" /><path clip-path=\"url(#clip820)\" d=\"M1566.62 1532.02 L1596.29 1532.02 L1596.29 1535.95 L1566.62 1535.95 L1566.62 1532.02 Z\" fill=\"#000000\" fill-rule=\"evenodd\" fill-opacity=\"1\" /><path clip-path=\"url(#clip820)\" d=\"M1607.19 1544.91 L1614.83 1544.91 L1614.83 1518.55 L1606.52 1520.21 L1606.52 1515.95 L1614.79 1514.29 L1619.46 1514.29 L1619.46 1544.91 L1627.1 1544.91 L1627.1 1548.85 L1607.19 1548.85 L1607.19 1544.91 Z\" fill=\"#000000\" fill-rule=\"evenodd\" fill-opacity=\"1\" /><path clip-path=\"url(#clip820)\" d=\"M1943.6 1517.37 Q1939.99 1517.37 1938.16 1520.93 Q1936.36 1524.47 1936.36 1531.6 Q1936.36 1538.71 1938.16 1542.27 Q1939.99 1545.82 1943.6 1545.82 Q1947.23 1545.82 1949.04 1542.27 Q1950.87 1538.71 1950.87 1531.6 Q1950.87 1524.47 1949.04 1520.93 Q1947.23 1517.37 1943.6 1517.37 M1943.6 1513.66 Q1949.41 1513.66 1952.47 1518.27 Q1955.54 1522.85 1955.54 1531.6 Q1955.54 1540.33 1952.47 1544.94 Q1949.41 1549.52 1943.6 1549.52 Q1937.79 1549.52 1934.71 1544.94 Q1931.66 1540.33 1931.66 1531.6 Q1931.66 1522.85 1934.71 1518.27 Q1937.79 1513.66 1943.6 1513.66 Z\" fill=\"#000000\" fill-rule=\"evenodd\" fill-opacity=\"1\" /><path clip-path=\"url(#clip820)\" d=\"M2280.72 1544.91 L2288.36 1544.91 L2288.36 1518.55 L2280.05 1520.21 L2280.05 1515.95 L2288.32 1514.29 L2292.99 1514.29 L2292.99 1544.91 L2300.63 1544.91 L2300.63 1548.85 L2280.72 1548.85 L2280.72 1544.91 Z\" fill=\"#000000\" fill-rule=\"evenodd\" fill-opacity=\"1\" /><polyline clip-path=\"url(#clip822)\" style=\"stroke:#000000; stroke-linecap:round; stroke-linejoin:round; stroke-width:2; stroke-opacity:0.1; fill:none\" points=\"147.478,1486.45 2352.76,1486.45 \"/>\n",
       "<polyline clip-path=\"url(#clip822)\" style=\"stroke:#000000; stroke-linecap:round; stroke-linejoin:round; stroke-width:2; stroke-opacity:0.1; fill:none\" points=\"147.478,1280.85 2352.76,1280.85 \"/>\n",
       "<polyline clip-path=\"url(#clip822)\" style=\"stroke:#000000; stroke-linecap:round; stroke-linejoin:round; stroke-width:2; stroke-opacity:0.1; fill:none\" points=\"147.478,1075.25 2352.76,1075.25 \"/>\n",
       "<polyline clip-path=\"url(#clip822)\" style=\"stroke:#000000; stroke-linecap:round; stroke-linejoin:round; stroke-width:2; stroke-opacity:0.1; fill:none\" points=\"147.478,869.646 2352.76,869.646 \"/>\n",
       "<polyline clip-path=\"url(#clip822)\" style=\"stroke:#000000; stroke-linecap:round; stroke-linejoin:round; stroke-width:2; stroke-opacity:0.1; fill:none\" points=\"147.478,664.046 2352.76,664.046 \"/>\n",
       "<polyline clip-path=\"url(#clip822)\" style=\"stroke:#000000; stroke-linecap:round; stroke-linejoin:round; stroke-width:2; stroke-opacity:0.1; fill:none\" points=\"147.478,458.445 2352.76,458.445 \"/>\n",
       "<polyline clip-path=\"url(#clip822)\" style=\"stroke:#000000; stroke-linecap:round; stroke-linejoin:round; stroke-width:2; stroke-opacity:0.1; fill:none\" points=\"147.478,252.845 2352.76,252.845 \"/>\n",
       "<polyline clip-path=\"url(#clip822)\" style=\"stroke:#000000; stroke-linecap:round; stroke-linejoin:round; stroke-width:2; stroke-opacity:0.1; fill:none\" points=\"147.478,47.2441 2352.76,47.2441 \"/>\n",
       "<polyline clip-path=\"url(#clip820)\" style=\"stroke:#000000; stroke-linecap:round; stroke-linejoin:round; stroke-width:4; stroke-opacity:1; fill:none\" points=\"147.478,1486.45 147.478,47.2441 \"/>\n",
       "<polyline clip-path=\"url(#clip820)\" style=\"stroke:#000000; stroke-linecap:round; stroke-linejoin:round; stroke-width:4; stroke-opacity:1; fill:none\" points=\"147.478,1486.45 166.376,1486.45 \"/>\n",
       "<polyline clip-path=\"url(#clip820)\" style=\"stroke:#000000; stroke-linecap:round; stroke-linejoin:round; stroke-width:4; stroke-opacity:1; fill:none\" points=\"147.478,1280.85 166.376,1280.85 \"/>\n",
       "<polyline clip-path=\"url(#clip820)\" style=\"stroke:#000000; stroke-linecap:round; stroke-linejoin:round; stroke-width:4; stroke-opacity:1; fill:none\" points=\"147.478,1075.25 166.376,1075.25 \"/>\n",
       "<polyline clip-path=\"url(#clip820)\" style=\"stroke:#000000; stroke-linecap:round; stroke-linejoin:round; stroke-width:4; stroke-opacity:1; fill:none\" points=\"147.478,869.646 166.376,869.646 \"/>\n",
       "<polyline clip-path=\"url(#clip820)\" style=\"stroke:#000000; stroke-linecap:round; stroke-linejoin:round; stroke-width:4; stroke-opacity:1; fill:none\" points=\"147.478,664.046 166.376,664.046 \"/>\n",
       "<polyline clip-path=\"url(#clip820)\" style=\"stroke:#000000; stroke-linecap:round; stroke-linejoin:round; stroke-width:4; stroke-opacity:1; fill:none\" points=\"147.478,458.445 166.376,458.445 \"/>\n",
       "<polyline clip-path=\"url(#clip820)\" style=\"stroke:#000000; stroke-linecap:round; stroke-linejoin:round; stroke-width:4; stroke-opacity:1; fill:none\" points=\"147.478,252.845 166.376,252.845 \"/>\n",
       "<polyline clip-path=\"url(#clip820)\" style=\"stroke:#000000; stroke-linecap:round; stroke-linejoin:round; stroke-width:4; stroke-opacity:1; fill:none\" points=\"147.478,47.2441 166.376,47.2441 \"/>\n",
       "<path clip-path=\"url(#clip820)\" d=\"M51.3625 1486.9 L81.0383 1486.9 L81.0383 1490.83 L51.3625 1490.83 L51.3625 1486.9 Z\" fill=\"#000000\" fill-rule=\"evenodd\" fill-opacity=\"1\" /><path clip-path=\"url(#clip820)\" d=\"M95.1586 1499.79 L111.478 1499.79 L111.478 1503.73 L89.5336 1503.73 L89.5336 1499.79 Q92.1956 1497.04 96.7789 1492.41 Q101.385 1487.76 102.566 1486.41 Q104.811 1483.89 105.691 1482.15 Q106.594 1480.39 106.594 1478.7 Q106.594 1475.95 104.649 1474.21 Q102.728 1472.48 99.6261 1472.48 Q97.4271 1472.48 94.9734 1473.24 Q92.5428 1474.01 89.7651 1475.56 L89.7651 1470.83 Q92.5891 1469.7 95.0428 1469.12 Q97.4965 1468.54 99.5335 1468.54 Q104.904 1468.54 108.098 1471.23 Q111.293 1473.91 111.293 1478.4 Q111.293 1480.53 110.483 1482.45 Q109.696 1484.35 107.589 1486.95 Q107.01 1487.62 103.909 1490.83 Q100.807 1494.03 95.1586 1499.79 Z\" fill=\"#000000\" fill-rule=\"evenodd\" fill-opacity=\"1\" /><path clip-path=\"url(#clip820)\" d=\"M50.9921 1281.3 L80.6679 1281.3 L80.6679 1285.23 L50.9921 1285.23 L50.9921 1281.3 Z\" fill=\"#000000\" fill-rule=\"evenodd\" fill-opacity=\"1\" /><path clip-path=\"url(#clip820)\" d=\"M91.5706 1294.19 L99.2095 1294.19 L99.2095 1267.83 L90.8993 1269.49 L90.8993 1265.23 L99.1632 1263.57 L103.839 1263.57 L103.839 1294.19 L111.478 1294.19 L111.478 1298.13 L91.5706 1298.13 L91.5706 1294.19 Z\" fill=\"#000000\" fill-rule=\"evenodd\" fill-opacity=\"1\" /><path clip-path=\"url(#clip820)\" d=\"M99.5335 1061.05 Q95.9224 1061.05 94.0937 1064.61 Q92.2882 1068.15 92.2882 1075.28 Q92.2882 1082.39 94.0937 1085.95 Q95.9224 1089.49 99.5335 1089.49 Q103.168 1089.49 104.973 1085.95 Q106.802 1082.39 106.802 1075.28 Q106.802 1068.15 104.973 1064.61 Q103.168 1061.05 99.5335 1061.05 M99.5335 1057.34 Q105.344 1057.34 108.399 1061.95 Q111.478 1066.53 111.478 1075.28 Q111.478 1084.01 108.399 1088.61 Q105.344 1093.2 99.5335 1093.2 Q93.7234 1093.2 90.6447 1088.61 Q87.5892 1084.01 87.5892 1075.28 Q87.5892 1066.53 90.6447 1061.95 Q93.7234 1057.34 99.5335 1057.34 Z\" fill=\"#000000\" fill-rule=\"evenodd\" fill-opacity=\"1\" /><path clip-path=\"url(#clip820)\" d=\"M91.5706 882.991 L99.2095 882.991 L99.2095 856.625 L90.8993 858.292 L90.8993 854.033 L99.1632 852.366 L103.839 852.366 L103.839 882.991 L111.478 882.991 L111.478 886.926 L91.5706 886.926 L91.5706 882.991 Z\" fill=\"#000000\" fill-rule=\"evenodd\" fill-opacity=\"1\" /><path clip-path=\"url(#clip820)\" d=\"M95.1586 677.391 L111.478 677.391 L111.478 681.326 L89.5336 681.326 L89.5336 677.391 Q92.1956 674.636 96.7789 670.006 Q101.385 665.354 102.566 664.011 Q104.811 661.488 105.691 659.752 Q106.594 657.993 106.594 656.303 Q106.594 653.548 104.649 651.812 Q102.728 650.076 99.6261 650.076 Q97.4271 650.076 94.9734 650.84 Q92.5428 651.604 89.7651 653.155 L89.7651 648.432 Q92.5891 647.298 95.0428 646.719 Q97.4965 646.141 99.5335 646.141 Q104.904 646.141 108.098 648.826 Q111.293 651.511 111.293 656.002 Q111.293 658.131 110.483 660.053 Q109.696 661.951 107.589 664.543 Q107.01 665.215 103.909 668.432 Q100.807 671.627 95.1586 677.391 Z\" fill=\"#000000\" fill-rule=\"evenodd\" fill-opacity=\"1\" /><path clip-path=\"url(#clip820)\" d=\"M104.348 457.091 Q107.705 457.809 109.58 460.077 Q111.478 462.346 111.478 465.679 Q111.478 470.795 107.959 473.596 Q104.441 476.396 97.9595 476.396 Q95.7836 476.396 93.4688 475.957 Q91.1771 475.54 88.7234 474.684 L88.7234 470.17 Q90.6678 471.304 92.9826 471.883 Q95.2974 472.461 97.8206 472.461 Q102.219 472.461 104.51 470.725 Q106.825 468.989 106.825 465.679 Q106.825 462.623 104.672 460.91 Q102.543 459.174 98.7234 459.174 L94.6956 459.174 L94.6956 455.332 L98.9085 455.332 Q102.358 455.332 104.186 453.966 Q106.015 452.577 106.015 449.985 Q106.015 447.323 104.117 445.911 Q102.242 444.475 98.7234 444.475 Q96.8021 444.475 94.603 444.892 Q92.4039 445.309 89.7651 446.188 L89.7651 442.022 Q92.4271 441.281 94.7419 440.911 Q97.0798 440.54 99.14 440.54 Q104.464 440.54 107.566 442.971 Q110.668 445.378 110.668 449.498 Q110.668 452.369 109.024 454.36 Q107.381 456.327 104.348 457.091 Z\" fill=\"#000000\" fill-rule=\"evenodd\" fill-opacity=\"1\" /><path clip-path=\"url(#clip820)\" d=\"M101.895 239.639 L90.0891 258.088 L101.895 258.088 L101.895 239.639 M100.668 235.565 L106.547 235.565 L106.547 258.088 L111.478 258.088 L111.478 261.977 L106.547 261.977 L106.547 270.125 L101.895 270.125 L101.895 261.977 L86.2929 261.977 L86.2929 257.463 L100.668 235.565 Z\" fill=\"#000000\" fill-rule=\"evenodd\" fill-opacity=\"1\" /><path clip-path=\"url(#clip820)\" d=\"M90.5752 29.9641 L108.932 29.9641 L108.932 33.8993 L94.8576 33.8993 L94.8576 42.3714 Q95.8761 42.0242 96.8947 41.8622 Q97.9132 41.677 98.9317 41.677 Q104.719 41.677 108.098 44.8483 Q111.478 48.0196 111.478 53.4362 Q111.478 59.0149 108.006 62.1167 Q104.534 65.1954 98.2141 65.1954 Q96.0382 65.1954 93.7697 64.825 Q91.5243 64.4547 89.1169 63.7139 L89.1169 59.0149 Q91.2002 60.1491 93.4225 60.7047 Q95.6447 61.2602 98.1215 61.2602 Q102.126 61.2602 104.464 59.1538 Q106.802 57.0473 106.802 53.4362 Q106.802 49.8251 104.464 47.7186 Q102.126 45.6122 98.1215 45.6122 Q96.2465 45.6122 94.3715 46.0288 Q92.5197 46.4455 90.5752 47.3251 L90.5752 29.9641 Z\" fill=\"#000000\" fill-rule=\"evenodd\" fill-opacity=\"1\" /><polyline clip-path=\"url(#clip822)\" style=\"stroke:#009af9; stroke-linecap:round; stroke-linejoin:round; stroke-width:4; stroke-opacity:1; fill:none\" points=\"209.891,171.746 223.436,173.534 348.678,190.452 423.943,200.965 487.579,210.067 556.705,220.189 620.434,229.746 688.757,240.246 767.917,252.755 838.264,264.201 899.953,274.507 967.21,286.046 1034.87,297.989 1109.67,311.611 1180.84,325.004 1254.85,339.409 1317.14,351.939 1393.2,367.773 1462.87,382.833 1527.22,397.25 1592.4,412.388 1665.45,430.043 1731.64,446.724 1807.43,466.692 1877.61,486.087 1946.79,506.148 2013.96,526.609 2048.39,537.505 2082.82,548.698 2120.54,561.321 2158.27,574.344 2213.06,594.029 2267.86,614.703 2279.1,619.076 2290.34,623.496 \"/>\n",
       "<path clip-path=\"url(#clip820)\" d=\"M2006.29 198.898 L2279.25 198.898 L2279.25 95.2176 L2006.29 95.2176  Z\" fill=\"#ffffff\" fill-rule=\"evenodd\" fill-opacity=\"1\"/>\n",
       "<polyline clip-path=\"url(#clip820)\" style=\"stroke:#000000; stroke-linecap:round; stroke-linejoin:round; stroke-width:4; stroke-opacity:1; fill:none\" points=\"2006.29,198.898 2279.25,198.898 2279.25,95.2176 2006.29,95.2176 2006.29,198.898 \"/>\n",
       "<polyline clip-path=\"url(#clip820)\" style=\"stroke:#009af9; stroke-linecap:round; stroke-linejoin:round; stroke-width:4; stroke-opacity:1; fill:none\" points=\"2030.79,147.058 2177.81,147.058 \"/>\n",
       "<path clip-path=\"url(#clip820)\" d=\"M2216.16 166.745 Q2214.35 171.375 2212.64 172.787 Q2210.92 174.199 2208.05 174.199 L2204.65 174.199 L2204.65 170.634 L2207.15 170.634 Q2208.91 170.634 2209.88 169.8 Q2210.85 168.967 2212.04 165.865 L2212.8 163.921 L2202.31 138.412 L2206.83 138.412 L2214.93 158.689 L2223.03 138.412 L2227.54 138.412 L2216.16 166.745 Z\" fill=\"#000000\" fill-rule=\"evenodd\" fill-opacity=\"1\" /><path clip-path=\"url(#clip820)\" d=\"M2234.84 160.402 L2242.48 160.402 L2242.48 134.037 L2234.16 135.703 L2234.16 131.444 L2242.43 129.778 L2247.1 129.778 L2247.1 160.402 L2254.74 160.402 L2254.74 164.338 L2234.84 164.338 L2234.84 160.402 Z\" fill=\"#000000\" fill-rule=\"evenodd\" fill-opacity=\"1\" /></svg>\n"
      ]
     },
     "execution_count": 35,
     "metadata": {},
     "output_type": "execute_result"
    }
   ],
   "source": [
    "plot(K)\n",
    "ylims!(-2,5)"
   ]
  },
  {
   "cell_type": "code",
   "execution_count": 36,
   "metadata": {},
   "outputs": [
    {
     "data": {
      "text/plain": [
       "2.772588722239781"
      ]
     },
     "execution_count": 36,
     "metadata": {},
     "output_type": "execute_result"
    }
   ],
   "source": [
    "K(0)"
   ]
  },
  {
   "cell_type": "code",
   "execution_count": 37,
   "metadata": {},
   "outputs": [
    {
     "data": {
      "text/plain": [
       "2.505525936990736"
      ]
     },
     "execution_count": 37,
     "metadata": {},
     "output_type": "execute_result"
    }
   ],
   "source": [
    "K(1/2)"
   ]
  },
  {
   "cell_type": "code",
   "execution_count": 38,
   "metadata": {},
   "outputs": [
    {
     "data": {
      "text/plain": [
       "-0.26706278524904503"
      ]
     },
     "execution_count": 38,
     "metadata": {},
     "output_type": "execute_result"
    }
   ],
   "source": [
    "K(1/2) - K(0)"
   ]
  },
  {
   "cell_type": "code",
   "execution_count": 39,
   "metadata": {},
   "outputs": [
    {
     "data": {
      "text/plain": [
       "P (generic function with 1 method)"
      ]
     },
     "execution_count": 39,
     "metadata": {},
     "output_type": "execute_result"
    }
   ],
   "source": [
    "p(x) = (x^2)*log(x)\n",
    "p2(x) = 2*log(x) + 3\n",
    "p4(x) = -2/(x^2)\n",
    "P(x) = ((x^3)*(3*log(x)-1))/9"
   ]
  },
  {
   "cell_type": "code",
   "execution_count": null,
   "metadata": {},
   "outputs": [],
   "source": []
  },
  {
   "cell_type": "code",
   "execution_count": 40,
   "metadata": {},
   "outputs": [],
   "source": [
    "#a)"
   ]
  },
  {
   "cell_type": "code",
   "execution_count": 41,
   "metadata": {},
   "outputs": [
    {
     "data": {
      "text/html": [
       "<div><div style = \"float: left;\"><span>3×4 DataFrame</span></div><div style = \"clear: both;\"></div></div><div class = \"data-frame\" style = \"overflow-x: scroll;\"><table class = \"data-frame\" style = \"margin-bottom: 6px;\"><thead><tr class = \"header\"><th class = \"rowNumber\" style = \"font-weight: bold; text-align: right;\">Row</th><th style = \"text-align: left;\">Descripción</th><th style = \"text-align: left;\">Punto Medio</th><th style = \"text-align: left;\">Trapecio</th><th style = \"text-align: left;\">Simpson</th></tr><tr class = \"subheader headerLastRow\"><th class = \"rowNumber\" style = \"font-weight: bold; text-align: right;\"></th><th title = \"String\" style = \"text-align: left;\">String</th><th title = \"Float64\" style = \"text-align: left;\">Float64</th><th title = \"Float64\" style = \"text-align: left;\">Float64</th><th title = \"Float64\" style = \"text-align: left;\">Float64</th></tr></thead><tbody><tr><td class = \"rowNumber\" style = \"font-weight: bold; text-align: right;\">1</td><td style = \"text-align: left;\">Cota de la derivada</td><td style = \"text-align: right;\">-0.1</td><td style = \"text-align: right;\">-0.1</td><td style = \"text-align: right;\">-0.1</td></tr><tr><td class = \"rowNumber\" style = \"font-weight: bold; text-align: right;\">2</td><td style = \"text-align: left;\">Número de puntos</td><td style = \"text-align: right;\">87.0</td><td style = \"text-align: right;\">63.0</td><td style = \"text-align: right;\">4.0</td></tr><tr><td class = \"rowNumber\" style = \"font-weight: bold; text-align: right;\">3</td><td style = \"text-align: left;\">Error relativo</td><td style = \"text-align: right;\">9.84839e-7</td><td style = \"text-align: right;\">9.8273e-7</td><td style = \"text-align: right;\">2.53936e-7</td></tr></tbody></table></div>"
      ],
      "text/latex": [
       "\\begin{tabular}{r|cccc}\n",
       "\t& Descripción & Punto Medio & Trapecio & Simpson\\\\\n",
       "\t\\hline\n",
       "\t& String & Float64 & Float64 & Float64\\\\\n",
       "\t\\hline\n",
       "\t1 & Cota de la derivada & -0.1 & -0.1 & -0.1 \\\\\n",
       "\t2 & Número de puntos & 87.0 & 63.0 & 4.0 \\\\\n",
       "\t3 & Error relativo & 9.84839e-7 & 9.8273e-7 & 2.53936e-7 \\\\\n",
       "\\end{tabular}\n"
      ],
      "text/plain": [
       "\u001b[1m3×4 DataFrame\u001b[0m\n",
       "\u001b[1m Row \u001b[0m│\u001b[1m Descripción         \u001b[0m\u001b[1m Punto Medio \u001b[0m\u001b[1m Trapecio   \u001b[0m\u001b[1m Simpson     \u001b[0m\n",
       "     │\u001b[90m String              \u001b[0m\u001b[90m Float64     \u001b[0m\u001b[90m Float64    \u001b[0m\u001b[90m Float64     \u001b[0m\n",
       "─────┼───────────────────────────────────────────────────────────\n",
       "   1 │ Cota de la derivada  -0.1         -0.1        -0.1\n",
       "   2 │ Número de puntos     87.0         63.0         4.0\n",
       "   3 │ Error relativo        9.84839e-7   9.8273e-7   2.53936e-7"
      ]
     },
     "execution_count": 41,
     "metadata": {},
     "output_type": "execute_result"
    }
   ],
   "source": [
    "A´ = [\"Cota de la derivada\", \"Número de puntos\", \"Error relativo\"]\n",
    "B´ = [-0.1, 87, abs(ESM(0,1/2,-0.1,87) / (K(1/2) - K(0)))]\n",
    "C´ = [-0.1, 63, abs(EST(0,1/2,-0.1,63) / (K(1/2) - K(0)))]\n",
    "D´ = [-0.1, 4, abs(ESS(0,1/2,-0.1,4) / (K(1/2) - K(0)))]\n",
    "\n",
    "DataFrame(\"Descripción\" => A´, \"Punto Medio\" => B´, \"Trapecio\" => C´,\"Simpson\" => D´)\n"
   ]
  },
  {
   "cell_type": "code",
   "execution_count": 42,
   "metadata": {},
   "outputs": [],
   "source": [
    "#b) "
   ]
  },
  {
   "cell_type": "code",
   "execution_count": 43,
   "metadata": {},
   "outputs": [
    {
     "data": {
      "text/html": [
       "<div><div style = \"float: left;\"><span>3×4 DataFrame</span></div><div style = \"clear: both;\"></div></div><div class = \"data-frame\" style = \"overflow-x: scroll;\"><table class = \"data-frame\" style = \"margin-bottom: 6px;\"><thead><tr class = \"header\"><th class = \"rowNumber\" style = \"font-weight: bold; text-align: right;\">Row</th><th style = \"text-align: left;\">Descripción</th><th style = \"text-align: left;\">Punto Medio</th><th style = \"text-align: left;\">Trapecio</th><th style = \"text-align: left;\">Simpson</th></tr><tr class = \"subheader headerLastRow\"><th class = \"rowNumber\" style = \"font-weight: bold; text-align: right;\"></th><th title = \"String\" style = \"text-align: left;\">String</th><th title = \"Float64\" style = \"text-align: left;\">Float64</th><th title = \"Float64\" style = \"text-align: left;\">Float64</th><th title = \"Float64\" style = \"text-align: left;\">Float64</th></tr></thead><tbody><tr><td class = \"rowNumber\" style = \"font-weight: bold; text-align: right;\">1</td><td style = \"text-align: left;\">Cota de la derivada</td><td style = \"text-align: right;\">3.82</td><td style = \"text-align: right;\">3.82</td><td style = \"text-align: right;\">-2.0</td></tr><tr><td class = \"rowNumber\" style = \"font-weight: bold; text-align: right;\">2</td><td style = \"text-align: left;\">Número de puntos</td><td style = \"text-align: right;\">642.0</td><td style = \"text-align: right;\">455.0</td><td style = \"text-align: right;\">8.0</td></tr><tr><td class = \"rowNumber\" style = \"font-weight: bold; text-align: right;\">3</td><td style = \"text-align: left;\">Error relativo</td><td style = \"text-align: right;\">9.98074e-7</td><td style = \"text-align: right;\">9.99728e-7</td><td style = \"text-align: right;\">4.4092e-7</td></tr></tbody></table></div>"
      ],
      "text/latex": [
       "\\begin{tabular}{r|cccc}\n",
       "\t& Descripción & Punto Medio & Trapecio & Simpson\\\\\n",
       "\t\\hline\n",
       "\t& String & Float64 & Float64 & Float64\\\\\n",
       "\t\\hline\n",
       "\t1 & Cota de la derivada & 3.82 & 3.82 & -2.0 \\\\\n",
       "\t2 & Número de puntos & 642.0 & 455.0 & 8.0 \\\\\n",
       "\t3 & Error relativo & 9.98074e-7 & 9.99728e-7 & 4.4092e-7 \\\\\n",
       "\\end{tabular}\n"
      ],
      "text/plain": [
       "\u001b[1m3×4 DataFrame\u001b[0m\n",
       "\u001b[1m Row \u001b[0m│\u001b[1m Descripción         \u001b[0m\u001b[1m Punto Medio  \u001b[0m\u001b[1m Trapecio     \u001b[0m\u001b[1m Simpson    \u001b[0m\n",
       "     │\u001b[90m String              \u001b[0m\u001b[90m Float64      \u001b[0m\u001b[90m Float64      \u001b[0m\u001b[90m Float64    \u001b[0m\n",
       "─────┼─────────────────────────────────────────────────────────────\n",
       "   1 │ Cota de la derivada    3.82          3.82        -2.0\n",
       "   2 │ Número de puntos     642.0         455.0          8.0\n",
       "   3 │ Error relativo         9.98074e-7    9.99728e-7   4.4092e-7"
      ]
     },
     "execution_count": 43,
     "metadata": {},
     "output_type": "execute_result"
    }
   ],
   "source": [
    "A´ = [\"Cota de la derivada\", \"Número de puntos\", \"Error relativo\"]\n",
    "B´ = [3.82, 642, abs(ESM(1,3/2,3.82,642) / (P(3/2) - P(1)))]\n",
    "C´ = [3.82, 455, abs(EST(1,3/2,3.82,455) / (P(3/2) - P(1)))]\n",
    "D´ = [-2, 8, abs(ESS(1,3/2,-2,8) / (P(3/2) - P(1)))]\n",
    "\n",
    "DataFrame(\"Descripción\" => A´, \"Punto Medio\" => B´, \"Trapecio\" => C´,\"Simpson\" => D´)\n"
   ]
  },
  {
   "cell_type": "code",
   "execution_count": null,
   "metadata": {},
   "outputs": [],
   "source": []
  },
  {
   "cell_type": "code",
   "execution_count": 44,
   "metadata": {},
   "outputs": [],
   "source": [
    "#3) "
   ]
  },
  {
   "cell_type": "code",
   "execution_count": 45,
   "metadata": {},
   "outputs": [],
   "source": [
    "#a) "
   ]
  },
  {
   "cell_type": "code",
   "execution_count": 46,
   "metadata": {},
   "outputs": [
    {
     "data": {
      "text/html": [
       "<div><div style = \"float: left;\"><span>2×4 DataFrame</span></div><div style = \"clear: both;\"></div></div><div class = \"data-frame\" style = \"overflow-x: scroll;\"><table class = \"data-frame\" style = \"margin-bottom: 6px;\"><thead><tr class = \"header\"><th class = \"rowNumber\" style = \"font-weight: bold; text-align: right;\">Row</th><th style = \"text-align: left;\">Descripción</th><th style = \"text-align: left;\">Punto Medio</th><th style = \"text-align: left;\">Trapecio</th><th style = \"text-align: left;\">Simpson</th></tr><tr class = \"subheader headerLastRow\"><th class = \"rowNumber\" style = \"font-weight: bold; text-align: right;\"></th><th title = \"String\" style = \"text-align: left;\">String</th><th title = \"Float64\" style = \"text-align: left;\">Float64</th><th title = \"Float64\" style = \"text-align: left;\">Float64</th><th title = \"Float64\" style = \"text-align: left;\">Float64</th></tr></thead><tbody><tr><td class = \"rowNumber\" style = \"font-weight: bold; text-align: right;\">1</td><td style = \"text-align: left;\">Número de puntos</td><td style = \"text-align: right;\">87.0</td><td style = \"text-align: right;\">63.0</td><td style = \"text-align: right;\">4.0</td></tr><tr><td class = \"rowNumber\" style = \"font-weight: bold; text-align: right;\">2</td><td style = \"text-align: left;\">Error relativo</td><td style = \"text-align: right;\">-7.37045e-7</td><td style = \"text-align: right;\">-7.52089e-7</td><td style = \"text-align: right;\">-1.67388e-7</td></tr></tbody></table></div>"
      ],
      "text/latex": [
       "\\begin{tabular}{r|cccc}\n",
       "\t& Descripción & Punto Medio & Trapecio & Simpson\\\\\n",
       "\t\\hline\n",
       "\t& String & Float64 & Float64 & Float64\\\\\n",
       "\t\\hline\n",
       "\t1 & Número de puntos & 87.0 & 63.0 & 4.0 \\\\\n",
       "\t2 & Error relativo & -7.37045e-7 & -7.52089e-7 & -1.67388e-7 \\\\\n",
       "\\end{tabular}\n"
      ],
      "text/plain": [
       "\u001b[1m2×4 DataFrame\u001b[0m\n",
       "\u001b[1m Row \u001b[0m│\u001b[1m Descripción      \u001b[0m\u001b[1m Punto Medio \u001b[0m\u001b[1m Trapecio    \u001b[0m\u001b[1m Simpson     \u001b[0m\n",
       "     │\u001b[90m String           \u001b[0m\u001b[90m Float64     \u001b[0m\u001b[90m Float64     \u001b[0m\u001b[90m Float64     \u001b[0m\n",
       "─────┼─────────────────────────────────────────────────────────\n",
       "   1 │ Número de puntos  87.0         63.0          4.0\n",
       "   2 │ Error relativo    -7.37045e-7  -7.52089e-7  -1.67388e-7"
      ]
     },
     "execution_count": 46,
     "metadata": {},
     "output_type": "execute_result"
    }
   ],
   "source": [
    "A´ = [\"Número de puntos\", \"Error relativo\"]\n",
    "B´ = [87, abs(K(1/2) - K(0) - SM(0,1/2,88,k)) / (K(1/2) - K(0))]\n",
    "C´ = [63, abs(K(1/2) - K(0) - ST(0,1/2,63,k)) / (K(1/2) - K(0))]\n",
    "D´ = [4, abs(K(1/2) - K(0) - SS(0,1/2,4,k)) / (K(1/2) - K(0))]\n",
    "\n",
    "DataFrame(\"Descripción\" => A´, \"Punto Medio\" => B´, \"Trapecio\" => C´,\"Simpson\" => D´)\n"
   ]
  },
  {
   "cell_type": "code",
   "execution_count": 47,
   "metadata": {},
   "outputs": [
    {
     "data": {
      "text/plain": [
       "9.848393102484197e-7"
      ]
     },
     "execution_count": 47,
     "metadata": {},
     "output_type": "execute_result"
    }
   ],
   "source": [
    "abs(ESM(0,1/2,-0.1,87) / (K(1/2) - K(0)))"
   ]
  },
  {
   "cell_type": "code",
   "execution_count": 48,
   "metadata": {},
   "outputs": [
    {
     "data": {
      "text/plain": [
       "-0.26706278524904503"
      ]
     },
     "execution_count": 48,
     "metadata": {},
     "output_type": "execute_result"
    }
   ],
   "source": [
    "K(1/2) - K(0)"
   ]
  },
  {
   "cell_type": "code",
   "execution_count": 49,
   "metadata": {},
   "outputs": [
    {
     "data": {
      "text/plain": [
       "-2.630139292176913e-7"
      ]
     },
     "execution_count": 49,
     "metadata": {},
     "output_type": "execute_result"
    }
   ],
   "source": [
    "ESM(0,1/2,-0.1,87)"
   ]
  },
  {
   "cell_type": "code",
   "execution_count": 50,
   "metadata": {},
   "outputs": [
    {
     "data": {
      "text/plain": [
       "-0.26385488754998265"
      ]
     },
     "execution_count": 50,
     "metadata": {},
     "output_type": "execute_result"
    }
   ],
   "source": [
    "SM(0,1/2,87,k)"
   ]
  },
  {
   "cell_type": "code",
   "execution_count": 51,
   "metadata": {},
   "outputs": [],
   "source": [
    "#b) "
   ]
  },
  {
   "cell_type": "code",
   "execution_count": 52,
   "metadata": {},
   "outputs": [
    {
     "data": {
      "text/html": [
       "<div><div style = \"float: left;\"><span>2×4 DataFrame</span></div><div style = \"clear: both;\"></div></div><div class = \"data-frame\" style = \"overflow-x: scroll;\"><table class = \"data-frame\" style = \"margin-bottom: 6px;\"><thead><tr class = \"header\"><th class = \"rowNumber\" style = \"font-weight: bold; text-align: right;\">Row</th><th style = \"text-align: left;\">Descripción</th><th style = \"text-align: left;\">Punto Medio</th><th style = \"text-align: left;\">Trapecio</th><th style = \"text-align: left;\">Simpson</th></tr><tr class = \"subheader headerLastRow\"><th class = \"rowNumber\" style = \"font-weight: bold; text-align: right;\"></th><th title = \"String\" style = \"text-align: left;\">String</th><th title = \"Float64\" style = \"text-align: left;\">Float64</th><th title = \"Float64\" style = \"text-align: left;\">Float64</th><th title = \"Float64\" style = \"text-align: left;\">Float64</th></tr></thead><tbody><tr><td class = \"rowNumber\" style = \"font-weight: bold; text-align: right;\">1</td><td style = \"text-align: left;\">Número de puntos</td><td style = \"text-align: right;\">642.0</td><td style = \"text-align: right;\">455.0</td><td style = \"text-align: right;\">8.0</td></tr><tr><td class = \"rowNumber\" style = \"font-weight: bold; text-align: right;\">2</td><td style = \"text-align: left;\">Error relativo</td><td style = \"text-align: right;\">8.96906e-7</td><td style = \"text-align: right;\">8.98392e-7</td><td style = \"text-align: right;\">2.93373e-7</td></tr></tbody></table></div>"
      ],
      "text/latex": [
       "\\begin{tabular}{r|cccc}\n",
       "\t& Descripción & Punto Medio & Trapecio & Simpson\\\\\n",
       "\t\\hline\n",
       "\t& String & Float64 & Float64 & Float64\\\\\n",
       "\t\\hline\n",
       "\t1 & Número de puntos & 642.0 & 455.0 & 8.0 \\\\\n",
       "\t2 & Error relativo & 8.96906e-7 & 8.98392e-7 & 2.93373e-7 \\\\\n",
       "\\end{tabular}\n"
      ],
      "text/plain": [
       "\u001b[1m2×4 DataFrame\u001b[0m\n",
       "\u001b[1m Row \u001b[0m│\u001b[1m Descripción      \u001b[0m\u001b[1m Punto Medio  \u001b[0m\u001b[1m Trapecio     \u001b[0m\u001b[1m Simpson    \u001b[0m\n",
       "     │\u001b[90m String           \u001b[0m\u001b[90m Float64      \u001b[0m\u001b[90m Float64      \u001b[0m\u001b[90m Float64    \u001b[0m\n",
       "─────┼──────────────────────────────────────────────────────────\n",
       "   1 │ Número de puntos  642.0         455.0         8.0\n",
       "   2 │ Error relativo      8.96906e-7    8.98392e-7  2.93373e-7"
      ]
     },
     "execution_count": 52,
     "metadata": {},
     "output_type": "execute_result"
    }
   ],
   "source": [
    "A´ = [\"Número de puntos\", \"Error relativo\"]\n",
    "B´ = [642, abs(P(3/2) - P(1) - SM(1,3/2,642,p)) / (P(3/2) - P(1))]\n",
    "C´ = [455, abs(P(3/2) - P(1) - ST(1,3/2,455,p)) / (P(3/2) - P(1))]\n",
    "D´ = [8, abs(P(3/2) - P(1) - SS(1,3/2,8,p)) / (P(3/2) - P(1))]\n",
    "\n",
    "DataFrame(\"Descripción\" => A´, \"Punto Medio\" => B´, \"Trapecio\" => C´,\"Simpson\" => D´)\n"
   ]
  },
  {
   "cell_type": "code",
   "execution_count": null,
   "metadata": {},
   "outputs": [],
   "source": []
  },
  {
   "cell_type": "code",
   "execution_count": null,
   "metadata": {},
   "outputs": [],
   "source": []
  },
  {
   "cell_type": "code",
   "execution_count": null,
   "metadata": {},
   "outputs": [],
   "source": []
  },
  {
   "cell_type": "markdown",
   "metadata": {},
   "source": [
    "# Problema 5\n",
    "**Comparación de métodos.**\n",
    "\n",
    "1. Aproxime la integral\n",
    "\\begin{equation*}\n",
    "I = \\int_0^1 e^{-t} dt = 1 - e^{-1}  \\nonumber              \n",
    "\\end{equation*}\n",
    "empleando los algoritmos del problema 3.\n",
    "\n",
    "2. Calcule el error relativo $E$ para $n\\in [2,4,8,...,4096]$ ($n=2^i$ con $i=1,2,...$) y grafique $E$ vs $n$ en *log-log*. \n",
    "\n",
    "\n",
    "3. Verifique visualmente que se satisfacen leyes de potencia\n",
    "$$\n",
    "E = Cn^{-\\alpha}\n",
    "$$\n",
    "y estime visualmente los valores de $C>0$ y $\\alpha>0$.\n",
    "\n",
    "4. Use el gráfico para estimar, para cada método, el mínimo $n$ al cuál se alcanza una precisión $E<10^{-7}$.\n",
    "\n",
    "5. Repita los incisos anteriores en `Float16` y `Float32`.\n",
    "\n",
    "6. Determine si el error de redondeo es relevante en estos casos."
   ]
  },
  {
   "cell_type": "code",
   "execution_count": 53,
   "metadata": {},
   "outputs": [],
   "source": [
    "#1) "
   ]
  },
  {
   "cell_type": "code",
   "execution_count": 54,
   "metadata": {},
   "outputs": [
    {
     "data": {
      "text/plain": [
       "0.6321205588285577"
      ]
     },
     "execution_count": 54,
     "metadata": {},
     "output_type": "execute_result"
    }
   ],
   "source": [
    "f(t) = 1/(exp(t))\n",
    "I = 1 - exp(-1)"
   ]
  },
  {
   "cell_type": "code",
   "execution_count": 55,
   "metadata": {},
   "outputs": [
    {
     "data": {
      "text/html": [
       "<div><div style = \"float: left;\"><span>3×4 DataFrame</span></div><div style = \"clear: both;\"></div></div><div class = \"data-frame\" style = \"overflow-x: scroll;\"><table class = \"data-frame\" style = \"margin-bottom: 6px;\"><thead><tr class = \"header\"><th class = \"rowNumber\" style = \"font-weight: bold; text-align: right;\">Row</th><th style = \"text-align: left;\">Descripción</th><th style = \"text-align: left;\">Punto Medio</th><th style = \"text-align: left;\">Trapecio</th><th style = \"text-align: left;\">Simpson</th></tr><tr class = \"subheader headerLastRow\"><th class = \"rowNumber\" style = \"font-weight: bold; text-align: right;\"></th><th title = \"String\" style = \"text-align: left;\">String</th><th title = \"Float64\" style = \"text-align: left;\">Float64</th><th title = \"Float64\" style = \"text-align: left;\">Float64</th><th title = \"Float64\" style = \"text-align: left;\">Float64</th></tr></thead><tbody><tr><td class = \"rowNumber\" style = \"font-weight: bold; text-align: right;\">1</td><td style = \"text-align: left;\">Valor real</td><td style = \"text-align: right;\">0.632121</td><td style = \"text-align: right;\">0.632121</td><td style = \"text-align: right;\">0.632121</td></tr><tr><td class = \"rowNumber\" style = \"font-weight: bold; text-align: right;\">2</td><td style = \"text-align: left;\">h = 0.05</td><td style = \"text-align: right;\">0.632055</td><td style = \"text-align: right;\">0.632153</td><td style = \"text-align: right;\">0.632121</td></tr><tr><td class = \"rowNumber\" style = \"font-weight: bold; text-align: right;\">3</td><td style = \"text-align: left;\">Error absoluto</td><td style = \"text-align: right;\">6.58411e-5</td><td style = \"text-align: right;\">3.29226e-5</td><td style = \"text-align: right;\">1.37169e-9</td></tr></tbody></table></div>"
      ],
      "text/latex": [
       "\\begin{tabular}{r|cccc}\n",
       "\t& Descripción & Punto Medio & Trapecio & Simpson\\\\\n",
       "\t\\hline\n",
       "\t& String & Float64 & Float64 & Float64\\\\\n",
       "\t\\hline\n",
       "\t1 & Valor real & 0.632121 & 0.632121 & 0.632121 \\\\\n",
       "\t2 & h = 0.05 & 0.632055 & 0.632153 & 0.632121 \\\\\n",
       "\t3 & Error absoluto & 6.58411e-5 & 3.29226e-5 & 1.37169e-9 \\\\\n",
       "\\end{tabular}\n"
      ],
      "text/plain": [
       "\u001b[1m3×4 DataFrame\u001b[0m\n",
       "\u001b[1m Row \u001b[0m│\u001b[1m Descripción    \u001b[0m\u001b[1m Punto Medio \u001b[0m\u001b[1m Trapecio   \u001b[0m\u001b[1m Simpson    \u001b[0m\n",
       "     │\u001b[90m String         \u001b[0m\u001b[90m Float64     \u001b[0m\u001b[90m Float64    \u001b[0m\u001b[90m Float64    \u001b[0m\n",
       "─────┼─────────────────────────────────────────────────────\n",
       "   1 │ Valor real       0.632121    0.632121    0.632121\n",
       "   2 │ h = 0.05         0.632055    0.632153    0.632121\n",
       "   3 │ Error absoluto   6.58411e-5  3.29226e-5  1.37169e-9"
      ]
     },
     "execution_count": 55,
     "metadata": {},
     "output_type": "execute_result"
    }
   ],
   "source": [
    "A´ = [\"Valor real\", \"h = 0.05\", \"Error absoluto\"]\n",
    "B´ = [-f(1)+f(0), SM(0,1,38,f), abs(-f(1)+f(0)-SM(0,1,38,f))]\n",
    "C´ = [-f(1)+f(0), ST(0,1,40,f), abs(-f(1)+f(0)-ST(0,1,40,f))]\n",
    "D´ = [-f(1)+f(0), SS(0,1,40,f), abs(-f(1)+f(0)-SS(0,1,40,f))]\n",
    "\n",
    "DataFrame(\"Descripción\" => A´, \"Punto Medio\" => B´, \"Trapecio\" => C´,\"Simpson\" => D´)\n"
   ]
  },
  {
   "cell_type": "code",
   "execution_count": 56,
   "metadata": {},
   "outputs": [],
   "source": [
    "#2) "
   ]
  },
  {
   "cell_type": "code",
   "execution_count": 57,
   "metadata": {},
   "outputs": [],
   "source": [
    "VE = [2^i for i in 1:12];"
   ]
  },
  {
   "cell_type": "code",
   "execution_count": 58,
   "metadata": {},
   "outputs": [],
   "source": [
    "EM = [abs(SM(0,1,n,f) - I)/I for n in VE]\n",
    "ET = [abs(ST(0,1,n,f) - I)/I for n in VE]\n",
    "ES = [abs(SS(0,1,n,f) - I)/I for n in VE];"
   ]
  },
  {
   "cell_type": "code",
   "execution_count": 59,
   "metadata": {},
   "outputs": [
    {
     "data": {
      "image/svg+xml": [
       "<?xml version=\"1.0\" encoding=\"utf-8\"?>\n",
       "<svg xmlns=\"http://www.w3.org/2000/svg\" xmlns:xlink=\"http://www.w3.org/1999/xlink\" width=\"600\" height=\"400\" viewBox=\"0 0 2400 1600\">\n",
       "<defs>\n",
       "  <clipPath id=\"clip860\">\n",
       "    <rect x=\"0\" y=\"0\" width=\"2400\" height=\"1600\"/>\n",
       "  </clipPath>\n",
       "</defs>\n",
       "<path clip-path=\"url(#clip860)\" d=\"M0 1600 L2400 1600 L2400 0 L0 0  Z\" fill=\"#ffffff\" fill-rule=\"evenodd\" fill-opacity=\"1\"/>\n",
       "<defs>\n",
       "  <clipPath id=\"clip861\">\n",
       "    <rect x=\"480\" y=\"0\" width=\"1681\" height=\"1600\"/>\n",
       "  </clipPath>\n",
       "</defs>\n",
       "<path clip-path=\"url(#clip860)\" d=\"M276.876 1410.9 L2352.76 1410.9 L2352.76 123.472 L276.876 123.472  Z\" fill=\"#ffffff\" fill-rule=\"evenodd\" fill-opacity=\"1\"/>\n",
       "<defs>\n",
       "  <clipPath id=\"clip862\">\n",
       "    <rect x=\"276\" y=\"123\" width=\"2077\" height=\"1288\"/>\n",
       "  </clipPath>\n",
       "</defs>\n",
       "<polyline clip-path=\"url(#clip862)\" style=\"stroke:#000000; stroke-linecap:round; stroke-linejoin:round; stroke-width:2; stroke-opacity:0.1; fill:none\" points=\"749.01,1410.9 749.01,123.472 \"/>\n",
       "<polyline clip-path=\"url(#clip862)\" style=\"stroke:#000000; stroke-linecap:round; stroke-linejoin:round; stroke-width:2; stroke-opacity:0.1; fill:none\" points=\"1340.43,1410.9 1340.43,123.472 \"/>\n",
       "<polyline clip-path=\"url(#clip862)\" style=\"stroke:#000000; stroke-linecap:round; stroke-linejoin:round; stroke-width:2; stroke-opacity:0.1; fill:none\" points=\"1931.84,1410.9 1931.84,123.472 \"/>\n",
       "<polyline clip-path=\"url(#clip860)\" style=\"stroke:#000000; stroke-linecap:round; stroke-linejoin:round; stroke-width:4; stroke-opacity:1; fill:none\" points=\"276.876,1410.9 2352.76,1410.9 \"/>\n",
       "<polyline clip-path=\"url(#clip860)\" style=\"stroke:#000000; stroke-linecap:round; stroke-linejoin:round; stroke-width:4; stroke-opacity:1; fill:none\" points=\"749.01,1410.9 749.01,1392 \"/>\n",
       "<polyline clip-path=\"url(#clip860)\" style=\"stroke:#000000; stroke-linecap:round; stroke-linejoin:round; stroke-width:4; stroke-opacity:1; fill:none\" points=\"1340.43,1410.9 1340.43,1392 \"/>\n",
       "<polyline clip-path=\"url(#clip860)\" style=\"stroke:#000000; stroke-linecap:round; stroke-linejoin:round; stroke-width:4; stroke-opacity:1; fill:none\" points=\"1931.84,1410.9 1931.84,1392 \"/>\n",
       "<path clip-path=\"url(#clip860)\" d=\"M715.337 1485.02 L722.976 1485.02 L722.976 1458.66 L714.666 1460.32 L714.666 1456.06 L722.93 1454.4 L727.606 1454.4 L727.606 1485.02 L735.245 1485.02 L735.245 1488.96 L715.337 1488.96 L715.337 1485.02 Z\" fill=\"#000000\" fill-rule=\"evenodd\" fill-opacity=\"1\" /><path clip-path=\"url(#clip860)\" d=\"M754.689 1457.48 Q751.078 1457.48 749.249 1461.04 Q747.444 1464.58 747.444 1471.71 Q747.444 1478.82 749.249 1482.38 Q751.078 1485.92 754.689 1485.92 Q758.323 1485.92 760.129 1482.38 Q761.957 1478.82 761.957 1471.71 Q761.957 1464.58 760.129 1461.04 Q758.323 1457.48 754.689 1457.48 M754.689 1453.77 Q760.499 1453.77 763.555 1458.38 Q766.633 1462.96 766.633 1471.71 Q766.633 1480.44 763.555 1485.04 Q760.499 1489.63 754.689 1489.63 Q748.879 1489.63 745.8 1485.04 Q742.745 1480.44 742.745 1471.71 Q742.745 1462.96 745.8 1458.38 Q748.879 1453.77 754.689 1453.77 Z\" fill=\"#000000\" fill-rule=\"evenodd\" fill-opacity=\"1\" /><path clip-path=\"url(#clip860)\" d=\"M767.179 1458.35 L773.385 1458.35 L773.385 1436.93 L766.633 1438.28 L766.633 1434.82 L773.348 1433.47 L777.147 1433.47 L777.147 1458.35 L783.353 1458.35 L783.353 1461.55 L767.179 1461.55 L767.179 1458.35 Z\" fill=\"#000000\" fill-rule=\"evenodd\" fill-opacity=\"1\" /><path clip-path=\"url(#clip860)\" d=\"M1306.2 1485.02 L1313.84 1485.02 L1313.84 1458.66 L1305.53 1460.32 L1305.53 1456.06 L1313.79 1454.4 L1318.47 1454.4 L1318.47 1485.02 L1326.11 1485.02 L1326.11 1488.96 L1306.2 1488.96 L1306.2 1485.02 Z\" fill=\"#000000\" fill-rule=\"evenodd\" fill-opacity=\"1\" /><path clip-path=\"url(#clip860)\" d=\"M1345.55 1457.48 Q1341.94 1457.48 1340.11 1461.04 Q1338.31 1464.58 1338.31 1471.71 Q1338.31 1478.82 1340.11 1482.38 Q1341.94 1485.92 1345.55 1485.92 Q1349.19 1485.92 1350.99 1482.38 Q1352.82 1478.82 1352.82 1471.71 Q1352.82 1464.58 1350.99 1461.04 Q1349.19 1457.48 1345.55 1457.48 M1345.55 1453.77 Q1351.36 1453.77 1354.42 1458.38 Q1357.5 1462.96 1357.5 1471.71 Q1357.5 1480.44 1354.42 1485.04 Q1351.36 1489.63 1345.55 1489.63 Q1339.74 1489.63 1336.66 1485.04 Q1333.61 1480.44 1333.61 1471.71 Q1333.61 1462.96 1336.66 1458.38 Q1339.74 1453.77 1345.55 1453.77 Z\" fill=\"#000000\" fill-rule=\"evenodd\" fill-opacity=\"1\" /><path clip-path=\"url(#clip860)\" d=\"M1362.07 1458.35 L1375.33 1458.35 L1375.33 1461.55 L1357.5 1461.55 L1357.5 1458.35 Q1359.66 1456.11 1363.38 1452.35 Q1367.13 1448.57 1368.08 1447.48 Q1369.91 1445.43 1370.62 1444.02 Q1371.36 1442.59 1371.36 1441.22 Q1371.36 1438.98 1369.78 1437.57 Q1368.22 1436.16 1365.7 1436.16 Q1363.91 1436.16 1361.92 1436.78 Q1359.94 1437.4 1357.68 1438.66 L1357.68 1434.82 Q1359.98 1433.9 1361.97 1433.43 Q1363.97 1432.96 1365.62 1432.96 Q1369.98 1432.96 1372.58 1435.14 Q1375.18 1437.32 1375.18 1440.97 Q1375.18 1442.7 1374.52 1444.26 Q1373.88 1445.8 1372.17 1447.91 Q1371.7 1448.46 1369.18 1451.07 Q1366.66 1453.67 1362.07 1458.35 Z\" fill=\"#000000\" fill-rule=\"evenodd\" fill-opacity=\"1\" /><path clip-path=\"url(#clip860)\" d=\"M1897.29 1485.02 L1904.93 1485.02 L1904.93 1458.66 L1896.62 1460.32 L1896.62 1456.06 L1904.88 1454.4 L1909.56 1454.4 L1909.56 1485.02 L1917.2 1485.02 L1917.2 1488.96 L1897.29 1488.96 L1897.29 1485.02 Z\" fill=\"#000000\" fill-rule=\"evenodd\" fill-opacity=\"1\" /><path clip-path=\"url(#clip860)\" d=\"M1936.64 1457.48 Q1933.03 1457.48 1931.2 1461.04 Q1929.39 1464.58 1929.39 1471.71 Q1929.39 1478.82 1931.2 1482.38 Q1933.03 1485.92 1936.64 1485.92 Q1940.27 1485.92 1942.08 1482.38 Q1943.91 1478.82 1943.91 1471.71 Q1943.91 1464.58 1942.08 1461.04 Q1940.27 1457.48 1936.64 1457.48 M1936.64 1453.77 Q1942.45 1453.77 1945.51 1458.38 Q1948.58 1462.96 1948.58 1471.71 Q1948.58 1480.44 1945.51 1485.04 Q1942.45 1489.63 1936.64 1489.63 Q1930.83 1489.63 1927.75 1485.04 Q1924.7 1480.44 1924.7 1471.71 Q1924.7 1462.96 1927.75 1458.38 Q1930.83 1453.77 1936.64 1453.77 Z\" fill=\"#000000\" fill-rule=\"evenodd\" fill-opacity=\"1\" /><path clip-path=\"url(#clip860)\" d=\"M1961.28 1446.41 Q1964.01 1446.99 1965.53 1448.83 Q1967.07 1450.68 1967.07 1453.38 Q1967.07 1457.54 1964.21 1459.82 Q1961.35 1462.09 1956.09 1462.09 Q1954.32 1462.09 1952.44 1461.73 Q1950.58 1461.4 1948.58 1460.7 L1948.58 1457.03 Q1950.16 1457.95 1952.04 1458.42 Q1953.93 1458.89 1955.98 1458.89 Q1959.55 1458.89 1961.41 1457.48 Q1963.29 1456.07 1963.29 1453.38 Q1963.29 1450.9 1961.54 1449.51 Q1959.81 1448.1 1956.71 1448.1 L1953.44 1448.1 L1953.44 1444.98 L1956.86 1444.98 Q1959.66 1444.98 1961.15 1443.87 Q1962.63 1442.74 1962.63 1440.63 Q1962.63 1438.47 1961.09 1437.32 Q1959.57 1436.16 1956.71 1436.16 Q1955.15 1436.16 1953.36 1436.49 Q1951.57 1436.83 1949.43 1437.55 L1949.43 1434.16 Q1951.59 1433.56 1953.47 1433.26 Q1955.37 1432.96 1957.05 1432.96 Q1961.37 1432.96 1963.89 1434.93 Q1966.41 1436.89 1966.41 1440.24 Q1966.41 1442.57 1965.08 1444.19 Q1963.74 1445.79 1961.28 1446.41 Z\" fill=\"#000000\" fill-rule=\"evenodd\" fill-opacity=\"1\" /><path clip-path=\"url(#clip860)\" d=\"M1215.94 1531.95 L1215.94 1549.8 L1224.02 1549.8 Q1228.51 1549.8 1230.96 1547.48 Q1233.41 1545.16 1233.41 1540.86 Q1233.41 1536.6 1230.96 1534.27 Q1228.51 1531.95 1224.02 1531.95 L1215.94 1531.95 M1209.51 1526.67 L1224.02 1526.67 Q1232.01 1526.67 1236.09 1530.29 Q1240.19 1533.89 1240.19 1540.86 Q1240.19 1547.9 1236.09 1551.49 Q1232.01 1555.09 1224.02 1555.09 L1215.94 1555.09 L1215.94 1574.19 L1209.51 1574.19 L1209.51 1526.67 Z\" fill=\"#000000\" fill-rule=\"evenodd\" fill-opacity=\"1\" /><path clip-path=\"url(#clip860)\" d=\"M1246.81 1560.12 L1246.81 1538.54 L1252.67 1538.54 L1252.67 1559.89 Q1252.67 1564.96 1254.64 1567.5 Q1256.62 1570.02 1260.56 1570.02 Q1265.31 1570.02 1268.04 1566.99 Q1270.81 1563.97 1270.81 1558.75 L1270.81 1538.54 L1276.67 1538.54 L1276.67 1574.19 L1270.81 1574.19 L1270.81 1568.71 Q1268.68 1571.96 1265.85 1573.55 Q1263.05 1575.11 1259.32 1575.11 Q1253.18 1575.11 1250 1571.29 Q1246.81 1567.47 1246.81 1560.12 M1261.55 1537.68 L1261.55 1537.68 Z\" fill=\"#000000\" fill-rule=\"evenodd\" fill-opacity=\"1\" /><path clip-path=\"url(#clip860)\" d=\"M1318.36 1552.67 L1318.36 1574.19 L1312.51 1574.19 L1312.51 1552.86 Q1312.51 1547.8 1310.53 1545.29 Q1308.56 1542.77 1304.61 1542.77 Q1299.87 1542.77 1297.13 1545.79 Q1294.4 1548.82 1294.4 1554.04 L1294.4 1574.19 L1288.51 1574.19 L1288.51 1538.54 L1294.4 1538.54 L1294.4 1544.08 Q1296.5 1540.86 1299.33 1539.27 Q1302.2 1537.68 1305.92 1537.68 Q1312.06 1537.68 1315.21 1541.5 Q1318.36 1545.29 1318.36 1552.67 Z\" fill=\"#000000\" fill-rule=\"evenodd\" fill-opacity=\"1\" /><path clip-path=\"url(#clip860)\" d=\"M1335.84 1528.42 L1335.84 1538.54 L1347.9 1538.54 L1347.9 1543.09 L1335.84 1543.09 L1335.84 1562.44 Q1335.84 1566.8 1337.02 1568.04 Q1338.23 1569.28 1341.89 1569.28 L1347.9 1569.28 L1347.9 1574.19 L1341.89 1574.19 Q1335.11 1574.19 1332.53 1571.67 Q1329.95 1569.12 1329.95 1562.44 L1329.95 1543.09 L1325.65 1543.09 L1325.65 1538.54 L1329.95 1538.54 L1329.95 1528.42 L1335.84 1528.42 Z\" fill=\"#000000\" fill-rule=\"evenodd\" fill-opacity=\"1\" /><path clip-path=\"url(#clip860)\" d=\"M1369.42 1542.64 Q1364.71 1542.64 1361.97 1546.34 Q1359.23 1550 1359.23 1556.39 Q1359.23 1562.79 1361.94 1566.48 Q1364.68 1570.14 1369.42 1570.14 Q1374.1 1570.14 1376.83 1566.45 Q1379.57 1562.76 1379.57 1556.39 Q1379.57 1550.06 1376.83 1546.37 Q1374.1 1542.64 1369.42 1542.64 M1369.42 1537.68 Q1377.06 1537.68 1381.42 1542.64 Q1385.78 1547.61 1385.78 1556.39 Q1385.78 1565.15 1381.42 1570.14 Q1377.06 1575.11 1369.42 1575.11 Q1361.75 1575.11 1357.39 1570.14 Q1353.06 1565.15 1353.06 1556.39 Q1353.06 1547.61 1357.39 1542.64 Q1361.75 1537.68 1369.42 1537.68 Z\" fill=\"#000000\" fill-rule=\"evenodd\" fill-opacity=\"1\" /><path clip-path=\"url(#clip860)\" d=\"M1418.21 1539.59 L1418.21 1545.13 Q1415.73 1543.85 1413.05 1543.22 Q1410.38 1542.58 1407.52 1542.58 Q1403.16 1542.58 1400.96 1543.92 Q1398.8 1545.25 1398.8 1547.93 Q1398.8 1549.96 1400.35 1551.14 Q1401.91 1552.29 1406.63 1553.34 L1408.63 1553.78 Q1414.87 1555.12 1417.48 1557.57 Q1420.12 1559.99 1420.12 1564.35 Q1420.12 1569.32 1416.17 1572.21 Q1412.26 1575.11 1405.38 1575.11 Q1402.52 1575.11 1399.4 1574.54 Q1396.31 1573.99 1392.88 1572.88 L1392.88 1566.83 Q1396.12 1568.52 1399.27 1569.38 Q1402.42 1570.21 1405.51 1570.21 Q1409.65 1570.21 1411.88 1568.81 Q1414.1 1567.37 1414.1 1564.8 Q1414.1 1562.41 1412.48 1561.14 Q1410.89 1559.86 1405.45 1558.68 L1403.41 1558.21 Q1397.97 1557.06 1395.55 1554.71 Q1393.13 1552.32 1393.13 1548.18 Q1393.13 1543.15 1396.69 1540.42 Q1400.26 1537.68 1406.82 1537.68 Q1410.06 1537.68 1412.93 1538.16 Q1415.79 1538.63 1418.21 1539.59 Z\" fill=\"#000000\" fill-rule=\"evenodd\" fill-opacity=\"1\" /><polyline clip-path=\"url(#clip862)\" style=\"stroke:#000000; stroke-linecap:round; stroke-linejoin:round; stroke-width:2; stroke-opacity:0.1; fill:none\" points=\"276.876,1334.39 2352.76,1334.39 \"/>\n",
       "<polyline clip-path=\"url(#clip862)\" style=\"stroke:#000000; stroke-linecap:round; stroke-linejoin:round; stroke-width:2; stroke-opacity:0.1; fill:none\" points=\"276.876,893.417 2352.76,893.417 \"/>\n",
       "<polyline clip-path=\"url(#clip862)\" style=\"stroke:#000000; stroke-linecap:round; stroke-linejoin:round; stroke-width:2; stroke-opacity:0.1; fill:none\" points=\"276.876,452.445 2352.76,452.445 \"/>\n",
       "<polyline clip-path=\"url(#clip860)\" style=\"stroke:#000000; stroke-linecap:round; stroke-linejoin:round; stroke-width:4; stroke-opacity:1; fill:none\" points=\"276.876,1410.9 276.876,123.472 \"/>\n",
       "<polyline clip-path=\"url(#clip860)\" style=\"stroke:#000000; stroke-linecap:round; stroke-linejoin:round; stroke-width:4; stroke-opacity:1; fill:none\" points=\"276.876,1334.39 295.773,1334.39 \"/>\n",
       "<polyline clip-path=\"url(#clip860)\" style=\"stroke:#000000; stroke-linecap:round; stroke-linejoin:round; stroke-width:4; stroke-opacity:1; fill:none\" points=\"276.876,893.417 295.773,893.417 \"/>\n",
       "<polyline clip-path=\"url(#clip860)\" style=\"stroke:#000000; stroke-linecap:round; stroke-linejoin:round; stroke-width:4; stroke-opacity:1; fill:none\" points=\"276.876,452.445 295.773,452.445 \"/>\n",
       "<path clip-path=\"url(#clip860)\" d=\"M115.74 1354.18 L123.379 1354.18 L123.379 1327.82 L115.069 1329.48 L115.069 1325.22 L123.333 1323.56 L128.009 1323.56 L128.009 1354.18 L135.647 1354.18 L135.647 1358.12 L115.74 1358.12 L115.74 1354.18 Z\" fill=\"#000000\" fill-rule=\"evenodd\" fill-opacity=\"1\" /><path clip-path=\"url(#clip860)\" d=\"M155.092 1326.63 Q151.481 1326.63 149.652 1330.2 Q147.846 1333.74 147.846 1340.87 Q147.846 1347.98 149.652 1351.54 Q151.481 1355.08 155.092 1355.08 Q158.726 1355.08 160.532 1351.54 Q162.36 1347.98 162.36 1340.87 Q162.36 1333.74 160.532 1330.2 Q158.726 1326.63 155.092 1326.63 M155.092 1322.93 Q160.902 1322.93 163.958 1327.54 Q167.036 1332.12 167.036 1340.87 Q167.036 1349.6 163.958 1354.2 Q160.902 1358.79 155.092 1358.79 Q149.282 1358.79 146.203 1354.2 Q143.147 1349.6 143.147 1340.87 Q143.147 1332.12 146.203 1327.54 Q149.282 1322.93 155.092 1322.93 Z\" fill=\"#000000\" fill-rule=\"evenodd\" fill-opacity=\"1\" /><path clip-path=\"url(#clip860)\" d=\"M167.036 1317.03 L191.148 1317.03 L191.148 1320.23 L167.036 1320.23 L167.036 1317.03 Z\" fill=\"#000000\" fill-rule=\"evenodd\" fill-opacity=\"1\" /><path clip-path=\"url(#clip860)\" d=\"M200.006 1327.51 L206.213 1327.51 L206.213 1306.09 L199.461 1307.44 L199.461 1303.98 L206.175 1302.63 L209.974 1302.63 L209.974 1327.51 L216.181 1327.51 L216.181 1330.71 L200.006 1330.71 L200.006 1327.51 Z\" fill=\"#000000\" fill-rule=\"evenodd\" fill-opacity=\"1\" /><path clip-path=\"url(#clip860)\" d=\"M223.892 1302.63 L238.807 1302.63 L238.807 1305.82 L227.372 1305.82 L227.372 1312.71 Q228.199 1312.42 229.027 1312.29 Q229.854 1312.14 230.682 1312.14 Q235.384 1312.14 238.13 1314.72 Q240.876 1317.3 240.876 1321.7 Q240.876 1326.23 238.054 1328.75 Q235.233 1331.25 230.099 1331.25 Q228.331 1331.25 226.488 1330.95 Q224.663 1330.65 222.707 1330.05 L222.707 1326.23 Q224.4 1327.15 226.205 1327.6 Q228.011 1328.05 230.023 1328.05 Q233.277 1328.05 235.177 1326.34 Q237.076 1324.63 237.076 1321.7 Q237.076 1318.76 235.177 1317.05 Q233.277 1315.34 230.023 1315.34 Q228.5 1315.34 226.977 1315.68 Q225.472 1316.02 223.892 1316.73 L223.892 1302.63 Z\" fill=\"#000000\" fill-rule=\"evenodd\" fill-opacity=\"1\" /><path clip-path=\"url(#clip860)\" d=\"M114.931 913.209 L122.57 913.209 L122.57 886.844 L114.26 888.51 L114.26 884.251 L122.524 882.584 L127.2 882.584 L127.2 913.209 L134.839 913.209 L134.839 917.144 L114.931 917.144 L114.931 913.209 Z\" fill=\"#000000\" fill-rule=\"evenodd\" fill-opacity=\"1\" /><path clip-path=\"url(#clip860)\" d=\"M154.283 885.663 Q150.672 885.663 148.843 889.228 Q147.038 892.769 147.038 899.899 Q147.038 907.005 148.843 910.57 Q150.672 914.112 154.283 914.112 Q157.917 914.112 159.723 910.57 Q161.552 907.005 161.552 899.899 Q161.552 892.769 159.723 889.228 Q157.917 885.663 154.283 885.663 M154.283 881.959 Q160.093 881.959 163.149 886.566 Q166.227 891.149 166.227 899.899 Q166.227 908.626 163.149 913.232 Q160.093 917.816 154.283 917.816 Q148.473 917.816 145.394 913.232 Q142.339 908.626 142.339 899.899 Q142.339 891.149 145.394 886.566 Q148.473 881.959 154.283 881.959 Z\" fill=\"#000000\" fill-rule=\"evenodd\" fill-opacity=\"1\" /><path clip-path=\"url(#clip860)\" d=\"M166.227 876.061 L190.339 876.061 L190.339 879.258 L166.227 879.258 L166.227 876.061 Z\" fill=\"#000000\" fill-rule=\"evenodd\" fill-opacity=\"1\" /><path clip-path=\"url(#clip860)\" d=\"M199.197 886.537 L205.404 886.537 L205.404 865.115 L198.652 866.469 L198.652 863.008 L205.366 861.654 L209.166 861.654 L209.166 886.537 L215.372 886.537 L215.372 889.734 L199.197 889.734 L199.197 886.537 Z\" fill=\"#000000\" fill-rule=\"evenodd\" fill-opacity=\"1\" /><path clip-path=\"url(#clip860)\" d=\"M231.171 864.155 Q228.237 864.155 226.751 867.052 Q225.284 869.929 225.284 875.722 Q225.284 881.496 226.751 884.393 Q228.237 887.27 231.171 887.27 Q234.124 887.27 235.591 884.393 Q237.076 881.496 237.076 875.722 Q237.076 869.929 235.591 867.052 Q234.124 864.155 231.171 864.155 M231.171 861.146 Q235.891 861.146 238.374 864.889 Q240.876 868.613 240.876 875.722 Q240.876 882.813 238.374 886.555 Q235.891 890.279 231.171 890.279 Q226.45 890.279 223.949 886.555 Q221.466 882.813 221.466 875.722 Q221.466 868.613 223.949 864.889 Q226.45 861.146 231.171 861.146 Z\" fill=\"#000000\" fill-rule=\"evenodd\" fill-opacity=\"1\" /><path clip-path=\"url(#clip860)\" d=\"M140.247 472.238 L147.886 472.238 L147.886 445.872 L139.575 447.539 L139.575 443.28 L147.839 441.613 L152.515 441.613 L152.515 472.238 L160.154 472.238 L160.154 476.173 L140.247 476.173 L140.247 472.238 Z\" fill=\"#000000\" fill-rule=\"evenodd\" fill-opacity=\"1\" /><path clip-path=\"url(#clip860)\" d=\"M179.598 444.692 Q175.987 444.692 174.159 448.256 Q172.353 451.798 172.353 458.928 Q172.353 466.034 174.159 469.599 Q175.987 473.14 179.598 473.14 Q183.233 473.14 185.038 469.599 Q186.867 466.034 186.867 458.928 Q186.867 451.798 185.038 448.256 Q183.233 444.692 179.598 444.692 M179.598 440.988 Q185.409 440.988 188.464 445.594 Q191.543 450.178 191.543 458.928 Q191.543 467.654 188.464 472.261 Q185.409 476.844 179.598 476.844 Q173.788 476.844 170.71 472.261 Q167.654 467.654 167.654 458.928 Q167.654 450.178 170.71 445.594 Q173.788 440.988 179.598 440.988 Z\" fill=\"#000000\" fill-rule=\"evenodd\" fill-opacity=\"1\" /><path clip-path=\"url(#clip860)\" d=\"M191.543 435.089 L215.654 435.089 L215.654 438.287 L191.543 438.287 L191.543 435.089 Z\" fill=\"#000000\" fill-rule=\"evenodd\" fill-opacity=\"1\" /><path clip-path=\"url(#clip860)\" d=\"M223.892 420.682 L238.807 420.682 L238.807 423.88 L227.372 423.88 L227.372 430.763 Q228.199 430.481 229.027 430.35 Q229.854 430.199 230.682 430.199 Q235.384 430.199 238.13 432.776 Q240.876 435.353 240.876 439.754 Q240.876 444.286 238.054 446.806 Q235.233 449.308 230.099 449.308 Q228.331 449.308 226.488 449.007 Q224.663 448.706 222.707 448.104 L222.707 444.286 Q224.4 445.208 226.205 445.659 Q228.011 446.111 230.023 446.111 Q233.277 446.111 235.177 444.399 Q237.076 442.688 237.076 439.754 Q237.076 436.82 235.177 435.108 Q233.277 433.397 230.023 433.397 Q228.5 433.397 226.977 433.735 Q225.472 434.074 223.892 434.788 L223.892 420.682 Z\" fill=\"#000000\" fill-rule=\"evenodd\" fill-opacity=\"1\" /><path clip-path=\"url(#clip860)\" d=\"M16.4842 1028.32 L16.4842 998.275 L21.895 998.275 L21.895 1021.89 L35.9632 1021.89 L35.9632 999.262 L41.3741 999.262 L41.3741 1021.89 L58.5933 1021.89 L58.5933 997.703 L64.0042 997.703 L64.0042 1028.32 L16.4842 1028.32 Z\" fill=\"#000000\" fill-rule=\"evenodd\" fill-opacity=\"1\" /><path clip-path=\"url(#clip860)\" d=\"M33.8307 966.733 Q33.2578 967.72 33.0032 968.898 Q32.7167 970.044 32.7167 971.444 Q32.7167 976.409 35.9632 979.083 Q39.1779 981.725 45.2253 981.725 L64.0042 981.725 L64.0042 987.613 L28.3562 987.613 L28.3562 981.725 L33.8944 981.725 Q30.6479 979.879 29.0883 976.919 Q27.4968 973.958 27.4968 969.725 Q27.4968 969.121 27.5923 968.388 Q27.656 967.656 27.8151 966.765 L33.8307 966.733 Z\" fill=\"#000000\" fill-rule=\"evenodd\" fill-opacity=\"1\" /><path clip-path=\"url(#clip860)\" d=\"M33.8307 941.08 Q33.2578 942.066 33.0032 943.244 Q32.7167 944.39 32.7167 945.79 Q32.7167 950.755 35.9632 953.429 Q39.1779 956.071 45.2253 956.071 L64.0042 956.071 L64.0042 961.959 L28.3562 961.959 L28.3562 956.071 L33.8944 956.071 Q30.6479 954.225 29.0883 951.265 Q27.4968 948.305 27.4968 944.071 Q27.4968 943.467 27.5923 942.735 Q27.656 942.003 27.8151 941.111 L33.8307 941.08 Z\" fill=\"#000000\" fill-rule=\"evenodd\" fill-opacity=\"1\" /><path clip-path=\"url(#clip860)\" d=\"M32.4621 922.555 Q32.4621 927.266 36.1542 930.003 Q39.8145 932.74 46.212 932.74 Q52.6095 932.74 56.3017 930.035 Q59.9619 927.298 59.9619 922.555 Q59.9619 917.877 56.2698 915.139 Q52.5777 912.402 46.212 912.402 Q39.8781 912.402 36.186 915.139 Q32.4621 917.877 32.4621 922.555 M27.4968 922.555 Q27.4968 914.917 32.4621 910.556 Q37.4273 906.196 46.212 906.196 Q54.9649 906.196 59.9619 910.556 Q64.9272 914.917 64.9272 922.555 Q64.9272 930.226 59.9619 934.587 Q54.9649 938.915 46.212 938.915 Q37.4273 938.915 32.4621 934.587 Q27.4968 930.226 27.4968 922.555 Z\" fill=\"#000000\" fill-rule=\"evenodd\" fill-opacity=\"1\" /><path clip-path=\"url(#clip860)\" d=\"M33.8307 875.831 Q33.2578 876.818 33.0032 877.995 Q32.7167 879.141 32.7167 880.542 Q32.7167 885.507 35.9632 888.181 Q39.1779 890.822 45.2253 890.822 L64.0042 890.822 L64.0042 896.711 L28.3562 896.711 L28.3562 890.822 L33.8944 890.822 Q30.6479 888.976 29.0883 886.016 Q27.4968 883.056 27.4968 878.823 Q27.4968 878.218 27.5923 877.486 Q27.656 876.754 27.8151 875.863 L33.8307 875.831 Z\" fill=\"#000000\" fill-rule=\"evenodd\" fill-opacity=\"1\" /><path clip-path=\"url(#clip860)\" d=\"M44.7161 840.629 L47.5806 840.629 L47.5806 867.556 Q53.6281 867.174 56.8109 863.927 Q59.9619 860.649 59.9619 854.824 Q59.9619 851.45 59.1344 848.299 Q58.3069 845.117 56.6518 841.997 L62.1899 841.997 Q63.5267 845.148 64.227 848.459 Q64.9272 851.769 64.9272 855.174 Q64.9272 863.704 59.9619 868.701 Q54.9967 873.667 46.5303 873.667 Q37.7774 873.667 32.6531 868.956 Q27.4968 864.214 27.4968 856.193 Q27.4968 849 32.1438 844.83 Q36.7589 840.629 44.7161 840.629 M42.9973 846.485 Q38.1912 846.549 35.3266 849.191 Q32.4621 851.801 32.4621 856.129 Q32.4621 861.031 35.2312 863.991 Q38.0002 866.919 43.0292 867.365 L42.9973 846.485 Z\" fill=\"#000000\" fill-rule=\"evenodd\" fill-opacity=\"1\" /><path clip-path=\"url(#clip860)\" d=\"M29.4065 808.291 L34.9447 808.291 Q33.6716 810.774 33.035 813.447 Q32.3984 816.121 32.3984 818.985 Q32.3984 823.346 33.7352 825.542 Q35.072 827.706 37.7456 827.706 Q39.7826 827.706 40.9603 826.147 Q42.1061 824.587 43.1565 819.877 L43.6021 817.871 Q44.9389 811.633 47.3897 809.023 Q49.8086 806.381 54.1691 806.381 Q59.1344 806.381 62.0308 810.328 Q64.9272 814.243 64.9272 821.118 Q64.9272 823.982 64.3543 827.102 Q63.8132 830.189 62.6992 833.626 L56.6518 833.626 Q58.3387 830.38 59.198 827.229 Q60.0256 824.078 60.0256 820.991 Q60.0256 816.853 58.6251 814.625 Q57.1929 812.397 54.6147 812.397 Q52.2276 812.397 50.9545 814.02 Q49.6813 815.611 48.5037 821.054 L48.0262 823.091 Q46.8804 828.534 44.5251 830.953 Q42.138 833.372 38.0002 833.372 Q32.9713 833.372 30.2341 829.807 Q27.4968 826.242 27.4968 819.686 Q27.4968 816.439 27.9743 813.574 Q28.4517 810.71 29.4065 808.291 Z\" fill=\"#000000\" fill-rule=\"evenodd\" fill-opacity=\"1\" /><path clip-path=\"url(#clip860)\" d=\"M33.8307 755.678 Q33.2578 756.665 33.0032 757.843 Q32.7167 758.989 32.7167 760.389 Q32.7167 765.354 35.9632 768.028 Q39.1779 770.67 45.2253 770.67 L64.0042 770.67 L64.0042 776.558 L28.3562 776.558 L28.3562 770.67 L33.8944 770.67 Q30.6479 768.824 29.0883 765.864 Q27.4968 762.903 27.4968 758.67 Q27.4968 758.066 27.5923 757.333 Q27.656 756.601 27.8151 755.71 L33.8307 755.678 Z\" fill=\"#000000\" fill-rule=\"evenodd\" fill-opacity=\"1\" /><path clip-path=\"url(#clip860)\" d=\"M44.7161 720.476 L47.5806 720.476 L47.5806 747.403 Q53.6281 747.021 56.8109 743.774 Q59.9619 740.496 59.9619 734.672 Q59.9619 731.298 59.1344 728.147 Q58.3069 724.964 56.6518 721.845 L62.1899 721.845 Q63.5267 724.996 64.227 728.306 Q64.9272 731.616 64.9272 735.022 Q64.9272 743.552 59.9619 748.549 Q54.9967 753.514 46.5303 753.514 Q37.7774 753.514 32.6531 748.803 Q27.4968 744.061 27.4968 736.04 Q27.4968 728.847 32.1438 724.677 Q36.7589 720.476 44.7161 720.476 M42.9973 726.332 Q38.1912 726.396 35.3266 729.038 Q32.4621 731.648 32.4621 735.977 Q32.4621 740.878 35.2312 743.838 Q38.0002 746.766 43.0292 747.212 L42.9973 726.332 Z\" fill=\"#000000\" fill-rule=\"evenodd\" fill-opacity=\"1\" /><path clip-path=\"url(#clip860)\" d=\"M14.479 710.864 L14.479 705.007 L64.0042 705.007 L64.0042 710.864 L14.479 710.864 Z\" fill=\"#000000\" fill-rule=\"evenodd\" fill-opacity=\"1\" /><path clip-path=\"url(#clip860)\" d=\"M46.0847 676.553 Q46.0847 683.65 47.7079 686.388 Q49.3312 689.125 53.2461 689.125 Q56.3653 689.125 58.2114 687.088 Q60.0256 685.019 60.0256 681.486 Q60.0256 676.616 56.5881 673.688 Q53.1188 670.728 47.3897 670.728 L46.0847 670.728 L46.0847 676.553 M43.6657 664.872 L64.0042 664.872 L64.0042 670.728 L58.5933 670.728 Q61.8398 672.733 63.3994 675.725 Q64.9272 678.717 64.9272 683.046 Q64.9272 688.52 61.8716 691.767 Q58.7843 694.981 53.6281 694.981 Q47.6125 694.981 44.5569 690.971 Q41.5014 686.929 41.5014 678.94 L41.5014 670.728 L40.9285 670.728 Q36.8862 670.728 34.6901 673.402 Q32.4621 676.043 32.4621 680.849 Q32.4621 683.905 33.1941 686.801 Q33.9262 689.698 35.3903 692.371 L29.9795 692.371 Q28.7381 689.157 28.1334 686.133 Q27.4968 683.109 27.4968 680.245 Q27.4968 672.51 31.5072 668.691 Q35.5176 664.872 43.6657 664.872 Z\" fill=\"#000000\" fill-rule=\"evenodd\" fill-opacity=\"1\" /><path clip-path=\"url(#clip860)\" d=\"M18.2347 647.016 L28.3562 647.016 L28.3562 634.953 L32.9077 634.953 L32.9077 647.016 L52.2594 647.016 Q56.6199 647.016 57.8613 645.838 Q59.1026 644.629 59.1026 640.968 L59.1026 634.953 L64.0042 634.953 L64.0042 640.968 Q64.0042 647.748 61.4897 650.326 Q58.9434 652.904 52.2594 652.904 L32.9077 652.904 L32.9077 657.201 L28.3562 657.201 L28.3562 652.904 L18.2347 652.904 L18.2347 647.016 Z\" fill=\"#000000\" fill-rule=\"evenodd\" fill-opacity=\"1\" /><path clip-path=\"url(#clip860)\" d=\"M28.3562 627.25 L28.3562 621.394 L64.0042 621.394 L64.0042 627.25 L28.3562 627.25 M14.479 627.25 L14.479 621.394 L21.895 621.394 L21.895 627.25 L14.479 627.25 Z\" fill=\"#000000\" fill-rule=\"evenodd\" fill-opacity=\"1\" /><path clip-path=\"url(#clip860)\" d=\"M28.3562 613.341 L28.3562 607.135 L58.275 595.995 L28.3562 584.855 L28.3562 578.648 L64.0042 592.016 L64.0042 599.973 L28.3562 613.341 Z\" fill=\"#000000\" fill-rule=\"evenodd\" fill-opacity=\"1\" /><path clip-path=\"url(#clip860)\" d=\"M32.4621 556.75 Q32.4621 561.461 36.1542 564.198 Q39.8145 566.935 46.212 566.935 Q52.6095 566.935 56.3017 564.23 Q59.9619 561.492 59.9619 556.75 Q59.9619 552.071 56.2698 549.334 Q52.5777 546.597 46.212 546.597 Q39.8781 546.597 36.186 549.334 Q32.4621 552.071 32.4621 556.75 M27.4968 556.75 Q27.4968 549.111 32.4621 544.751 Q37.4273 540.39 46.212 540.39 Q54.9649 540.39 59.9619 544.751 Q64.9272 549.111 64.9272 556.75 Q64.9272 564.421 59.9619 568.781 Q54.9649 573.11 46.212 573.11 Q37.4273 573.11 32.4621 568.781 Q27.4968 564.421 27.4968 556.75 Z\" fill=\"#000000\" fill-rule=\"evenodd\" fill-opacity=\"1\" /><path clip-path=\"url(#clip860)\" d=\"M29.4065 507.957 L34.9447 507.957 Q33.6716 510.44 33.035 513.113 Q32.3984 515.787 32.3984 518.651 Q32.3984 523.012 33.7352 525.208 Q35.072 527.372 37.7456 527.372 Q39.7826 527.372 40.9603 525.813 Q42.1061 524.253 43.1565 519.542 L43.6021 517.537 Q44.9389 511.299 47.3897 508.689 Q49.8086 506.047 54.1691 506.047 Q59.1344 506.047 62.0308 509.994 Q64.9272 513.909 64.9272 520.784 Q64.9272 523.648 64.3543 526.768 Q63.8132 529.855 62.6992 533.292 L56.6518 533.292 Q58.3387 530.046 59.198 526.895 Q60.0256 523.744 60.0256 520.656 Q60.0256 516.519 58.6251 514.291 Q57.1929 512.063 54.6147 512.063 Q52.2276 512.063 50.9545 513.686 Q49.6813 515.277 48.5037 520.72 L48.0262 522.757 Q46.8804 528.2 44.5251 530.619 Q42.138 533.038 38.0002 533.038 Q32.9713 533.038 30.2341 529.473 Q27.4968 525.908 27.4968 519.352 Q27.4968 516.105 27.9743 513.24 Q28.4517 510.376 29.4065 507.957 Z\" fill=\"#000000\" fill-rule=\"evenodd\" fill-opacity=\"1\" /><path clip-path=\"url(#clip860)\" d=\"M838.47 16.7545 L838.47 25.383 Q834.338 21.5346 829.639 19.6307 Q824.98 17.7268 819.714 17.7268 Q809.344 17.7268 803.835 24.0867 Q798.325 30.4061 798.325 42.3968 Q798.325 54.3469 803.835 60.7069 Q809.344 67.0263 819.714 67.0263 Q824.98 67.0263 829.639 65.1223 Q834.338 63.2184 838.47 59.3701 L838.47 67.9175 Q834.176 70.8341 829.355 72.2924 Q824.575 73.7508 819.228 73.7508 Q805.496 73.7508 797.596 65.3654 Q789.697 56.9395 789.697 42.3968 Q789.697 27.8135 797.596 19.4281 Q805.496 11.0023 819.228 11.0023 Q824.656 11.0023 829.436 12.4606 Q834.257 13.8784 838.47 16.7545 Z\" fill=\"#000000\" fill-rule=\"evenodd\" fill-opacity=\"1\" /><path clip-path=\"url(#clip860)\" d=\"M868.366 32.4315 Q862.37 32.4315 858.886 37.1306 Q855.403 41.7891 855.403 49.9314 Q855.403 58.0738 858.846 62.7728 Q862.33 67.4314 868.366 67.4314 Q874.32 67.4314 877.804 62.7323 Q881.288 58.0333 881.288 49.9314 Q881.288 41.8701 877.804 37.1711 Q874.32 32.4315 868.366 32.4315 M868.366 26.1121 Q878.088 26.1121 883.637 32.4315 Q889.187 38.7509 889.187 49.9314 Q889.187 61.0714 883.637 67.4314 Q878.088 73.7508 868.366 73.7508 Q858.603 73.7508 853.053 67.4314 Q847.544 61.0714 847.544 49.9314 Q847.544 38.7509 853.053 32.4315 Q858.603 26.1121 868.366 26.1121 Z\" fill=\"#000000\" fill-rule=\"evenodd\" fill-opacity=\"1\" /><path clip-path=\"url(#clip860)\" d=\"M936.866 35.9153 Q939.661 30.8922 943.55 28.5022 Q947.439 26.1121 952.705 26.1121 Q959.794 26.1121 963.643 31.0947 Q967.491 36.0368 967.491 45.1919 L967.491 72.576 L959.997 72.576 L959.997 45.4349 Q959.997 38.913 957.688 35.7533 Q955.379 32.5936 950.639 32.5936 Q944.847 32.5936 941.484 36.4419 Q938.122 40.2903 938.122 46.9338 L938.122 72.576 L930.628 72.576 L930.628 45.4349 Q930.628 38.8725 928.319 35.7533 Q926.01 32.5936 921.189 32.5936 Q915.478 32.5936 912.115 36.4824 Q908.753 40.3308 908.753 46.9338 L908.753 72.576 L901.259 72.576 L901.259 27.2059 L908.753 27.2059 L908.753 34.2544 Q911.305 30.082 914.87 28.0971 Q918.435 26.1121 923.336 26.1121 Q928.278 26.1121 931.722 28.6237 Q935.205 31.1352 936.866 35.9153 Z\" fill=\"#000000\" fill-rule=\"evenodd\" fill-opacity=\"1\" /><path clip-path=\"url(#clip860)\" d=\"M989.569 65.7705 L989.569 89.8329 L982.074 89.8329 L982.074 27.2059 L989.569 27.2059 L989.569 34.0924 Q991.918 30.0415 995.483 28.0971 Q999.088 26.1121 1004.07 26.1121 Q1012.33 26.1121 1017.48 32.6746 Q1022.66 39.2371 1022.66 49.9314 Q1022.66 60.6258 1017.48 67.1883 Q1012.33 73.7508 1004.07 73.7508 Q999.088 73.7508 995.483 71.8063 Q991.918 69.8214 989.569 65.7705 M1014.93 49.9314 Q1014.93 41.7081 1011.52 37.0496 Q1008.16 32.3505 1002.25 32.3505 Q996.334 32.3505 992.931 37.0496 Q989.569 41.7081 989.569 49.9314 Q989.569 58.1548 992.931 62.8538 Q996.334 67.5124 1002.25 67.5124 Q1008.16 67.5124 1011.52 62.8538 Q1014.93 58.1548 1014.93 49.9314 Z\" fill=\"#000000\" fill-rule=\"evenodd\" fill-opacity=\"1\" /><path clip-path=\"url(#clip860)\" d=\"M1055.64 49.7694 Q1046.61 49.7694 1043.12 51.8354 Q1039.64 53.9013 1039.64 58.8839 Q1039.64 62.8538 1042.23 65.2034 Q1044.86 67.5124 1049.36 67.5124 Q1055.56 67.5124 1059.28 63.1374 Q1063.05 58.7219 1063.05 51.4303 L1063.05 49.7694 L1055.64 49.7694 M1070.51 46.6907 L1070.51 72.576 L1063.05 72.576 L1063.05 65.6895 Q1060.5 69.8214 1056.69 71.8063 Q1052.88 73.7508 1047.38 73.7508 Q1040.41 73.7508 1036.28 69.8619 Q1032.18 65.9325 1032.18 59.3701 Q1032.18 51.7138 1037.29 47.825 Q1042.43 43.9361 1052.6 43.9361 L1063.05 43.9361 L1063.05 43.2069 Q1063.05 38.0623 1059.65 35.2672 Q1056.29 32.4315 1050.17 32.4315 Q1046.28 32.4315 1042.59 33.3632 Q1038.91 34.295 1035.51 36.1584 L1035.51 29.2718 Q1039.6 27.692 1043.45 26.9223 Q1047.29 26.1121 1050.94 26.1121 Q1060.78 26.1121 1065.64 31.2163 Q1070.51 36.3204 1070.51 46.6907 Z\" fill=\"#000000\" fill-rule=\"evenodd\" fill-opacity=\"1\" /><path clip-path=\"url(#clip860)\" d=\"M1112.15 34.1734 Q1110.89 33.4443 1109.39 33.1202 Q1107.94 32.7556 1106.15 32.7556 Q1099.83 32.7556 1096.43 36.8875 Q1093.07 40.9789 1093.07 48.6757 L1093.07 72.576 L1085.58 72.576 L1085.58 27.2059 L1093.07 27.2059 L1093.07 34.2544 Q1095.42 30.1225 1099.19 28.1376 Q1102.95 26.1121 1108.34 26.1121 Q1109.11 26.1121 1110.04 26.2337 Q1110.97 26.3147 1112.11 26.5172 L1112.15 34.1734 Z\" fill=\"#000000\" fill-rule=\"evenodd\" fill-opacity=\"1\" /><path clip-path=\"url(#clip860)\" d=\"M1140.59 49.7694 Q1131.55 49.7694 1128.07 51.8354 Q1124.59 53.9013 1124.59 58.8839 Q1124.59 62.8538 1127.18 65.2034 Q1129.81 67.5124 1134.31 67.5124 Q1140.51 67.5124 1144.23 63.1374 Q1148 58.7219 1148 51.4303 L1148 49.7694 L1140.59 49.7694 M1155.45 46.6907 L1155.45 72.576 L1148 72.576 L1148 65.6895 Q1145.45 69.8214 1141.64 71.8063 Q1137.83 73.7508 1132.32 73.7508 Q1125.35 73.7508 1121.22 69.8619 Q1117.13 65.9325 1117.13 59.3701 Q1117.13 51.7138 1122.24 47.825 Q1127.38 43.9361 1137.55 43.9361 L1148 43.9361 L1148 43.2069 Q1148 38.0623 1144.6 35.2672 Q1141.23 32.4315 1135.12 32.4315 Q1131.23 32.4315 1127.54 33.3632 Q1123.86 34.295 1120.45 36.1584 L1120.45 29.2718 Q1124.54 27.692 1128.39 26.9223 Q1132.24 26.1121 1135.89 26.1121 Q1145.73 26.1121 1150.59 31.2163 Q1155.45 36.3204 1155.45 46.6907 Z\" fill=\"#000000\" fill-rule=\"evenodd\" fill-opacity=\"1\" /><path clip-path=\"url(#clip860)\" d=\"M1203.46 28.9478 L1203.46 35.9153 Q1200.3 34.1734 1197.1 33.3227 Q1193.94 32.4315 1190.7 32.4315 Q1183.44 32.4315 1179.43 37.0496 Q1175.42 41.6271 1175.42 49.9314 Q1175.42 58.2358 1179.43 62.8538 Q1183.44 67.4314 1190.7 67.4314 Q1193.94 67.4314 1197.1 66.5807 Q1200.3 65.6895 1203.46 63.9476 L1203.46 70.8341 Q1200.34 72.2924 1196.97 73.0216 Q1193.65 73.7508 1189.89 73.7508 Q1179.64 73.7508 1173.6 67.3098 Q1167.57 60.8689 1167.57 49.9314 Q1167.57 38.832 1173.64 32.472 Q1179.76 26.1121 1190.37 26.1121 Q1193.82 26.1121 1197.1 26.8413 Q1200.38 27.5299 1203.46 28.9478 Z\" fill=\"#000000\" fill-rule=\"evenodd\" fill-opacity=\"1\" /><path clip-path=\"url(#clip860)\" d=\"M1216.42 27.2059 L1223.87 27.2059 L1223.87 72.576 L1216.42 72.576 L1216.42 27.2059 M1216.42 9.54393 L1223.87 9.54393 L1223.87 18.9825 L1216.42 18.9825 L1216.42 9.54393 Z\" fill=\"#000000\" fill-rule=\"evenodd\" fill-opacity=\"1\" /><path clip-path=\"url(#clip860)\" d=\"M1257.05 32.4315 Q1251.05 32.4315 1247.57 37.1306 Q1244.09 41.7891 1244.09 49.9314 Q1244.09 58.0738 1247.53 62.7728 Q1251.01 67.4314 1257.05 67.4314 Q1263 67.4314 1266.49 62.7323 Q1269.97 58.0333 1269.97 49.9314 Q1269.97 41.8701 1266.49 37.1711 Q1263 32.4315 1257.05 32.4315 M1257.05 26.1121 Q1266.77 26.1121 1272.32 32.4315 Q1277.87 38.7509 1277.87 49.9314 Q1277.87 61.0714 1272.32 67.4314 Q1266.77 73.7508 1257.05 73.7508 Q1247.29 73.7508 1241.74 67.4314 Q1236.23 61.0714 1236.23 49.9314 Q1236.23 38.7509 1241.74 32.4315 Q1247.29 26.1121 1257.05 26.1121 M1262.68 6.22219 L1270.74 6.22219 L1257.54 21.4536 L1251.34 21.4536 L1262.68 6.22219 Z\" fill=\"#000000\" fill-rule=\"evenodd\" fill-opacity=\"1\" /><path clip-path=\"url(#clip860)\" d=\"M1327.94 45.1919 L1327.94 72.576 L1320.49 72.576 L1320.49 45.4349 Q1320.49 38.994 1317.98 35.7938 Q1315.46 32.5936 1310.44 32.5936 Q1304.4 32.5936 1300.92 36.4419 Q1297.44 40.2903 1297.44 46.9338 L1297.44 72.576 L1289.94 72.576 L1289.94 27.2059 L1297.44 27.2059 L1297.44 34.2544 Q1300.11 30.163 1303.72 28.1376 Q1307.36 26.1121 1312.1 26.1121 Q1319.92 26.1121 1323.93 30.9732 Q1327.94 35.7938 1327.94 45.1919 Z\" fill=\"#000000\" fill-rule=\"evenodd\" fill-opacity=\"1\" /><path clip-path=\"url(#clip860)\" d=\"M1399.03 34.0924 L1399.03 9.54393 L1406.49 9.54393 L1406.49 72.576 L1399.03 72.576 L1399.03 65.7705 Q1396.68 69.8214 1393.08 71.8063 Q1389.51 73.7508 1384.49 73.7508 Q1376.27 73.7508 1371.08 67.1883 Q1365.94 60.6258 1365.94 49.9314 Q1365.94 39.2371 1371.08 32.6746 Q1376.27 26.1121 1384.49 26.1121 Q1389.51 26.1121 1393.08 28.0971 Q1396.68 30.0415 1399.03 34.0924 M1373.63 49.9314 Q1373.63 58.1548 1377 62.8538 Q1380.4 67.5124 1386.31 67.5124 Q1392.23 67.5124 1395.63 62.8538 Q1399.03 58.1548 1399.03 49.9314 Q1399.03 41.7081 1395.63 37.0496 Q1392.23 32.3505 1386.31 32.3505 Q1380.4 32.3505 1377 37.0496 Q1373.63 41.7081 1373.63 49.9314 Z\" fill=\"#000000\" fill-rule=\"evenodd\" fill-opacity=\"1\" /><path clip-path=\"url(#clip860)\" d=\"M1460.65 48.0275 L1460.65 51.6733 L1426.38 51.6733 Q1426.86 59.3701 1431 63.421 Q1435.17 67.4314 1442.58 67.4314 Q1446.88 67.4314 1450.89 66.3781 Q1454.94 65.3249 1458.91 63.2184 L1458.91 70.267 Q1454.9 71.9684 1450.68 72.8596 Q1446.47 73.7508 1442.14 73.7508 Q1431.28 73.7508 1424.92 67.4314 Q1418.6 61.1119 1418.6 50.3365 Q1418.6 39.1965 1424.6 32.6746 Q1430.63 26.1121 1440.84 26.1121 Q1449.99 26.1121 1455.3 32.0264 Q1460.65 37.9003 1460.65 48.0275 M1453.19 45.84 Q1453.11 39.7232 1449.75 36.0774 Q1446.43 32.4315 1440.92 32.4315 Q1434.68 32.4315 1430.91 35.9558 Q1427.19 39.4801 1426.62 45.8805 L1453.19 45.84 Z\" fill=\"#000000\" fill-rule=\"evenodd\" fill-opacity=\"1\" /><path clip-path=\"url(#clip860)\" d=\"M1499.58 12.096 L1511.77 12.096 L1527.2 53.2532 L1542.72 12.096 L1554.91 12.096 L1554.91 72.576 L1546.93 72.576 L1546.93 19.4686 L1531.34 60.9499 L1523.11 60.9499 L1507.52 19.4686 L1507.52 72.576 L1499.58 72.576 L1499.58 12.096 Z\" fill=\"#000000\" fill-rule=\"evenodd\" fill-opacity=\"1\" /><path clip-path=\"url(#clip860)\" d=\"M1609.64 48.0275 L1609.64 51.6733 L1575.37 51.6733 Q1575.86 59.3701 1579.99 63.421 Q1584.16 67.4314 1591.57 67.4314 Q1595.87 67.4314 1599.88 66.3781 Q1603.93 65.3249 1607.9 63.2184 L1607.9 70.267 Q1603.89 71.9684 1599.68 72.8596 Q1595.46 73.7508 1591.13 73.7508 Q1580.27 73.7508 1573.91 67.4314 Q1567.59 61.1119 1567.59 50.3365 Q1567.59 39.1965 1573.59 32.6746 Q1579.62 26.1121 1589.83 26.1121 Q1598.99 26.1121 1604.29 32.0264 Q1609.64 37.9003 1609.64 48.0275 M1602.19 45.84 Q1602.11 39.7232 1598.74 36.0774 Q1595.42 32.4315 1589.91 32.4315 Q1583.67 32.4315 1579.91 35.9558 Q1576.18 39.4801 1575.61 45.8805 L1602.19 45.84 M1595.02 6.22219 L1603.08 6.22219 L1589.87 21.4536 L1583.67 21.4536 L1595.02 6.22219 Z\" fill=\"#000000\" fill-rule=\"evenodd\" fill-opacity=\"1\" /><path clip-path=\"url(#clip860)\" d=\"M1629.25 14.324 L1629.25 27.2059 L1644.6 27.2059 L1644.6 32.9987 L1629.25 32.9987 L1629.25 57.6282 Q1629.25 63.1779 1630.75 64.7578 Q1632.29 66.3376 1636.94 66.3376 L1644.6 66.3376 L1644.6 72.576 L1636.94 72.576 Q1628.32 72.576 1625.03 69.3758 Q1621.75 66.1351 1621.75 57.6282 L1621.75 32.9987 L1616.28 32.9987 L1616.28 27.2059 L1621.75 27.2059 L1621.75 14.324 L1629.25 14.324 Z\" fill=\"#000000\" fill-rule=\"evenodd\" fill-opacity=\"1\" /><path clip-path=\"url(#clip860)\" d=\"M1671.98 32.4315 Q1665.99 32.4315 1662.5 37.1306 Q1659.02 41.7891 1659.02 49.9314 Q1659.02 58.0738 1662.46 62.7728 Q1665.95 67.4314 1671.98 67.4314 Q1677.94 67.4314 1681.42 62.7323 Q1684.91 58.0333 1684.91 49.9314 Q1684.91 41.8701 1681.42 37.1711 Q1677.94 32.4315 1671.98 32.4315 M1671.98 26.1121 Q1681.71 26.1121 1687.26 32.4315 Q1692.81 38.7509 1692.81 49.9314 Q1692.81 61.0714 1687.26 67.4314 Q1681.71 73.7508 1671.98 73.7508 Q1662.22 73.7508 1656.67 67.4314 Q1651.16 61.0714 1651.16 49.9314 Q1651.16 38.7509 1656.67 32.4315 Q1662.22 26.1121 1671.98 26.1121 Z\" fill=\"#000000\" fill-rule=\"evenodd\" fill-opacity=\"1\" /><path clip-path=\"url(#clip860)\" d=\"M1735.02 34.0924 L1735.02 9.54393 L1742.47 9.54393 L1742.47 72.576 L1735.02 72.576 L1735.02 65.7705 Q1732.67 69.8214 1729.06 71.8063 Q1725.5 73.7508 1720.47 73.7508 Q1712.25 73.7508 1707.06 67.1883 Q1701.92 60.6258 1701.92 49.9314 Q1701.92 39.2371 1707.06 32.6746 Q1712.25 26.1121 1720.47 26.1121 Q1725.5 26.1121 1729.06 28.0971 Q1732.67 30.0415 1735.02 34.0924 M1709.62 49.9314 Q1709.62 58.1548 1712.98 62.8538 Q1716.38 67.5124 1722.3 67.5124 Q1728.21 67.5124 1731.61 62.8538 Q1735.02 58.1548 1735.02 49.9314 Q1735.02 41.7081 1731.61 37.0496 Q1728.21 32.3505 1722.3 32.3505 Q1716.38 32.3505 1712.98 37.0496 Q1709.62 41.7081 1709.62 49.9314 Z\" fill=\"#000000\" fill-rule=\"evenodd\" fill-opacity=\"1\" /><path clip-path=\"url(#clip860)\" d=\"M1775.4 32.4315 Q1769.41 32.4315 1765.92 37.1306 Q1762.44 41.7891 1762.44 49.9314 Q1762.44 58.0738 1765.88 62.7728 Q1769.37 67.4314 1775.4 67.4314 Q1781.36 67.4314 1784.84 62.7323 Q1788.33 58.0333 1788.33 49.9314 Q1788.33 41.8701 1784.84 37.1711 Q1781.36 32.4315 1775.4 32.4315 M1775.4 26.1121 Q1785.13 26.1121 1790.68 32.4315 Q1796.23 38.7509 1796.23 49.9314 Q1796.23 61.0714 1790.68 67.4314 Q1785.13 73.7508 1775.4 73.7508 Q1765.64 73.7508 1760.09 67.4314 Q1754.58 61.0714 1754.58 49.9314 Q1754.58 38.7509 1760.09 32.4315 Q1765.64 26.1121 1775.4 26.1121 Z\" fill=\"#000000\" fill-rule=\"evenodd\" fill-opacity=\"1\" /><path clip-path=\"url(#clip860)\" d=\"M1837.5 28.5427 L1837.5 35.5912 Q1834.34 33.9709 1830.94 33.1607 Q1827.54 32.3505 1823.89 32.3505 Q1818.34 32.3505 1815.55 34.0519 Q1812.79 35.7533 1812.79 39.156 Q1812.79 41.7486 1814.78 43.2475 Q1816.76 44.7058 1822.76 46.0426 L1825.31 46.6097 Q1833.25 48.3111 1836.57 51.4303 Q1839.93 54.509 1839.93 60.0587 Q1839.93 66.3781 1834.91 70.0644 Q1829.93 73.7508 1821.18 73.7508 Q1817.53 73.7508 1813.56 73.0216 Q1809.63 72.3329 1805.26 70.9151 L1805.26 63.2184 Q1809.39 65.3654 1813.4 66.4591 Q1817.41 67.5124 1821.34 67.5124 Q1826.61 67.5124 1829.44 65.73 Q1832.28 63.9071 1832.28 60.6258 Q1832.28 57.5877 1830.21 55.9673 Q1828.19 54.3469 1821.26 52.8481 L1818.67 52.2405 Q1811.74 50.7821 1808.66 47.7845 Q1805.58 44.7463 1805.58 39.4801 Q1805.58 33.0797 1810.12 29.5959 Q1814.66 26.1121 1823 26.1121 Q1827.13 26.1121 1830.78 26.7198 Q1834.43 27.3274 1837.5 28.5427 Z\" fill=\"#000000\" fill-rule=\"evenodd\" fill-opacity=\"1\" /><circle clip-path=\"url(#clip862)\" cx=\"335.627\" cy=\"186.577\" r=\"14.4\" fill=\"#009af9\" fill-rule=\"evenodd\" fill-opacity=\"1\" stroke=\"#000000\" stroke-opacity=\"1\" stroke-width=\"3.2\"/>\n",
       "<circle clip-path=\"url(#clip862)\" cx=\"513.661\" cy=\"217.483\" r=\"14.4\" fill=\"#009af9\" fill-rule=\"evenodd\" fill-opacity=\"1\" stroke=\"#000000\" stroke-opacity=\"1\" stroke-width=\"3.2\"/>\n",
       "<circle clip-path=\"url(#clip862)\" cx=\"691.696\" cy=\"256.536\" r=\"14.4\" fill=\"#009af9\" fill-rule=\"evenodd\" fill-opacity=\"1\" stroke=\"#000000\" stroke-opacity=\"1\" stroke-width=\"3.2\"/>\n",
       "<circle clip-path=\"url(#clip862)\" cx=\"869.73\" cy=\"301.532\" r=\"14.4\" fill=\"#009af9\" fill-rule=\"evenodd\" fill-opacity=\"1\" stroke=\"#000000\" stroke-opacity=\"1\" stroke-width=\"3.2\"/>\n",
       "<circle clip-path=\"url(#clip862)\" cx=\"1047.76\" cy=\"350.242\" r=\"14.4\" fill=\"#009af9\" fill-rule=\"evenodd\" fill-opacity=\"1\" stroke=\"#000000\" stroke-opacity=\"1\" stroke-width=\"3.2\"/>\n",
       "<circle clip-path=\"url(#clip862)\" cx=\"1225.8\" cy=\"401.05\" r=\"14.4\" fill=\"#009af9\" fill-rule=\"evenodd\" fill-opacity=\"1\" stroke=\"#000000\" stroke-opacity=\"1\" stroke-width=\"3.2\"/>\n",
       "<circle clip-path=\"url(#clip862)\" cx=\"1403.83\" cy=\"452.978\" r=\"14.4\" fill=\"#009af9\" fill-rule=\"evenodd\" fill-opacity=\"1\" stroke=\"#000000\" stroke-opacity=\"1\" stroke-width=\"3.2\"/>\n",
       "<circle clip-path=\"url(#clip862)\" cx=\"1581.87\" cy=\"505.485\" r=\"14.4\" fill=\"#009af9\" fill-rule=\"evenodd\" fill-opacity=\"1\" stroke=\"#000000\" stroke-opacity=\"1\" stroke-width=\"3.2\"/>\n",
       "<circle clip-path=\"url(#clip862)\" cx=\"1759.9\" cy=\"558.285\" r=\"14.4\" fill=\"#009af9\" fill-rule=\"evenodd\" fill-opacity=\"1\" stroke=\"#000000\" stroke-opacity=\"1\" stroke-width=\"3.2\"/>\n",
       "<circle clip-path=\"url(#clip862)\" cx=\"1937.94\" cy=\"611.234\" r=\"14.4\" fill=\"#009af9\" fill-rule=\"evenodd\" fill-opacity=\"1\" stroke=\"#000000\" stroke-opacity=\"1\" stroke-width=\"3.2\"/>\n",
       "<circle clip-path=\"url(#clip862)\" cx=\"2115.97\" cy=\"664.258\" r=\"14.4\" fill=\"#009af9\" fill-rule=\"evenodd\" fill-opacity=\"1\" stroke=\"#000000\" stroke-opacity=\"1\" stroke-width=\"3.2\"/>\n",
       "<circle clip-path=\"url(#clip862)\" cx=\"2294\" cy=\"717.319\" r=\"14.4\" fill=\"#009af9\" fill-rule=\"evenodd\" fill-opacity=\"1\" stroke=\"#000000\" stroke-opacity=\"1\" stroke-width=\"3.2\"/>\n",
       "<circle clip-path=\"url(#clip862)\" cx=\"335.627\" cy=\"159.909\" r=\"14.4\" fill=\"#e26f46\" fill-rule=\"evenodd\" fill-opacity=\"1\" stroke=\"#000000\" stroke-opacity=\"1\" stroke-width=\"3.2\"/>\n",
       "<circle clip-path=\"url(#clip862)\" cx=\"513.661\" cy=\"212.888\" r=\"14.4\" fill=\"#e26f46\" fill-rule=\"evenodd\" fill-opacity=\"1\" stroke=\"#000000\" stroke-opacity=\"1\" stroke-width=\"3.2\"/>\n",
       "<circle clip-path=\"url(#clip862)\" cx=\"691.696\" cy=\"265.956\" r=\"14.4\" fill=\"#e26f46\" fill-rule=\"evenodd\" fill-opacity=\"1\" stroke=\"#000000\" stroke-opacity=\"1\" stroke-width=\"3.2\"/>\n",
       "<circle clip-path=\"url(#clip862)\" cx=\"869.73\" cy=\"319.047\" r=\"14.4\" fill=\"#e26f46\" fill-rule=\"evenodd\" fill-opacity=\"1\" stroke=\"#000000\" stroke-opacity=\"1\" stroke-width=\"3.2\"/>\n",
       "<circle clip-path=\"url(#clip862)\" cx=\"1047.76\" cy=\"372.143\" r=\"14.4\" fill=\"#e26f46\" fill-rule=\"evenodd\" fill-opacity=\"1\" stroke=\"#000000\" stroke-opacity=\"1\" stroke-width=\"3.2\"/>\n",
       "<circle clip-path=\"url(#clip862)\" cx=\"1225.8\" cy=\"425.241\" r=\"14.4\" fill=\"#e26f46\" fill-rule=\"evenodd\" fill-opacity=\"1\" stroke=\"#000000\" stroke-opacity=\"1\" stroke-width=\"3.2\"/>\n",
       "<circle clip-path=\"url(#clip862)\" cx=\"1403.83\" cy=\"478.339\" r=\"14.4\" fill=\"#e26f46\" fill-rule=\"evenodd\" fill-opacity=\"1\" stroke=\"#000000\" stroke-opacity=\"1\" stroke-width=\"3.2\"/>\n",
       "<circle clip-path=\"url(#clip862)\" cx=\"1581.87\" cy=\"531.437\" r=\"14.4\" fill=\"#e26f46\" fill-rule=\"evenodd\" fill-opacity=\"1\" stroke=\"#000000\" stroke-opacity=\"1\" stroke-width=\"3.2\"/>\n",
       "<circle clip-path=\"url(#clip862)\" cx=\"1759.9\" cy=\"584.536\" r=\"14.4\" fill=\"#e26f46\" fill-rule=\"evenodd\" fill-opacity=\"1\" stroke=\"#000000\" stroke-opacity=\"1\" stroke-width=\"3.2\"/>\n",
       "<circle clip-path=\"url(#clip862)\" cx=\"1937.94\" cy=\"637.634\" r=\"14.4\" fill=\"#e26f46\" fill-rule=\"evenodd\" fill-opacity=\"1\" stroke=\"#000000\" stroke-opacity=\"1\" stroke-width=\"3.2\"/>\n",
       "<circle clip-path=\"url(#clip862)\" cx=\"2115.97\" cy=\"690.732\" r=\"14.4\" fill=\"#e26f46\" fill-rule=\"evenodd\" fill-opacity=\"1\" stroke=\"#000000\" stroke-opacity=\"1\" stroke-width=\"3.2\"/>\n",
       "<circle clip-path=\"url(#clip862)\" cx=\"2294\" cy=\"743.83\" r=\"14.4\" fill=\"#e26f46\" fill-rule=\"evenodd\" fill-opacity=\"1\" stroke=\"#000000\" stroke-opacity=\"1\" stroke-width=\"3.2\"/>\n",
       "<circle clip-path=\"url(#clip862)\" cx=\"335.627\" cy=\"317.7\" r=\"14.4\" fill=\"#3da44d\" fill-rule=\"evenodd\" fill-opacity=\"1\" stroke=\"#000000\" stroke-opacity=\"1\" stroke-width=\"3.2\"/>\n",
       "<circle clip-path=\"url(#clip862)\" cx=\"513.661\" cy=\"423.053\" r=\"14.4\" fill=\"#3da44d\" fill-rule=\"evenodd\" fill-opacity=\"1\" stroke=\"#000000\" stroke-opacity=\"1\" stroke-width=\"3.2\"/>\n",
       "<circle clip-path=\"url(#clip862)\" cx=\"691.696\" cy=\"529.037\" r=\"14.4\" fill=\"#3da44d\" fill-rule=\"evenodd\" fill-opacity=\"1\" stroke=\"#000000\" stroke-opacity=\"1\" stroke-width=\"3.2\"/>\n",
       "<circle clip-path=\"url(#clip862)\" cx=\"869.73\" cy=\"635.18\" r=\"14.4\" fill=\"#3da44d\" fill-rule=\"evenodd\" fill-opacity=\"1\" stroke=\"#000000\" stroke-opacity=\"1\" stroke-width=\"3.2\"/>\n",
       "<circle clip-path=\"url(#clip862)\" cx=\"1047.76\" cy=\"741.363\" r=\"14.4\" fill=\"#3da44d\" fill-rule=\"evenodd\" fill-opacity=\"1\" stroke=\"#000000\" stroke-opacity=\"1\" stroke-width=\"3.2\"/>\n",
       "<circle clip-path=\"url(#clip862)\" cx=\"1225.8\" cy=\"847.556\" r=\"14.4\" fill=\"#3da44d\" fill-rule=\"evenodd\" fill-opacity=\"1\" stroke=\"#000000\" stroke-opacity=\"1\" stroke-width=\"3.2\"/>\n",
       "<circle clip-path=\"url(#clip862)\" cx=\"1403.83\" cy=\"953.751\" r=\"14.4\" fill=\"#3da44d\" fill-rule=\"evenodd\" fill-opacity=\"1\" stroke=\"#000000\" stroke-opacity=\"1\" stroke-width=\"3.2\"/>\n",
       "<circle clip-path=\"url(#clip862)\" cx=\"1581.87\" cy=\"1059.94\" r=\"14.4\" fill=\"#3da44d\" fill-rule=\"evenodd\" fill-opacity=\"1\" stroke=\"#000000\" stroke-opacity=\"1\" stroke-width=\"3.2\"/>\n",
       "<circle clip-path=\"url(#clip862)\" cx=\"1759.9\" cy=\"1165.84\" r=\"14.4\" fill=\"#3da44d\" fill-rule=\"evenodd\" fill-opacity=\"1\" stroke=\"#000000\" stroke-opacity=\"1\" stroke-width=\"3.2\"/>\n",
       "<circle clip-path=\"url(#clip862)\" cx=\"1937.94\" cy=\"1274.77\" r=\"14.4\" fill=\"#3da44d\" fill-rule=\"evenodd\" fill-opacity=\"1\" stroke=\"#000000\" stroke-opacity=\"1\" stroke-width=\"3.2\"/>\n",
       "<circle clip-path=\"url(#clip862)\" cx=\"2115.97\" cy=\"1374.46\" r=\"14.4\" fill=\"#3da44d\" fill-rule=\"evenodd\" fill-opacity=\"1\" stroke=\"#000000\" stroke-opacity=\"1\" stroke-width=\"3.2\"/>\n",
       "<circle clip-path=\"url(#clip862)\" cx=\"2294\" cy=\"1332.38\" r=\"14.4\" fill=\"#3da44d\" fill-rule=\"evenodd\" fill-opacity=\"1\" stroke=\"#000000\" stroke-opacity=\"1\" stroke-width=\"3.2\"/>\n",
       "<path clip-path=\"url(#clip860)\" d=\"M1790.37 373.746 L2283.56 373.746 L2283.56 166.386 L1790.37 166.386  Z\" fill=\"#ffffff\" fill-rule=\"evenodd\" fill-opacity=\"1\"/>\n",
       "<polyline clip-path=\"url(#clip860)\" style=\"stroke:#000000; stroke-linecap:round; stroke-linejoin:round; stroke-width:4; stroke-opacity:1; fill:none\" points=\"1790.37,373.746 2283.56,373.746 2283.56,166.386 1790.37,166.386 1790.37,373.746 \"/>\n",
       "<circle clip-path=\"url(#clip860)\" cx=\"1882.63\" cy=\"218.226\" r=\"23.04\" fill=\"#009af9\" fill-rule=\"evenodd\" fill-opacity=\"1\" stroke=\"#000000\" stroke-opacity=\"1\" stroke-width=\"5.12\"/>\n",
       "<path clip-path=\"url(#clip860)\" d=\"M1979.57 204.789 L1979.57 217.775 L1985.45 217.775 Q1988.71 217.775 1990.5 216.085 Q1992.28 214.395 1992.28 211.27 Q1992.28 208.168 1990.5 206.479 Q1988.71 204.789 1985.45 204.789 L1979.57 204.789 M1974.89 200.946 L1985.45 200.946 Q1991.26 200.946 1994.22 203.585 Q1997.21 206.201 1997.21 211.27 Q1997.21 216.386 1994.22 219.002 Q1991.26 221.617 1985.45 221.617 L1979.57 221.617 L1979.57 235.506 L1974.89 235.506 L1974.89 200.946 Z\" fill=\"#000000\" fill-rule=\"evenodd\" fill-opacity=\"1\" /><path clip-path=\"url(#clip860)\" d=\"M2002.02 225.275 L2002.02 209.58 L2006.28 209.58 L2006.28 225.113 Q2006.28 228.793 2007.72 230.645 Q2009.15 232.474 2012.02 232.474 Q2015.47 232.474 2017.46 230.275 Q2019.48 228.076 2019.48 224.279 L2019.48 209.58 L2023.74 209.58 L2023.74 235.506 L2019.48 235.506 L2019.48 231.525 Q2017.93 233.886 2015.87 235.043 Q2013.83 236.178 2011.12 236.178 Q2006.65 236.178 2004.34 233.4 Q2002.02 230.622 2002.02 225.275 M2012.74 208.955 L2012.74 208.955 Z\" fill=\"#000000\" fill-rule=\"evenodd\" fill-opacity=\"1\" /><path clip-path=\"url(#clip860)\" d=\"M2054.06 219.858 L2054.06 235.506 L2049.8 235.506 L2049.8 219.997 Q2049.8 216.317 2048.37 214.488 Q2046.93 212.659 2044.06 212.659 Q2040.61 212.659 2038.62 214.858 Q2036.63 217.057 2036.63 220.854 L2036.63 235.506 L2032.35 235.506 L2032.35 209.58 L2036.63 209.58 L2036.63 213.608 Q2038.16 211.27 2040.22 210.113 Q2042.3 208.955 2045.01 208.955 Q2049.48 208.955 2051.77 211.733 Q2054.06 214.488 2054.06 219.858 Z\" fill=\"#000000\" fill-rule=\"evenodd\" fill-opacity=\"1\" /><path clip-path=\"url(#clip860)\" d=\"M2066.77 202.219 L2066.77 209.58 L2075.54 209.58 L2075.54 212.891 L2066.77 212.891 L2066.77 226.965 Q2066.77 230.136 2067.63 231.039 Q2068.5 231.941 2071.17 231.941 L2075.54 231.941 L2075.54 235.506 L2071.17 235.506 Q2066.24 235.506 2064.36 233.678 Q2062.49 231.826 2062.49 226.965 L2062.49 212.891 L2059.36 212.891 L2059.36 209.58 L2062.49 209.58 L2062.49 202.219 L2066.77 202.219 Z\" fill=\"#000000\" fill-rule=\"evenodd\" fill-opacity=\"1\" /><path clip-path=\"url(#clip860)\" d=\"M2091.19 212.567 Q2087.76 212.567 2085.77 215.252 Q2083.78 217.914 2083.78 222.567 Q2083.78 227.219 2085.75 229.904 Q2087.74 232.566 2091.19 232.566 Q2094.59 232.566 2096.58 229.881 Q2098.57 227.196 2098.57 222.567 Q2098.57 217.96 2096.58 215.275 Q2094.59 212.567 2091.19 212.567 M2091.19 208.955 Q2096.75 208.955 2099.92 212.567 Q2103.09 216.178 2103.09 222.567 Q2103.09 228.932 2099.92 232.566 Q2096.75 236.178 2091.19 236.178 Q2085.61 236.178 2082.44 232.566 Q2079.29 228.932 2079.29 222.567 Q2079.29 216.178 2082.44 212.567 Q2085.61 208.955 2091.19 208.955 Z\" fill=\"#000000\" fill-rule=\"evenodd\" fill-opacity=\"1\" /><path clip-path=\"url(#clip860)\" d=\"M2125.4 200.946 L2132.37 200.946 L2141.19 224.465 L2150.06 200.946 L2157.02 200.946 L2157.02 235.506 L2152.46 235.506 L2152.46 205.159 L2143.55 228.863 L2138.85 228.863 L2129.94 205.159 L2129.94 235.506 L2125.4 235.506 L2125.4 200.946 Z\" fill=\"#000000\" fill-rule=\"evenodd\" fill-opacity=\"1\" /><path clip-path=\"url(#clip860)\" d=\"M2188.3 221.479 L2188.3 223.562 L2168.71 223.562 Q2168.99 227.96 2171.35 230.275 Q2173.74 232.566 2177.97 232.566 Q2180.43 232.566 2182.72 231.965 Q2185.03 231.363 2187.3 230.159 L2187.3 234.187 Q2185.01 235.159 2182.6 235.668 Q2180.19 236.178 2177.72 236.178 Q2171.51 236.178 2167.88 232.566 Q2164.27 228.955 2164.27 222.798 Q2164.27 216.432 2167.69 212.705 Q2171.14 208.955 2176.98 208.955 Q2182.21 208.955 2185.24 212.335 Q2188.3 215.692 2188.3 221.479 M2184.04 220.229 Q2183.99 216.733 2182.07 214.65 Q2180.17 212.567 2177.02 212.567 Q2173.46 212.567 2171.31 214.58 Q2169.18 216.594 2168.85 220.252 L2184.04 220.229 Z\" fill=\"#000000\" fill-rule=\"evenodd\" fill-opacity=\"1\" /><path clip-path=\"url(#clip860)\" d=\"M2212.35 213.516 L2212.35 199.488 L2216.61 199.488 L2216.61 235.506 L2212.35 235.506 L2212.35 231.617 Q2211 233.932 2208.94 235.066 Q2206.91 236.178 2204.04 236.178 Q2199.34 236.178 2196.37 232.428 Q2193.43 228.678 2193.43 222.567 Q2193.43 216.455 2196.37 212.705 Q2199.34 208.955 2204.04 208.955 Q2206.91 208.955 2208.94 210.09 Q2211 211.201 2212.35 213.516 M2197.83 222.567 Q2197.83 227.266 2199.75 229.951 Q2201.7 232.613 2205.08 232.613 Q2208.46 232.613 2210.4 229.951 Q2212.35 227.266 2212.35 222.567 Q2212.35 217.867 2210.4 215.205 Q2208.46 212.52 2205.08 212.52 Q2201.7 212.52 2199.75 215.205 Q2197.83 217.867 2197.83 222.567 Z\" fill=\"#000000\" fill-rule=\"evenodd\" fill-opacity=\"1\" /><path clip-path=\"url(#clip860)\" d=\"M2225.38 209.58 L2229.64 209.58 L2229.64 235.506 L2225.38 235.506 L2225.38 209.58 M2225.38 199.488 L2229.64 199.488 L2229.64 204.881 L2225.38 204.881 L2225.38 199.488 Z\" fill=\"#000000\" fill-rule=\"evenodd\" fill-opacity=\"1\" /><path clip-path=\"url(#clip860)\" d=\"M2248.6 212.567 Q2245.17 212.567 2243.18 215.252 Q2241.19 217.914 2241.19 222.567 Q2241.19 227.219 2243.16 229.904 Q2245.15 232.566 2248.6 232.566 Q2252 232.566 2253.99 229.881 Q2255.98 227.196 2255.98 222.567 Q2255.98 217.96 2253.99 215.275 Q2252 212.567 2248.6 212.567 M2248.6 208.955 Q2254.15 208.955 2257.32 212.567 Q2260.49 216.178 2260.49 222.567 Q2260.49 228.932 2257.32 232.566 Q2254.15 236.178 2248.6 236.178 Q2243.02 236.178 2239.85 232.566 Q2236.7 228.932 2236.7 222.567 Q2236.7 216.178 2239.85 212.567 Q2243.02 208.955 2248.6 208.955 Z\" fill=\"#000000\" fill-rule=\"evenodd\" fill-opacity=\"1\" /><circle clip-path=\"url(#clip860)\" cx=\"1882.63\" cy=\"270.066\" r=\"23.04\" fill=\"#e26f46\" fill-rule=\"evenodd\" fill-opacity=\"1\" stroke=\"#000000\" stroke-opacity=\"1\" stroke-width=\"5.12\"/>\n",
       "<path clip-path=\"url(#clip860)\" d=\"M1974.89 252.786 L2004.13 252.786 L2004.13 256.721 L1991.86 256.721 L1991.86 287.346 L1987.16 287.346 L1987.16 256.721 L1974.89 256.721 L1974.89 252.786 Z\" fill=\"#000000\" fill-rule=\"evenodd\" fill-opacity=\"1\" /><path clip-path=\"url(#clip860)\" d=\"M2016.51 265.402 Q2015.8 264.985 2014.94 264.8 Q2014.11 264.592 2013.09 264.592 Q2009.48 264.592 2007.53 266.953 Q2005.61 269.291 2005.61 273.689 L2005.61 287.346 L2001.33 287.346 L2001.33 261.42 L2005.61 261.42 L2005.61 265.448 Q2006.95 263.087 2009.11 261.953 Q2011.26 260.795 2014.34 260.795 Q2014.78 260.795 2015.31 260.865 Q2015.84 260.911 2016.49 261.027 L2016.51 265.402 Z\" fill=\"#000000\" fill-rule=\"evenodd\" fill-opacity=\"1\" /><path clip-path=\"url(#clip860)\" d=\"M2032.76 274.314 Q2027.6 274.314 2025.61 275.494 Q2023.62 276.675 2023.62 279.522 Q2023.62 281.791 2025.1 283.133 Q2026.61 284.453 2029.18 284.453 Q2032.72 284.453 2034.85 281.953 Q2037 279.43 2037 275.263 L2037 274.314 L2032.76 274.314 M2041.26 272.555 L2041.26 287.346 L2037 287.346 L2037 283.411 Q2035.54 285.772 2033.37 286.906 Q2031.19 288.018 2028.04 288.018 Q2024.06 288.018 2021.7 285.795 Q2019.36 283.55 2019.36 279.8 Q2019.36 275.425 2022.28 273.203 Q2025.22 270.981 2031.03 270.981 L2037 270.981 L2037 270.564 Q2037 267.624 2035.06 266.027 Q2033.13 264.407 2029.64 264.407 Q2027.42 264.407 2025.31 264.939 Q2023.2 265.471 2021.26 266.536 L2021.26 262.601 Q2023.6 261.698 2025.8 261.258 Q2028 260.795 2030.08 260.795 Q2035.7 260.795 2038.48 263.712 Q2041.26 266.629 2041.26 272.555 Z\" fill=\"#000000\" fill-rule=\"evenodd\" fill-opacity=\"1\" /><path clip-path=\"url(#clip860)\" d=\"M2054.15 283.457 L2054.15 297.207 L2049.87 297.207 L2049.87 261.42 L2054.15 261.42 L2054.15 265.356 Q2055.5 263.041 2057.53 261.93 Q2059.59 260.795 2062.44 260.795 Q2067.16 260.795 2070.1 264.545 Q2073.07 268.295 2073.07 274.407 Q2073.07 280.518 2070.1 284.268 Q2067.16 288.018 2062.44 288.018 Q2059.59 288.018 2057.53 286.906 Q2055.5 285.772 2054.15 283.457 M2068.64 274.407 Q2068.64 269.707 2066.7 267.045 Q2064.78 264.36 2061.4 264.36 Q2058.02 264.36 2056.07 267.045 Q2054.15 269.707 2054.15 274.407 Q2054.15 279.106 2056.07 281.791 Q2058.02 284.453 2061.4 284.453 Q2064.78 284.453 2066.7 281.791 Q2068.64 279.106 2068.64 274.407 Z\" fill=\"#000000\" fill-rule=\"evenodd\" fill-opacity=\"1\" /><path clip-path=\"url(#clip860)\" d=\"M2102.3 273.319 L2102.3 275.402 L2082.72 275.402 Q2083 279.8 2085.36 282.115 Q2087.74 284.406 2091.98 284.406 Q2094.43 284.406 2096.72 283.805 Q2099.04 283.203 2101.31 281.999 L2101.31 286.027 Q2099.01 286.999 2096.61 287.508 Q2094.2 288.018 2091.72 288.018 Q2085.52 288.018 2081.88 284.406 Q2078.27 280.795 2078.27 274.638 Q2078.27 268.272 2081.7 264.545 Q2085.15 260.795 2090.98 260.795 Q2096.21 260.795 2099.25 264.175 Q2102.3 267.532 2102.3 273.319 M2098.04 272.069 Q2098 268.573 2096.07 266.49 Q2094.18 264.407 2091.03 264.407 Q2087.46 264.407 2085.31 266.42 Q2083.18 268.434 2082.86 272.092 L2098.04 272.069 Z\" fill=\"#000000\" fill-rule=\"evenodd\" fill-opacity=\"1\" /><path clip-path=\"url(#clip860)\" d=\"M2127.95 262.416 L2127.95 266.397 Q2126.14 265.402 2124.31 264.916 Q2122.51 264.407 2120.66 264.407 Q2116.51 264.407 2114.22 267.045 Q2111.93 269.661 2111.93 274.407 Q2111.93 279.152 2114.22 281.791 Q2116.51 284.406 2120.66 284.406 Q2122.51 284.406 2124.31 283.92 Q2126.14 283.411 2127.95 282.416 L2127.95 286.351 Q2126.17 287.184 2124.25 287.601 Q2122.35 288.018 2120.19 288.018 Q2114.34 288.018 2110.89 284.337 Q2107.44 280.656 2107.44 274.407 Q2107.44 268.064 2110.91 264.43 Q2114.41 260.795 2120.47 260.795 Q2122.44 260.795 2124.31 261.212 Q2126.19 261.606 2127.95 262.416 Z\" fill=\"#000000\" fill-rule=\"evenodd\" fill-opacity=\"1\" /><path clip-path=\"url(#clip860)\" d=\"M2135.36 261.42 L2139.62 261.42 L2139.62 287.346 L2135.36 287.346 L2135.36 261.42 M2135.36 251.328 L2139.62 251.328 L2139.62 256.721 L2135.36 256.721 L2135.36 251.328 Z\" fill=\"#000000\" fill-rule=\"evenodd\" fill-opacity=\"1\" /><path clip-path=\"url(#clip860)\" d=\"M2158.57 264.407 Q2155.15 264.407 2153.16 267.092 Q2151.17 269.754 2151.17 274.407 Q2151.17 279.059 2153.13 281.744 Q2155.12 284.406 2158.57 284.406 Q2161.98 284.406 2163.97 281.721 Q2165.96 279.036 2165.96 274.407 Q2165.96 269.8 2163.97 267.115 Q2161.98 264.407 2158.57 264.407 M2158.57 260.795 Q2164.13 260.795 2167.3 264.407 Q2170.47 268.018 2170.47 274.407 Q2170.47 280.772 2167.3 284.406 Q2164.13 288.018 2158.57 288.018 Q2153 288.018 2149.82 284.406 Q2146.68 280.772 2146.68 274.407 Q2146.68 268.018 2149.82 264.407 Q2153 260.795 2158.57 260.795 Z\" fill=\"#000000\" fill-rule=\"evenodd\" fill-opacity=\"1\" /><circle clip-path=\"url(#clip860)\" cx=\"1882.63\" cy=\"321.906\" r=\"23.04\" fill=\"#3da44d\" fill-rule=\"evenodd\" fill-opacity=\"1\" stroke=\"#000000\" stroke-opacity=\"1\" stroke-width=\"5.12\"/>\n",
       "<path clip-path=\"url(#clip860)\" d=\"M1997.14 305.761 L1997.14 310.321 Q1994.48 309.048 1992.12 308.423 Q1989.76 307.798 1987.56 307.798 Q1983.74 307.798 1981.65 309.279 Q1979.59 310.761 1979.59 313.492 Q1979.59 315.784 1980.96 316.964 Q1982.35 318.122 1986.19 318.839 L1989.01 319.418 Q1994.25 320.413 1996.72 322.936 Q1999.22 325.436 1999.22 329.649 Q1999.22 334.672 1995.84 337.265 Q1992.49 339.858 1985.98 339.858 Q1983.53 339.858 1980.75 339.302 Q1978 338.746 1975.03 337.659 L1975.03 332.844 Q1977.88 334.441 1980.61 335.251 Q1983.34 336.061 1985.98 336.061 Q1989.99 336.061 1992.16 334.487 Q1994.34 332.913 1994.34 329.997 Q1994.34 327.45 1992.76 326.015 Q1991.21 324.58 1987.65 323.862 L1984.8 323.307 Q1979.57 322.265 1977.23 320.043 Q1974.89 317.821 1974.89 313.862 Q1974.89 309.279 1978.11 306.64 Q1981.35 304.001 1987.02 304.001 Q1989.45 304.001 1991.98 304.441 Q1994.5 304.881 1997.14 305.761 Z\" fill=\"#000000\" fill-rule=\"evenodd\" fill-opacity=\"1\" /><path clip-path=\"url(#clip860)\" d=\"M2006.33 313.26 L2010.59 313.26 L2010.59 339.186 L2006.33 339.186 L2006.33 313.26 M2006.33 303.168 L2010.59 303.168 L2010.59 308.561 L2006.33 308.561 L2006.33 303.168 Z\" fill=\"#000000\" fill-rule=\"evenodd\" fill-opacity=\"1\" /><path clip-path=\"url(#clip860)\" d=\"M2039.69 318.237 Q2041.28 315.367 2043.5 314.001 Q2045.73 312.635 2048.74 312.635 Q2052.79 312.635 2054.99 315.483 Q2057.19 318.307 2057.19 323.538 L2057.19 339.186 L2052.9 339.186 L2052.9 323.677 Q2052.9 319.95 2051.58 318.145 Q2050.26 316.339 2047.56 316.339 Q2044.25 316.339 2042.32 318.538 Q2040.4 320.737 2040.4 324.534 L2040.4 339.186 L2036.12 339.186 L2036.12 323.677 Q2036.12 319.927 2034.8 318.145 Q2033.48 316.339 2030.73 316.339 Q2027.46 316.339 2025.54 318.561 Q2023.62 320.76 2023.62 324.534 L2023.62 339.186 L2019.34 339.186 L2019.34 313.26 L2023.62 313.26 L2023.62 317.288 Q2025.08 314.904 2027.12 313.77 Q2029.15 312.635 2031.95 312.635 Q2034.78 312.635 2036.75 314.071 Q2038.74 315.506 2039.69 318.237 Z\" fill=\"#000000\" fill-rule=\"evenodd\" fill-opacity=\"1\" /><path clip-path=\"url(#clip860)\" d=\"M2069.8 335.297 L2069.8 349.047 L2065.52 349.047 L2065.52 313.26 L2069.8 313.26 L2069.8 317.196 Q2071.14 314.881 2073.18 313.77 Q2075.24 312.635 2078.09 312.635 Q2082.81 312.635 2085.75 316.385 Q2088.71 320.135 2088.71 326.247 Q2088.71 332.358 2085.75 336.108 Q2082.81 339.858 2078.09 339.858 Q2075.24 339.858 2073.18 338.746 Q2071.14 337.612 2069.8 335.297 M2084.29 326.247 Q2084.29 321.547 2082.35 318.885 Q2080.43 316.2 2077.05 316.2 Q2073.67 316.2 2071.72 318.885 Q2069.8 321.547 2069.8 326.247 Q2069.8 330.946 2071.72 333.631 Q2073.67 336.293 2077.05 336.293 Q2080.43 336.293 2082.35 333.631 Q2084.29 330.946 2084.29 326.247 Z\" fill=\"#000000\" fill-rule=\"evenodd\" fill-opacity=\"1\" /><path clip-path=\"url(#clip860)\" d=\"M2112.3 314.024 L2112.3 318.052 Q2110.5 317.126 2108.55 316.663 Q2106.61 316.2 2104.52 316.2 Q2101.35 316.2 2099.75 317.173 Q2098.18 318.145 2098.18 320.089 Q2098.18 321.571 2099.31 322.427 Q2100.45 323.26 2103.88 324.024 L2105.33 324.348 Q2109.87 325.321 2111.77 327.103 Q2113.69 328.862 2113.69 332.034 Q2113.69 335.645 2110.82 337.751 Q2107.97 339.858 2102.97 339.858 Q2100.89 339.858 2098.62 339.441 Q2096.38 339.047 2093.88 338.237 L2093.88 333.839 Q2096.24 335.066 2098.53 335.691 Q2100.82 336.293 2103.06 336.293 Q2106.07 336.293 2107.69 335.274 Q2109.31 334.233 2109.31 332.358 Q2109.31 330.622 2108.13 329.696 Q2106.98 328.77 2103.02 327.913 L2101.54 327.566 Q2097.58 326.733 2095.82 325.02 Q2094.06 323.284 2094.06 320.274 Q2094.06 316.617 2096.65 314.626 Q2099.25 312.635 2104.01 312.635 Q2106.38 312.635 2108.46 312.983 Q2110.54 313.33 2112.3 314.024 Z\" fill=\"#000000\" fill-rule=\"evenodd\" fill-opacity=\"1\" /><path clip-path=\"url(#clip860)\" d=\"M2130.52 316.247 Q2127.09 316.247 2125.1 318.932 Q2123.11 321.594 2123.11 326.247 Q2123.11 330.899 2125.08 333.584 Q2127.07 336.246 2130.52 336.246 Q2133.92 336.246 2135.91 333.561 Q2137.9 330.876 2137.9 326.247 Q2137.9 321.64 2135.91 318.955 Q2133.92 316.247 2130.52 316.247 M2130.52 312.635 Q2136.07 312.635 2139.25 316.247 Q2142.42 319.858 2142.42 326.247 Q2142.42 332.612 2139.25 336.246 Q2136.07 339.858 2130.52 339.858 Q2124.94 339.858 2121.77 336.246 Q2118.62 332.612 2118.62 326.247 Q2118.62 319.858 2121.77 316.247 Q2124.94 312.635 2130.52 312.635 Z\" fill=\"#000000\" fill-rule=\"evenodd\" fill-opacity=\"1\" /><path clip-path=\"url(#clip860)\" d=\"M2171.03 323.538 L2171.03 339.186 L2166.77 339.186 L2166.77 323.677 Q2166.77 319.997 2165.33 318.168 Q2163.9 316.339 2161.03 316.339 Q2157.58 316.339 2155.59 318.538 Q2153.6 320.737 2153.6 324.534 L2153.6 339.186 L2149.31 339.186 L2149.31 313.26 L2153.6 313.26 L2153.6 317.288 Q2155.12 314.95 2157.18 313.793 Q2159.27 312.635 2161.98 312.635 Q2166.44 312.635 2168.74 315.413 Q2171.03 318.168 2171.03 323.538 Z\" fill=\"#000000\" fill-rule=\"evenodd\" fill-opacity=\"1\" /></svg>\n"
      ]
     },
     "execution_count": 59,
     "metadata": {},
     "output_type": "execute_result"
    }
   ],
   "source": [
    "plot(xlabel=\"Puntos\",ylabel=\"Errores relativos\",title=\"Comparación de Métodos\")\n",
    "scatter!(VE, EM, label=\"Punto Medio\")\n",
    "scatter!(VE, ET, label=\"Trapecio\")\n",
    "scatter!(VE, ES, label=\"Simpson\")\n",
    "plot!(xaxis=:log)\n",
    "plot!(yaxis=:log)"
   ]
  },
  {
   "cell_type": "code",
   "execution_count": 60,
   "metadata": {},
   "outputs": [],
   "source": [
    "#4) "
   ]
  },
  {
   "cell_type": "code",
   "execution_count": 61,
   "metadata": {},
   "outputs": [],
   "source": [
    "# Float 32 "
   ]
  },
  {
   "cell_type": "code",
   "execution_count": 62,
   "metadata": {},
   "outputs": [
    {
     "data": {
      "text/html": [
       "<div><div style = \"float: left;\"><span>3×4 DataFrame</span></div><div style = \"clear: both;\"></div></div><div class = \"data-frame\" style = \"overflow-x: scroll;\"><table class = \"data-frame\" style = \"margin-bottom: 6px;\"><thead><tr class = \"header\"><th class = \"rowNumber\" style = \"font-weight: bold; text-align: right;\">Row</th><th style = \"text-align: left;\">Descripción</th><th style = \"text-align: left;\">Punto Medio</th><th style = \"text-align: left;\">Trapecio</th><th style = \"text-align: left;\">Simpson</th></tr><tr class = \"subheader headerLastRow\"><th class = \"rowNumber\" style = \"font-weight: bold; text-align: right;\"></th><th title = \"String\" style = \"text-align: left;\">String</th><th title = \"Float64\" style = \"text-align: left;\">Float64</th><th title = \"Float64\" style = \"text-align: left;\">Float64</th><th title = \"Float64\" style = \"text-align: left;\">Float64</th></tr></thead><tbody><tr><td class = \"rowNumber\" style = \"font-weight: bold; text-align: right;\">1</td><td style = \"text-align: left;\">Valor real</td><td style = \"text-align: right;\">0.632121</td><td style = \"text-align: right;\">0.632121</td><td style = \"text-align: right;\">0.632121</td></tr><tr><td class = \"rowNumber\" style = \"font-weight: bold; text-align: right;\">2</td><td style = \"text-align: left;\">h = 0.05</td><td style = \"text-align: right;\">0.632055</td><td style = \"text-align: right;\">0.632157</td><td style = \"text-align: right;\">0.632121</td></tr><tr><td class = \"rowNumber\" style = \"font-weight: bold; text-align: right;\">3</td><td style = \"text-align: left;\">Error absoluto</td><td style = \"text-align: right;\">6.58127e-5</td><td style = \"text-align: right;\">3.64689e-5</td><td style = \"text-align: right;\">9.14976e-9</td></tr></tbody></table></div>"
      ],
      "text/latex": [
       "\\begin{tabular}{r|cccc}\n",
       "\t& Descripción & Punto Medio & Trapecio & Simpson\\\\\n",
       "\t\\hline\n",
       "\t& String & Float64 & Float64 & Float64\\\\\n",
       "\t\\hline\n",
       "\t1 & Valor real & 0.632121 & 0.632121 & 0.632121 \\\\\n",
       "\t2 & h = 0.05 & 0.632055 & 0.632157 & 0.632121 \\\\\n",
       "\t3 & Error absoluto & 6.58127e-5 & 3.64689e-5 & 9.14976e-9 \\\\\n",
       "\\end{tabular}\n"
      ],
      "text/plain": [
       "\u001b[1m3×4 DataFrame\u001b[0m\n",
       "\u001b[1m Row \u001b[0m│\u001b[1m Descripción    \u001b[0m\u001b[1m Punto Medio \u001b[0m\u001b[1m Trapecio   \u001b[0m\u001b[1m Simpson    \u001b[0m\n",
       "     │\u001b[90m String         \u001b[0m\u001b[90m Float64     \u001b[0m\u001b[90m Float64    \u001b[0m\u001b[90m Float64    \u001b[0m\n",
       "─────┼─────────────────────────────────────────────────────\n",
       "   1 │ Valor real       0.632121    0.632121    0.632121\n",
       "   2 │ h = 0.05         0.632055    0.632157    0.632121\n",
       "   3 │ Error absoluto   6.58127e-5  3.64689e-5  9.14976e-9"
      ]
     },
     "execution_count": 62,
     "metadata": {},
     "output_type": "execute_result"
    }
   ],
   "source": [
    "A´ = [\"Valor real\", \"h = 0.05\", \"Error absoluto\"]\n",
    "B´ = [-f(1)+f(0), SM(Float32.(0),Float32.(1),Float32.(38),f), abs(-f(1)+f(0)-SM(Float32.(0),Float32.(1),Float32.(38),f))]\n",
    "C´ = [-f(1)+f(0), ST(Float32.(0),Float32.(1),Float32.(38),f), abs(-f(1)+f(0)-ST(Float32.(0),Float32.(1),Float32.(38),f))]\n",
    "D´ = [-f(1)+f(0), SS(Float32.(0),Float32.(1),Float32.(38),f), abs(-f(1)+f(0)-SS(Float32.(0),Float32.(1),Float32.(38),f))]\n",
    "\n",
    "DataFrame(\"Descripción\" => A´, \"Punto Medio\" => B´, \"Trapecio\" => C´,\"Simpson\" => D´)\n"
   ]
  },
  {
   "cell_type": "code",
   "execution_count": 94,
   "metadata": {},
   "outputs": [],
   "source": [
    "EM2 = [abs(SM(Float32.(0),Float32.(1),Float32.(n),f) - I)/I for n in VE]\n",
    "ET2 = [abs(ST(Float32.(0),Float32.(1),Float32.(n),f) - I)/I for n in VE]\n",
    "ES2 = [abs(SS(Float32.(0),Float32.(1),Float32.(n),f) - I)/I for n in VE];"
   ]
  },
  {
   "cell_type": "code",
   "execution_count": 97,
   "metadata": {},
   "outputs": [
    {
     "data": {
      "image/svg+xml": [
       "<?xml version=\"1.0\" encoding=\"utf-8\"?>\n",
       "<svg xmlns=\"http://www.w3.org/2000/svg\" xmlns:xlink=\"http://www.w3.org/1999/xlink\" width=\"600\" height=\"400\" viewBox=\"0 0 2400 1600\">\n",
       "<defs>\n",
       "  <clipPath id=\"clip220\">\n",
       "    <rect x=\"0\" y=\"0\" width=\"2400\" height=\"1600\"/>\n",
       "  </clipPath>\n",
       "</defs>\n",
       "<path clip-path=\"url(#clip220)\" d=\"M0 1600 L2400 1600 L2400 0 L0 0  Z\" fill=\"#ffffff\" fill-rule=\"evenodd\" fill-opacity=\"1\"/>\n",
       "<defs>\n",
       "  <clipPath id=\"clip221\">\n",
       "    <rect x=\"480\" y=\"0\" width=\"1681\" height=\"1600\"/>\n",
       "  </clipPath>\n",
       "</defs>\n",
       "<path clip-path=\"url(#clip220)\" d=\"M252.501 1410.9 L2352.76 1410.9 L2352.76 123.472 L252.501 123.472  Z\" fill=\"#ffffff\" fill-rule=\"evenodd\" fill-opacity=\"1\"/>\n",
       "<defs>\n",
       "  <clipPath id=\"clip222\">\n",
       "    <rect x=\"252\" y=\"123\" width=\"2101\" height=\"1288\"/>\n",
       "  </clipPath>\n",
       "</defs>\n",
       "<polyline clip-path=\"url(#clip222)\" style=\"stroke:#000000; stroke-linecap:round; stroke-linejoin:round; stroke-width:2; stroke-opacity:0.1; fill:none\" points=\"730.179,1410.9 730.179,123.472 \"/>\n",
       "<polyline clip-path=\"url(#clip222)\" style=\"stroke:#000000; stroke-linecap:round; stroke-linejoin:round; stroke-width:2; stroke-opacity:0.1; fill:none\" points=\"1328.54,1410.9 1328.54,123.472 \"/>\n",
       "<polyline clip-path=\"url(#clip222)\" style=\"stroke:#000000; stroke-linecap:round; stroke-linejoin:round; stroke-width:2; stroke-opacity:0.1; fill:none\" points=\"1926.9,1410.9 1926.9,123.472 \"/>\n",
       "<polyline clip-path=\"url(#clip220)\" style=\"stroke:#000000; stroke-linecap:round; stroke-linejoin:round; stroke-width:4; stroke-opacity:1; fill:none\" points=\"252.501,1410.9 2352.76,1410.9 \"/>\n",
       "<polyline clip-path=\"url(#clip220)\" style=\"stroke:#000000; stroke-linecap:round; stroke-linejoin:round; stroke-width:4; stroke-opacity:1; fill:none\" points=\"730.179,1410.9 730.179,1392 \"/>\n",
       "<polyline clip-path=\"url(#clip220)\" style=\"stroke:#000000; stroke-linecap:round; stroke-linejoin:round; stroke-width:4; stroke-opacity:1; fill:none\" points=\"1328.54,1410.9 1328.54,1392 \"/>\n",
       "<polyline clip-path=\"url(#clip220)\" style=\"stroke:#000000; stroke-linecap:round; stroke-linejoin:round; stroke-width:4; stroke-opacity:1; fill:none\" points=\"1926.9,1410.9 1926.9,1392 \"/>\n",
       "<path clip-path=\"url(#clip220)\" d=\"M696.506 1485.02 L704.145 1485.02 L704.145 1458.66 L695.835 1460.32 L695.835 1456.06 L704.099 1454.4 L708.775 1454.4 L708.775 1485.02 L716.414 1485.02 L716.414 1488.96 L696.506 1488.96 L696.506 1485.02 Z\" fill=\"#000000\" fill-rule=\"evenodd\" fill-opacity=\"1\" /><path clip-path=\"url(#clip220)\" d=\"M735.858 1457.48 Q732.247 1457.48 730.418 1461.04 Q728.613 1464.58 728.613 1471.71 Q728.613 1478.82 730.418 1482.38 Q732.247 1485.92 735.858 1485.92 Q739.492 1485.92 741.298 1482.38 Q743.126 1478.82 743.126 1471.71 Q743.126 1464.58 741.298 1461.04 Q739.492 1457.48 735.858 1457.48 M735.858 1453.77 Q741.668 1453.77 744.724 1458.38 Q747.802 1462.96 747.802 1471.71 Q747.802 1480.44 744.724 1485.04 Q741.668 1489.63 735.858 1489.63 Q730.048 1489.63 726.969 1485.04 Q723.914 1480.44 723.914 1471.71 Q723.914 1462.96 726.969 1458.38 Q730.048 1453.77 735.858 1453.77 Z\" fill=\"#000000\" fill-rule=\"evenodd\" fill-opacity=\"1\" /><path clip-path=\"url(#clip220)\" d=\"M748.348 1458.35 L754.554 1458.35 L754.554 1436.93 L747.802 1438.28 L747.802 1434.82 L754.517 1433.47 L758.316 1433.47 L758.316 1458.35 L764.522 1458.35 L764.522 1461.55 L748.348 1461.55 L748.348 1458.35 Z\" fill=\"#000000\" fill-rule=\"evenodd\" fill-opacity=\"1\" /><path clip-path=\"url(#clip220)\" d=\"M1294.31 1485.02 L1301.95 1485.02 L1301.95 1458.66 L1293.64 1460.32 L1293.64 1456.06 L1301.91 1454.4 L1306.58 1454.4 L1306.58 1485.02 L1314.22 1485.02 L1314.22 1488.96 L1294.31 1488.96 L1294.31 1485.02 Z\" fill=\"#000000\" fill-rule=\"evenodd\" fill-opacity=\"1\" /><path clip-path=\"url(#clip220)\" d=\"M1333.66 1457.48 Q1330.05 1457.48 1328.22 1461.04 Q1326.42 1464.58 1326.42 1471.71 Q1326.42 1478.82 1328.22 1482.38 Q1330.05 1485.92 1333.66 1485.92 Q1337.3 1485.92 1339.1 1482.38 Q1340.93 1478.82 1340.93 1471.71 Q1340.93 1464.58 1339.1 1461.04 Q1337.3 1457.48 1333.66 1457.48 M1333.66 1453.77 Q1339.47 1453.77 1342.53 1458.38 Q1345.61 1462.96 1345.61 1471.71 Q1345.61 1480.44 1342.53 1485.04 Q1339.47 1489.63 1333.66 1489.63 Q1327.85 1489.63 1324.78 1485.04 Q1321.72 1480.44 1321.72 1471.71 Q1321.72 1462.96 1324.78 1458.38 Q1327.85 1453.77 1333.66 1453.77 Z\" fill=\"#000000\" fill-rule=\"evenodd\" fill-opacity=\"1\" /><path clip-path=\"url(#clip220)\" d=\"M1350.18 1458.35 L1363.44 1458.35 L1363.44 1461.55 L1345.61 1461.55 L1345.61 1458.35 Q1347.77 1456.11 1351.5 1452.35 Q1355.24 1448.57 1356.2 1447.48 Q1358.02 1445.43 1358.74 1444.02 Q1359.47 1442.59 1359.47 1441.22 Q1359.47 1438.98 1357.89 1437.57 Q1356.33 1436.16 1353.81 1436.16 Q1352.02 1436.16 1350.03 1436.78 Q1348.05 1437.4 1345.8 1438.66 L1345.8 1434.82 Q1348.09 1433.9 1350.09 1433.43 Q1352.08 1432.96 1353.73 1432.96 Q1358.1 1432.96 1360.69 1435.14 Q1363.29 1437.32 1363.29 1440.97 Q1363.29 1442.7 1362.63 1444.26 Q1361.99 1445.8 1360.28 1447.91 Q1359.81 1448.46 1357.29 1451.07 Q1354.77 1453.67 1350.18 1458.35 Z\" fill=\"#000000\" fill-rule=\"evenodd\" fill-opacity=\"1\" /><path clip-path=\"url(#clip220)\" d=\"M1892.35 1485.02 L1899.98 1485.02 L1899.98 1458.66 L1891.67 1460.32 L1891.67 1456.06 L1899.94 1454.4 L1904.61 1454.4 L1904.61 1485.02 L1912.25 1485.02 L1912.25 1488.96 L1892.35 1488.96 L1892.35 1485.02 Z\" fill=\"#000000\" fill-rule=\"evenodd\" fill-opacity=\"1\" /><path clip-path=\"url(#clip220)\" d=\"M1931.7 1457.48 Q1928.09 1457.48 1926.26 1461.04 Q1924.45 1464.58 1924.45 1471.71 Q1924.45 1478.82 1926.26 1482.38 Q1928.09 1485.92 1931.7 1485.92 Q1935.33 1485.92 1937.14 1482.38 Q1938.97 1478.82 1938.97 1471.71 Q1938.97 1464.58 1937.14 1461.04 Q1935.33 1457.48 1931.7 1457.48 M1931.7 1453.77 Q1937.51 1453.77 1940.56 1458.38 Q1943.64 1462.96 1943.64 1471.71 Q1943.64 1480.44 1940.56 1485.04 Q1937.51 1489.63 1931.7 1489.63 Q1925.89 1489.63 1922.81 1485.04 Q1919.75 1480.44 1919.75 1471.71 Q1919.75 1462.96 1922.81 1458.38 Q1925.89 1453.77 1931.7 1453.77 Z\" fill=\"#000000\" fill-rule=\"evenodd\" fill-opacity=\"1\" /><path clip-path=\"url(#clip220)\" d=\"M1956.34 1446.41 Q1959.06 1446.99 1960.59 1448.83 Q1962.13 1450.68 1962.13 1453.38 Q1962.13 1457.54 1959.27 1459.82 Q1956.41 1462.09 1951.15 1462.09 Q1949.38 1462.09 1947.5 1461.73 Q1945.64 1461.4 1943.64 1460.7 L1943.64 1457.03 Q1945.22 1457.95 1947.1 1458.42 Q1948.98 1458.89 1951.03 1458.89 Q1954.61 1458.89 1956.47 1457.48 Q1958.35 1456.07 1958.35 1453.38 Q1958.35 1450.9 1956.6 1449.51 Q1954.87 1448.1 1951.77 1448.1 L1948.49 1448.1 L1948.49 1444.98 L1951.92 1444.98 Q1954.72 1444.98 1956.21 1443.87 Q1957.69 1442.74 1957.69 1440.63 Q1957.69 1438.47 1956.15 1437.32 Q1954.63 1436.16 1951.77 1436.16 Q1950.21 1436.16 1948.42 1436.49 Q1946.63 1436.83 1944.49 1437.55 L1944.49 1434.16 Q1946.65 1433.56 1948.53 1433.26 Q1950.43 1432.96 1952.11 1432.96 Q1956.43 1432.96 1958.95 1434.93 Q1961.47 1436.89 1961.47 1440.24 Q1961.47 1442.57 1960.14 1444.19 Q1958.8 1445.79 1956.34 1446.41 Z\" fill=\"#000000\" fill-rule=\"evenodd\" fill-opacity=\"1\" /><path clip-path=\"url(#clip220)\" d=\"M1203.75 1531.95 L1203.75 1549.8 L1211.84 1549.8 Q1216.33 1549.8 1218.78 1547.48 Q1221.23 1545.16 1221.23 1540.86 Q1221.23 1536.6 1218.78 1534.27 Q1216.33 1531.95 1211.84 1531.95 L1203.75 1531.95 M1197.32 1526.67 L1211.84 1526.67 Q1219.83 1526.67 1223.9 1530.29 Q1228.01 1533.89 1228.01 1540.86 Q1228.01 1547.9 1223.9 1551.49 Q1219.83 1555.09 1211.84 1555.09 L1203.75 1555.09 L1203.75 1574.19 L1197.32 1574.19 L1197.32 1526.67 Z\" fill=\"#000000\" fill-rule=\"evenodd\" fill-opacity=\"1\" /><path clip-path=\"url(#clip220)\" d=\"M1234.63 1560.12 L1234.63 1538.54 L1240.48 1538.54 L1240.48 1559.89 Q1240.48 1564.96 1242.46 1567.5 Q1244.43 1570.02 1248.38 1570.02 Q1253.12 1570.02 1255.86 1566.99 Q1258.63 1563.97 1258.63 1558.75 L1258.63 1538.54 L1264.48 1538.54 L1264.48 1574.19 L1258.63 1574.19 L1258.63 1568.71 Q1256.49 1571.96 1253.66 1573.55 Q1250.86 1575.11 1247.14 1575.11 Q1240.99 1575.11 1237.81 1571.29 Q1234.63 1567.47 1234.63 1560.12 M1249.36 1537.68 L1249.36 1537.68 Z\" fill=\"#000000\" fill-rule=\"evenodd\" fill-opacity=\"1\" /><path clip-path=\"url(#clip220)\" d=\"M1306.18 1552.67 L1306.18 1574.19 L1300.32 1574.19 L1300.32 1552.86 Q1300.32 1547.8 1298.35 1545.29 Q1296.37 1542.77 1292.43 1542.77 Q1287.68 1542.77 1284.95 1545.79 Q1282.21 1548.82 1282.21 1554.04 L1282.21 1574.19 L1276.32 1574.19 L1276.32 1538.54 L1282.21 1538.54 L1282.21 1544.08 Q1284.31 1540.86 1287.14 1539.27 Q1290.01 1537.68 1293.73 1537.68 Q1299.88 1537.68 1303.03 1541.5 Q1306.18 1545.29 1306.18 1552.67 Z\" fill=\"#000000\" fill-rule=\"evenodd\" fill-opacity=\"1\" /><path clip-path=\"url(#clip220)\" d=\"M1323.65 1528.42 L1323.65 1538.54 L1335.71 1538.54 L1335.71 1543.09 L1323.65 1543.09 L1323.65 1562.44 Q1323.65 1566.8 1324.83 1568.04 Q1326.04 1569.28 1329.7 1569.28 L1335.71 1569.28 L1335.71 1574.19 L1329.7 1574.19 Q1322.92 1574.19 1320.34 1571.67 Q1317.76 1569.12 1317.76 1562.44 L1317.76 1543.09 L1313.47 1543.09 L1313.47 1538.54 L1317.76 1538.54 L1317.76 1528.42 L1323.65 1528.42 Z\" fill=\"#000000\" fill-rule=\"evenodd\" fill-opacity=\"1\" /><path clip-path=\"url(#clip220)\" d=\"M1357.23 1542.64 Q1352.52 1542.64 1349.78 1546.34 Q1347.04 1550 1347.04 1556.39 Q1347.04 1562.79 1349.75 1566.48 Q1352.49 1570.14 1357.23 1570.14 Q1361.91 1570.14 1364.65 1566.45 Q1367.38 1562.76 1367.38 1556.39 Q1367.38 1550.06 1364.65 1546.37 Q1361.91 1542.64 1357.23 1542.64 M1357.23 1537.68 Q1364.87 1537.68 1369.23 1542.64 Q1373.59 1547.61 1373.59 1556.39 Q1373.59 1565.15 1369.23 1570.14 Q1364.87 1575.11 1357.23 1575.11 Q1349.56 1575.11 1345.2 1570.14 Q1340.87 1565.15 1340.87 1556.39 Q1340.87 1547.61 1345.2 1542.64 Q1349.56 1537.68 1357.23 1537.68 Z\" fill=\"#000000\" fill-rule=\"evenodd\" fill-opacity=\"1\" /><path clip-path=\"url(#clip220)\" d=\"M1406.02 1539.59 L1406.02 1545.13 Q1403.54 1543.85 1400.87 1543.22 Q1398.19 1542.58 1395.33 1542.58 Q1390.97 1542.58 1388.77 1543.92 Q1386.61 1545.25 1386.61 1547.93 Q1386.61 1549.96 1388.17 1551.14 Q1389.73 1552.29 1394.44 1553.34 L1396.44 1553.78 Q1402.68 1555.12 1405.29 1557.57 Q1407.93 1559.99 1407.93 1564.35 Q1407.93 1569.32 1403.99 1572.21 Q1400.07 1575.11 1393.2 1575.11 Q1390.33 1575.11 1387.21 1574.54 Q1384.13 1573.99 1380.69 1572.88 L1380.69 1566.83 Q1383.93 1568.52 1387.09 1569.38 Q1390.24 1570.21 1393.32 1570.21 Q1397.46 1570.21 1399.69 1568.81 Q1401.92 1567.37 1401.92 1564.8 Q1401.92 1562.41 1400.29 1561.14 Q1398.7 1559.86 1393.26 1558.68 L1391.22 1558.21 Q1385.78 1557.06 1383.36 1554.71 Q1380.94 1552.32 1380.94 1548.18 Q1380.94 1543.15 1384.51 1540.42 Q1388.07 1537.68 1394.63 1537.68 Q1397.88 1537.68 1400.74 1538.16 Q1403.6 1538.63 1406.02 1539.59 Z\" fill=\"#000000\" fill-rule=\"evenodd\" fill-opacity=\"1\" /><polyline clip-path=\"url(#clip222)\" style=\"stroke:#000000; stroke-linecap:round; stroke-linejoin:round; stroke-width:2; stroke-opacity:0.1; fill:none\" points=\"252.501,1128.2 2352.76,1128.2 \"/>\n",
       "<polyline clip-path=\"url(#clip222)\" style=\"stroke:#000000; stroke-linecap:round; stroke-linejoin:round; stroke-width:2; stroke-opacity:0.1; fill:none\" points=\"252.501,455.302 2352.76,455.302 \"/>\n",
       "<polyline clip-path=\"url(#clip220)\" style=\"stroke:#000000; stroke-linecap:round; stroke-linejoin:round; stroke-width:4; stroke-opacity:1; fill:none\" points=\"252.501,1410.9 252.501,123.472 \"/>\n",
       "<polyline clip-path=\"url(#clip220)\" style=\"stroke:#000000; stroke-linecap:round; stroke-linejoin:round; stroke-width:4; stroke-opacity:1; fill:none\" points=\"252.501,1128.2 271.398,1128.2 \"/>\n",
       "<polyline clip-path=\"url(#clip220)\" style=\"stroke:#000000; stroke-linecap:round; stroke-linejoin:round; stroke-width:4; stroke-opacity:1; fill:none\" points=\"252.501,455.302 271.398,455.302 \"/>\n",
       "<path clip-path=\"url(#clip220)\" d=\"M114.931 1147.99 L122.57 1147.99 L122.57 1121.63 L114.26 1123.3 L114.26 1119.04 L122.524 1117.37 L127.2 1117.37 L127.2 1147.99 L134.839 1147.99 L134.839 1151.93 L114.931 1151.93 L114.931 1147.99 Z\" fill=\"#000000\" fill-rule=\"evenodd\" fill-opacity=\"1\" /><path clip-path=\"url(#clip220)\" d=\"M154.283 1120.45 Q150.672 1120.45 148.843 1124.01 Q147.038 1127.55 147.038 1134.68 Q147.038 1141.79 148.843 1145.36 Q150.672 1148.9 154.283 1148.9 Q157.917 1148.9 159.723 1145.36 Q161.552 1141.79 161.552 1134.68 Q161.552 1127.55 159.723 1124.01 Q157.917 1120.45 154.283 1120.45 M154.283 1116.74 Q160.093 1116.74 163.149 1121.35 Q166.227 1125.93 166.227 1134.68 Q166.227 1143.41 163.149 1148.02 Q160.093 1152.6 154.283 1152.6 Q148.473 1152.6 145.394 1148.02 Q142.339 1143.41 142.339 1134.68 Q142.339 1125.93 145.394 1121.35 Q148.473 1116.74 154.283 1116.74 Z\" fill=\"#000000\" fill-rule=\"evenodd\" fill-opacity=\"1\" /><path clip-path=\"url(#clip220)\" d=\"M166.227 1110.85 L190.339 1110.85 L190.339 1114.04 L166.227 1114.04 L166.227 1110.85 Z\" fill=\"#000000\" fill-rule=\"evenodd\" fill-opacity=\"1\" /><path clip-path=\"url(#clip220)\" d=\"M207.134 1108.97 Q204.577 1108.97 203.072 1110.71 Q201.586 1112.46 201.586 1115.51 Q201.586 1118.54 203.072 1120.31 Q204.577 1122.06 207.134 1122.06 Q209.692 1122.06 211.178 1120.31 Q212.683 1118.54 212.683 1115.51 Q212.683 1112.46 211.178 1110.71 Q209.692 1108.97 207.134 1108.97 M214.676 1097.06 L214.676 1100.52 Q213.247 1099.84 211.78 1099.49 Q210.332 1099.13 208.902 1099.13 Q205.141 1099.13 203.147 1101.67 Q201.172 1104.21 200.89 1109.34 Q202 1107.7 203.674 1106.84 Q205.348 1105.96 207.36 1105.96 Q211.592 1105.96 214.037 1108.53 Q216.501 1111.09 216.501 1115.51 Q216.501 1119.84 213.943 1122.45 Q211.385 1125.06 207.134 1125.06 Q202.263 1125.06 199.686 1121.34 Q197.11 1117.6 197.11 1110.51 Q197.11 1103.85 200.27 1099.9 Q203.429 1095.93 208.752 1095.93 Q210.181 1095.93 211.629 1096.21 Q213.096 1096.5 214.676 1097.06 Z\" fill=\"#000000\" fill-rule=\"evenodd\" fill-opacity=\"1\" /><path clip-path=\"url(#clip220)\" d=\"M115.59 475.094 L123.229 475.094 L123.229 448.729 L114.918 450.395 L114.918 446.136 L123.182 444.469 L127.858 444.469 L127.858 475.094 L135.497 475.094 L135.497 479.029 L115.59 479.029 L115.59 475.094 Z\" fill=\"#000000\" fill-rule=\"evenodd\" fill-opacity=\"1\" /><path clip-path=\"url(#clip220)\" d=\"M154.941 447.548 Q151.33 447.548 149.502 451.113 Q147.696 454.655 147.696 461.784 Q147.696 468.891 149.502 472.455 Q151.33 475.997 154.941 475.997 Q158.576 475.997 160.381 472.455 Q162.21 468.891 162.21 461.784 Q162.21 454.655 160.381 451.113 Q158.576 447.548 154.941 447.548 M154.941 443.844 Q160.752 443.844 163.807 448.451 Q166.886 453.034 166.886 461.784 Q166.886 470.511 163.807 475.117 Q160.752 479.701 154.941 479.701 Q149.131 479.701 146.053 475.117 Q142.997 470.511 142.997 461.784 Q142.997 453.034 146.053 448.451 Q149.131 443.844 154.941 443.844 Z\" fill=\"#000000\" fill-rule=\"evenodd\" fill-opacity=\"1\" /><path clip-path=\"url(#clip220)\" d=\"M166.886 437.946 L190.997 437.946 L190.997 441.143 L166.886 441.143 L166.886 437.946 Z\" fill=\"#000000\" fill-rule=\"evenodd\" fill-opacity=\"1\" /><path clip-path=\"url(#clip220)\" d=\"M210.708 436.479 Q213.435 437.062 214.958 438.905 Q216.501 440.748 216.501 443.456 Q216.501 447.613 213.642 449.889 Q210.783 452.164 205.517 452.164 Q203.749 452.164 201.868 451.807 Q200.006 451.469 198.013 450.773 L198.013 447.105 Q199.592 448.027 201.473 448.497 Q203.354 448.967 205.404 448.967 Q208.978 448.967 210.84 447.557 Q212.72 446.146 212.72 443.456 Q212.72 440.974 210.971 439.582 Q209.241 438.172 206.138 438.172 L202.865 438.172 L202.865 435.049 L206.288 435.049 Q209.09 435.049 210.576 433.94 Q212.062 432.811 212.062 430.705 Q212.062 428.542 210.52 427.395 Q208.996 426.229 206.138 426.229 Q204.577 426.229 202.79 426.567 Q201.003 426.906 198.859 427.62 L198.859 424.235 Q201.022 423.633 202.903 423.332 Q204.802 423.031 206.476 423.031 Q210.802 423.031 213.322 425.006 Q215.842 426.962 215.842 430.31 Q215.842 432.642 214.507 434.26 Q213.172 435.858 210.708 436.479 Z\" fill=\"#000000\" fill-rule=\"evenodd\" fill-opacity=\"1\" /><path clip-path=\"url(#clip220)\" d=\"M16.4842 1028.32 L16.4842 998.275 L21.895 998.275 L21.895 1021.89 L35.9632 1021.89 L35.9632 999.262 L41.3741 999.262 L41.3741 1021.89 L58.5933 1021.89 L58.5933 997.703 L64.0042 997.703 L64.0042 1028.32 L16.4842 1028.32 Z\" fill=\"#000000\" fill-rule=\"evenodd\" fill-opacity=\"1\" /><path clip-path=\"url(#clip220)\" d=\"M33.8307 966.733 Q33.2578 967.72 33.0032 968.898 Q32.7167 970.044 32.7167 971.444 Q32.7167 976.409 35.9632 979.083 Q39.1779 981.725 45.2253 981.725 L64.0042 981.725 L64.0042 987.613 L28.3562 987.613 L28.3562 981.725 L33.8944 981.725 Q30.6479 979.879 29.0883 976.919 Q27.4968 973.958 27.4968 969.725 Q27.4968 969.121 27.5923 968.388 Q27.656 967.656 27.8151 966.765 L33.8307 966.733 Z\" fill=\"#000000\" fill-rule=\"evenodd\" fill-opacity=\"1\" /><path clip-path=\"url(#clip220)\" d=\"M33.8307 941.08 Q33.2578 942.066 33.0032 943.244 Q32.7167 944.39 32.7167 945.79 Q32.7167 950.755 35.9632 953.429 Q39.1779 956.071 45.2253 956.071 L64.0042 956.071 L64.0042 961.959 L28.3562 961.959 L28.3562 956.071 L33.8944 956.071 Q30.6479 954.225 29.0883 951.265 Q27.4968 948.305 27.4968 944.071 Q27.4968 943.467 27.5923 942.735 Q27.656 942.003 27.8151 941.111 L33.8307 941.08 Z\" fill=\"#000000\" fill-rule=\"evenodd\" fill-opacity=\"1\" /><path clip-path=\"url(#clip220)\" d=\"M32.4621 922.555 Q32.4621 927.266 36.1542 930.003 Q39.8145 932.74 46.212 932.74 Q52.6095 932.74 56.3017 930.035 Q59.9619 927.298 59.9619 922.555 Q59.9619 917.877 56.2698 915.139 Q52.5777 912.402 46.212 912.402 Q39.8781 912.402 36.186 915.139 Q32.4621 917.877 32.4621 922.555 M27.4968 922.555 Q27.4968 914.917 32.4621 910.556 Q37.4273 906.196 46.212 906.196 Q54.9649 906.196 59.9619 910.556 Q64.9272 914.917 64.9272 922.555 Q64.9272 930.226 59.9619 934.587 Q54.9649 938.915 46.212 938.915 Q37.4273 938.915 32.4621 934.587 Q27.4968 930.226 27.4968 922.555 Z\" fill=\"#000000\" fill-rule=\"evenodd\" fill-opacity=\"1\" /><path clip-path=\"url(#clip220)\" d=\"M33.8307 875.831 Q33.2578 876.818 33.0032 877.995 Q32.7167 879.141 32.7167 880.542 Q32.7167 885.507 35.9632 888.181 Q39.1779 890.822 45.2253 890.822 L64.0042 890.822 L64.0042 896.711 L28.3562 896.711 L28.3562 890.822 L33.8944 890.822 Q30.6479 888.976 29.0883 886.016 Q27.4968 883.056 27.4968 878.823 Q27.4968 878.218 27.5923 877.486 Q27.656 876.754 27.8151 875.863 L33.8307 875.831 Z\" fill=\"#000000\" fill-rule=\"evenodd\" fill-opacity=\"1\" /><path clip-path=\"url(#clip220)\" d=\"M44.7161 840.629 L47.5806 840.629 L47.5806 867.556 Q53.6281 867.174 56.8109 863.927 Q59.9619 860.649 59.9619 854.824 Q59.9619 851.45 59.1344 848.299 Q58.3069 845.117 56.6518 841.997 L62.1899 841.997 Q63.5267 845.148 64.227 848.459 Q64.9272 851.769 64.9272 855.174 Q64.9272 863.704 59.9619 868.701 Q54.9967 873.667 46.5303 873.667 Q37.7774 873.667 32.6531 868.956 Q27.4968 864.214 27.4968 856.193 Q27.4968 849 32.1438 844.83 Q36.7589 840.629 44.7161 840.629 M42.9973 846.485 Q38.1912 846.549 35.3266 849.191 Q32.4621 851.801 32.4621 856.129 Q32.4621 861.031 35.2312 863.991 Q38.0002 866.919 43.0292 867.365 L42.9973 846.485 Z\" fill=\"#000000\" fill-rule=\"evenodd\" fill-opacity=\"1\" /><path clip-path=\"url(#clip220)\" d=\"M29.4065 808.291 L34.9447 808.291 Q33.6716 810.774 33.035 813.447 Q32.3984 816.121 32.3984 818.985 Q32.3984 823.346 33.7352 825.542 Q35.072 827.706 37.7456 827.706 Q39.7826 827.706 40.9603 826.147 Q42.1061 824.587 43.1565 819.877 L43.6021 817.871 Q44.9389 811.633 47.3897 809.023 Q49.8086 806.381 54.1691 806.381 Q59.1344 806.381 62.0308 810.328 Q64.9272 814.243 64.9272 821.118 Q64.9272 823.982 64.3543 827.102 Q63.8132 830.189 62.6992 833.626 L56.6518 833.626 Q58.3387 830.38 59.198 827.229 Q60.0256 824.078 60.0256 820.991 Q60.0256 816.853 58.6251 814.625 Q57.1929 812.397 54.6147 812.397 Q52.2276 812.397 50.9545 814.02 Q49.6813 815.611 48.5037 821.054 L48.0262 823.091 Q46.8804 828.534 44.5251 830.953 Q42.138 833.372 38.0002 833.372 Q32.9713 833.372 30.2341 829.807 Q27.4968 826.242 27.4968 819.686 Q27.4968 816.439 27.9743 813.574 Q28.4517 810.71 29.4065 808.291 Z\" fill=\"#000000\" fill-rule=\"evenodd\" fill-opacity=\"1\" /><path clip-path=\"url(#clip220)\" d=\"M33.8307 755.678 Q33.2578 756.665 33.0032 757.843 Q32.7167 758.989 32.7167 760.389 Q32.7167 765.354 35.9632 768.028 Q39.1779 770.67 45.2253 770.67 L64.0042 770.67 L64.0042 776.558 L28.3562 776.558 L28.3562 770.67 L33.8944 770.67 Q30.6479 768.824 29.0883 765.864 Q27.4968 762.903 27.4968 758.67 Q27.4968 758.066 27.5923 757.333 Q27.656 756.601 27.8151 755.71 L33.8307 755.678 Z\" fill=\"#000000\" fill-rule=\"evenodd\" fill-opacity=\"1\" /><path clip-path=\"url(#clip220)\" d=\"M44.7161 720.476 L47.5806 720.476 L47.5806 747.403 Q53.6281 747.021 56.8109 743.774 Q59.9619 740.496 59.9619 734.672 Q59.9619 731.298 59.1344 728.147 Q58.3069 724.964 56.6518 721.845 L62.1899 721.845 Q63.5267 724.996 64.227 728.306 Q64.9272 731.616 64.9272 735.022 Q64.9272 743.552 59.9619 748.549 Q54.9967 753.514 46.5303 753.514 Q37.7774 753.514 32.6531 748.803 Q27.4968 744.061 27.4968 736.04 Q27.4968 728.847 32.1438 724.677 Q36.7589 720.476 44.7161 720.476 M42.9973 726.332 Q38.1912 726.396 35.3266 729.038 Q32.4621 731.648 32.4621 735.977 Q32.4621 740.878 35.2312 743.838 Q38.0002 746.766 43.0292 747.212 L42.9973 726.332 Z\" fill=\"#000000\" fill-rule=\"evenodd\" fill-opacity=\"1\" /><path clip-path=\"url(#clip220)\" d=\"M14.479 710.864 L14.479 705.007 L64.0042 705.007 L64.0042 710.864 L14.479 710.864 Z\" fill=\"#000000\" fill-rule=\"evenodd\" fill-opacity=\"1\" /><path clip-path=\"url(#clip220)\" d=\"M46.0847 676.553 Q46.0847 683.65 47.7079 686.388 Q49.3312 689.125 53.2461 689.125 Q56.3653 689.125 58.2114 687.088 Q60.0256 685.019 60.0256 681.486 Q60.0256 676.616 56.5881 673.688 Q53.1188 670.728 47.3897 670.728 L46.0847 670.728 L46.0847 676.553 M43.6657 664.872 L64.0042 664.872 L64.0042 670.728 L58.5933 670.728 Q61.8398 672.733 63.3994 675.725 Q64.9272 678.717 64.9272 683.046 Q64.9272 688.52 61.8716 691.767 Q58.7843 694.981 53.6281 694.981 Q47.6125 694.981 44.5569 690.971 Q41.5014 686.929 41.5014 678.94 L41.5014 670.728 L40.9285 670.728 Q36.8862 670.728 34.6901 673.402 Q32.4621 676.043 32.4621 680.849 Q32.4621 683.905 33.1941 686.801 Q33.9262 689.698 35.3903 692.371 L29.9795 692.371 Q28.7381 689.157 28.1334 686.133 Q27.4968 683.109 27.4968 680.245 Q27.4968 672.51 31.5072 668.691 Q35.5176 664.872 43.6657 664.872 Z\" fill=\"#000000\" fill-rule=\"evenodd\" fill-opacity=\"1\" /><path clip-path=\"url(#clip220)\" d=\"M18.2347 647.016 L28.3562 647.016 L28.3562 634.953 L32.9077 634.953 L32.9077 647.016 L52.2594 647.016 Q56.6199 647.016 57.8613 645.838 Q59.1026 644.629 59.1026 640.968 L59.1026 634.953 L64.0042 634.953 L64.0042 640.968 Q64.0042 647.748 61.4897 650.326 Q58.9434 652.904 52.2594 652.904 L32.9077 652.904 L32.9077 657.201 L28.3562 657.201 L28.3562 652.904 L18.2347 652.904 L18.2347 647.016 Z\" fill=\"#000000\" fill-rule=\"evenodd\" fill-opacity=\"1\" /><path clip-path=\"url(#clip220)\" d=\"M28.3562 627.25 L28.3562 621.394 L64.0042 621.394 L64.0042 627.25 L28.3562 627.25 M14.479 627.25 L14.479 621.394 L21.895 621.394 L21.895 627.25 L14.479 627.25 Z\" fill=\"#000000\" fill-rule=\"evenodd\" fill-opacity=\"1\" /><path clip-path=\"url(#clip220)\" d=\"M28.3562 613.341 L28.3562 607.135 L58.275 595.995 L28.3562 584.855 L28.3562 578.648 L64.0042 592.016 L64.0042 599.973 L28.3562 613.341 Z\" fill=\"#000000\" fill-rule=\"evenodd\" fill-opacity=\"1\" /><path clip-path=\"url(#clip220)\" d=\"M32.4621 556.75 Q32.4621 561.461 36.1542 564.198 Q39.8145 566.935 46.212 566.935 Q52.6095 566.935 56.3017 564.23 Q59.9619 561.492 59.9619 556.75 Q59.9619 552.071 56.2698 549.334 Q52.5777 546.597 46.212 546.597 Q39.8781 546.597 36.186 549.334 Q32.4621 552.071 32.4621 556.75 M27.4968 556.75 Q27.4968 549.111 32.4621 544.751 Q37.4273 540.39 46.212 540.39 Q54.9649 540.39 59.9619 544.751 Q64.9272 549.111 64.9272 556.75 Q64.9272 564.421 59.9619 568.781 Q54.9649 573.11 46.212 573.11 Q37.4273 573.11 32.4621 568.781 Q27.4968 564.421 27.4968 556.75 Z\" fill=\"#000000\" fill-rule=\"evenodd\" fill-opacity=\"1\" /><path clip-path=\"url(#clip220)\" d=\"M29.4065 507.957 L34.9447 507.957 Q33.6716 510.44 33.035 513.113 Q32.3984 515.787 32.3984 518.651 Q32.3984 523.012 33.7352 525.208 Q35.072 527.372 37.7456 527.372 Q39.7826 527.372 40.9603 525.813 Q42.1061 524.253 43.1565 519.542 L43.6021 517.537 Q44.9389 511.299 47.3897 508.689 Q49.8086 506.047 54.1691 506.047 Q59.1344 506.047 62.0308 509.994 Q64.9272 513.909 64.9272 520.784 Q64.9272 523.648 64.3543 526.768 Q63.8132 529.855 62.6992 533.292 L56.6518 533.292 Q58.3387 530.046 59.198 526.895 Q60.0256 523.744 60.0256 520.656 Q60.0256 516.519 58.6251 514.291 Q57.1929 512.063 54.6147 512.063 Q52.2276 512.063 50.9545 513.686 Q49.6813 515.277 48.5037 520.72 L48.0262 522.757 Q46.8804 528.2 44.5251 530.619 Q42.138 533.038 38.0002 533.038 Q32.9713 533.038 30.2341 529.473 Q27.4968 525.908 27.4968 519.352 Q27.4968 516.105 27.9743 513.24 Q28.4517 510.376 29.4065 507.957 Z\" fill=\"#000000\" fill-rule=\"evenodd\" fill-opacity=\"1\" /><path clip-path=\"url(#clip220)\" d=\"M826.282 16.7545 L826.282 25.383 Q822.151 21.5346 817.451 19.6307 Q812.793 17.7268 807.527 17.7268 Q797.156 17.7268 791.647 24.0867 Q786.138 30.4061 786.138 42.3968 Q786.138 54.3469 791.647 60.7069 Q797.156 67.0263 807.527 67.0263 Q812.793 67.0263 817.451 65.1223 Q822.151 63.2184 826.282 59.3701 L826.282 67.9175 Q821.988 70.8341 817.168 72.2924 Q812.388 73.7508 807.041 73.7508 Q793.308 73.7508 785.409 65.3654 Q777.51 56.9395 777.51 42.3968 Q777.51 27.8135 785.409 19.4281 Q793.308 11.0023 807.041 11.0023 Q812.469 11.0023 817.249 12.4606 Q822.07 13.8784 826.282 16.7545 Z\" fill=\"#000000\" fill-rule=\"evenodd\" fill-opacity=\"1\" /><path clip-path=\"url(#clip220)\" d=\"M856.178 32.4315 Q850.183 32.4315 846.699 37.1306 Q843.215 41.7891 843.215 49.9314 Q843.215 58.0738 846.658 62.7728 Q850.142 67.4314 856.178 67.4314 Q862.133 67.4314 865.617 62.7323 Q869.101 58.0333 869.101 49.9314 Q869.101 41.8701 865.617 37.1711 Q862.133 32.4315 856.178 32.4315 M856.178 26.1121 Q865.9 26.1121 871.45 32.4315 Q877 38.7509 877 49.9314 Q877 61.0714 871.45 67.4314 Q865.9 73.7508 856.178 73.7508 Q846.415 73.7508 840.866 67.4314 Q835.356 61.0714 835.356 49.9314 Q835.356 38.7509 840.866 32.4315 Q846.415 26.1121 856.178 26.1121 Z\" fill=\"#000000\" fill-rule=\"evenodd\" fill-opacity=\"1\" /><path clip-path=\"url(#clip220)\" d=\"M924.679 35.9153 Q927.474 30.8922 931.363 28.5022 Q935.252 26.1121 940.518 26.1121 Q947.607 26.1121 951.455 31.0947 Q955.304 36.0368 955.304 45.1919 L955.304 72.576 L947.81 72.576 L947.81 45.4349 Q947.81 38.913 945.501 35.7533 Q943.192 32.5936 938.452 32.5936 Q932.659 32.5936 929.297 36.4419 Q925.935 40.2903 925.935 46.9338 L925.935 72.576 L918.441 72.576 L918.441 45.4349 Q918.441 38.8725 916.132 35.7533 Q913.822 32.5936 909.002 32.5936 Q903.29 32.5936 899.928 36.4824 Q896.566 40.3308 896.566 46.9338 L896.566 72.576 L889.071 72.576 L889.071 27.2059 L896.566 27.2059 L896.566 34.2544 Q899.118 30.082 902.682 28.0971 Q906.247 26.1121 911.149 26.1121 Q916.091 26.1121 919.534 28.6237 Q923.018 31.1352 924.679 35.9153 Z\" fill=\"#000000\" fill-rule=\"evenodd\" fill-opacity=\"1\" /><path clip-path=\"url(#clip220)\" d=\"M977.381 65.7705 L977.381 89.8329 L969.887 89.8329 L969.887 27.2059 L977.381 27.2059 L977.381 34.0924 Q979.731 30.0415 983.295 28.0971 Q986.901 26.1121 991.883 26.1121 Q1000.15 26.1121 1005.29 32.6746 Q1010.48 39.2371 1010.48 49.9314 Q1010.48 60.6258 1005.29 67.1883 Q1000.15 73.7508 991.883 73.7508 Q986.901 73.7508 983.295 71.8063 Q979.731 69.8214 977.381 65.7705 M1002.74 49.9314 Q1002.74 41.7081 999.337 37.0496 Q995.975 32.3505 990.061 32.3505 Q984.146 32.3505 980.743 37.0496 Q977.381 41.7081 977.381 49.9314 Q977.381 58.1548 980.743 62.8538 Q984.146 67.5124 990.061 67.5124 Q995.975 67.5124 999.337 62.8538 Q1002.74 58.1548 1002.74 49.9314 Z\" fill=\"#000000\" fill-rule=\"evenodd\" fill-opacity=\"1\" /><path clip-path=\"url(#clip220)\" d=\"M1043.45 49.7694 Q1034.42 49.7694 1030.93 51.8354 Q1027.45 53.9013 1027.45 58.8839 Q1027.45 62.8538 1030.04 65.2034 Q1032.68 67.5124 1037.17 67.5124 Q1043.37 67.5124 1047.1 63.1374 Q1050.86 58.7219 1050.86 51.4303 L1050.86 49.7694 L1043.45 49.7694 M1058.32 46.6907 L1058.32 72.576 L1050.86 72.576 L1050.86 65.6895 Q1048.31 69.8214 1044.5 71.8063 Q1040.7 73.7508 1035.19 73.7508 Q1028.22 73.7508 1024.09 69.8619 Q1020 65.9325 1020 59.3701 Q1020 51.7138 1025.1 47.825 Q1030.25 43.9361 1040.41 43.9361 L1050.86 43.9361 L1050.86 43.2069 Q1050.86 38.0623 1047.46 35.2672 Q1044.1 32.4315 1037.98 32.4315 Q1034.09 32.4315 1030.41 33.3632 Q1026.72 34.295 1023.32 36.1584 L1023.32 29.2718 Q1027.41 27.692 1031.26 26.9223 Q1035.11 26.1121 1038.75 26.1121 Q1048.6 26.1121 1053.46 31.2163 Q1058.32 36.3204 1058.32 46.6907 Z\" fill=\"#000000\" fill-rule=\"evenodd\" fill-opacity=\"1\" /><path clip-path=\"url(#clip220)\" d=\"M1099.96 34.1734 Q1098.71 33.4443 1097.21 33.1202 Q1095.75 32.7556 1093.97 32.7556 Q1087.65 32.7556 1084.24 36.8875 Q1080.88 40.9789 1080.88 48.6757 L1080.88 72.576 L1073.39 72.576 L1073.39 27.2059 L1080.88 27.2059 L1080.88 34.2544 Q1083.23 30.1225 1087 28.1376 Q1090.77 26.1121 1096.15 26.1121 Q1096.92 26.1121 1097.86 26.2337 Q1098.79 26.3147 1099.92 26.5172 L1099.96 34.1734 Z\" fill=\"#000000\" fill-rule=\"evenodd\" fill-opacity=\"1\" /><path clip-path=\"url(#clip220)\" d=\"M1128.4 49.7694 Q1119.37 49.7694 1115.88 51.8354 Q1112.4 53.9013 1112.4 58.8839 Q1112.4 62.8538 1114.99 65.2034 Q1117.62 67.5124 1122.12 67.5124 Q1128.32 67.5124 1132.04 63.1374 Q1135.81 58.7219 1135.81 51.4303 L1135.81 49.7694 L1128.4 49.7694 M1143.27 46.6907 L1143.27 72.576 L1135.81 72.576 L1135.81 65.6895 Q1133.26 69.8214 1129.45 71.8063 Q1125.64 73.7508 1120.14 73.7508 Q1113.17 73.7508 1109.04 69.8619 Q1104.94 65.9325 1104.94 59.3701 Q1104.94 51.7138 1110.05 47.825 Q1115.19 43.9361 1125.36 43.9361 L1135.81 43.9361 L1135.81 43.2069 Q1135.81 38.0623 1132.41 35.2672 Q1129.05 32.4315 1122.93 32.4315 Q1119.04 32.4315 1115.35 33.3632 Q1111.67 34.295 1108.27 36.1584 L1108.27 29.2718 Q1112.36 27.692 1116.21 26.9223 Q1120.05 26.1121 1123.7 26.1121 Q1133.54 26.1121 1138.4 31.2163 Q1143.27 36.3204 1143.27 46.6907 Z\" fill=\"#000000\" fill-rule=\"evenodd\" fill-opacity=\"1\" /><path clip-path=\"url(#clip220)\" d=\"M1191.27 28.9478 L1191.27 35.9153 Q1188.11 34.1734 1184.91 33.3227 Q1181.75 32.4315 1178.51 32.4315 Q1171.26 32.4315 1167.25 37.0496 Q1163.24 41.6271 1163.24 49.9314 Q1163.24 58.2358 1167.25 62.8538 Q1171.26 67.4314 1178.51 67.4314 Q1181.75 67.4314 1184.91 66.5807 Q1188.11 65.6895 1191.27 63.9476 L1191.27 70.8341 Q1188.15 72.2924 1184.79 73.0216 Q1181.47 73.7508 1177.7 73.7508 Q1167.45 73.7508 1161.41 67.3098 Q1155.38 60.8689 1155.38 49.9314 Q1155.38 38.832 1161.45 32.472 Q1167.57 26.1121 1178.18 26.1121 Q1181.63 26.1121 1184.91 26.8413 Q1188.19 27.5299 1191.27 28.9478 Z\" fill=\"#000000\" fill-rule=\"evenodd\" fill-opacity=\"1\" /><path clip-path=\"url(#clip220)\" d=\"M1204.23 27.2059 L1211.69 27.2059 L1211.69 72.576 L1204.23 72.576 L1204.23 27.2059 M1204.23 9.54393 L1211.69 9.54393 L1211.69 18.9825 L1204.23 18.9825 L1204.23 9.54393 Z\" fill=\"#000000\" fill-rule=\"evenodd\" fill-opacity=\"1\" /><path clip-path=\"url(#clip220)\" d=\"M1244.86 32.4315 Q1238.87 32.4315 1235.38 37.1306 Q1231.9 41.7891 1231.9 49.9314 Q1231.9 58.0738 1235.34 62.7728 Q1238.83 67.4314 1244.86 67.4314 Q1250.82 67.4314 1254.3 62.7323 Q1257.78 58.0333 1257.78 49.9314 Q1257.78 41.8701 1254.3 37.1711 Q1250.82 32.4315 1244.86 32.4315 M1244.86 26.1121 Q1254.58 26.1121 1260.13 32.4315 Q1265.68 38.7509 1265.68 49.9314 Q1265.68 61.0714 1260.13 67.4314 Q1254.58 73.7508 1244.86 73.7508 Q1235.1 73.7508 1229.55 67.4314 Q1224.04 61.0714 1224.04 49.9314 Q1224.04 38.7509 1229.55 32.4315 Q1235.1 26.1121 1244.86 26.1121 M1250.49 6.22219 L1258.55 6.22219 L1245.35 21.4536 L1239.15 21.4536 L1250.49 6.22219 Z\" fill=\"#000000\" fill-rule=\"evenodd\" fill-opacity=\"1\" /><path clip-path=\"url(#clip220)\" d=\"M1315.75 45.1919 L1315.75 72.576 L1308.3 72.576 L1308.3 45.4349 Q1308.3 38.994 1305.79 35.7938 Q1303.28 32.5936 1298.25 32.5936 Q1292.22 32.5936 1288.73 36.4419 Q1285.25 40.2903 1285.25 46.9338 L1285.25 72.576 L1277.76 72.576 L1277.76 27.2059 L1285.25 27.2059 L1285.25 34.2544 Q1287.92 30.163 1291.53 28.1376 Q1295.17 26.1121 1299.91 26.1121 Q1307.73 26.1121 1311.74 30.9732 Q1315.75 35.7938 1315.75 45.1919 Z\" fill=\"#000000\" fill-rule=\"evenodd\" fill-opacity=\"1\" /><path clip-path=\"url(#clip220)\" d=\"M1386.85 34.0924 L1386.85 9.54393 L1394.3 9.54393 L1394.3 72.576 L1386.85 72.576 L1386.85 65.7705 Q1384.5 69.8214 1380.89 71.8063 Q1377.33 73.7508 1372.3 73.7508 Q1364.08 73.7508 1358.9 67.1883 Q1353.75 60.6258 1353.75 49.9314 Q1353.75 39.2371 1358.9 32.6746 Q1364.08 26.1121 1372.3 26.1121 Q1377.33 26.1121 1380.89 28.0971 Q1384.5 30.0415 1386.85 34.0924 M1361.45 49.9314 Q1361.45 58.1548 1364.81 62.8538 Q1368.21 67.5124 1374.13 67.5124 Q1380.04 67.5124 1383.44 62.8538 Q1386.85 58.1548 1386.85 49.9314 Q1386.85 41.7081 1383.44 37.0496 Q1380.04 32.3505 1374.13 32.3505 Q1368.21 32.3505 1364.81 37.0496 Q1361.45 41.7081 1361.45 49.9314 Z\" fill=\"#000000\" fill-rule=\"evenodd\" fill-opacity=\"1\" /><path clip-path=\"url(#clip220)\" d=\"M1448.46 48.0275 L1448.46 51.6733 L1414.19 51.6733 Q1414.68 59.3701 1418.81 63.421 Q1422.98 67.4314 1430.39 67.4314 Q1434.69 67.4314 1438.7 66.3781 Q1442.75 65.3249 1446.72 63.2184 L1446.72 70.267 Q1442.71 71.9684 1438.5 72.8596 Q1434.28 73.7508 1429.95 73.7508 Q1419.09 73.7508 1412.73 67.4314 Q1406.41 61.1119 1406.41 50.3365 Q1406.41 39.1965 1412.41 32.6746 Q1418.44 26.1121 1428.65 26.1121 Q1437.81 26.1121 1443.11 32.0264 Q1448.46 37.9003 1448.46 48.0275 M1441.01 45.84 Q1440.93 39.7232 1437.56 36.0774 Q1434.24 32.4315 1428.73 32.4315 Q1422.49 32.4315 1418.73 35.9558 Q1415 39.4801 1414.43 45.8805 L1441.01 45.84 Z\" fill=\"#000000\" fill-rule=\"evenodd\" fill-opacity=\"1\" /><path clip-path=\"url(#clip220)\" d=\"M1487.39 12.096 L1499.58 12.096 L1515.02 53.2532 L1530.53 12.096 L1542.73 12.096 L1542.73 72.576 L1534.75 72.576 L1534.75 19.4686 L1519.15 60.9499 L1510.93 60.9499 L1495.33 19.4686 L1495.33 72.576 L1487.39 72.576 L1487.39 12.096 Z\" fill=\"#000000\" fill-rule=\"evenodd\" fill-opacity=\"1\" /><path clip-path=\"url(#clip220)\" d=\"M1597.45 48.0275 L1597.45 51.6733 L1563.18 51.6733 Q1563.67 59.3701 1567.8 63.421 Q1571.97 67.4314 1579.39 67.4314 Q1583.68 67.4314 1587.69 66.3781 Q1591.74 65.3249 1595.71 63.2184 L1595.71 70.267 Q1591.7 71.9684 1587.49 72.8596 Q1583.27 73.7508 1578.94 73.7508 Q1568.08 73.7508 1561.72 67.4314 Q1555.4 61.1119 1555.4 50.3365 Q1555.4 39.1965 1561.4 32.6746 Q1567.44 26.1121 1577.64 26.1121 Q1586.8 26.1121 1592.11 32.0264 Q1597.45 37.9003 1597.45 48.0275 M1590 45.84 Q1589.92 39.7232 1586.56 36.0774 Q1583.23 32.4315 1577.73 32.4315 Q1571.49 32.4315 1567.72 35.9558 Q1563.99 39.4801 1563.43 45.8805 L1590 45.84 M1582.83 6.22219 L1590.89 6.22219 L1577.68 21.4536 L1571.49 21.4536 L1582.83 6.22219 Z\" fill=\"#000000\" fill-rule=\"evenodd\" fill-opacity=\"1\" /><path clip-path=\"url(#clip220)\" d=\"M1617.06 14.324 L1617.06 27.2059 L1632.41 27.2059 L1632.41 32.9987 L1617.06 32.9987 L1617.06 57.6282 Q1617.06 63.1779 1618.56 64.7578 Q1620.1 66.3376 1624.76 66.3376 L1632.41 66.3376 L1632.41 72.576 L1624.76 72.576 Q1616.13 72.576 1612.85 69.3758 Q1609.57 66.1351 1609.57 57.6282 L1609.57 32.9987 L1604.1 32.9987 L1604.1 27.2059 L1609.57 27.2059 L1609.57 14.324 L1617.06 14.324 Z\" fill=\"#000000\" fill-rule=\"evenodd\" fill-opacity=\"1\" /><path clip-path=\"url(#clip220)\" d=\"M1659.8 32.4315 Q1653.8 32.4315 1650.32 37.1306 Q1646.83 41.7891 1646.83 49.9314 Q1646.83 58.0738 1650.28 62.7728 Q1653.76 67.4314 1659.8 67.4314 Q1665.75 67.4314 1669.24 62.7323 Q1672.72 58.0333 1672.72 49.9314 Q1672.72 41.8701 1669.24 37.1711 Q1665.75 32.4315 1659.8 32.4315 M1659.8 26.1121 Q1669.52 26.1121 1675.07 32.4315 Q1680.62 38.7509 1680.62 49.9314 Q1680.62 61.0714 1675.07 67.4314 Q1669.52 73.7508 1659.8 73.7508 Q1650.03 73.7508 1644.48 67.4314 Q1638.97 61.0714 1638.97 49.9314 Q1638.97 38.7509 1644.48 32.4315 Q1650.03 26.1121 1659.8 26.1121 Z\" fill=\"#000000\" fill-rule=\"evenodd\" fill-opacity=\"1\" /><path clip-path=\"url(#clip220)\" d=\"M1722.83 34.0924 L1722.83 9.54393 L1730.28 9.54393 L1730.28 72.576 L1722.83 72.576 L1722.83 65.7705 Q1720.48 69.8214 1716.87 71.8063 Q1713.31 73.7508 1708.29 73.7508 Q1700.06 73.7508 1694.88 67.1883 Q1689.73 60.6258 1689.73 49.9314 Q1689.73 39.2371 1694.88 32.6746 Q1700.06 26.1121 1708.29 26.1121 Q1713.31 26.1121 1716.87 28.0971 Q1720.48 30.0415 1722.83 34.0924 M1697.43 49.9314 Q1697.43 58.1548 1700.79 62.8538 Q1704.19 67.5124 1710.11 67.5124 Q1716.02 67.5124 1719.43 62.8538 Q1722.83 58.1548 1722.83 49.9314 Q1722.83 41.7081 1719.43 37.0496 Q1716.02 32.3505 1710.11 32.3505 Q1704.19 32.3505 1700.79 37.0496 Q1697.43 41.7081 1697.43 49.9314 Z\" fill=\"#000000\" fill-rule=\"evenodd\" fill-opacity=\"1\" /><path clip-path=\"url(#clip220)\" d=\"M1763.22 32.4315 Q1757.22 32.4315 1753.74 37.1306 Q1750.25 41.7891 1750.25 49.9314 Q1750.25 58.0738 1753.7 62.7728 Q1757.18 67.4314 1763.22 67.4314 Q1769.17 67.4314 1772.65 62.7323 Q1776.14 58.0333 1776.14 49.9314 Q1776.14 41.8701 1772.65 37.1711 Q1769.17 32.4315 1763.22 32.4315 M1763.22 26.1121 Q1772.94 26.1121 1778.49 32.4315 Q1784.04 38.7509 1784.04 49.9314 Q1784.04 61.0714 1778.49 67.4314 Q1772.94 73.7508 1763.22 73.7508 Q1753.45 73.7508 1747.9 67.4314 Q1742.39 61.0714 1742.39 49.9314 Q1742.39 38.7509 1747.9 32.4315 Q1753.45 26.1121 1763.22 26.1121 Z\" fill=\"#000000\" fill-rule=\"evenodd\" fill-opacity=\"1\" /><path clip-path=\"url(#clip220)\" d=\"M1825.32 28.5427 L1825.32 35.5912 Q1822.16 33.9709 1818.75 33.1607 Q1815.35 32.3505 1811.71 32.3505 Q1806.16 32.3505 1803.36 34.0519 Q1800.61 35.7533 1800.61 39.156 Q1800.61 41.7486 1802.59 43.2475 Q1804.58 44.7058 1810.57 46.0426 L1813.12 46.6097 Q1821.06 48.3111 1824.38 51.4303 Q1827.75 54.509 1827.75 60.0587 Q1827.75 66.3781 1822.72 70.0644 Q1817.74 73.7508 1808.99 73.7508 Q1805.35 73.7508 1801.38 73.0216 Q1797.45 72.3329 1793.07 70.9151 L1793.07 63.2184 Q1797.2 65.3654 1801.21 66.4591 Q1805.22 67.5124 1809.15 67.5124 Q1814.42 67.5124 1817.26 65.73 Q1820.09 63.9071 1820.09 60.6258 Q1820.09 57.5877 1818.02 55.9673 Q1816 54.3469 1809.07 52.8481 L1806.48 52.2405 Q1799.55 50.7821 1796.47 47.7845 Q1793.4 44.7463 1793.4 39.4801 Q1793.4 33.0797 1797.93 29.5959 Q1802.47 26.1121 1810.81 26.1121 Q1814.95 26.1121 1818.59 26.7198 Q1822.24 27.3274 1825.32 28.5427 Z\" fill=\"#000000\" fill-rule=\"evenodd\" fill-opacity=\"1\" /><circle clip-path=\"url(#clip222)\" cx=\"311.942\" cy=\"227.733\" r=\"14.4\" fill=\"#009af9\" fill-rule=\"evenodd\" fill-opacity=\"1\" stroke=\"#000000\" stroke-opacity=\"1\" stroke-width=\"3.2\"/>\n",
       "<circle clip-path=\"url(#clip222)\" cx=\"492.067\" cy=\"306.336\" r=\"14.4\" fill=\"#009af9\" fill-rule=\"evenodd\" fill-opacity=\"1\" stroke=\"#000000\" stroke-opacity=\"1\" stroke-width=\"3.2\"/>\n",
       "<circle clip-path=\"url(#clip222)\" cx=\"672.191\" cy=\"405.658\" r=\"14.4\" fill=\"#009af9\" fill-rule=\"evenodd\" fill-opacity=\"1\" stroke=\"#000000\" stroke-opacity=\"1\" stroke-width=\"3.2\"/>\n",
       "<circle clip-path=\"url(#clip222)\" cx=\"852.316\" cy=\"520.114\" r=\"14.4\" fill=\"#009af9\" fill-rule=\"evenodd\" fill-opacity=\"1\" stroke=\"#000000\" stroke-opacity=\"1\" stroke-width=\"3.2\"/>\n",
       "<circle clip-path=\"url(#clip222)\" cx=\"1032.44\" cy=\"643.954\" r=\"14.4\" fill=\"#009af9\" fill-rule=\"evenodd\" fill-opacity=\"1\" stroke=\"#000000\" stroke-opacity=\"1\" stroke-width=\"3.2\"/>\n",
       "<circle clip-path=\"url(#clip222)\" cx=\"1212.57\" cy=\"772.857\" r=\"14.4\" fill=\"#009af9\" fill-rule=\"evenodd\" fill-opacity=\"1\" stroke=\"#000000\" stroke-opacity=\"1\" stroke-width=\"3.2\"/>\n",
       "<circle clip-path=\"url(#clip222)\" cx=\"1392.69\" cy=\"904.731\" r=\"14.4\" fill=\"#009af9\" fill-rule=\"evenodd\" fill-opacity=\"1\" stroke=\"#000000\" stroke-opacity=\"1\" stroke-width=\"3.2\"/>\n",
       "<circle clip-path=\"url(#clip222)\" cx=\"1572.82\" cy=\"1048.02\" r=\"14.4\" fill=\"#009af9\" fill-rule=\"evenodd\" fill-opacity=\"1\" stroke=\"#000000\" stroke-opacity=\"1\" stroke-width=\"3.2\"/>\n",
       "<circle clip-path=\"url(#clip222)\" cx=\"1752.94\" cy=\"1219.52\" r=\"14.4\" fill=\"#009af9\" fill-rule=\"evenodd\" fill-opacity=\"1\" stroke=\"#000000\" stroke-opacity=\"1\" stroke-width=\"3.2\"/>\n",
       "<circle clip-path=\"url(#clip222)\" cx=\"1933.07\" cy=\"1256.32\" r=\"14.4\" fill=\"#009af9\" fill-rule=\"evenodd\" fill-opacity=\"1\" stroke=\"#000000\" stroke-opacity=\"1\" stroke-width=\"3.2\"/>\n",
       "<circle clip-path=\"url(#clip222)\" cx=\"2113.19\" cy=\"1198.5\" r=\"14.4\" fill=\"#009af9\" fill-rule=\"evenodd\" fill-opacity=\"1\" stroke=\"#000000\" stroke-opacity=\"1\" stroke-width=\"3.2\"/>\n",
       "<circle clip-path=\"url(#clip222)\" cx=\"2293.31\" cy=\"1157.55\" r=\"14.4\" fill=\"#009af9\" fill-rule=\"evenodd\" fill-opacity=\"1\" stroke=\"#000000\" stroke-opacity=\"1\" stroke-width=\"3.2\"/>\n",
       "<circle clip-path=\"url(#clip222)\" cx=\"311.942\" cy=\"159.909\" r=\"14.4\" fill=\"#e26f46\" fill-rule=\"evenodd\" fill-opacity=\"1\" stroke=\"#000000\" stroke-opacity=\"1\" stroke-width=\"3.2\"/>\n",
       "<circle clip-path=\"url(#clip222)\" cx=\"492.067\" cy=\"294.648\" r=\"14.4\" fill=\"#e26f46\" fill-rule=\"evenodd\" fill-opacity=\"1\" stroke=\"#000000\" stroke-opacity=\"1\" stroke-width=\"3.2\"/>\n",
       "<circle clip-path=\"url(#clip222)\" cx=\"672.191\" cy=\"429.61\" r=\"14.4\" fill=\"#e26f46\" fill-rule=\"evenodd\" fill-opacity=\"1\" stroke=\"#000000\" stroke-opacity=\"1\" stroke-width=\"3.2\"/>\n",
       "<circle clip-path=\"url(#clip222)\" cx=\"852.316\" cy=\"564.613\" r=\"14.4\" fill=\"#e26f46\" fill-rule=\"evenodd\" fill-opacity=\"1\" stroke=\"#000000\" stroke-opacity=\"1\" stroke-width=\"3.2\"/>\n",
       "<circle clip-path=\"url(#clip222)\" cx=\"1032.44\" cy=\"699.696\" r=\"14.4\" fill=\"#e26f46\" fill-rule=\"evenodd\" fill-opacity=\"1\" stroke=\"#000000\" stroke-opacity=\"1\" stroke-width=\"3.2\"/>\n",
       "<circle clip-path=\"url(#clip222)\" cx=\"1212.57\" cy=\"833.333\" r=\"14.4\" fill=\"#e26f46\" fill-rule=\"evenodd\" fill-opacity=\"1\" stroke=\"#000000\" stroke-opacity=\"1\" stroke-width=\"3.2\"/>\n",
       "<circle clip-path=\"url(#clip222)\" cx=\"1392.69\" cy=\"971.753\" r=\"14.4\" fill=\"#e26f46\" fill-rule=\"evenodd\" fill-opacity=\"1\" stroke=\"#000000\" stroke-opacity=\"1\" stroke-width=\"3.2\"/>\n",
       "<circle clip-path=\"url(#clip222)\" cx=\"1572.82\" cy=\"1067.16\" r=\"14.4\" fill=\"#e26f46\" fill-rule=\"evenodd\" fill-opacity=\"1\" stroke=\"#000000\" stroke-opacity=\"1\" stroke-width=\"3.2\"/>\n",
       "<circle clip-path=\"url(#clip222)\" cx=\"1752.94\" cy=\"1374.46\" r=\"14.4\" fill=\"#e26f46\" fill-rule=\"evenodd\" fill-opacity=\"1\" stroke=\"#000000\" stroke-opacity=\"1\" stroke-width=\"3.2\"/>\n",
       "<circle clip-path=\"url(#clip222)\" cx=\"1933.07\" cy=\"1256.32\" r=\"14.4\" fill=\"#e26f46\" fill-rule=\"evenodd\" fill-opacity=\"1\" stroke=\"#000000\" stroke-opacity=\"1\" stroke-width=\"3.2\"/>\n",
       "<circle clip-path=\"url(#clip222)\" cx=\"2113.19\" cy=\"1256.32\" r=\"14.4\" fill=\"#e26f46\" fill-rule=\"evenodd\" fill-opacity=\"1\" stroke=\"#000000\" stroke-opacity=\"1\" stroke-width=\"3.2\"/>\n",
       "<circle clip-path=\"url(#clip222)\" cx=\"2293.31\" cy=\"1374.46\" r=\"14.4\" fill=\"#e26f46\" fill-rule=\"evenodd\" fill-opacity=\"1\" stroke=\"#000000\" stroke-opacity=\"1\" stroke-width=\"3.2\"/>\n",
       "<circle clip-path=\"url(#clip222)\" cx=\"311.942\" cy=\"561.203\" r=\"14.4\" fill=\"#3da44d\" fill-rule=\"evenodd\" fill-opacity=\"1\" stroke=\"#000000\" stroke-opacity=\"1\" stroke-width=\"3.2\"/>\n",
       "<circle clip-path=\"url(#clip222)\" cx=\"492.067\" cy=\"828.98\" r=\"14.4\" fill=\"#3da44d\" fill-rule=\"evenodd\" fill-opacity=\"1\" stroke=\"#000000\" stroke-opacity=\"1\" stroke-width=\"3.2\"/>\n",
       "<circle clip-path=\"url(#clip222)\" cx=\"672.191\" cy=\"1095.43\" r=\"14.4\" fill=\"#3da44d\" fill-rule=\"evenodd\" fill-opacity=\"1\" stroke=\"#000000\" stroke-opacity=\"1\" stroke-width=\"3.2\"/>\n",
       "<circle clip-path=\"url(#clip222)\" cx=\"852.316\" cy=\"1298.48\" r=\"14.4\" fill=\"#3da44d\" fill-rule=\"evenodd\" fill-opacity=\"1\" stroke=\"#000000\" stroke-opacity=\"1\" stroke-width=\"3.2\"/>\n",
       "<circle clip-path=\"url(#clip222)\" cx=\"1032.44\" cy=\"1374.46\" r=\"14.4\" fill=\"#3da44d\" fill-rule=\"evenodd\" fill-opacity=\"1\" stroke=\"#000000\" stroke-opacity=\"1\" stroke-width=\"3.2\"/>\n",
       "<circle clip-path=\"url(#clip222)\" cx=\"1212.57\" cy=\"1374.46\" r=\"14.4\" fill=\"#3da44d\" fill-rule=\"evenodd\" fill-opacity=\"1\" stroke=\"#000000\" stroke-opacity=\"1\" stroke-width=\"3.2\"/>\n",
       "<circle clip-path=\"url(#clip222)\" cx=\"1392.69\" cy=\"1344.31\" r=\"14.4\" fill=\"#3da44d\" fill-rule=\"evenodd\" fill-opacity=\"1\" stroke=\"#000000\" stroke-opacity=\"1\" stroke-width=\"3.2\"/>\n",
       "<circle clip-path=\"url(#clip222)\" cx=\"1572.82\" cy=\"1283.5\" r=\"14.4\" fill=\"#3da44d\" fill-rule=\"evenodd\" fill-opacity=\"1\" stroke=\"#000000\" stroke-opacity=\"1\" stroke-width=\"3.2\"/>\n",
       "<circle clip-path=\"url(#clip222)\" cx=\"1752.94\" cy=\"1256.32\" r=\"14.4\" fill=\"#3da44d\" fill-rule=\"evenodd\" fill-opacity=\"1\" stroke=\"#000000\" stroke-opacity=\"1\" stroke-width=\"3.2\"/>\n",
       "<circle clip-path=\"url(#clip222)\" cx=\"1933.07\" cy=\"1246.35\" r=\"14.4\" fill=\"#3da44d\" fill-rule=\"evenodd\" fill-opacity=\"1\" stroke=\"#000000\" stroke-opacity=\"1\" stroke-width=\"3.2\"/>\n",
       "<circle clip-path=\"url(#clip222)\" cx=\"2113.19\" cy=\"1181.23\" r=\"14.4\" fill=\"#3da44d\" fill-rule=\"evenodd\" fill-opacity=\"1\" stroke=\"#000000\" stroke-opacity=\"1\" stroke-width=\"3.2\"/>\n",
       "<circle clip-path=\"url(#clip222)\" cx=\"2293.31\" cy=\"1142.54\" r=\"14.4\" fill=\"#3da44d\" fill-rule=\"evenodd\" fill-opacity=\"1\" stroke=\"#000000\" stroke-opacity=\"1\" stroke-width=\"3.2\"/>\n",
       "<path clip-path=\"url(#clip220)\" d=\"M1787.12 373.746 L2282.75 373.746 L2282.75 166.386 L1787.12 166.386  Z\" fill=\"#ffffff\" fill-rule=\"evenodd\" fill-opacity=\"1\"/>\n",
       "<polyline clip-path=\"url(#clip220)\" style=\"stroke:#000000; stroke-linecap:round; stroke-linejoin:round; stroke-width:4; stroke-opacity:1; fill:none\" points=\"1787.12,373.746 2282.75,373.746 2282.75,166.386 1787.12,166.386 1787.12,373.746 \"/>\n",
       "<circle clip-path=\"url(#clip220)\" cx=\"1880.47\" cy=\"218.226\" r=\"23.04\" fill=\"#009af9\" fill-rule=\"evenodd\" fill-opacity=\"1\" stroke=\"#000000\" stroke-opacity=\"1\" stroke-width=\"5.12\"/>\n",
       "<path clip-path=\"url(#clip220)\" d=\"M1978.49 204.789 L1978.49 217.775 L1984.37 217.775 Q1987.63 217.775 1989.41 216.085 Q1991.2 214.395 1991.2 211.27 Q1991.2 208.168 1989.41 206.479 Q1987.63 204.789 1984.37 204.789 L1978.49 204.789 M1973.81 200.946 L1984.37 200.946 Q1990.18 200.946 1993.14 203.585 Q1996.13 206.201 1996.13 211.27 Q1996.13 216.386 1993.14 219.002 Q1990.18 221.617 1984.37 221.617 L1978.49 221.617 L1978.49 235.506 L1973.81 235.506 L1973.81 200.946 Z\" fill=\"#000000\" fill-rule=\"evenodd\" fill-opacity=\"1\" /><path clip-path=\"url(#clip220)\" d=\"M2000.94 225.275 L2000.94 209.58 L2005.2 209.58 L2005.2 225.113 Q2005.2 228.793 2006.63 230.645 Q2008.07 232.474 2010.94 232.474 Q2014.39 232.474 2016.38 230.275 Q2018.39 228.076 2018.39 224.279 L2018.39 209.58 L2022.65 209.58 L2022.65 235.506 L2018.39 235.506 L2018.39 231.525 Q2016.84 233.886 2014.78 235.043 Q2012.75 236.178 2010.04 236.178 Q2005.57 236.178 2003.26 233.4 Q2000.94 230.622 2000.94 225.275 M2011.66 208.955 L2011.66 208.955 Z\" fill=\"#000000\" fill-rule=\"evenodd\" fill-opacity=\"1\" /><path clip-path=\"url(#clip220)\" d=\"M2052.98 219.858 L2052.98 235.506 L2048.72 235.506 L2048.72 219.997 Q2048.72 216.317 2047.28 214.488 Q2045.85 212.659 2042.98 212.659 Q2039.53 212.659 2037.54 214.858 Q2035.55 217.057 2035.55 220.854 L2035.55 235.506 L2031.26 235.506 L2031.26 209.58 L2035.55 209.58 L2035.55 213.608 Q2037.07 211.27 2039.13 210.113 Q2041.22 208.955 2043.93 208.955 Q2048.39 208.955 2050.69 211.733 Q2052.98 214.488 2052.98 219.858 Z\" fill=\"#000000\" fill-rule=\"evenodd\" fill-opacity=\"1\" /><path clip-path=\"url(#clip220)\" d=\"M2065.69 202.219 L2065.69 209.58 L2074.46 209.58 L2074.46 212.891 L2065.69 212.891 L2065.69 226.965 Q2065.69 230.136 2066.54 231.039 Q2067.42 231.941 2070.08 231.941 L2074.46 231.941 L2074.46 235.506 L2070.08 235.506 Q2065.15 235.506 2063.28 233.678 Q2061.4 231.826 2061.4 226.965 L2061.4 212.891 L2058.28 212.891 L2058.28 209.58 L2061.4 209.58 L2061.4 202.219 L2065.69 202.219 Z\" fill=\"#000000\" fill-rule=\"evenodd\" fill-opacity=\"1\" /><path clip-path=\"url(#clip220)\" d=\"M2090.11 212.567 Q2086.68 212.567 2084.69 215.252 Q2082.7 217.914 2082.7 222.567 Q2082.7 227.219 2084.67 229.904 Q2086.66 232.566 2090.11 232.566 Q2093.51 232.566 2095.5 229.881 Q2097.49 227.196 2097.49 222.567 Q2097.49 217.96 2095.5 215.275 Q2093.51 212.567 2090.11 212.567 M2090.11 208.955 Q2095.66 208.955 2098.83 212.567 Q2102 216.178 2102 222.567 Q2102 228.932 2098.83 232.566 Q2095.66 236.178 2090.11 236.178 Q2084.53 236.178 2081.36 232.566 Q2078.21 228.932 2078.21 222.567 Q2078.21 216.178 2081.36 212.567 Q2084.53 208.955 2090.11 208.955 Z\" fill=\"#000000\" fill-rule=\"evenodd\" fill-opacity=\"1\" /><path clip-path=\"url(#clip220)\" d=\"M2124.32 200.946 L2131.29 200.946 L2140.11 224.465 L2148.97 200.946 L2155.94 200.946 L2155.94 235.506 L2151.38 235.506 L2151.38 205.159 L2142.47 228.863 L2137.77 228.863 L2128.86 205.159 L2128.86 235.506 L2124.32 235.506 L2124.32 200.946 Z\" fill=\"#000000\" fill-rule=\"evenodd\" fill-opacity=\"1\" /><path clip-path=\"url(#clip220)\" d=\"M2187.21 221.479 L2187.21 223.562 L2167.63 223.562 Q2167.91 227.96 2170.27 230.275 Q2172.65 232.566 2176.89 232.566 Q2179.34 232.566 2181.63 231.965 Q2183.95 231.363 2186.22 230.159 L2186.22 234.187 Q2183.93 235.159 2181.52 235.668 Q2179.11 236.178 2176.63 236.178 Q2170.43 236.178 2166.8 232.566 Q2163.18 228.955 2163.18 222.798 Q2163.18 216.432 2166.61 212.705 Q2170.06 208.955 2175.89 208.955 Q2181.12 208.955 2184.16 212.335 Q2187.21 215.692 2187.21 221.479 M2182.95 220.229 Q2182.91 216.733 2180.99 214.65 Q2179.09 212.567 2175.94 212.567 Q2172.37 212.567 2170.22 214.58 Q2168.09 216.594 2167.77 220.252 L2182.95 220.229 Z\" fill=\"#000000\" fill-rule=\"evenodd\" fill-opacity=\"1\" /><path clip-path=\"url(#clip220)\" d=\"M2211.26 213.516 L2211.26 199.488 L2215.52 199.488 L2215.52 235.506 L2211.26 235.506 L2211.26 231.617 Q2209.92 233.932 2207.86 235.066 Q2205.82 236.178 2202.95 236.178 Q2198.25 236.178 2195.29 232.428 Q2192.35 228.678 2192.35 222.567 Q2192.35 216.455 2195.29 212.705 Q2198.25 208.955 2202.95 208.955 Q2205.82 208.955 2207.86 210.09 Q2209.92 211.201 2211.26 213.516 M2196.75 222.567 Q2196.75 227.266 2198.67 229.951 Q2200.62 232.613 2203.99 232.613 Q2207.37 232.613 2209.32 229.951 Q2211.26 227.266 2211.26 222.567 Q2211.26 217.867 2209.32 215.205 Q2207.37 212.52 2203.99 212.52 Q2200.62 212.52 2198.67 215.205 Q2196.75 217.867 2196.75 222.567 Z\" fill=\"#000000\" fill-rule=\"evenodd\" fill-opacity=\"1\" /><path clip-path=\"url(#clip220)\" d=\"M2224.3 209.58 L2228.55 209.58 L2228.55 235.506 L2224.3 235.506 L2224.3 209.58 M2224.3 199.488 L2228.55 199.488 L2228.55 204.881 L2224.3 204.881 L2224.3 199.488 Z\" fill=\"#000000\" fill-rule=\"evenodd\" fill-opacity=\"1\" /><path clip-path=\"url(#clip220)\" d=\"M2247.51 212.567 Q2244.09 212.567 2242.1 215.252 Q2240.11 217.914 2240.11 222.567 Q2240.11 227.219 2242.07 229.904 Q2244.06 232.566 2247.51 232.566 Q2250.92 232.566 2252.91 229.881 Q2254.9 227.196 2254.9 222.567 Q2254.9 217.96 2252.91 215.275 Q2250.92 212.567 2247.51 212.567 M2247.51 208.955 Q2253.07 208.955 2256.24 212.567 Q2259.41 216.178 2259.41 222.567 Q2259.41 228.932 2256.24 232.566 Q2253.07 236.178 2247.51 236.178 Q2241.93 236.178 2238.76 232.566 Q2235.62 228.932 2235.62 222.567 Q2235.62 216.178 2238.76 212.567 Q2241.93 208.955 2247.51 208.955 Z\" fill=\"#000000\" fill-rule=\"evenodd\" fill-opacity=\"1\" /><circle clip-path=\"url(#clip220)\" cx=\"1880.47\" cy=\"270.066\" r=\"23.04\" fill=\"#e26f46\" fill-rule=\"evenodd\" fill-opacity=\"1\" stroke=\"#000000\" stroke-opacity=\"1\" stroke-width=\"5.12\"/>\n",
       "<path clip-path=\"url(#clip220)\" d=\"M1973.81 252.786 L2003.05 252.786 L2003.05 256.721 L1990.78 256.721 L1990.78 287.346 L1986.08 287.346 L1986.08 256.721 L1973.81 256.721 L1973.81 252.786 Z\" fill=\"#000000\" fill-rule=\"evenodd\" fill-opacity=\"1\" /><path clip-path=\"url(#clip220)\" d=\"M2015.43 265.402 Q2014.71 264.985 2013.86 264.8 Q2013.02 264.592 2012.01 264.592 Q2008.39 264.592 2006.45 266.953 Q2004.53 269.291 2004.53 273.689 L2004.53 287.346 L2000.25 287.346 L2000.25 261.42 L2004.53 261.42 L2004.53 265.448 Q2005.87 263.087 2008.02 261.953 Q2010.18 260.795 2013.26 260.795 Q2013.69 260.795 2014.23 260.865 Q2014.76 260.911 2015.41 261.027 L2015.43 265.402 Z\" fill=\"#000000\" fill-rule=\"evenodd\" fill-opacity=\"1\" /><path clip-path=\"url(#clip220)\" d=\"M2031.68 274.314 Q2026.52 274.314 2024.53 275.494 Q2022.54 276.675 2022.54 279.522 Q2022.54 281.791 2024.02 283.133 Q2025.52 284.453 2028.09 284.453 Q2031.63 284.453 2033.76 281.953 Q2035.92 279.43 2035.92 275.263 L2035.92 274.314 L2031.68 274.314 M2040.18 272.555 L2040.18 287.346 L2035.92 287.346 L2035.92 283.411 Q2034.46 285.772 2032.28 286.906 Q2030.11 288.018 2026.96 288.018 Q2022.98 288.018 2020.62 285.795 Q2018.28 283.55 2018.28 279.8 Q2018.28 275.425 2021.19 273.203 Q2024.13 270.981 2029.94 270.981 L2035.92 270.981 L2035.92 270.564 Q2035.92 267.624 2033.97 266.027 Q2032.05 264.407 2028.56 264.407 Q2026.33 264.407 2024.23 264.939 Q2022.12 265.471 2020.18 266.536 L2020.18 262.601 Q2022.51 261.698 2024.71 261.258 Q2026.91 260.795 2029 260.795 Q2034.62 260.795 2037.4 263.712 Q2040.18 266.629 2040.18 272.555 Z\" fill=\"#000000\" fill-rule=\"evenodd\" fill-opacity=\"1\" /><path clip-path=\"url(#clip220)\" d=\"M2053.07 283.457 L2053.07 297.207 L2048.79 297.207 L2048.79 261.42 L2053.07 261.42 L2053.07 265.356 Q2054.41 263.041 2056.45 261.93 Q2058.51 260.795 2061.36 260.795 Q2066.08 260.795 2069.02 264.545 Q2071.98 268.295 2071.98 274.407 Q2071.98 280.518 2069.02 284.268 Q2066.08 288.018 2061.36 288.018 Q2058.51 288.018 2056.45 286.906 Q2054.41 285.772 2053.07 283.457 M2067.56 274.407 Q2067.56 269.707 2065.62 267.045 Q2063.69 264.36 2060.32 264.36 Q2056.94 264.36 2054.99 267.045 Q2053.07 269.707 2053.07 274.407 Q2053.07 279.106 2054.99 281.791 Q2056.94 284.453 2060.32 284.453 Q2063.69 284.453 2065.62 281.791 Q2067.56 279.106 2067.56 274.407 Z\" fill=\"#000000\" fill-rule=\"evenodd\" fill-opacity=\"1\" /><path clip-path=\"url(#clip220)\" d=\"M2101.22 273.319 L2101.22 275.402 L2081.63 275.402 Q2081.91 279.8 2084.27 282.115 Q2086.66 284.406 2090.89 284.406 Q2093.35 284.406 2095.64 283.805 Q2097.95 283.203 2100.22 281.999 L2100.22 286.027 Q2097.93 286.999 2095.52 287.508 Q2093.12 288.018 2090.64 288.018 Q2084.44 288.018 2080.8 284.406 Q2077.19 280.795 2077.19 274.638 Q2077.19 268.272 2080.62 264.545 Q2084.06 260.795 2089.9 260.795 Q2095.13 260.795 2098.16 264.175 Q2101.22 267.532 2101.22 273.319 M2096.96 272.069 Q2096.91 268.573 2094.99 266.49 Q2093.09 264.407 2089.94 264.407 Q2086.38 264.407 2084.23 266.42 Q2082.1 268.434 2081.77 272.092 L2096.96 272.069 Z\" fill=\"#000000\" fill-rule=\"evenodd\" fill-opacity=\"1\" /><path clip-path=\"url(#clip220)\" d=\"M2126.87 262.416 L2126.87 266.397 Q2125.06 265.402 2123.23 264.916 Q2121.43 264.407 2119.57 264.407 Q2115.43 264.407 2113.14 267.045 Q2110.85 269.661 2110.85 274.407 Q2110.85 279.152 2113.14 281.791 Q2115.43 284.406 2119.57 284.406 Q2121.43 284.406 2123.23 283.92 Q2125.06 283.411 2126.87 282.416 L2126.87 286.351 Q2125.08 287.184 2123.16 287.601 Q2121.26 288.018 2119.11 288.018 Q2113.25 288.018 2109.81 284.337 Q2106.36 280.656 2106.36 274.407 Q2106.36 268.064 2109.83 264.43 Q2113.32 260.795 2119.39 260.795 Q2121.36 260.795 2123.23 261.212 Q2125.11 261.606 2126.87 262.416 Z\" fill=\"#000000\" fill-rule=\"evenodd\" fill-opacity=\"1\" /><path clip-path=\"url(#clip220)\" d=\"M2134.27 261.42 L2138.53 261.42 L2138.53 287.346 L2134.27 287.346 L2134.27 261.42 M2134.27 251.328 L2138.53 251.328 L2138.53 256.721 L2134.27 256.721 L2134.27 251.328 Z\" fill=\"#000000\" fill-rule=\"evenodd\" fill-opacity=\"1\" /><path clip-path=\"url(#clip220)\" d=\"M2157.49 264.407 Q2154.06 264.407 2152.07 267.092 Q2150.08 269.754 2150.08 274.407 Q2150.08 279.059 2152.05 281.744 Q2154.04 284.406 2157.49 284.406 Q2160.89 284.406 2162.88 281.721 Q2164.87 279.036 2164.87 274.407 Q2164.87 269.8 2162.88 267.115 Q2160.89 264.407 2157.49 264.407 M2157.49 260.795 Q2163.05 260.795 2166.22 264.407 Q2169.39 268.018 2169.39 274.407 Q2169.39 280.772 2166.22 284.406 Q2163.05 288.018 2157.49 288.018 Q2151.91 288.018 2148.74 284.406 Q2145.59 280.772 2145.59 274.407 Q2145.59 268.018 2148.74 264.407 Q2151.91 260.795 2157.49 260.795 Z\" fill=\"#000000\" fill-rule=\"evenodd\" fill-opacity=\"1\" /><circle clip-path=\"url(#clip220)\" cx=\"1880.47\" cy=\"321.906\" r=\"23.04\" fill=\"#3da44d\" fill-rule=\"evenodd\" fill-opacity=\"1\" stroke=\"#000000\" stroke-opacity=\"1\" stroke-width=\"5.12\"/>\n",
       "<path clip-path=\"url(#clip220)\" d=\"M1996.06 305.761 L1996.06 310.321 Q1993.39 309.048 1991.03 308.423 Q1988.67 307.798 1986.47 307.798 Q1982.65 307.798 1980.57 309.279 Q1978.51 310.761 1978.51 313.492 Q1978.51 315.784 1979.88 316.964 Q1981.26 318.122 1985.11 318.839 L1987.93 319.418 Q1993.16 320.413 1995.64 322.936 Q1998.14 325.436 1998.14 329.649 Q1998.14 334.672 1994.76 337.265 Q1991.4 339.858 1984.9 339.858 Q1982.45 339.858 1979.67 339.302 Q1976.91 338.746 1973.95 337.659 L1973.95 332.844 Q1976.8 334.441 1979.53 335.251 Q1982.26 336.061 1984.9 336.061 Q1988.9 336.061 1991.08 334.487 Q1993.26 332.913 1993.26 329.997 Q1993.26 327.45 1991.68 326.015 Q1990.13 324.58 1986.57 323.862 L1983.72 323.307 Q1978.49 322.265 1976.15 320.043 Q1973.81 317.821 1973.81 313.862 Q1973.81 309.279 1977.03 306.64 Q1980.27 304.001 1985.94 304.001 Q1988.37 304.001 1990.89 304.441 Q1993.42 304.881 1996.06 305.761 Z\" fill=\"#000000\" fill-rule=\"evenodd\" fill-opacity=\"1\" /><path clip-path=\"url(#clip220)\" d=\"M2005.25 313.26 L2009.51 313.26 L2009.51 339.186 L2005.25 339.186 L2005.25 313.26 M2005.25 303.168 L2009.51 303.168 L2009.51 308.561 L2005.25 308.561 L2005.25 303.168 Z\" fill=\"#000000\" fill-rule=\"evenodd\" fill-opacity=\"1\" /><path clip-path=\"url(#clip220)\" d=\"M2038.6 318.237 Q2040.2 315.367 2042.42 314.001 Q2044.64 312.635 2047.65 312.635 Q2051.7 312.635 2053.9 315.483 Q2056.1 318.307 2056.1 323.538 L2056.1 339.186 L2051.82 339.186 L2051.82 323.677 Q2051.82 319.95 2050.5 318.145 Q2049.18 316.339 2046.47 316.339 Q2043.16 316.339 2041.24 318.538 Q2039.32 320.737 2039.32 324.534 L2039.32 339.186 L2035.04 339.186 L2035.04 323.677 Q2035.04 319.927 2033.72 318.145 Q2032.4 316.339 2029.64 316.339 Q2026.38 316.339 2024.46 318.561 Q2022.54 320.76 2022.54 324.534 L2022.54 339.186 L2018.26 339.186 L2018.26 313.26 L2022.54 313.26 L2022.54 317.288 Q2024 314.904 2026.03 313.77 Q2028.07 312.635 2030.87 312.635 Q2033.69 312.635 2035.66 314.071 Q2037.65 315.506 2038.6 318.237 Z\" fill=\"#000000\" fill-rule=\"evenodd\" fill-opacity=\"1\" /><path clip-path=\"url(#clip220)\" d=\"M2068.72 335.297 L2068.72 349.047 L2064.44 349.047 L2064.44 313.26 L2068.72 313.26 L2068.72 317.196 Q2070.06 314.881 2072.1 313.77 Q2074.16 312.635 2077 312.635 Q2081.73 312.635 2084.67 316.385 Q2087.63 320.135 2087.63 326.247 Q2087.63 332.358 2084.67 336.108 Q2081.73 339.858 2077 339.858 Q2074.16 339.858 2072.1 338.746 Q2070.06 337.612 2068.72 335.297 M2083.21 326.247 Q2083.21 321.547 2081.26 318.885 Q2079.34 316.2 2075.96 316.2 Q2072.58 316.2 2070.64 318.885 Q2068.72 321.547 2068.72 326.247 Q2068.72 330.946 2070.64 333.631 Q2072.58 336.293 2075.96 336.293 Q2079.34 336.293 2081.26 333.631 Q2083.21 330.946 2083.21 326.247 Z\" fill=\"#000000\" fill-rule=\"evenodd\" fill-opacity=\"1\" /><path clip-path=\"url(#clip220)\" d=\"M2111.22 314.024 L2111.22 318.052 Q2109.41 317.126 2107.47 316.663 Q2105.52 316.2 2103.44 316.2 Q2100.27 316.2 2098.67 317.173 Q2097.1 318.145 2097.1 320.089 Q2097.1 321.571 2098.23 322.427 Q2099.37 323.26 2102.79 324.024 L2104.25 324.348 Q2108.79 325.321 2110.69 327.103 Q2112.61 328.862 2112.61 332.034 Q2112.61 335.645 2109.74 337.751 Q2106.89 339.858 2101.89 339.858 Q2099.81 339.858 2097.54 339.441 Q2095.29 339.047 2092.79 338.237 L2092.79 333.839 Q2095.15 335.066 2097.44 335.691 Q2099.74 336.293 2101.98 336.293 Q2104.99 336.293 2106.61 335.274 Q2108.23 334.233 2108.23 332.358 Q2108.23 330.622 2107.05 329.696 Q2105.89 328.77 2101.94 327.913 L2100.45 327.566 Q2096.5 326.733 2094.74 325.02 Q2092.98 323.284 2092.98 320.274 Q2092.98 316.617 2095.57 314.626 Q2098.16 312.635 2102.93 312.635 Q2105.29 312.635 2107.38 312.983 Q2109.46 313.33 2111.22 314.024 Z\" fill=\"#000000\" fill-rule=\"evenodd\" fill-opacity=\"1\" /><path clip-path=\"url(#clip220)\" d=\"M2129.44 316.247 Q2126.01 316.247 2124.02 318.932 Q2122.03 321.594 2122.03 326.247 Q2122.03 330.899 2124 333.584 Q2125.99 336.246 2129.44 336.246 Q2132.84 336.246 2134.83 333.561 Q2136.82 330.876 2136.82 326.247 Q2136.82 321.64 2134.83 318.955 Q2132.84 316.247 2129.44 316.247 M2129.44 312.635 Q2134.99 312.635 2138.16 316.247 Q2141.33 319.858 2141.33 326.247 Q2141.33 332.612 2138.16 336.246 Q2134.99 339.858 2129.44 339.858 Q2123.86 339.858 2120.69 336.246 Q2117.54 332.612 2117.54 326.247 Q2117.54 319.858 2120.69 316.247 Q2123.86 312.635 2129.44 312.635 Z\" fill=\"#000000\" fill-rule=\"evenodd\" fill-opacity=\"1\" /><path clip-path=\"url(#clip220)\" d=\"M2169.94 323.538 L2169.94 339.186 L2165.68 339.186 L2165.68 323.677 Q2165.68 319.997 2164.25 318.168 Q2162.81 316.339 2159.94 316.339 Q2156.5 316.339 2154.5 318.538 Q2152.51 320.737 2152.51 324.534 L2152.51 339.186 L2148.23 339.186 L2148.23 313.26 L2152.51 313.26 L2152.51 317.288 Q2154.04 314.95 2156.1 313.793 Q2158.18 312.635 2160.89 312.635 Q2165.36 312.635 2167.65 315.413 Q2169.94 318.168 2169.94 323.538 Z\" fill=\"#000000\" fill-rule=\"evenodd\" fill-opacity=\"1\" /></svg>\n"
      ]
     },
     "execution_count": 97,
     "metadata": {},
     "output_type": "execute_result"
    }
   ],
   "source": [
    "plot(xlabel=\"Puntos\",ylabel=\"Errores relativos\",title=\"Comparación de Métodos\")\n",
    "scatter!(VE, EM2, label=\"Punto Medio\")\n",
    "scatter!(VE, ET2, label=\"Trapecio\")\n",
    "scatter!(VE, ES2, label=\"Simpson\")\n",
    "plot!(xaxis=:log)\n",
    "plot!(yaxis=:log)"
   ]
  },
  {
   "cell_type": "code",
   "execution_count": 65,
   "metadata": {},
   "outputs": [],
   "source": [
    "# Float 16"
   ]
  },
  {
   "cell_type": "code",
   "execution_count": 66,
   "metadata": {},
   "outputs": [
    {
     "data": {
      "text/html": [
       "<div><div style = \"float: left;\"><span>3×4 DataFrame</span></div><div style = \"clear: both;\"></div></div><div class = \"data-frame\" style = \"overflow-x: scroll;\"><table class = \"data-frame\" style = \"margin-bottom: 6px;\"><thead><tr class = \"header\"><th class = \"rowNumber\" style = \"font-weight: bold; text-align: right;\">Row</th><th style = \"text-align: left;\">Descripción</th><th style = \"text-align: left;\">Punto Medio</th><th style = \"text-align: left;\">Trapecio</th><th style = \"text-align: left;\">Simpson</th></tr><tr class = \"subheader headerLastRow\"><th class = \"rowNumber\" style = \"font-weight: bold; text-align: right;\"></th><th title = \"String\" style = \"text-align: left;\">String</th><th title = \"Float64\" style = \"text-align: left;\">Float64</th><th title = \"Float64\" style = \"text-align: left;\">Float64</th><th title = \"Float64\" style = \"text-align: left;\">Float64</th></tr></thead><tbody><tr><td class = \"rowNumber\" style = \"font-weight: bold; text-align: right;\">1</td><td style = \"text-align: left;\">Valor real</td><td style = \"text-align: right;\">0.632121</td><td style = \"text-align: right;\">0.632121</td><td style = \"text-align: right;\">0.632121</td></tr><tr><td class = \"rowNumber\" style = \"font-weight: bold; text-align: right;\">2</td><td style = \"text-align: left;\">h = 0.05</td><td style = \"text-align: right;\">0.630859</td><td style = \"text-align: right;\">0.632324</td><td style = \"text-align: right;\">0.632812</td></tr><tr><td class = \"rowNumber\" style = \"font-weight: bold; text-align: right;\">3</td><td style = \"text-align: left;\">Error absoluto</td><td style = \"text-align: right;\">0.00126118</td><td style = \"text-align: right;\">0.00020366</td><td style = \"text-align: right;\">0.000691941</td></tr></tbody></table></div>"
      ],
      "text/latex": [
       "\\begin{tabular}{r|cccc}\n",
       "\t& Descripción & Punto Medio & Trapecio & Simpson\\\\\n",
       "\t\\hline\n",
       "\t& String & Float64 & Float64 & Float64\\\\\n",
       "\t\\hline\n",
       "\t1 & Valor real & 0.632121 & 0.632121 & 0.632121 \\\\\n",
       "\t2 & h = 0.05 & 0.630859 & 0.632324 & 0.632812 \\\\\n",
       "\t3 & Error absoluto & 0.00126118 & 0.00020366 & 0.000691941 \\\\\n",
       "\\end{tabular}\n"
      ],
      "text/plain": [
       "\u001b[1m3×4 DataFrame\u001b[0m\n",
       "\u001b[1m Row \u001b[0m│\u001b[1m Descripción    \u001b[0m\u001b[1m Punto Medio \u001b[0m\u001b[1m Trapecio   \u001b[0m\u001b[1m Simpson     \u001b[0m\n",
       "     │\u001b[90m String         \u001b[0m\u001b[90m Float64     \u001b[0m\u001b[90m Float64    \u001b[0m\u001b[90m Float64     \u001b[0m\n",
       "─────┼──────────────────────────────────────────────────────\n",
       "   1 │ Valor real       0.632121    0.632121    0.632121\n",
       "   2 │ h = 0.05         0.630859    0.632324    0.632812\n",
       "   3 │ Error absoluto   0.00126118  0.00020366  0.000691941"
      ]
     },
     "execution_count": 66,
     "metadata": {},
     "output_type": "execute_result"
    }
   ],
   "source": [
    "A´ = [\"Valor real\", \"h = 0.05\", \"Error absoluto\"]\n",
    "B´ = [-f(1)+f(0), SM(Float16.(0),Float16.(1),Float16.(38),f), abs(-f(1)+f(0)-SM(Float16.(0),Float16.(1),Float16.(38),f))]\n",
    "C´ = [-f(1)+f(0), ST(Float16.(0),Float16.(1),Float16.(38),f), abs(-f(1)+f(0)-ST(Float16.(0),Float16.(1),Float16.(38),f))]\n",
    "D´ = [-f(1)+f(0), SS(Float16.(0),Float16.(1),Float16.(38),f), abs(-f(1)+f(0)-SS(Float16.(0),Float16.(1),Float16.(38),f))]\n",
    "\n",
    "DataFrame(\"Descripción\" => A´, \"Punto Medio\" => B´, \"Trapecio\" => C´,\"Simpson\" => D´)\n"
   ]
  },
  {
   "cell_type": "code",
   "execution_count": 98,
   "metadata": {},
   "outputs": [],
   "source": [
    "EM3 = [abs(SM(Float16.(0),Float16.(1),Float16.(n),f) - I)/I for n in VE]\n",
    "ET3 = [abs(ST(Float16.(0),Float16.(1),Float16.(n),f) - I)/I for n in VE]\n",
    "ES3 = [abs(SS(Float16.(0),Float16.(1),Float16.(n),f) - I)/I for n in VE];"
   ]
  },
  {
   "cell_type": "code",
   "execution_count": 99,
   "metadata": {},
   "outputs": [
    {
     "data": {
      "image/svg+xml": [
       "<?xml version=\"1.0\" encoding=\"utf-8\"?>\n",
       "<svg xmlns=\"http://www.w3.org/2000/svg\" xmlns:xlink=\"http://www.w3.org/1999/xlink\" width=\"600\" height=\"400\" viewBox=\"0 0 2400 1600\">\n",
       "<defs>\n",
       "  <clipPath id=\"clip260\">\n",
       "    <rect x=\"0\" y=\"0\" width=\"2400\" height=\"1600\"/>\n",
       "  </clipPath>\n",
       "</defs>\n",
       "<path clip-path=\"url(#clip260)\" d=\"M0 1600 L2400 1600 L2400 0 L0 0  Z\" fill=\"#ffffff\" fill-rule=\"evenodd\" fill-opacity=\"1\"/>\n",
       "<defs>\n",
       "  <clipPath id=\"clip261\">\n",
       "    <rect x=\"480\" y=\"0\" width=\"1681\" height=\"1600\"/>\n",
       "  </clipPath>\n",
       "</defs>\n",
       "<path clip-path=\"url(#clip260)\" d=\"M251.842 1410.9 L2352.76 1410.9 L2352.76 123.472 L251.842 123.472  Z\" fill=\"#ffffff\" fill-rule=\"evenodd\" fill-opacity=\"1\"/>\n",
       "<defs>\n",
       "  <clipPath id=\"clip262\">\n",
       "    <rect x=\"251\" y=\"123\" width=\"2102\" height=\"1288\"/>\n",
       "  </clipPath>\n",
       "</defs>\n",
       "<polyline clip-path=\"url(#clip262)\" style=\"stroke:#000000; stroke-linecap:round; stroke-linejoin:round; stroke-width:2; stroke-opacity:0.1; fill:none\" points=\"729.67,1410.9 729.67,123.472 \"/>\n",
       "<polyline clip-path=\"url(#clip262)\" style=\"stroke:#000000; stroke-linecap:round; stroke-linejoin:round; stroke-width:2; stroke-opacity:0.1; fill:none\" points=\"1328.22,1410.9 1328.22,123.472 \"/>\n",
       "<polyline clip-path=\"url(#clip262)\" style=\"stroke:#000000; stroke-linecap:round; stroke-linejoin:round; stroke-width:2; stroke-opacity:0.1; fill:none\" points=\"1926.77,1410.9 1926.77,123.472 \"/>\n",
       "<polyline clip-path=\"url(#clip260)\" style=\"stroke:#000000; stroke-linecap:round; stroke-linejoin:round; stroke-width:4; stroke-opacity:1; fill:none\" points=\"251.842,1410.9 2352.76,1410.9 \"/>\n",
       "<polyline clip-path=\"url(#clip260)\" style=\"stroke:#000000; stroke-linecap:round; stroke-linejoin:round; stroke-width:4; stroke-opacity:1; fill:none\" points=\"729.67,1410.9 729.67,1392 \"/>\n",
       "<polyline clip-path=\"url(#clip260)\" style=\"stroke:#000000; stroke-linecap:round; stroke-linejoin:round; stroke-width:4; stroke-opacity:1; fill:none\" points=\"1328.22,1410.9 1328.22,1392 \"/>\n",
       "<polyline clip-path=\"url(#clip260)\" style=\"stroke:#000000; stroke-linecap:round; stroke-linejoin:round; stroke-width:4; stroke-opacity:1; fill:none\" points=\"1926.77,1410.9 1926.77,1392 \"/>\n",
       "<path clip-path=\"url(#clip260)\" d=\"M695.998 1485.02 L703.637 1485.02 L703.637 1458.66 L695.326 1460.32 L695.326 1456.06 L703.59 1454.4 L708.266 1454.4 L708.266 1485.02 L715.905 1485.02 L715.905 1488.96 L695.998 1488.96 L695.998 1485.02 Z\" fill=\"#000000\" fill-rule=\"evenodd\" fill-opacity=\"1\" /><path clip-path=\"url(#clip260)\" d=\"M735.349 1457.48 Q731.738 1457.48 729.91 1461.04 Q728.104 1464.58 728.104 1471.71 Q728.104 1478.82 729.91 1482.38 Q731.738 1485.92 735.349 1485.92 Q738.984 1485.92 740.789 1482.38 Q742.618 1478.82 742.618 1471.71 Q742.618 1464.58 740.789 1461.04 Q738.984 1457.48 735.349 1457.48 M735.349 1453.77 Q741.16 1453.77 744.215 1458.38 Q747.294 1462.96 747.294 1471.71 Q747.294 1480.44 744.215 1485.04 Q741.16 1489.63 735.349 1489.63 Q729.539 1489.63 726.461 1485.04 Q723.405 1480.44 723.405 1471.71 Q723.405 1462.96 726.461 1458.38 Q729.539 1453.77 735.349 1453.77 Z\" fill=\"#000000\" fill-rule=\"evenodd\" fill-opacity=\"1\" /><path clip-path=\"url(#clip260)\" d=\"M747.839 1458.35 L754.046 1458.35 L754.046 1436.93 L747.294 1438.28 L747.294 1434.82 L754.008 1433.47 L757.807 1433.47 L757.807 1458.35 L764.014 1458.35 L764.014 1461.55 L747.839 1461.55 L747.839 1458.35 Z\" fill=\"#000000\" fill-rule=\"evenodd\" fill-opacity=\"1\" /><path clip-path=\"url(#clip260)\" d=\"M1293.99 1485.02 L1301.63 1485.02 L1301.63 1458.66 L1293.32 1460.32 L1293.32 1456.06 L1301.58 1454.4 L1306.26 1454.4 L1306.26 1485.02 L1313.9 1485.02 L1313.9 1488.96 L1293.99 1488.96 L1293.99 1485.02 Z\" fill=\"#000000\" fill-rule=\"evenodd\" fill-opacity=\"1\" /><path clip-path=\"url(#clip260)\" d=\"M1333.34 1457.48 Q1329.73 1457.48 1327.9 1461.04 Q1326.1 1464.58 1326.1 1471.71 Q1326.1 1478.82 1327.9 1482.38 Q1329.73 1485.92 1333.34 1485.92 Q1336.98 1485.92 1338.78 1482.38 Q1340.61 1478.82 1340.61 1471.71 Q1340.61 1464.58 1338.78 1461.04 Q1336.98 1457.48 1333.34 1457.48 M1333.34 1453.77 Q1339.15 1453.77 1342.21 1458.38 Q1345.29 1462.96 1345.29 1471.71 Q1345.29 1480.44 1342.21 1485.04 Q1339.15 1489.63 1333.34 1489.63 Q1327.53 1489.63 1324.45 1485.04 Q1321.4 1480.44 1321.4 1471.71 Q1321.4 1462.96 1324.45 1458.38 Q1327.53 1453.77 1333.34 1453.77 Z\" fill=\"#000000\" fill-rule=\"evenodd\" fill-opacity=\"1\" /><path clip-path=\"url(#clip260)\" d=\"M1349.86 1458.35 L1363.12 1458.35 L1363.12 1461.55 L1345.29 1461.55 L1345.29 1458.35 Q1347.45 1456.11 1351.17 1452.35 Q1354.92 1448.57 1355.88 1447.48 Q1357.7 1445.43 1358.42 1444.02 Q1359.15 1442.59 1359.15 1441.22 Q1359.15 1438.98 1357.57 1437.57 Q1356.01 1436.16 1353.49 1436.16 Q1351.7 1436.16 1349.71 1436.78 Q1347.73 1437.4 1345.48 1438.66 L1345.48 1434.82 Q1347.77 1433.9 1349.76 1433.43 Q1351.76 1432.96 1353.41 1432.96 Q1357.78 1432.96 1360.37 1435.14 Q1362.97 1437.32 1362.97 1440.97 Q1362.97 1442.7 1362.31 1444.26 Q1361.67 1445.8 1359.96 1447.91 Q1359.49 1448.46 1356.97 1451.07 Q1354.45 1453.67 1349.86 1458.35 Z\" fill=\"#000000\" fill-rule=\"evenodd\" fill-opacity=\"1\" /><path clip-path=\"url(#clip260)\" d=\"M1892.21 1485.02 L1899.85 1485.02 L1899.85 1458.66 L1891.54 1460.32 L1891.54 1456.06 L1899.8 1454.4 L1904.48 1454.4 L1904.48 1485.02 L1912.12 1485.02 L1912.12 1488.96 L1892.21 1488.96 L1892.21 1485.02 Z\" fill=\"#000000\" fill-rule=\"evenodd\" fill-opacity=\"1\" /><path clip-path=\"url(#clip260)\" d=\"M1931.56 1457.48 Q1927.95 1457.48 1926.12 1461.04 Q1924.32 1464.58 1924.32 1471.71 Q1924.32 1478.82 1926.12 1482.38 Q1927.95 1485.92 1931.56 1485.92 Q1935.2 1485.92 1937 1482.38 Q1938.83 1478.82 1938.83 1471.71 Q1938.83 1464.58 1937 1461.04 Q1935.2 1457.48 1931.56 1457.48 M1931.56 1453.77 Q1937.37 1453.77 1940.43 1458.38 Q1943.51 1462.96 1943.51 1471.71 Q1943.51 1480.44 1940.43 1485.04 Q1937.37 1489.63 1931.56 1489.63 Q1925.75 1489.63 1922.67 1485.04 Q1919.62 1480.44 1919.62 1471.71 Q1919.62 1462.96 1922.67 1458.38 Q1925.75 1453.77 1931.56 1453.77 Z\" fill=\"#000000\" fill-rule=\"evenodd\" fill-opacity=\"1\" /><path clip-path=\"url(#clip260)\" d=\"M1956.2 1446.41 Q1958.93 1446.99 1960.45 1448.83 Q1962 1450.68 1962 1453.38 Q1962 1457.54 1959.14 1459.82 Q1956.28 1462.09 1951.01 1462.09 Q1949.24 1462.09 1947.36 1461.73 Q1945.5 1461.4 1943.51 1460.7 L1943.51 1457.03 Q1945.09 1457.95 1946.97 1458.42 Q1948.85 1458.89 1950.9 1458.89 Q1954.47 1458.89 1956.34 1457.48 Q1958.22 1456.07 1958.22 1453.38 Q1958.22 1450.9 1956.47 1449.51 Q1954.74 1448.1 1951.63 1448.1 L1948.36 1448.1 L1948.36 1444.98 L1951.78 1444.98 Q1954.59 1444.98 1956.07 1443.87 Q1957.56 1442.74 1957.56 1440.63 Q1957.56 1438.47 1956.02 1437.32 Q1954.49 1436.16 1951.63 1436.16 Q1950.07 1436.16 1948.29 1436.49 Q1946.5 1436.83 1944.35 1437.55 L1944.35 1434.16 Q1946.52 1433.56 1948.4 1433.26 Q1950.3 1432.96 1951.97 1432.96 Q1956.3 1432.96 1958.82 1434.93 Q1961.34 1436.89 1961.34 1440.24 Q1961.34 1442.57 1960 1444.19 Q1958.67 1445.79 1956.2 1446.41 Z\" fill=\"#000000\" fill-rule=\"evenodd\" fill-opacity=\"1\" /><path clip-path=\"url(#clip260)\" d=\"M1203.42 1531.95 L1203.42 1549.8 L1211.51 1549.8 Q1216 1549.8 1218.45 1547.48 Q1220.9 1545.16 1220.9 1540.86 Q1220.9 1536.6 1218.45 1534.27 Q1216 1531.95 1211.51 1531.95 L1203.42 1531.95 M1196.99 1526.67 L1211.51 1526.67 Q1219.5 1526.67 1223.57 1530.29 Q1227.68 1533.89 1227.68 1540.86 Q1227.68 1547.9 1223.57 1551.49 Q1219.5 1555.09 1211.51 1555.09 L1203.42 1555.09 L1203.42 1574.19 L1196.99 1574.19 L1196.99 1526.67 Z\" fill=\"#000000\" fill-rule=\"evenodd\" fill-opacity=\"1\" /><path clip-path=\"url(#clip260)\" d=\"M1234.3 1560.12 L1234.3 1538.54 L1240.15 1538.54 L1240.15 1559.89 Q1240.15 1564.96 1242.13 1567.5 Q1244.1 1570.02 1248.05 1570.02 Q1252.79 1570.02 1255.53 1566.99 Q1258.3 1563.97 1258.3 1558.75 L1258.3 1538.54 L1264.15 1538.54 L1264.15 1574.19 L1258.3 1574.19 L1258.3 1568.71 Q1256.16 1571.96 1253.33 1573.55 Q1250.53 1575.11 1246.81 1575.11 Q1240.66 1575.11 1237.48 1571.29 Q1234.3 1567.47 1234.3 1560.12 M1249.03 1537.68 L1249.03 1537.68 Z\" fill=\"#000000\" fill-rule=\"evenodd\" fill-opacity=\"1\" /><path clip-path=\"url(#clip260)\" d=\"M1305.85 1552.67 L1305.85 1574.19 L1299.99 1574.19 L1299.99 1552.86 Q1299.99 1547.8 1298.02 1545.29 Q1296.04 1542.77 1292.1 1542.77 Q1287.36 1542.77 1284.62 1545.79 Q1281.88 1548.82 1281.88 1554.04 L1281.88 1574.19 L1275.99 1574.19 L1275.99 1538.54 L1281.88 1538.54 L1281.88 1544.08 Q1283.98 1540.86 1286.81 1539.27 Q1289.68 1537.68 1293.4 1537.68 Q1299.55 1537.68 1302.7 1541.5 Q1305.85 1545.29 1305.85 1552.67 Z\" fill=\"#000000\" fill-rule=\"evenodd\" fill-opacity=\"1\" /><path clip-path=\"url(#clip260)\" d=\"M1323.32 1528.42 L1323.32 1538.54 L1335.38 1538.54 L1335.38 1543.09 L1323.32 1543.09 L1323.32 1562.44 Q1323.32 1566.8 1324.5 1568.04 Q1325.71 1569.28 1329.37 1569.28 L1335.38 1569.28 L1335.38 1574.19 L1329.37 1574.19 Q1322.59 1574.19 1320.01 1571.67 Q1317.43 1569.12 1317.43 1562.44 L1317.43 1543.09 L1313.14 1543.09 L1313.14 1538.54 L1317.43 1538.54 L1317.43 1528.42 L1323.32 1528.42 Z\" fill=\"#000000\" fill-rule=\"evenodd\" fill-opacity=\"1\" /><path clip-path=\"url(#clip260)\" d=\"M1356.9 1542.64 Q1352.19 1542.64 1349.45 1546.34 Q1346.72 1550 1346.72 1556.39 Q1346.72 1562.79 1349.42 1566.48 Q1352.16 1570.14 1356.9 1570.14 Q1361.58 1570.14 1364.32 1566.45 Q1367.05 1562.76 1367.05 1556.39 Q1367.05 1550.06 1364.32 1546.37 Q1361.58 1542.64 1356.9 1542.64 M1356.9 1537.68 Q1364.54 1537.68 1368.9 1542.64 Q1373.26 1547.61 1373.26 1556.39 Q1373.26 1565.15 1368.9 1570.14 Q1364.54 1575.11 1356.9 1575.11 Q1349.23 1575.11 1344.87 1570.14 Q1340.54 1565.15 1340.54 1556.39 Q1340.54 1547.61 1344.87 1542.64 Q1349.23 1537.68 1356.9 1537.68 Z\" fill=\"#000000\" fill-rule=\"evenodd\" fill-opacity=\"1\" /><path clip-path=\"url(#clip260)\" d=\"M1405.69 1539.59 L1405.69 1545.13 Q1403.21 1543.85 1400.54 1543.22 Q1397.86 1542.58 1395 1542.58 Q1390.64 1542.58 1388.44 1543.92 Q1386.28 1545.25 1386.28 1547.93 Q1386.28 1549.96 1387.84 1551.14 Q1389.4 1552.29 1394.11 1553.34 L1396.11 1553.78 Q1402.35 1555.12 1404.96 1557.57 Q1407.6 1559.99 1407.6 1564.35 Q1407.6 1569.32 1403.66 1572.21 Q1399.74 1575.11 1392.87 1575.11 Q1390 1575.11 1386.88 1574.54 Q1383.8 1573.99 1380.36 1572.88 L1380.36 1566.83 Q1383.61 1568.52 1386.76 1569.38 Q1389.91 1570.21 1392.99 1570.21 Q1397.13 1570.21 1399.36 1568.81 Q1401.59 1567.37 1401.59 1564.8 Q1401.59 1562.41 1399.96 1561.14 Q1398.37 1559.86 1392.93 1558.68 L1390.89 1558.21 Q1385.45 1557.06 1383.03 1554.71 Q1380.61 1552.32 1380.61 1548.18 Q1380.61 1543.15 1384.18 1540.42 Q1387.74 1537.68 1394.3 1537.68 Q1397.55 1537.68 1400.41 1538.16 Q1403.28 1538.63 1405.69 1539.59 Z\" fill=\"#000000\" fill-rule=\"evenodd\" fill-opacity=\"1\" /><polyline clip-path=\"url(#clip262)\" style=\"stroke:#000000; stroke-linecap:round; stroke-linejoin:round; stroke-width:2; stroke-opacity:0.1; fill:none\" points=\"251.842,1162.01 2352.76,1162.01 \"/>\n",
       "<polyline clip-path=\"url(#clip262)\" style=\"stroke:#000000; stroke-linecap:round; stroke-linejoin:round; stroke-width:2; stroke-opacity:0.1; fill:none\" points=\"251.842,730.1 2352.76,730.1 \"/>\n",
       "<polyline clip-path=\"url(#clip262)\" style=\"stroke:#000000; stroke-linecap:round; stroke-linejoin:round; stroke-width:2; stroke-opacity:0.1; fill:none\" points=\"251.842,298.193 2352.76,298.193 \"/>\n",
       "<polyline clip-path=\"url(#clip260)\" style=\"stroke:#000000; stroke-linecap:round; stroke-linejoin:round; stroke-width:4; stroke-opacity:1; fill:none\" points=\"251.842,1410.9 251.842,123.472 \"/>\n",
       "<polyline clip-path=\"url(#clip260)\" style=\"stroke:#000000; stroke-linecap:round; stroke-linejoin:round; stroke-width:4; stroke-opacity:1; fill:none\" points=\"251.842,1162.01 270.74,1162.01 \"/>\n",
       "<polyline clip-path=\"url(#clip260)\" style=\"stroke:#000000; stroke-linecap:round; stroke-linejoin:round; stroke-width:4; stroke-opacity:1; fill:none\" points=\"251.842,730.1 270.74,730.1 \"/>\n",
       "<polyline clip-path=\"url(#clip260)\" style=\"stroke:#000000; stroke-linecap:round; stroke-linejoin:round; stroke-width:4; stroke-opacity:1; fill:none\" points=\"251.842,298.193 270.74,298.193 \"/>\n",
       "<path clip-path=\"url(#clip260)\" d=\"M114.931 1181.8 L122.57 1181.8 L122.57 1155.43 L114.26 1157.1 L114.26 1152.84 L122.524 1151.17 L127.2 1151.17 L127.2 1181.8 L134.839 1181.8 L134.839 1185.73 L114.931 1185.73 L114.931 1181.8 Z\" fill=\"#000000\" fill-rule=\"evenodd\" fill-opacity=\"1\" /><path clip-path=\"url(#clip260)\" d=\"M154.283 1154.25 Q150.672 1154.25 148.843 1157.82 Q147.038 1161.36 147.038 1168.49 Q147.038 1175.6 148.843 1179.16 Q150.672 1182.7 154.283 1182.7 Q157.917 1182.7 159.723 1179.16 Q161.552 1175.6 161.552 1168.49 Q161.552 1161.36 159.723 1157.82 Q157.917 1154.25 154.283 1154.25 M154.283 1150.55 Q160.093 1150.55 163.149 1155.16 Q166.227 1159.74 166.227 1168.49 Q166.227 1177.22 163.149 1181.82 Q160.093 1186.41 154.283 1186.41 Q148.473 1186.41 145.394 1181.82 Q142.339 1177.22 142.339 1168.49 Q142.339 1159.74 145.394 1155.16 Q148.473 1150.55 154.283 1150.55 Z\" fill=\"#000000\" fill-rule=\"evenodd\" fill-opacity=\"1\" /><path clip-path=\"url(#clip260)\" d=\"M166.227 1144.65 L190.339 1144.65 L190.339 1147.85 L166.227 1147.85 L166.227 1144.65 Z\" fill=\"#000000\" fill-rule=\"evenodd\" fill-opacity=\"1\" /><path clip-path=\"url(#clip260)\" d=\"M210.05 1143.18 Q212.777 1143.77 214.3 1145.61 Q215.842 1147.45 215.842 1150.16 Q215.842 1154.32 212.984 1156.59 Q210.125 1158.87 204.859 1158.87 Q203.091 1158.87 201.21 1158.51 Q199.348 1158.17 197.354 1157.48 L197.354 1153.81 Q198.934 1154.73 200.815 1155.2 Q202.696 1155.67 204.746 1155.67 Q208.319 1155.67 210.181 1154.26 Q212.062 1152.85 212.062 1150.16 Q212.062 1147.68 210.313 1146.29 Q208.583 1144.88 205.479 1144.88 L202.207 1144.88 L202.207 1141.75 L205.63 1141.75 Q208.432 1141.75 209.918 1140.65 Q211.404 1139.52 211.404 1137.41 Q211.404 1135.25 209.861 1134.1 Q208.338 1132.93 205.479 1132.93 Q203.918 1132.93 202.132 1133.27 Q200.345 1133.61 198.201 1134.33 L198.201 1130.94 Q200.364 1130.34 202.244 1130.04 Q204.144 1129.74 205.818 1129.74 Q210.144 1129.74 212.664 1131.71 Q215.184 1133.67 215.184 1137.02 Q215.184 1139.35 213.849 1140.96 Q212.513 1142.56 210.05 1143.18 Z\" fill=\"#000000\" fill-rule=\"evenodd\" fill-opacity=\"1\" /><path clip-path=\"url(#clip260)\" d=\"M115.703 749.892 L123.341 749.892 L123.341 723.527 L115.031 725.193 L115.031 720.934 L123.295 719.268 L127.971 719.268 L127.971 749.892 L135.61 749.892 L135.61 753.828 L115.703 753.828 L115.703 749.892 Z\" fill=\"#000000\" fill-rule=\"evenodd\" fill-opacity=\"1\" /><path clip-path=\"url(#clip260)\" d=\"M155.054 722.346 Q151.443 722.346 149.614 725.911 Q147.809 729.453 147.809 736.582 Q147.809 743.689 149.614 747.254 Q151.443 750.795 155.054 750.795 Q158.688 750.795 160.494 747.254 Q162.323 743.689 162.323 736.582 Q162.323 729.453 160.494 725.911 Q158.688 722.346 155.054 722.346 M155.054 718.643 Q160.864 718.643 163.92 723.249 Q166.999 727.832 166.999 736.582 Q166.999 745.309 163.92 749.916 Q160.864 754.499 155.054 754.499 Q149.244 754.499 146.165 749.916 Q143.11 745.309 143.11 736.582 Q143.11 727.832 146.165 723.249 Q149.244 718.643 155.054 718.643 Z\" fill=\"#000000\" fill-rule=\"evenodd\" fill-opacity=\"1\" /><path clip-path=\"url(#clip260)\" d=\"M166.999 712.744 L191.11 712.744 L191.11 715.941 L166.999 715.941 L166.999 712.744 Z\" fill=\"#000000\" fill-rule=\"evenodd\" fill-opacity=\"1\" /><path clip-path=\"url(#clip260)\" d=\"M202.583 723.22 L215.842 723.22 L215.842 726.417 L198.013 726.417 L198.013 723.22 Q200.175 720.982 203.899 717.22 Q207.642 713.44 208.601 712.349 Q210.426 710.299 211.14 708.888 Q211.874 707.459 211.874 706.086 Q211.874 703.848 210.294 702.437 Q208.733 701.027 206.213 701.027 Q204.426 701.027 202.432 701.647 Q200.458 702.268 198.201 703.528 L198.201 699.691 Q200.495 698.77 202.489 698.3 Q204.482 697.829 206.138 697.829 Q210.501 697.829 213.096 700.011 Q215.692 702.193 215.692 705.841 Q215.692 707.572 215.034 709.133 Q214.394 710.675 212.683 712.782 Q212.212 713.327 209.692 715.941 Q207.172 718.537 202.583 723.22 Z\" fill=\"#000000\" fill-rule=\"evenodd\" fill-opacity=\"1\" /><path clip-path=\"url(#clip260)\" d=\"M115.402 317.985 L123.04 317.985 L123.04 291.619 L114.73 293.286 L114.73 289.027 L122.994 287.36 L127.67 287.36 L127.67 317.985 L135.309 317.985 L135.309 321.92 L115.402 321.92 L115.402 317.985 Z\" fill=\"#000000\" fill-rule=\"evenodd\" fill-opacity=\"1\" /><path clip-path=\"url(#clip260)\" d=\"M154.753 290.439 Q151.142 290.439 149.313 294.004 Q147.508 297.545 147.508 304.675 Q147.508 311.781 149.313 315.346 Q151.142 318.888 154.753 318.888 Q158.388 318.888 160.193 315.346 Q162.022 311.781 162.022 304.675 Q162.022 297.545 160.193 294.004 Q158.388 290.439 154.753 290.439 M154.753 286.735 Q160.563 286.735 163.619 291.342 Q166.698 295.925 166.698 304.675 Q166.698 313.402 163.619 318.008 Q160.563 322.592 154.753 322.592 Q148.943 322.592 145.864 318.008 Q142.809 313.402 142.809 304.675 Q142.809 295.925 145.864 291.342 Q148.943 286.735 154.753 286.735 Z\" fill=\"#000000\" fill-rule=\"evenodd\" fill-opacity=\"1\" /><path clip-path=\"url(#clip260)\" d=\"M166.698 280.837 L190.809 280.837 L190.809 284.034 L166.698 284.034 L166.698 280.837 Z\" fill=\"#000000\" fill-rule=\"evenodd\" fill-opacity=\"1\" /><path clip-path=\"url(#clip260)\" d=\"M199.668 291.313 L205.874 291.313 L205.874 269.89 L199.122 271.245 L199.122 267.784 L205.837 266.43 L209.636 266.43 L209.636 291.313 L215.842 291.313 L215.842 294.51 L199.668 294.51 L199.668 291.313 Z\" fill=\"#000000\" fill-rule=\"evenodd\" fill-opacity=\"1\" /><path clip-path=\"url(#clip260)\" d=\"M16.4842 1028.32 L16.4842 998.275 L21.895 998.275 L21.895 1021.89 L35.9632 1021.89 L35.9632 999.262 L41.3741 999.262 L41.3741 1021.89 L58.5933 1021.89 L58.5933 997.703 L64.0042 997.703 L64.0042 1028.32 L16.4842 1028.32 Z\" fill=\"#000000\" fill-rule=\"evenodd\" fill-opacity=\"1\" /><path clip-path=\"url(#clip260)\" d=\"M33.8307 966.733 Q33.2578 967.72 33.0032 968.898 Q32.7167 970.044 32.7167 971.444 Q32.7167 976.409 35.9632 979.083 Q39.1779 981.725 45.2253 981.725 L64.0042 981.725 L64.0042 987.613 L28.3562 987.613 L28.3562 981.725 L33.8944 981.725 Q30.6479 979.879 29.0883 976.919 Q27.4968 973.958 27.4968 969.725 Q27.4968 969.121 27.5923 968.388 Q27.656 967.656 27.8151 966.765 L33.8307 966.733 Z\" fill=\"#000000\" fill-rule=\"evenodd\" fill-opacity=\"1\" /><path clip-path=\"url(#clip260)\" d=\"M33.8307 941.08 Q33.2578 942.066 33.0032 943.244 Q32.7167 944.39 32.7167 945.79 Q32.7167 950.755 35.9632 953.429 Q39.1779 956.071 45.2253 956.071 L64.0042 956.071 L64.0042 961.959 L28.3562 961.959 L28.3562 956.071 L33.8944 956.071 Q30.6479 954.225 29.0883 951.265 Q27.4968 948.305 27.4968 944.071 Q27.4968 943.467 27.5923 942.735 Q27.656 942.003 27.8151 941.111 L33.8307 941.08 Z\" fill=\"#000000\" fill-rule=\"evenodd\" fill-opacity=\"1\" /><path clip-path=\"url(#clip260)\" d=\"M32.4621 922.555 Q32.4621 927.266 36.1542 930.003 Q39.8145 932.74 46.212 932.74 Q52.6095 932.74 56.3017 930.035 Q59.9619 927.298 59.9619 922.555 Q59.9619 917.877 56.2698 915.139 Q52.5777 912.402 46.212 912.402 Q39.8781 912.402 36.186 915.139 Q32.4621 917.877 32.4621 922.555 M27.4968 922.555 Q27.4968 914.917 32.4621 910.556 Q37.4273 906.196 46.212 906.196 Q54.9649 906.196 59.9619 910.556 Q64.9272 914.917 64.9272 922.555 Q64.9272 930.226 59.9619 934.587 Q54.9649 938.915 46.212 938.915 Q37.4273 938.915 32.4621 934.587 Q27.4968 930.226 27.4968 922.555 Z\" fill=\"#000000\" fill-rule=\"evenodd\" fill-opacity=\"1\" /><path clip-path=\"url(#clip260)\" d=\"M33.8307 875.831 Q33.2578 876.818 33.0032 877.995 Q32.7167 879.141 32.7167 880.542 Q32.7167 885.507 35.9632 888.181 Q39.1779 890.822 45.2253 890.822 L64.0042 890.822 L64.0042 896.711 L28.3562 896.711 L28.3562 890.822 L33.8944 890.822 Q30.6479 888.976 29.0883 886.016 Q27.4968 883.056 27.4968 878.823 Q27.4968 878.218 27.5923 877.486 Q27.656 876.754 27.8151 875.863 L33.8307 875.831 Z\" fill=\"#000000\" fill-rule=\"evenodd\" fill-opacity=\"1\" /><path clip-path=\"url(#clip260)\" d=\"M44.7161 840.629 L47.5806 840.629 L47.5806 867.556 Q53.6281 867.174 56.8109 863.927 Q59.9619 860.649 59.9619 854.824 Q59.9619 851.45 59.1344 848.299 Q58.3069 845.117 56.6518 841.997 L62.1899 841.997 Q63.5267 845.148 64.227 848.459 Q64.9272 851.769 64.9272 855.174 Q64.9272 863.704 59.9619 868.701 Q54.9967 873.667 46.5303 873.667 Q37.7774 873.667 32.6531 868.956 Q27.4968 864.214 27.4968 856.193 Q27.4968 849 32.1438 844.83 Q36.7589 840.629 44.7161 840.629 M42.9973 846.485 Q38.1912 846.549 35.3266 849.191 Q32.4621 851.801 32.4621 856.129 Q32.4621 861.031 35.2312 863.991 Q38.0002 866.919 43.0292 867.365 L42.9973 846.485 Z\" fill=\"#000000\" fill-rule=\"evenodd\" fill-opacity=\"1\" /><path clip-path=\"url(#clip260)\" d=\"M29.4065 808.291 L34.9447 808.291 Q33.6716 810.774 33.035 813.447 Q32.3984 816.121 32.3984 818.985 Q32.3984 823.346 33.7352 825.542 Q35.072 827.706 37.7456 827.706 Q39.7826 827.706 40.9603 826.147 Q42.1061 824.587 43.1565 819.877 L43.6021 817.871 Q44.9389 811.633 47.3897 809.023 Q49.8086 806.381 54.1691 806.381 Q59.1344 806.381 62.0308 810.328 Q64.9272 814.243 64.9272 821.118 Q64.9272 823.982 64.3543 827.102 Q63.8132 830.189 62.6992 833.626 L56.6518 833.626 Q58.3387 830.38 59.198 827.229 Q60.0256 824.078 60.0256 820.991 Q60.0256 816.853 58.6251 814.625 Q57.1929 812.397 54.6147 812.397 Q52.2276 812.397 50.9545 814.02 Q49.6813 815.611 48.5037 821.054 L48.0262 823.091 Q46.8804 828.534 44.5251 830.953 Q42.138 833.372 38.0002 833.372 Q32.9713 833.372 30.2341 829.807 Q27.4968 826.242 27.4968 819.686 Q27.4968 816.439 27.9743 813.574 Q28.4517 810.71 29.4065 808.291 Z\" fill=\"#000000\" fill-rule=\"evenodd\" fill-opacity=\"1\" /><path clip-path=\"url(#clip260)\" d=\"M33.8307 755.678 Q33.2578 756.665 33.0032 757.843 Q32.7167 758.989 32.7167 760.389 Q32.7167 765.354 35.9632 768.028 Q39.1779 770.67 45.2253 770.67 L64.0042 770.67 L64.0042 776.558 L28.3562 776.558 L28.3562 770.67 L33.8944 770.67 Q30.6479 768.824 29.0883 765.864 Q27.4968 762.903 27.4968 758.67 Q27.4968 758.066 27.5923 757.333 Q27.656 756.601 27.8151 755.71 L33.8307 755.678 Z\" fill=\"#000000\" fill-rule=\"evenodd\" fill-opacity=\"1\" /><path clip-path=\"url(#clip260)\" d=\"M44.7161 720.476 L47.5806 720.476 L47.5806 747.403 Q53.6281 747.021 56.8109 743.774 Q59.9619 740.496 59.9619 734.672 Q59.9619 731.298 59.1344 728.147 Q58.3069 724.964 56.6518 721.845 L62.1899 721.845 Q63.5267 724.996 64.227 728.306 Q64.9272 731.616 64.9272 735.022 Q64.9272 743.552 59.9619 748.549 Q54.9967 753.514 46.5303 753.514 Q37.7774 753.514 32.6531 748.803 Q27.4968 744.061 27.4968 736.04 Q27.4968 728.847 32.1438 724.677 Q36.7589 720.476 44.7161 720.476 M42.9973 726.332 Q38.1912 726.396 35.3266 729.038 Q32.4621 731.648 32.4621 735.977 Q32.4621 740.878 35.2312 743.838 Q38.0002 746.766 43.0292 747.212 L42.9973 726.332 Z\" fill=\"#000000\" fill-rule=\"evenodd\" fill-opacity=\"1\" /><path clip-path=\"url(#clip260)\" d=\"M14.479 710.864 L14.479 705.007 L64.0042 705.007 L64.0042 710.864 L14.479 710.864 Z\" fill=\"#000000\" fill-rule=\"evenodd\" fill-opacity=\"1\" /><path clip-path=\"url(#clip260)\" d=\"M46.0847 676.553 Q46.0847 683.65 47.7079 686.388 Q49.3312 689.125 53.2461 689.125 Q56.3653 689.125 58.2114 687.088 Q60.0256 685.019 60.0256 681.486 Q60.0256 676.616 56.5881 673.688 Q53.1188 670.728 47.3897 670.728 L46.0847 670.728 L46.0847 676.553 M43.6657 664.872 L64.0042 664.872 L64.0042 670.728 L58.5933 670.728 Q61.8398 672.733 63.3994 675.725 Q64.9272 678.717 64.9272 683.046 Q64.9272 688.52 61.8716 691.767 Q58.7843 694.981 53.6281 694.981 Q47.6125 694.981 44.5569 690.971 Q41.5014 686.929 41.5014 678.94 L41.5014 670.728 L40.9285 670.728 Q36.8862 670.728 34.6901 673.402 Q32.4621 676.043 32.4621 680.849 Q32.4621 683.905 33.1941 686.801 Q33.9262 689.698 35.3903 692.371 L29.9795 692.371 Q28.7381 689.157 28.1334 686.133 Q27.4968 683.109 27.4968 680.245 Q27.4968 672.51 31.5072 668.691 Q35.5176 664.872 43.6657 664.872 Z\" fill=\"#000000\" fill-rule=\"evenodd\" fill-opacity=\"1\" /><path clip-path=\"url(#clip260)\" d=\"M18.2347 647.016 L28.3562 647.016 L28.3562 634.953 L32.9077 634.953 L32.9077 647.016 L52.2594 647.016 Q56.6199 647.016 57.8613 645.838 Q59.1026 644.629 59.1026 640.968 L59.1026 634.953 L64.0042 634.953 L64.0042 640.968 Q64.0042 647.748 61.4897 650.326 Q58.9434 652.904 52.2594 652.904 L32.9077 652.904 L32.9077 657.201 L28.3562 657.201 L28.3562 652.904 L18.2347 652.904 L18.2347 647.016 Z\" fill=\"#000000\" fill-rule=\"evenodd\" fill-opacity=\"1\" /><path clip-path=\"url(#clip260)\" d=\"M28.3562 627.25 L28.3562 621.394 L64.0042 621.394 L64.0042 627.25 L28.3562 627.25 M14.479 627.25 L14.479 621.394 L21.895 621.394 L21.895 627.25 L14.479 627.25 Z\" fill=\"#000000\" fill-rule=\"evenodd\" fill-opacity=\"1\" /><path clip-path=\"url(#clip260)\" d=\"M28.3562 613.341 L28.3562 607.135 L58.275 595.995 L28.3562 584.855 L28.3562 578.648 L64.0042 592.016 L64.0042 599.973 L28.3562 613.341 Z\" fill=\"#000000\" fill-rule=\"evenodd\" fill-opacity=\"1\" /><path clip-path=\"url(#clip260)\" d=\"M32.4621 556.75 Q32.4621 561.461 36.1542 564.198 Q39.8145 566.935 46.212 566.935 Q52.6095 566.935 56.3017 564.23 Q59.9619 561.492 59.9619 556.75 Q59.9619 552.071 56.2698 549.334 Q52.5777 546.597 46.212 546.597 Q39.8781 546.597 36.186 549.334 Q32.4621 552.071 32.4621 556.75 M27.4968 556.75 Q27.4968 549.111 32.4621 544.751 Q37.4273 540.39 46.212 540.39 Q54.9649 540.39 59.9619 544.751 Q64.9272 549.111 64.9272 556.75 Q64.9272 564.421 59.9619 568.781 Q54.9649 573.11 46.212 573.11 Q37.4273 573.11 32.4621 568.781 Q27.4968 564.421 27.4968 556.75 Z\" fill=\"#000000\" fill-rule=\"evenodd\" fill-opacity=\"1\" /><path clip-path=\"url(#clip260)\" d=\"M29.4065 507.957 L34.9447 507.957 Q33.6716 510.44 33.035 513.113 Q32.3984 515.787 32.3984 518.651 Q32.3984 523.012 33.7352 525.208 Q35.072 527.372 37.7456 527.372 Q39.7826 527.372 40.9603 525.813 Q42.1061 524.253 43.1565 519.542 L43.6021 517.537 Q44.9389 511.299 47.3897 508.689 Q49.8086 506.047 54.1691 506.047 Q59.1344 506.047 62.0308 509.994 Q64.9272 513.909 64.9272 520.784 Q64.9272 523.648 64.3543 526.768 Q63.8132 529.855 62.6992 533.292 L56.6518 533.292 Q58.3387 530.046 59.198 526.895 Q60.0256 523.744 60.0256 520.656 Q60.0256 516.519 58.6251 514.291 Q57.1929 512.063 54.6147 512.063 Q52.2276 512.063 50.9545 513.686 Q49.6813 515.277 48.5037 520.72 L48.0262 522.757 Q46.8804 528.2 44.5251 530.619 Q42.138 533.038 38.0002 533.038 Q32.9713 533.038 30.2341 529.473 Q27.4968 525.908 27.4968 519.352 Q27.4968 516.105 27.9743 513.24 Q28.4517 510.376 29.4065 507.957 Z\" fill=\"#000000\" fill-rule=\"evenodd\" fill-opacity=\"1\" /><path clip-path=\"url(#clip260)\" d=\"M825.953 16.7545 L825.953 25.383 Q821.821 21.5346 817.122 19.6307 Q812.464 17.7268 807.198 17.7268 Q796.827 17.7268 791.318 24.0867 Q785.809 30.4061 785.809 42.3968 Q785.809 54.3469 791.318 60.7069 Q796.827 67.0263 807.198 67.0263 Q812.464 67.0263 817.122 65.1223 Q821.821 63.2184 825.953 59.3701 L825.953 67.9175 Q821.659 70.8341 816.839 72.2924 Q812.059 73.7508 806.712 73.7508 Q792.979 73.7508 785.08 65.3654 Q777.18 56.9395 777.18 42.3968 Q777.18 27.8135 785.08 19.4281 Q792.979 11.0023 806.712 11.0023 Q812.14 11.0023 816.92 12.4606 Q821.74 13.8784 825.953 16.7545 Z\" fill=\"#000000\" fill-rule=\"evenodd\" fill-opacity=\"1\" /><path clip-path=\"url(#clip260)\" d=\"M855.849 32.4315 Q849.854 32.4315 846.37 37.1306 Q842.886 41.7891 842.886 49.9314 Q842.886 58.0738 846.329 62.7728 Q849.813 67.4314 855.849 67.4314 Q861.804 67.4314 865.288 62.7323 Q868.771 58.0333 868.771 49.9314 Q868.771 41.8701 865.288 37.1711 Q861.804 32.4315 855.849 32.4315 M855.849 26.1121 Q865.571 26.1121 871.121 32.4315 Q876.671 38.7509 876.671 49.9314 Q876.671 61.0714 871.121 67.4314 Q865.571 73.7508 855.849 73.7508 Q846.086 73.7508 840.537 67.4314 Q835.027 61.0714 835.027 49.9314 Q835.027 38.7509 840.537 32.4315 Q846.086 26.1121 855.849 26.1121 Z\" fill=\"#000000\" fill-rule=\"evenodd\" fill-opacity=\"1\" /><path clip-path=\"url(#clip260)\" d=\"M924.35 35.9153 Q927.145 30.8922 931.034 28.5022 Q934.923 26.1121 940.189 26.1121 Q947.278 26.1121 951.126 31.0947 Q954.975 36.0368 954.975 45.1919 L954.975 72.576 L947.48 72.576 L947.48 45.4349 Q947.48 38.913 945.171 35.7533 Q942.862 32.5936 938.123 32.5936 Q932.33 32.5936 928.968 36.4419 Q925.606 40.2903 925.606 46.9338 L925.606 72.576 L918.111 72.576 L918.111 45.4349 Q918.111 38.8725 915.802 35.7533 Q913.493 32.5936 908.673 32.5936 Q902.961 32.5936 899.599 36.4824 Q896.236 40.3308 896.236 46.9338 L896.236 72.576 L888.742 72.576 L888.742 27.2059 L896.236 27.2059 L896.236 34.2544 Q898.789 30.082 902.353 28.0971 Q905.918 26.1121 910.82 26.1121 Q915.762 26.1121 919.205 28.6237 Q922.689 31.1352 924.35 35.9153 Z\" fill=\"#000000\" fill-rule=\"evenodd\" fill-opacity=\"1\" /><path clip-path=\"url(#clip260)\" d=\"M977.052 65.7705 L977.052 89.8329 L969.558 89.8329 L969.558 27.2059 L977.052 27.2059 L977.052 34.0924 Q979.402 30.0415 982.966 28.0971 Q986.572 26.1121 991.554 26.1121 Q999.818 26.1121 1004.96 32.6746 Q1010.15 39.2371 1010.15 49.9314 Q1010.15 60.6258 1004.96 67.1883 Q999.818 73.7508 991.554 73.7508 Q986.572 73.7508 982.966 71.8063 Q979.402 69.8214 977.052 65.7705 M1002.41 49.9314 Q1002.41 41.7081 999.008 37.0496 Q995.646 32.3505 989.731 32.3505 Q983.817 32.3505 980.414 37.0496 Q977.052 41.7081 977.052 49.9314 Q977.052 58.1548 980.414 62.8538 Q983.817 67.5124 989.731 67.5124 Q995.646 67.5124 999.008 62.8538 Q1002.41 58.1548 1002.41 49.9314 Z\" fill=\"#000000\" fill-rule=\"evenodd\" fill-opacity=\"1\" /><path clip-path=\"url(#clip260)\" d=\"M1043.12 49.7694 Q1034.09 49.7694 1030.6 51.8354 Q1027.12 53.9013 1027.12 58.8839 Q1027.12 62.8538 1029.71 65.2034 Q1032.35 67.5124 1036.84 67.5124 Q1043.04 67.5124 1046.77 63.1374 Q1050.54 58.7219 1050.54 51.4303 L1050.54 49.7694 L1043.12 49.7694 M1057.99 46.6907 L1057.99 72.576 L1050.54 72.576 L1050.54 65.6895 Q1047.98 69.8214 1044.18 71.8063 Q1040.37 73.7508 1034.86 73.7508 Q1027.89 73.7508 1023.76 69.8619 Q1019.67 65.9325 1019.67 59.3701 Q1019.67 51.7138 1024.77 47.825 Q1029.92 43.9361 1040.08 43.9361 L1050.54 43.9361 L1050.54 43.2069 Q1050.54 38.0623 1047.13 35.2672 Q1043.77 32.4315 1037.65 32.4315 Q1033.76 32.4315 1030.08 33.3632 Q1026.39 34.295 1022.99 36.1584 L1022.99 29.2718 Q1027.08 27.692 1030.93 26.9223 Q1034.78 26.1121 1038.42 26.1121 Q1048.27 26.1121 1053.13 31.2163 Q1057.99 36.3204 1057.99 46.6907 Z\" fill=\"#000000\" fill-rule=\"evenodd\" fill-opacity=\"1\" /><path clip-path=\"url(#clip260)\" d=\"M1099.63 34.1734 Q1098.38 33.4443 1096.88 33.1202 Q1095.42 32.7556 1093.64 32.7556 Q1087.32 32.7556 1083.91 36.8875 Q1080.55 40.9789 1080.55 48.6757 L1080.55 72.576 L1073.06 72.576 L1073.06 27.2059 L1080.55 27.2059 L1080.55 34.2544 Q1082.9 30.1225 1086.67 28.1376 Q1090.44 26.1121 1095.82 26.1121 Q1096.59 26.1121 1097.53 26.2337 Q1098.46 26.3147 1099.59 26.5172 L1099.63 34.1734 Z\" fill=\"#000000\" fill-rule=\"evenodd\" fill-opacity=\"1\" /><path clip-path=\"url(#clip260)\" d=\"M1128.07 49.7694 Q1119.04 49.7694 1115.55 51.8354 Q1112.07 53.9013 1112.07 58.8839 Q1112.07 62.8538 1114.66 65.2034 Q1117.29 67.5124 1121.79 67.5124 Q1127.99 67.5124 1131.72 63.1374 Q1135.48 58.7219 1135.48 51.4303 L1135.48 49.7694 L1128.07 49.7694 M1142.94 46.6907 L1142.94 72.576 L1135.48 72.576 L1135.48 65.6895 Q1132.93 69.8214 1129.12 71.8063 Q1125.32 73.7508 1119.81 73.7508 Q1112.84 73.7508 1108.71 69.8619 Q1104.62 65.9325 1104.62 59.3701 Q1104.62 51.7138 1109.72 47.825 Q1114.86 43.9361 1125.03 43.9361 L1135.48 43.9361 L1135.48 43.2069 Q1135.48 38.0623 1132.08 35.2672 Q1128.72 32.4315 1122.6 32.4315 Q1118.71 32.4315 1115.03 33.3632 Q1111.34 34.295 1107.94 36.1584 L1107.94 29.2718 Q1112.03 27.692 1115.88 26.9223 Q1119.72 26.1121 1123.37 26.1121 Q1133.21 26.1121 1138.08 31.2163 Q1142.94 36.3204 1142.94 46.6907 Z\" fill=\"#000000\" fill-rule=\"evenodd\" fill-opacity=\"1\" /><path clip-path=\"url(#clip260)\" d=\"M1190.94 28.9478 L1190.94 35.9153 Q1187.78 34.1734 1184.58 33.3227 Q1181.42 32.4315 1178.18 32.4315 Q1170.93 32.4315 1166.92 37.0496 Q1162.91 41.6271 1162.91 49.9314 Q1162.91 58.2358 1166.92 62.8538 Q1170.93 67.4314 1178.18 67.4314 Q1181.42 67.4314 1184.58 66.5807 Q1187.78 65.6895 1190.94 63.9476 L1190.94 70.8341 Q1187.82 72.2924 1184.46 73.0216 Q1181.14 73.7508 1177.37 73.7508 Q1167.12 73.7508 1161.08 67.3098 Q1155.05 60.8689 1155.05 49.9314 Q1155.05 38.832 1161.13 32.472 Q1167.24 26.1121 1177.86 26.1121 Q1181.3 26.1121 1184.58 26.8413 Q1187.86 27.5299 1190.94 28.9478 Z\" fill=\"#000000\" fill-rule=\"evenodd\" fill-opacity=\"1\" /><path clip-path=\"url(#clip260)\" d=\"M1203.9 27.2059 L1211.36 27.2059 L1211.36 72.576 L1203.9 72.576 L1203.9 27.2059 M1203.9 9.54393 L1211.36 9.54393 L1211.36 18.9825 L1203.9 18.9825 L1203.9 9.54393 Z\" fill=\"#000000\" fill-rule=\"evenodd\" fill-opacity=\"1\" /><path clip-path=\"url(#clip260)\" d=\"M1244.53 32.4315 Q1238.54 32.4315 1235.05 37.1306 Q1231.57 41.7891 1231.57 49.9314 Q1231.57 58.0738 1235.01 62.7728 Q1238.5 67.4314 1244.53 67.4314 Q1250.49 67.4314 1253.97 62.7323 Q1257.46 58.0333 1257.46 49.9314 Q1257.46 41.8701 1253.97 37.1711 Q1250.49 32.4315 1244.53 32.4315 M1244.53 26.1121 Q1254.26 26.1121 1259.81 32.4315 Q1265.35 38.7509 1265.35 49.9314 Q1265.35 61.0714 1259.81 67.4314 Q1254.26 73.7508 1244.53 73.7508 Q1234.77 73.7508 1229.22 67.4314 Q1223.71 61.0714 1223.71 49.9314 Q1223.71 38.7509 1229.22 32.4315 Q1234.77 26.1121 1244.53 26.1121 M1250.16 6.22219 L1258.23 6.22219 L1245.02 21.4536 L1238.82 21.4536 L1250.16 6.22219 Z\" fill=\"#000000\" fill-rule=\"evenodd\" fill-opacity=\"1\" /><path clip-path=\"url(#clip260)\" d=\"M1315.42 45.1919 L1315.42 72.576 L1307.97 72.576 L1307.97 45.4349 Q1307.97 38.994 1305.46 35.7938 Q1302.95 32.5936 1297.92 32.5936 Q1291.89 32.5936 1288.4 36.4419 Q1284.92 40.2903 1284.92 46.9338 L1284.92 72.576 L1277.43 72.576 L1277.43 27.2059 L1284.92 27.2059 L1284.92 34.2544 Q1287.59 30.163 1291.2 28.1376 Q1294.85 26.1121 1299.59 26.1121 Q1307.4 26.1121 1311.41 30.9732 Q1315.42 35.7938 1315.42 45.1919 Z\" fill=\"#000000\" fill-rule=\"evenodd\" fill-opacity=\"1\" /><path clip-path=\"url(#clip260)\" d=\"M1386.52 34.0924 L1386.52 9.54393 L1393.97 9.54393 L1393.97 72.576 L1386.52 72.576 L1386.52 65.7705 Q1384.17 69.8214 1380.56 71.8063 Q1377 73.7508 1371.97 73.7508 Q1363.75 73.7508 1358.57 67.1883 Q1353.42 60.6258 1353.42 49.9314 Q1353.42 39.2371 1358.57 32.6746 Q1363.75 26.1121 1371.97 26.1121 Q1377 26.1121 1380.56 28.0971 Q1384.17 30.0415 1386.52 34.0924 M1361.12 49.9314 Q1361.12 58.1548 1364.48 62.8538 Q1367.88 67.5124 1373.8 67.5124 Q1379.71 67.5124 1383.11 62.8538 Q1386.52 58.1548 1386.52 49.9314 Q1386.52 41.7081 1383.11 37.0496 Q1379.71 32.3505 1373.8 32.3505 Q1367.88 32.3505 1364.48 37.0496 Q1361.12 41.7081 1361.12 49.9314 Z\" fill=\"#000000\" fill-rule=\"evenodd\" fill-opacity=\"1\" /><path clip-path=\"url(#clip260)\" d=\"M1448.13 48.0275 L1448.13 51.6733 L1413.86 51.6733 Q1414.35 59.3701 1418.48 63.421 Q1422.65 67.4314 1430.06 67.4314 Q1434.36 67.4314 1438.37 66.3781 Q1442.42 65.3249 1446.39 63.2184 L1446.39 70.267 Q1442.38 71.9684 1438.17 72.8596 Q1433.95 73.7508 1429.62 73.7508 Q1418.76 73.7508 1412.4 67.4314 Q1406.08 61.1119 1406.08 50.3365 Q1406.08 39.1965 1412.08 32.6746 Q1418.11 26.1121 1428.32 26.1121 Q1437.48 26.1121 1442.78 32.0264 Q1448.13 37.9003 1448.13 48.0275 M1440.68 45.84 Q1440.6 39.7232 1437.23 36.0774 Q1433.91 32.4315 1428.4 32.4315 Q1422.17 32.4315 1418.4 35.9558 Q1414.67 39.4801 1414.1 45.8805 L1440.68 45.84 Z\" fill=\"#000000\" fill-rule=\"evenodd\" fill-opacity=\"1\" /><path clip-path=\"url(#clip260)\" d=\"M1487.06 12.096 L1499.25 12.096 L1514.69 53.2532 L1530.2 12.096 L1542.4 12.096 L1542.4 72.576 L1534.42 72.576 L1534.42 19.4686 L1518.82 60.9499 L1510.6 60.9499 L1495 19.4686 L1495 72.576 L1487.06 72.576 L1487.06 12.096 Z\" fill=\"#000000\" fill-rule=\"evenodd\" fill-opacity=\"1\" /><path clip-path=\"url(#clip260)\" d=\"M1597.12 48.0275 L1597.12 51.6733 L1562.85 51.6733 Q1563.34 59.3701 1567.47 63.421 Q1571.64 67.4314 1579.06 67.4314 Q1583.35 67.4314 1587.36 66.3781 Q1591.41 65.3249 1595.38 63.2184 L1595.38 70.267 Q1591.37 71.9684 1587.16 72.8596 Q1582.95 73.7508 1578.61 73.7508 Q1567.75 73.7508 1561.39 67.4314 Q1555.08 61.1119 1555.08 50.3365 Q1555.08 39.1965 1561.07 32.6746 Q1567.11 26.1121 1577.32 26.1121 Q1586.47 26.1121 1591.78 32.0264 Q1597.12 37.9003 1597.12 48.0275 M1589.67 45.84 Q1589.59 39.7232 1586.23 36.0774 Q1582.91 32.4315 1577.4 32.4315 Q1571.16 32.4315 1567.39 35.9558 Q1563.66 39.4801 1563.1 45.8805 L1589.67 45.84 M1582.5 6.22219 L1590.56 6.22219 L1577.36 21.4536 L1571.16 21.4536 L1582.5 6.22219 Z\" fill=\"#000000\" fill-rule=\"evenodd\" fill-opacity=\"1\" /><path clip-path=\"url(#clip260)\" d=\"M1616.73 14.324 L1616.73 27.2059 L1632.08 27.2059 L1632.08 32.9987 L1616.73 32.9987 L1616.73 57.6282 Q1616.73 63.1779 1618.23 64.7578 Q1619.77 66.3376 1624.43 66.3376 L1632.08 66.3376 L1632.08 72.576 L1624.43 72.576 Q1615.8 72.576 1612.52 69.3758 Q1609.24 66.1351 1609.24 57.6282 L1609.24 32.9987 L1603.77 32.9987 L1603.77 27.2059 L1609.24 27.2059 L1609.24 14.324 L1616.73 14.324 Z\" fill=\"#000000\" fill-rule=\"evenodd\" fill-opacity=\"1\" /><path clip-path=\"url(#clip260)\" d=\"M1659.47 32.4315 Q1653.47 32.4315 1649.99 37.1306 Q1646.5 41.7891 1646.5 49.9314 Q1646.5 58.0738 1649.95 62.7728 Q1653.43 67.4314 1659.47 67.4314 Q1665.42 67.4314 1668.91 62.7323 Q1672.39 58.0333 1672.39 49.9314 Q1672.39 41.8701 1668.91 37.1711 Q1665.42 32.4315 1659.47 32.4315 M1659.47 26.1121 Q1669.19 26.1121 1674.74 32.4315 Q1680.29 38.7509 1680.29 49.9314 Q1680.29 61.0714 1674.74 67.4314 Q1669.19 73.7508 1659.47 73.7508 Q1649.7 73.7508 1644.15 67.4314 Q1638.65 61.0714 1638.65 49.9314 Q1638.65 38.7509 1644.15 32.4315 Q1649.7 26.1121 1659.47 26.1121 Z\" fill=\"#000000\" fill-rule=\"evenodd\" fill-opacity=\"1\" /><path clip-path=\"url(#clip260)\" d=\"M1722.5 34.0924 L1722.5 9.54393 L1729.95 9.54393 L1729.95 72.576 L1722.5 72.576 L1722.5 65.7705 Q1720.15 69.8214 1716.54 71.8063 Q1712.98 73.7508 1707.96 73.7508 Q1699.73 73.7508 1694.55 67.1883 Q1689.4 60.6258 1689.4 49.9314 Q1689.4 39.2371 1694.55 32.6746 Q1699.73 26.1121 1707.96 26.1121 Q1712.98 26.1121 1716.54 28.0971 Q1720.15 30.0415 1722.5 34.0924 M1697.1 49.9314 Q1697.1 58.1548 1700.46 62.8538 Q1703.87 67.5124 1709.78 67.5124 Q1715.69 67.5124 1719.1 62.8538 Q1722.5 58.1548 1722.5 49.9314 Q1722.5 41.7081 1719.1 37.0496 Q1715.69 32.3505 1709.78 32.3505 Q1703.87 32.3505 1700.46 37.0496 Q1697.1 41.7081 1697.1 49.9314 Z\" fill=\"#000000\" fill-rule=\"evenodd\" fill-opacity=\"1\" /><path clip-path=\"url(#clip260)\" d=\"M1762.89 32.4315 Q1756.89 32.4315 1753.41 37.1306 Q1749.92 41.7891 1749.92 49.9314 Q1749.92 58.0738 1753.37 62.7728 Q1756.85 67.4314 1762.89 67.4314 Q1768.84 67.4314 1772.33 62.7323 Q1775.81 58.0333 1775.81 49.9314 Q1775.81 41.8701 1772.33 37.1711 Q1768.84 32.4315 1762.89 32.4315 M1762.89 26.1121 Q1772.61 26.1121 1778.16 32.4315 Q1783.71 38.7509 1783.71 49.9314 Q1783.71 61.0714 1778.16 67.4314 Q1772.61 73.7508 1762.89 73.7508 Q1753.12 73.7508 1747.57 67.4314 Q1742.07 61.0714 1742.07 49.9314 Q1742.07 38.7509 1747.57 32.4315 Q1753.12 26.1121 1762.89 26.1121 Z\" fill=\"#000000\" fill-rule=\"evenodd\" fill-opacity=\"1\" /><path clip-path=\"url(#clip260)\" d=\"M1824.99 28.5427 L1824.99 35.5912 Q1821.83 33.9709 1818.42 33.1607 Q1815.02 32.3505 1811.38 32.3505 Q1805.83 32.3505 1803.03 34.0519 Q1800.28 35.7533 1800.28 39.156 Q1800.28 41.7486 1802.26 43.2475 Q1804.25 44.7058 1810.24 46.0426 L1812.79 46.6097 Q1820.73 48.3111 1824.06 51.4303 Q1827.42 54.509 1827.42 60.0587 Q1827.42 66.3781 1822.39 70.0644 Q1817.41 73.7508 1808.66 73.7508 Q1805.02 73.7508 1801.05 73.0216 Q1797.12 72.3329 1792.74 70.9151 L1792.74 63.2184 Q1796.87 65.3654 1800.88 66.4591 Q1804.89 67.5124 1808.82 67.5124 Q1814.09 67.5124 1816.93 65.73 Q1819.76 63.9071 1819.76 60.6258 Q1819.76 57.5877 1817.7 55.9673 Q1815.67 54.3469 1808.74 52.8481 L1806.15 52.2405 Q1799.22 50.7821 1796.14 47.7845 Q1793.07 44.7463 1793.07 39.4801 Q1793.07 33.0797 1797.6 29.5959 Q1802.14 26.1121 1810.49 26.1121 Q1814.62 26.1121 1818.26 26.7198 Q1821.91 27.3274 1824.99 28.5427 Z\" fill=\"#000000\" fill-rule=\"evenodd\" fill-opacity=\"1\" /><circle clip-path=\"url(#clip262)\" cx=\"311.302\" cy=\"721.089\" r=\"14.4\" fill=\"#009af9\" fill-rule=\"evenodd\" fill-opacity=\"1\" stroke=\"#000000\" stroke-opacity=\"1\" stroke-width=\"3.2\"/>\n",
       "<circle clip-path=\"url(#clip262)\" cx=\"491.483\" cy=\"856.956\" r=\"14.4\" fill=\"#009af9\" fill-rule=\"evenodd\" fill-opacity=\"1\" stroke=\"#000000\" stroke-opacity=\"1\" stroke-width=\"3.2\"/>\n",
       "<circle clip-path=\"url(#clip262)\" cx=\"671.665\" cy=\"1032.44\" r=\"14.4\" fill=\"#009af9\" fill-rule=\"evenodd\" fill-opacity=\"1\" stroke=\"#000000\" stroke-opacity=\"1\" stroke-width=\"3.2\"/>\n",
       "<circle clip-path=\"url(#clip262)\" cx=\"851.846\" cy=\"1311.68\" r=\"14.4\" fill=\"#009af9\" fill-rule=\"evenodd\" fill-opacity=\"1\" stroke=\"#000000\" stroke-opacity=\"1\" stroke-width=\"3.2\"/>\n",
       "<circle clip-path=\"url(#clip262)\" cx=\"1032.03\" cy=\"1124.29\" r=\"14.4\" fill=\"#009af9\" fill-rule=\"evenodd\" fill-opacity=\"1\" stroke=\"#000000\" stroke-opacity=\"1\" stroke-width=\"3.2\"/>\n",
       "<circle clip-path=\"url(#clip262)\" cx=\"1212.21\" cy=\"1311.68\" r=\"14.4\" fill=\"#009af9\" fill-rule=\"evenodd\" fill-opacity=\"1\" stroke=\"#000000\" stroke-opacity=\"1\" stroke-width=\"3.2\"/>\n",
       "<circle clip-path=\"url(#clip262)\" cx=\"1392.39\" cy=\"1311.68\" r=\"14.4\" fill=\"#009af9\" fill-rule=\"evenodd\" fill-opacity=\"1\" stroke=\"#000000\" stroke-opacity=\"1\" stroke-width=\"3.2\"/>\n",
       "<circle clip-path=\"url(#clip262)\" cx=\"1572.57\" cy=\"1311.68\" r=\"14.4\" fill=\"#009af9\" fill-rule=\"evenodd\" fill-opacity=\"1\" stroke=\"#000000\" stroke-opacity=\"1\" stroke-width=\"3.2\"/>\n",
       "<circle clip-path=\"url(#clip262)\" cx=\"1752.75\" cy=\"1124.29\" r=\"14.4\" fill=\"#009af9\" fill-rule=\"evenodd\" fill-opacity=\"1\" stroke=\"#000000\" stroke-opacity=\"1\" stroke-width=\"3.2\"/>\n",
       "<circle clip-path=\"url(#clip262)\" cx=\"1932.93\" cy=\"557.923\" r=\"14.4\" fill=\"#009af9\" fill-rule=\"evenodd\" fill-opacity=\"1\" stroke=\"#000000\" stroke-opacity=\"1\" stroke-width=\"3.2\"/>\n",
       "<circle clip-path=\"url(#clip262)\" cx=\"2113.11\" cy=\"516.55\" r=\"14.4\" fill=\"#009af9\" fill-rule=\"evenodd\" fill-opacity=\"1\" stroke=\"#000000\" stroke-opacity=\"1\" stroke-width=\"3.2\"/>\n",
       "<circle clip-path=\"url(#clip262)\" cx=\"2293.3\" cy=\"159.909\" r=\"14.4\" fill=\"#009af9\" fill-rule=\"evenodd\" fill-opacity=\"1\" stroke=\"#000000\" stroke-opacity=\"1\" stroke-width=\"3.2\"/>\n",
       "<circle clip-path=\"url(#clip262)\" cx=\"311.302\" cy=\"596.314\" r=\"14.4\" fill=\"#e26f46\" fill-rule=\"evenodd\" fill-opacity=\"1\" stroke=\"#000000\" stroke-opacity=\"1\" stroke-width=\"3.2\"/>\n",
       "<circle clip-path=\"url(#clip262)\" cx=\"491.483\" cy=\"861.742\" r=\"14.4\" fill=\"#e26f46\" fill-rule=\"evenodd\" fill-opacity=\"1\" stroke=\"#000000\" stroke-opacity=\"1\" stroke-width=\"3.2\"/>\n",
       "<circle clip-path=\"url(#clip262)\" cx=\"671.665\" cy=\"1044.89\" r=\"14.4\" fill=\"#e26f46\" fill-rule=\"evenodd\" fill-opacity=\"1\" stroke=\"#000000\" stroke-opacity=\"1\" stroke-width=\"3.2\"/>\n",
       "<circle clip-path=\"url(#clip262)\" cx=\"851.846\" cy=\"1374.46\" r=\"14.4\" fill=\"#e26f46\" fill-rule=\"evenodd\" fill-opacity=\"1\" stroke=\"#000000\" stroke-opacity=\"1\" stroke-width=\"3.2\"/>\n",
       "<circle clip-path=\"url(#clip262)\" cx=\"1032.03\" cy=\"1311.68\" r=\"14.4\" fill=\"#e26f46\" fill-rule=\"evenodd\" fill-opacity=\"1\" stroke=\"#000000\" stroke-opacity=\"1\" stroke-width=\"3.2\"/>\n",
       "<circle clip-path=\"url(#clip262)\" cx=\"1212.21\" cy=\"1374.46\" r=\"14.4\" fill=\"#e26f46\" fill-rule=\"evenodd\" fill-opacity=\"1\" stroke=\"#000000\" stroke-opacity=\"1\" stroke-width=\"3.2\"/>\n",
       "<circle clip-path=\"url(#clip262)\" cx=\"1392.39\" cy=\"1374.46\" r=\"14.4\" fill=\"#e26f46\" fill-rule=\"evenodd\" fill-opacity=\"1\" stroke=\"#000000\" stroke-opacity=\"1\" stroke-width=\"3.2\"/>\n",
       "<circle clip-path=\"url(#clip262)\" cx=\"1572.57\" cy=\"1124.29\" r=\"14.4\" fill=\"#e26f46\" fill-rule=\"evenodd\" fill-opacity=\"1\" stroke=\"#000000\" stroke-opacity=\"1\" stroke-width=\"3.2\"/>\n",
       "<circle clip-path=\"url(#clip262)\" cx=\"1752.75\" cy=\"563.8\" r=\"14.4\" fill=\"#e26f46\" fill-rule=\"evenodd\" fill-opacity=\"1\" stroke=\"#000000\" stroke-opacity=\"1\" stroke-width=\"3.2\"/>\n",
       "<circle clip-path=\"url(#clip262)\" cx=\"1932.93\" cy=\"521.249\" r=\"14.4\" fill=\"#e26f46\" fill-rule=\"evenodd\" fill-opacity=\"1\" stroke=\"#000000\" stroke-opacity=\"1\" stroke-width=\"3.2\"/>\n",
       "<circle clip-path=\"url(#clip262)\" cx=\"2113.11\" cy=\"159.909\" r=\"14.4\" fill=\"#e26f46\" fill-rule=\"evenodd\" fill-opacity=\"1\" stroke=\"#000000\" stroke-opacity=\"1\" stroke-width=\"3.2\"/>\n",
       "<circle clip-path=\"url(#clip262)\" cx=\"2293.3\" cy=\"159.909\" r=\"14.4\" fill=\"#e26f46\" fill-rule=\"evenodd\" fill-opacity=\"1\" stroke=\"#000000\" stroke-opacity=\"1\" stroke-width=\"3.2\"/>\n",
       "<circle clip-path=\"url(#clip262)\" cx=\"311.302\" cy=\"1311.68\" r=\"14.4\" fill=\"#3da44d\" fill-rule=\"evenodd\" fill-opacity=\"1\" stroke=\"#000000\" stroke-opacity=\"1\" stroke-width=\"3.2\"/>\n",
       "<circle clip-path=\"url(#clip262)\" cx=\"491.483\" cy=\"1311.68\" r=\"14.4\" fill=\"#3da44d\" fill-rule=\"evenodd\" fill-opacity=\"1\" stroke=\"#000000\" stroke-opacity=\"1\" stroke-width=\"3.2\"/>\n",
       "<circle clip-path=\"url(#clip262)\" cx=\"671.665\" cy=\"1374.46\" r=\"14.4\" fill=\"#3da44d\" fill-rule=\"evenodd\" fill-opacity=\"1\" stroke=\"#000000\" stroke-opacity=\"1\" stroke-width=\"3.2\"/>\n",
       "<circle clip-path=\"url(#clip262)\" cx=\"851.846\" cy=\"1374.46\" r=\"14.4\" fill=\"#3da44d\" fill-rule=\"evenodd\" fill-opacity=\"1\" stroke=\"#000000\" stroke-opacity=\"1\" stroke-width=\"3.2\"/>\n",
       "<circle clip-path=\"url(#clip262)\" cx=\"1032.03\" cy=\"1311.68\" r=\"14.4\" fill=\"#3da44d\" fill-rule=\"evenodd\" fill-opacity=\"1\" stroke=\"#000000\" stroke-opacity=\"1\" stroke-width=\"3.2\"/>\n",
       "<circle clip-path=\"url(#clip262)\" cx=\"1212.21\" cy=\"1311.68\" r=\"14.4\" fill=\"#3da44d\" fill-rule=\"evenodd\" fill-opacity=\"1\" stroke=\"#000000\" stroke-opacity=\"1\" stroke-width=\"3.2\"/>\n",
       "<circle clip-path=\"url(#clip262)\" cx=\"1392.39\" cy=\"1311.68\" r=\"14.4\" fill=\"#3da44d\" fill-rule=\"evenodd\" fill-opacity=\"1\" stroke=\"#000000\" stroke-opacity=\"1\" stroke-width=\"3.2\"/>\n",
       "<circle clip-path=\"url(#clip262)\" cx=\"1572.57\" cy=\"1311.68\" r=\"14.4\" fill=\"#3da44d\" fill-rule=\"evenodd\" fill-opacity=\"1\" stroke=\"#000000\" stroke-opacity=\"1\" stroke-width=\"3.2\"/>\n",
       "<circle clip-path=\"url(#clip262)\" cx=\"1752.75\" cy=\"1311.68\" r=\"14.4\" fill=\"#3da44d\" fill-rule=\"evenodd\" fill-opacity=\"1\" stroke=\"#000000\" stroke-opacity=\"1\" stroke-width=\"3.2\"/>\n",
       "<circle clip-path=\"url(#clip262)\" cx=\"1932.93\" cy=\"563.8\" r=\"14.4\" fill=\"#3da44d\" fill-rule=\"evenodd\" fill-opacity=\"1\" stroke=\"#000000\" stroke-opacity=\"1\" stroke-width=\"3.2\"/>\n",
       "<circle clip-path=\"url(#clip262)\" cx=\"2113.11\" cy=\"521.249\" r=\"14.4\" fill=\"#3da44d\" fill-rule=\"evenodd\" fill-opacity=\"1\" stroke=\"#000000\" stroke-opacity=\"1\" stroke-width=\"3.2\"/>\n",
       "<circle clip-path=\"url(#clip262)\" cx=\"2293.3\" cy=\"159.909\" r=\"14.4\" fill=\"#3da44d\" fill-rule=\"evenodd\" fill-opacity=\"1\" stroke=\"#000000\" stroke-opacity=\"1\" stroke-width=\"3.2\"/>\n",
       "<path clip-path=\"url(#clip260)\" d=\"M321.873 373.746 L817.564 373.746 L817.564 166.386 L321.873 166.386  Z\" fill=\"#ffffff\" fill-rule=\"evenodd\" fill-opacity=\"1\"/>\n",
       "<polyline clip-path=\"url(#clip260)\" style=\"stroke:#000000; stroke-linecap:round; stroke-linejoin:round; stroke-width:4; stroke-opacity:1; fill:none\" points=\"321.873,373.746 817.564,373.746 817.564,166.386 321.873,166.386 321.873,373.746 \"/>\n",
       "<circle clip-path=\"url(#clip260)\" cx=\"415.247\" cy=\"218.226\" r=\"23.04\" fill=\"#009af9\" fill-rule=\"evenodd\" fill-opacity=\"1\" stroke=\"#000000\" stroke-opacity=\"1\" stroke-width=\"5.12\"/>\n",
       "<path clip-path=\"url(#clip260)\" d=\"M513.297 204.789 L513.297 217.775 L519.176 217.775 Q522.44 217.775 524.222 216.085 Q526.005 214.395 526.005 211.27 Q526.005 208.168 524.222 206.479 Q522.44 204.789 519.176 204.789 L513.297 204.789 M508.621 200.946 L519.176 200.946 Q524.986 200.946 527.949 203.585 Q530.935 206.201 530.935 211.27 Q530.935 216.386 527.949 219.002 Q524.986 221.617 519.176 221.617 L513.297 221.617 L513.297 235.506 L508.621 235.506 L508.621 200.946 Z\" fill=\"#000000\" fill-rule=\"evenodd\" fill-opacity=\"1\" /><path clip-path=\"url(#clip260)\" d=\"M535.75 225.275 L535.75 209.58 L540.009 209.58 L540.009 225.113 Q540.009 228.793 541.445 230.645 Q542.88 232.474 545.75 232.474 Q549.199 232.474 551.19 230.275 Q553.204 228.076 553.204 224.279 L553.204 209.58 L557.463 209.58 L557.463 235.506 L553.204 235.506 L553.204 231.525 Q551.653 233.886 549.593 235.043 Q547.556 236.178 544.847 236.178 Q540.38 236.178 538.065 233.4 Q535.75 230.622 535.75 225.275 M546.468 208.955 L546.468 208.955 Z\" fill=\"#000000\" fill-rule=\"evenodd\" fill-opacity=\"1\" /><path clip-path=\"url(#clip260)\" d=\"M587.787 219.858 L587.787 235.506 L583.528 235.506 L583.528 219.997 Q583.528 216.317 582.093 214.488 Q580.657 212.659 577.787 212.659 Q574.338 212.659 572.347 214.858 Q570.356 217.057 570.356 220.854 L570.356 235.506 L566.074 235.506 L566.074 209.58 L570.356 209.58 L570.356 213.608 Q571.884 211.27 573.944 210.113 Q576.028 208.955 578.736 208.955 Q583.204 208.955 585.495 211.733 Q587.787 214.488 587.787 219.858 Z\" fill=\"#000000\" fill-rule=\"evenodd\" fill-opacity=\"1\" /><path clip-path=\"url(#clip260)\" d=\"M600.495 202.219 L600.495 209.58 L609.268 209.58 L609.268 212.891 L600.495 212.891 L600.495 226.965 Q600.495 230.136 601.352 231.039 Q602.231 231.941 604.893 231.941 L609.268 231.941 L609.268 235.506 L604.893 235.506 Q599.963 235.506 598.088 233.678 Q596.213 231.826 596.213 226.965 L596.213 212.891 L593.088 212.891 L593.088 209.58 L596.213 209.58 L596.213 202.219 L600.495 202.219 Z\" fill=\"#000000\" fill-rule=\"evenodd\" fill-opacity=\"1\" /><path clip-path=\"url(#clip260)\" d=\"M624.916 212.567 Q621.49 212.567 619.5 215.252 Q617.509 217.914 617.509 222.567 Q617.509 227.219 619.477 229.904 Q621.467 232.566 624.916 232.566 Q628.319 232.566 630.31 229.881 Q632.301 227.196 632.301 222.567 Q632.301 217.96 630.31 215.275 Q628.319 212.567 624.916 212.567 M624.916 208.955 Q630.472 208.955 633.643 212.567 Q636.814 216.178 636.814 222.567 Q636.814 228.932 633.643 232.566 Q630.472 236.178 624.916 236.178 Q619.338 236.178 616.166 232.566 Q613.018 228.932 613.018 222.567 Q613.018 216.178 616.166 212.567 Q619.338 208.955 624.916 208.955 Z\" fill=\"#000000\" fill-rule=\"evenodd\" fill-opacity=\"1\" /><path clip-path=\"url(#clip260)\" d=\"M659.129 200.946 L666.097 200.946 L674.916 224.465 L683.782 200.946 L690.749 200.946 L690.749 235.506 L686.189 235.506 L686.189 205.159 L677.277 228.863 L672.578 228.863 L663.666 205.159 L663.666 235.506 L659.129 235.506 L659.129 200.946 Z\" fill=\"#000000\" fill-rule=\"evenodd\" fill-opacity=\"1\" /><path clip-path=\"url(#clip260)\" d=\"M722.022 221.479 L722.022 223.562 L702.439 223.562 Q702.717 227.96 705.078 230.275 Q707.462 232.566 711.698 232.566 Q714.152 232.566 716.444 231.965 Q718.758 231.363 721.027 230.159 L721.027 234.187 Q718.735 235.159 716.328 235.668 Q713.921 236.178 711.444 236.178 Q705.24 236.178 701.606 232.566 Q697.995 228.955 697.995 222.798 Q697.995 216.432 701.421 212.705 Q704.87 208.955 710.703 208.955 Q715.934 208.955 718.967 212.335 Q722.022 215.692 722.022 221.479 M717.763 220.229 Q717.717 216.733 715.796 214.65 Q713.897 212.567 710.749 212.567 Q707.184 212.567 705.032 214.58 Q702.902 216.594 702.578 220.252 L717.763 220.229 Z\" fill=\"#000000\" fill-rule=\"evenodd\" fill-opacity=\"1\" /><path clip-path=\"url(#clip260)\" d=\"M746.073 213.516 L746.073 199.488 L750.332 199.488 L750.332 235.506 L746.073 235.506 L746.073 231.617 Q744.731 233.932 742.67 235.066 Q740.633 236.178 737.763 236.178 Q733.064 236.178 730.101 232.428 Q727.161 228.678 727.161 222.567 Q727.161 216.455 730.101 212.705 Q733.064 208.955 737.763 208.955 Q740.633 208.955 742.67 210.09 Q744.731 211.201 746.073 213.516 M731.559 222.567 Q731.559 227.266 733.481 229.951 Q735.425 232.613 738.805 232.613 Q742.184 232.613 744.129 229.951 Q746.073 227.266 746.073 222.567 Q746.073 217.867 744.129 215.205 Q742.184 212.52 738.805 212.52 Q735.425 212.52 733.481 215.205 Q731.559 217.867 731.559 222.567 Z\" fill=\"#000000\" fill-rule=\"evenodd\" fill-opacity=\"1\" /><path clip-path=\"url(#clip260)\" d=\"M759.105 209.58 L763.365 209.58 L763.365 235.506 L759.105 235.506 L759.105 209.58 M759.105 199.488 L763.365 199.488 L763.365 204.881 L759.105 204.881 L759.105 199.488 Z\" fill=\"#000000\" fill-rule=\"evenodd\" fill-opacity=\"1\" /><path clip-path=\"url(#clip260)\" d=\"M782.323 212.567 Q778.897 212.567 776.906 215.252 Q774.916 217.914 774.916 222.567 Q774.916 227.219 776.883 229.904 Q778.874 232.566 782.323 232.566 Q785.726 232.566 787.716 229.881 Q789.707 227.196 789.707 222.567 Q789.707 217.96 787.716 215.275 Q785.726 212.567 782.323 212.567 M782.323 208.955 Q787.878 208.955 791.05 212.567 Q794.221 216.178 794.221 222.567 Q794.221 228.932 791.05 232.566 Q787.878 236.178 782.323 236.178 Q776.744 236.178 773.573 232.566 Q770.425 228.932 770.425 222.567 Q770.425 216.178 773.573 212.567 Q776.744 208.955 782.323 208.955 Z\" fill=\"#000000\" fill-rule=\"evenodd\" fill-opacity=\"1\" /><circle clip-path=\"url(#clip260)\" cx=\"415.247\" cy=\"270.066\" r=\"23.04\" fill=\"#e26f46\" fill-rule=\"evenodd\" fill-opacity=\"1\" stroke=\"#000000\" stroke-opacity=\"1\" stroke-width=\"5.12\"/>\n",
       "<path clip-path=\"url(#clip260)\" d=\"M508.621 252.786 L537.857 252.786 L537.857 256.721 L525.588 256.721 L525.588 287.346 L520.889 287.346 L520.889 256.721 L508.621 256.721 L508.621 252.786 Z\" fill=\"#000000\" fill-rule=\"evenodd\" fill-opacity=\"1\" /><path clip-path=\"url(#clip260)\" d=\"M550.241 265.402 Q549.523 264.985 548.667 264.8 Q547.833 264.592 546.815 264.592 Q543.204 264.592 541.259 266.953 Q539.338 269.291 539.338 273.689 L539.338 287.346 L535.056 287.346 L535.056 261.42 L539.338 261.42 L539.338 265.448 Q540.681 263.087 542.833 261.953 Q544.986 260.795 548.065 260.795 Q548.505 260.795 549.037 260.865 Q549.57 260.911 550.218 261.027 L550.241 265.402 Z\" fill=\"#000000\" fill-rule=\"evenodd\" fill-opacity=\"1\" /><path clip-path=\"url(#clip260)\" d=\"M566.491 274.314 Q561.329 274.314 559.338 275.494 Q557.347 276.675 557.347 279.522 Q557.347 281.791 558.829 283.133 Q560.333 284.453 562.903 284.453 Q566.444 284.453 568.574 281.953 Q570.727 279.43 570.727 275.263 L570.727 274.314 L566.491 274.314 M574.986 272.555 L574.986 287.346 L570.727 287.346 L570.727 283.411 Q569.269 285.772 567.093 286.906 Q564.917 288.018 561.769 288.018 Q557.787 288.018 555.426 285.795 Q553.088 283.55 553.088 279.8 Q553.088 275.425 556.005 273.203 Q558.944 270.981 564.755 270.981 L570.727 270.981 L570.727 270.564 Q570.727 267.624 568.782 266.027 Q566.861 264.407 563.366 264.407 Q561.144 264.407 559.037 264.939 Q556.931 265.471 554.986 266.536 L554.986 262.601 Q557.324 261.698 559.523 261.258 Q561.722 260.795 563.806 260.795 Q569.431 260.795 572.208 263.712 Q574.986 266.629 574.986 272.555 Z\" fill=\"#000000\" fill-rule=\"evenodd\" fill-opacity=\"1\" /><path clip-path=\"url(#clip260)\" d=\"M587.88 283.457 L587.88 297.207 L583.597 297.207 L583.597 261.42 L587.88 261.42 L587.88 265.356 Q589.222 263.041 591.259 261.93 Q593.319 260.795 596.167 260.795 Q600.889 260.795 603.829 264.545 Q606.791 268.295 606.791 274.407 Q606.791 280.518 603.829 284.268 Q600.889 288.018 596.167 288.018 Q593.319 288.018 591.259 286.906 Q589.222 285.772 587.88 283.457 M602.37 274.407 Q602.37 269.707 600.426 267.045 Q598.504 264.36 595.125 264.36 Q591.745 264.36 589.801 267.045 Q587.88 269.707 587.88 274.407 Q587.88 279.106 589.801 281.791 Q591.745 284.453 595.125 284.453 Q598.504 284.453 600.426 281.791 Q602.37 279.106 602.37 274.407 Z\" fill=\"#000000\" fill-rule=\"evenodd\" fill-opacity=\"1\" /><path clip-path=\"url(#clip260)\" d=\"M636.027 273.319 L636.027 275.402 L616.444 275.402 Q616.722 279.8 619.083 282.115 Q621.467 284.406 625.703 284.406 Q628.157 284.406 630.449 283.805 Q632.764 283.203 635.032 281.999 L635.032 286.027 Q632.74 286.999 630.333 287.508 Q627.926 288.018 625.449 288.018 Q619.245 288.018 615.611 284.406 Q612 280.795 612 274.638 Q612 268.272 615.426 264.545 Q618.875 260.795 624.708 260.795 Q629.939 260.795 632.972 264.175 Q636.027 267.532 636.027 273.319 M631.768 272.069 Q631.722 268.573 629.801 266.49 Q627.902 264.407 624.754 264.407 Q621.19 264.407 619.037 266.42 Q616.907 268.434 616.583 272.092 L631.768 272.069 Z\" fill=\"#000000\" fill-rule=\"evenodd\" fill-opacity=\"1\" /><path clip-path=\"url(#clip260)\" d=\"M661.675 262.416 L661.675 266.397 Q659.87 265.402 658.041 264.916 Q656.236 264.407 654.384 264.407 Q650.24 264.407 647.949 267.045 Q645.657 269.661 645.657 274.407 Q645.657 279.152 647.949 281.791 Q650.24 284.406 654.384 284.406 Q656.236 284.406 658.041 283.92 Q659.87 283.411 661.675 282.416 L661.675 286.351 Q659.893 287.184 657.972 287.601 Q656.074 288.018 653.921 288.018 Q648.064 288.018 644.615 284.337 Q641.166 280.656 641.166 274.407 Q641.166 268.064 644.638 264.43 Q648.134 260.795 654.199 260.795 Q656.166 260.795 658.041 261.212 Q659.916 261.606 661.675 262.416 Z\" fill=\"#000000\" fill-rule=\"evenodd\" fill-opacity=\"1\" /><path clip-path=\"url(#clip260)\" d=\"M669.083 261.42 L673.342 261.42 L673.342 287.346 L669.083 287.346 L669.083 261.42 M669.083 251.328 L673.342 251.328 L673.342 256.721 L669.083 256.721 L669.083 251.328 Z\" fill=\"#000000\" fill-rule=\"evenodd\" fill-opacity=\"1\" /><path clip-path=\"url(#clip260)\" d=\"M692.3 264.407 Q688.874 264.407 686.884 267.092 Q684.893 269.754 684.893 274.407 Q684.893 279.059 686.86 281.744 Q688.851 284.406 692.3 284.406 Q695.703 284.406 697.694 281.721 Q699.684 279.036 699.684 274.407 Q699.684 269.8 697.694 267.115 Q695.703 264.407 692.3 264.407 M692.3 260.795 Q697.856 260.795 701.027 264.407 Q704.198 268.018 704.198 274.407 Q704.198 280.772 701.027 284.406 Q697.856 288.018 692.3 288.018 Q686.722 288.018 683.55 284.406 Q680.402 280.772 680.402 274.407 Q680.402 268.018 683.55 264.407 Q686.722 260.795 692.3 260.795 Z\" fill=\"#000000\" fill-rule=\"evenodd\" fill-opacity=\"1\" /><circle clip-path=\"url(#clip260)\" cx=\"415.247\" cy=\"321.906\" r=\"23.04\" fill=\"#3da44d\" fill-rule=\"evenodd\" fill-opacity=\"1\" stroke=\"#000000\" stroke-opacity=\"1\" stroke-width=\"5.12\"/>\n",
       "<path clip-path=\"url(#clip260)\" d=\"M530.866 305.761 L530.866 310.321 Q528.204 309.048 525.843 308.423 Q523.482 307.798 521.283 307.798 Q517.463 307.798 515.38 309.279 Q513.32 310.761 513.32 313.492 Q513.32 315.784 514.685 316.964 Q516.074 318.122 519.917 318.839 L522.741 319.418 Q527.972 320.413 530.449 322.936 Q532.949 325.436 532.949 329.649 Q532.949 334.672 529.57 337.265 Q526.213 339.858 519.709 339.858 Q517.255 339.858 514.477 339.302 Q511.723 338.746 508.76 337.659 L508.76 332.844 Q511.607 334.441 514.338 335.251 Q517.07 336.061 519.709 336.061 Q523.713 336.061 525.889 334.487 Q528.065 332.913 528.065 329.997 Q528.065 327.45 526.491 326.015 Q524.94 324.58 521.375 323.862 L518.528 323.307 Q513.297 322.265 510.959 320.043 Q508.621 317.821 508.621 313.862 Q508.621 309.279 511.838 306.64 Q515.079 304.001 520.75 304.001 Q523.181 304.001 525.704 304.441 Q528.227 304.881 530.866 305.761 Z\" fill=\"#000000\" fill-rule=\"evenodd\" fill-opacity=\"1\" /><path clip-path=\"url(#clip260)\" d=\"M540.056 313.26 L544.315 313.26 L544.315 339.186 L540.056 339.186 L540.056 313.26 M540.056 303.168 L544.315 303.168 L544.315 308.561 L540.056 308.561 L540.056 303.168 Z\" fill=\"#000000\" fill-rule=\"evenodd\" fill-opacity=\"1\" /><path clip-path=\"url(#clip260)\" d=\"M573.412 318.237 Q575.009 315.367 577.231 314.001 Q579.454 312.635 582.463 312.635 Q586.514 312.635 588.713 315.483 Q590.912 318.307 590.912 323.538 L590.912 339.186 L586.63 339.186 L586.63 323.677 Q586.63 319.95 585.31 318.145 Q583.991 316.339 581.282 316.339 Q577.972 316.339 576.051 318.538 Q574.13 320.737 574.13 324.534 L574.13 339.186 L569.847 339.186 L569.847 323.677 Q569.847 319.927 568.528 318.145 Q567.208 316.339 564.454 316.339 Q561.19 316.339 559.269 318.561 Q557.347 320.76 557.347 324.534 L557.347 339.186 L553.065 339.186 L553.065 313.26 L557.347 313.26 L557.347 317.288 Q558.806 314.904 560.843 313.77 Q562.88 312.635 565.681 312.635 Q568.505 312.635 570.472 314.071 Q572.463 315.506 573.412 318.237 Z\" fill=\"#000000\" fill-rule=\"evenodd\" fill-opacity=\"1\" /><path clip-path=\"url(#clip260)\" d=\"M603.528 335.297 L603.528 349.047 L599.245 349.047 L599.245 313.26 L603.528 313.26 L603.528 317.196 Q604.87 314.881 606.907 313.77 Q608.967 312.635 611.815 312.635 Q616.537 312.635 619.477 316.385 Q622.44 320.135 622.44 326.247 Q622.44 332.358 619.477 336.108 Q616.537 339.858 611.815 339.858 Q608.967 339.858 606.907 338.746 Q604.87 337.612 603.528 335.297 M618.018 326.247 Q618.018 321.547 616.074 318.885 Q614.153 316.2 610.773 316.2 Q607.393 316.2 605.449 318.885 Q603.528 321.547 603.528 326.247 Q603.528 330.946 605.449 333.631 Q607.393 336.293 610.773 336.293 Q614.153 336.293 616.074 333.631 Q618.018 330.946 618.018 326.247 Z\" fill=\"#000000\" fill-rule=\"evenodd\" fill-opacity=\"1\" /><path clip-path=\"url(#clip260)\" d=\"M646.027 314.024 L646.027 318.052 Q644.222 317.126 642.277 316.663 Q640.333 316.2 638.25 316.2 Q635.078 316.2 633.481 317.173 Q631.907 318.145 631.907 320.089 Q631.907 321.571 633.041 322.427 Q634.176 323.26 637.601 324.024 L639.06 324.348 Q643.597 325.321 645.495 327.103 Q647.416 328.862 647.416 332.034 Q647.416 335.645 644.546 337.751 Q641.699 339.858 636.699 339.858 Q634.615 339.858 632.347 339.441 Q630.102 339.047 627.602 338.237 L627.602 333.839 Q629.963 335.066 632.254 335.691 Q634.546 336.293 636.791 336.293 Q639.801 336.293 641.421 335.274 Q643.041 334.233 643.041 332.358 Q643.041 330.622 641.861 329.696 Q640.703 328.77 636.745 327.913 L635.264 327.566 Q631.305 326.733 629.546 325.02 Q627.787 323.284 627.787 320.274 Q627.787 316.617 630.379 314.626 Q632.972 312.635 637.74 312.635 Q640.101 312.635 642.185 312.983 Q644.268 313.33 646.027 314.024 Z\" fill=\"#000000\" fill-rule=\"evenodd\" fill-opacity=\"1\" /><path clip-path=\"url(#clip260)\" d=\"M664.245 316.247 Q660.819 316.247 658.828 318.932 Q656.837 321.594 656.837 326.247 Q656.837 330.899 658.805 333.584 Q660.796 336.246 664.245 336.246 Q667.648 336.246 669.638 333.561 Q671.629 330.876 671.629 326.247 Q671.629 321.64 669.638 318.955 Q667.648 316.247 664.245 316.247 M664.245 312.635 Q669.8 312.635 672.972 316.247 Q676.143 319.858 676.143 326.247 Q676.143 332.612 672.972 336.246 Q669.8 339.858 664.245 339.858 Q658.666 339.858 655.495 336.246 Q652.347 332.612 652.347 326.247 Q652.347 319.858 655.495 316.247 Q658.666 312.635 664.245 312.635 Z\" fill=\"#000000\" fill-rule=\"evenodd\" fill-opacity=\"1\" /><path clip-path=\"url(#clip260)\" d=\"M704.754 323.538 L704.754 339.186 L700.495 339.186 L700.495 323.677 Q700.495 319.997 699.059 318.168 Q697.624 316.339 694.754 316.339 Q691.305 316.339 689.314 318.538 Q687.323 320.737 687.323 324.534 L687.323 339.186 L683.041 339.186 L683.041 313.26 L687.323 313.26 L687.323 317.288 Q688.851 314.95 690.911 313.793 Q692.995 312.635 695.703 312.635 Q700.171 312.635 702.462 315.413 Q704.754 318.168 704.754 323.538 Z\" fill=\"#000000\" fill-rule=\"evenodd\" fill-opacity=\"1\" /></svg>\n"
      ]
     },
     "execution_count": 99,
     "metadata": {},
     "output_type": "execute_result"
    }
   ],
   "source": [
    "plot(xlabel=\"Puntos\",ylabel=\"Errores relativos\",title=\"Comparación de Métodos\")\n",
    "scatter!(VE, EM3, label=\"Punto Medio\")\n",
    "scatter!(VE, ET3, label=\"Trapecio\")\n",
    "scatter!(VE, ES3, label=\"Simpson\")\n",
    "plot!(xaxis=:log)\n",
    "plot!(yaxis=:log)"
   ]
  },
  {
   "cell_type": "code",
   "execution_count": null,
   "metadata": {},
   "outputs": [],
   "source": []
  },
  {
   "cell_type": "markdown",
   "metadata": {},
   "source": [
    "## Problema 6\n",
    "En el repositorio \n",
    "\n",
    "    https://github.com/reula/Metodos_Numericos_2022/tree/main/Guias \n",
    "    \n",
    "se encuentran dos archivos de datos, \n",
    "\n",
    "    mediciones1-c1-g6.dat \n",
    "    mediciones2-c1-g6.dat\n",
    "\n",
    "Los mismos almacenan mediciones de una función $f(t)$ sobre un mismo rango de $t$. El primero muestrea $n=629$ puntos y el segundo $n=10001$.\n",
    "\n",
    "1. Baje y grafique los datos.\n",
    "\n",
    "2. Copie y modifique los algoritmos del problema 3 para integrar muestreos de funciones.\n",
    "\n",
    "3. Integre los muestreos y compare."
   ]
  },
  {
   "cell_type": "markdown",
   "metadata": {},
   "source": [
    "**Ayuda:** Para bajar el archivo `mediciones1-c1-g6.dat` del repositorio de github desde julia realice:"
   ]
  },
  {
   "cell_type": "code",
   "execution_count": 2,
   "metadata": {},
   "outputs": [
    {
     "data": {
      "text/plain": [
       "\"/home-local/visitante/metodos-numericos-2023/guias/mediciones1-c1-g6.dat\""
      ]
     },
     "execution_count": 2,
     "metadata": {},
     "output_type": "execute_result"
    }
   ],
   "source": [
    "separador = \"/\" \n",
    "download(\n",
    "    \"https://raw.githubusercontent.com/reula/Metodos_Numericos_2022/main/Guias/mediciones1-c1-g6.dat\",\n",
    "    pwd() * separador * \"mediciones1-c1-g6.dat\"  \n",
    ")"
   ]
  },
  {
   "cell_type": "code",
   "execution_count": 3,
   "metadata": {},
   "outputs": [],
   "source": [
    "y1 = Vector{Float64}()\n",
    "x1 = Vector{Float64}()\n",
    "open(\"mediciones1-c1-g6.dat\",\"r\") do fh\n",
    "    for line in readlines(fh) \n",
    "        cols = split(line)\n",
    "        push!(x1,parse(Float64,cols[1]))\n",
    "        push!(y1,parse(Float64,cols[2]))\n",
    "    end\n",
    "end"
   ]
  },
  {
   "cell_type": "code",
   "execution_count": 4,
   "metadata": {},
   "outputs": [
    {
     "data": {
      "text/plain": [
       "629-element Vector{Float64}:\n",
       " 0.0\n",
       " 0.001667512024198404\n",
       " 0.003335024048396808\n",
       " 0.005002536072595212\n",
       " 0.006670048096793615\n",
       " 0.00833756012099202\n",
       " 0.01000507214519042\n",
       " 0.01167258416938883\n",
       " 0.01334009619358723\n",
       " 0.01500760821778564\n",
       " 0.01667512024198404\n",
       " 0.01834263226618244\n",
       " 0.02001014429038085\n",
       " ⋮\n",
       " 1.02885491893042\n",
       " 1.03052243095461\n",
       " 1.03218994297881\n",
       " 1.03385745500301\n",
       " 1.03552496702721\n",
       " 1.03719247905141\n",
       " 1.03885999107561\n",
       " 1.0405275030998\n",
       " 1.042195015124\n",
       " 1.0438625271482\n",
       " 1.0455300391724\n",
       " 1.0471975511966"
      ]
     },
     "execution_count": 4,
     "metadata": {},
     "output_type": "execute_result"
    }
   ],
   "source": [
    "x1"
   ]
  },
  {
   "cell_type": "code",
   "execution_count": 103,
   "metadata": {},
   "outputs": [
    {
     "data": {
      "text/plain": [
       "\"/home-local/visitante/metodos-numericos-2023/guias/mediciones2-c1-g6.dat\""
      ]
     },
     "execution_count": 103,
     "metadata": {},
     "output_type": "execute_result"
    }
   ],
   "source": [
    "download(\n",
    "    \"https://raw.githubusercontent.com/reula/Metodos_Numericos_2022/main/Guias/mediciones2-c1-g6.dat\",\n",
    "    pwd() * separador * \"mediciones2-c1-g6.dat\"\n",
    ")"
   ]
  },
  {
   "cell_type": "code",
   "execution_count": 104,
   "metadata": {},
   "outputs": [],
   "source": [
    "y2 = Vector{Float64}()\n",
    "x2 = Vector{Float64}()\n",
    "open(\"mediciones2-c1-g6.dat\",\"r\") do fh\n",
    "    for line in readlines(fh) \n",
    "        cols = split(line)\n",
    "        push!(x2,parse(Float64,cols[1]))\n",
    "        push!(y2,parse(Float64,cols[2]))\n",
    "    end\n",
    "end"
   ]
  },
  {
   "cell_type": "code",
   "execution_count": 105,
   "metadata": {},
   "outputs": [],
   "source": [
    "#1) "
   ]
  },
  {
   "cell_type": "code",
   "execution_count": 106,
   "metadata": {},
   "outputs": [
    {
     "data": {
      "image/svg+xml": [
       "<?xml version=\"1.0\" encoding=\"utf-8\"?>\n",
       "<svg xmlns=\"http://www.w3.org/2000/svg\" xmlns:xlink=\"http://www.w3.org/1999/xlink\" width=\"600\" height=\"400\" viewBox=\"0 0 2400 1600\">\n",
       "<defs>\n",
       "  <clipPath id=\"clip300\">\n",
       "    <rect x=\"0\" y=\"0\" width=\"2400\" height=\"1600\"/>\n",
       "  </clipPath>\n",
       "</defs>\n",
       "<path clip-path=\"url(#clip300)\" d=\"M0 1600 L2400 1600 L2400 0 L0 0  Z\" fill=\"#ffffff\" fill-rule=\"evenodd\" fill-opacity=\"1\"/>\n",
       "<defs>\n",
       "  <clipPath id=\"clip301\">\n",
       "    <rect x=\"480\" y=\"0\" width=\"1681\" height=\"1600\"/>\n",
       "  </clipPath>\n",
       "</defs>\n",
       "<path clip-path=\"url(#clip300)\" d=\"M193.936 1486.45 L2352.76 1486.45 L2352.76 47.2441 L193.936 47.2441  Z\" fill=\"#ffffff\" fill-rule=\"evenodd\" fill-opacity=\"1\"/>\n",
       "<defs>\n",
       "  <clipPath id=\"clip302\">\n",
       "    <rect x=\"193\" y=\"47\" width=\"2160\" height=\"1440\"/>\n",
       "  </clipPath>\n",
       "</defs>\n",
       "<polyline clip-path=\"url(#clip302)\" style=\"stroke:#000000; stroke-linecap:round; stroke-linejoin:round; stroke-width:2; stroke-opacity:0.1; fill:none\" points=\"255.035,1486.45 255.035,47.2441 \"/>\n",
       "<polyline clip-path=\"url(#clip302)\" style=\"stroke:#000000; stroke-linecap:round; stroke-linejoin:round; stroke-width:2; stroke-opacity:0.1; fill:none\" points=\"741.242,1486.45 741.242,47.2441 \"/>\n",
       "<polyline clip-path=\"url(#clip302)\" style=\"stroke:#000000; stroke-linecap:round; stroke-linejoin:round; stroke-width:2; stroke-opacity:0.1; fill:none\" points=\"1227.45,1486.45 1227.45,47.2441 \"/>\n",
       "<polyline clip-path=\"url(#clip302)\" style=\"stroke:#000000; stroke-linecap:round; stroke-linejoin:round; stroke-width:2; stroke-opacity:0.1; fill:none\" points=\"1713.66,1486.45 1713.66,47.2441 \"/>\n",
       "<polyline clip-path=\"url(#clip302)\" style=\"stroke:#000000; stroke-linecap:round; stroke-linejoin:round; stroke-width:2; stroke-opacity:0.1; fill:none\" points=\"2199.87,1486.45 2199.87,47.2441 \"/>\n",
       "<polyline clip-path=\"url(#clip300)\" style=\"stroke:#000000; stroke-linecap:round; stroke-linejoin:round; stroke-width:4; stroke-opacity:1; fill:none\" points=\"193.936,1486.45 2352.76,1486.45 \"/>\n",
       "<polyline clip-path=\"url(#clip300)\" style=\"stroke:#000000; stroke-linecap:round; stroke-linejoin:round; stroke-width:4; stroke-opacity:1; fill:none\" points=\"255.035,1486.45 255.035,1467.55 \"/>\n",
       "<polyline clip-path=\"url(#clip300)\" style=\"stroke:#000000; stroke-linecap:round; stroke-linejoin:round; stroke-width:4; stroke-opacity:1; fill:none\" points=\"741.242,1486.45 741.242,1467.55 \"/>\n",
       "<polyline clip-path=\"url(#clip300)\" style=\"stroke:#000000; stroke-linecap:round; stroke-linejoin:round; stroke-width:4; stroke-opacity:1; fill:none\" points=\"1227.45,1486.45 1227.45,1467.55 \"/>\n",
       "<polyline clip-path=\"url(#clip300)\" style=\"stroke:#000000; stroke-linecap:round; stroke-linejoin:round; stroke-width:4; stroke-opacity:1; fill:none\" points=\"1713.66,1486.45 1713.66,1467.55 \"/>\n",
       "<polyline clip-path=\"url(#clip300)\" style=\"stroke:#000000; stroke-linecap:round; stroke-linejoin:round; stroke-width:4; stroke-opacity:1; fill:none\" points=\"2199.87,1486.45 2199.87,1467.55 \"/>\n",
       "<path clip-path=\"url(#clip300)\" d=\"M217.338 1517.37 Q213.727 1517.37 211.898 1520.93 Q210.093 1524.47 210.093 1531.6 Q210.093 1538.71 211.898 1542.27 Q213.727 1545.82 217.338 1545.82 Q220.972 1545.82 222.778 1542.27 Q224.607 1538.71 224.607 1531.6 Q224.607 1524.47 222.778 1520.93 Q220.972 1517.37 217.338 1517.37 M217.338 1513.66 Q223.148 1513.66 226.204 1518.27 Q229.282 1522.85 229.282 1531.6 Q229.282 1540.33 226.204 1544.94 Q223.148 1549.52 217.338 1549.52 Q211.528 1549.52 208.449 1544.94 Q205.394 1540.33 205.394 1531.6 Q205.394 1522.85 208.449 1518.27 Q211.528 1513.66 217.338 1513.66 Z\" fill=\"#000000\" fill-rule=\"evenodd\" fill-opacity=\"1\" /><path clip-path=\"url(#clip300)\" d=\"M237.5 1542.97 L242.384 1542.97 L242.384 1548.85 L237.5 1548.85 L237.5 1542.97 Z\" fill=\"#000000\" fill-rule=\"evenodd\" fill-opacity=\"1\" /><path clip-path=\"url(#clip300)\" d=\"M262.569 1517.37 Q258.958 1517.37 257.13 1520.93 Q255.324 1524.47 255.324 1531.6 Q255.324 1538.71 257.13 1542.27 Q258.958 1545.82 262.569 1545.82 Q266.204 1545.82 268.009 1542.27 Q269.838 1538.71 269.838 1531.6 Q269.838 1524.47 268.009 1520.93 Q266.204 1517.37 262.569 1517.37 M262.569 1513.66 Q268.38 1513.66 271.435 1518.27 Q274.514 1522.85 274.514 1531.6 Q274.514 1540.33 271.435 1544.94 Q268.38 1549.52 262.569 1549.52 Q256.759 1549.52 253.681 1544.94 Q250.625 1540.33 250.625 1531.6 Q250.625 1522.85 253.681 1518.27 Q256.759 1513.66 262.569 1513.66 Z\" fill=\"#000000\" fill-rule=\"evenodd\" fill-opacity=\"1\" /><path clip-path=\"url(#clip300)\" d=\"M292.731 1517.37 Q289.12 1517.37 287.291 1520.93 Q285.486 1524.47 285.486 1531.6 Q285.486 1538.71 287.291 1542.27 Q289.12 1545.82 292.731 1545.82 Q296.365 1545.82 298.171 1542.27 Q300 1538.71 300 1531.6 Q300 1524.47 298.171 1520.93 Q296.365 1517.37 292.731 1517.37 M292.731 1513.66 Q298.541 1513.66 301.597 1518.27 Q304.676 1522.85 304.676 1531.6 Q304.676 1540.33 301.597 1544.94 Q298.541 1549.52 292.731 1549.52 Q286.921 1549.52 283.842 1544.94 Q280.787 1540.33 280.787 1531.6 Q280.787 1522.85 283.842 1518.27 Q286.921 1513.66 292.731 1513.66 Z\" fill=\"#000000\" fill-rule=\"evenodd\" fill-opacity=\"1\" /><path clip-path=\"url(#clip300)\" d=\"M704.044 1517.37 Q700.433 1517.37 698.604 1520.93 Q696.798 1524.47 696.798 1531.6 Q696.798 1538.71 698.604 1542.27 Q700.433 1545.82 704.044 1545.82 Q707.678 1545.82 709.483 1542.27 Q711.312 1538.71 711.312 1531.6 Q711.312 1524.47 709.483 1520.93 Q707.678 1517.37 704.044 1517.37 M704.044 1513.66 Q709.854 1513.66 712.909 1518.27 Q715.988 1522.85 715.988 1531.6 Q715.988 1540.33 712.909 1544.94 Q709.854 1549.52 704.044 1549.52 Q698.233 1549.52 695.155 1544.94 Q692.099 1540.33 692.099 1531.6 Q692.099 1522.85 695.155 1518.27 Q698.233 1513.66 704.044 1513.66 Z\" fill=\"#000000\" fill-rule=\"evenodd\" fill-opacity=\"1\" /><path clip-path=\"url(#clip300)\" d=\"M724.206 1542.97 L729.09 1542.97 L729.09 1548.85 L724.206 1548.85 L724.206 1542.97 Z\" fill=\"#000000\" fill-rule=\"evenodd\" fill-opacity=\"1\" /><path clip-path=\"url(#clip300)\" d=\"M743.303 1544.91 L759.622 1544.91 L759.622 1548.85 L737.678 1548.85 L737.678 1544.91 Q740.34 1542.16 744.923 1537.53 Q749.529 1532.88 750.71 1531.53 Q752.955 1529.01 753.835 1527.27 Q754.738 1525.51 754.738 1523.82 Q754.738 1521.07 752.793 1519.33 Q750.872 1517.6 747.77 1517.6 Q745.571 1517.6 743.117 1518.36 Q740.687 1519.13 737.909 1520.68 L737.909 1515.95 Q740.733 1514.82 743.187 1514.24 Q745.641 1513.66 747.678 1513.66 Q753.048 1513.66 756.242 1516.35 Q759.437 1519.03 759.437 1523.52 Q759.437 1525.65 758.627 1527.57 Q757.84 1529.47 755.733 1532.07 Q755.154 1532.74 752.053 1535.95 Q748.951 1539.15 743.303 1544.91 Z\" fill=\"#000000\" fill-rule=\"evenodd\" fill-opacity=\"1\" /><path clip-path=\"url(#clip300)\" d=\"M769.483 1514.29 L787.839 1514.29 L787.839 1518.22 L773.765 1518.22 L773.765 1526.7 Q774.784 1526.35 775.802 1526.19 Q776.821 1526 777.84 1526 Q783.627 1526 787.006 1529.17 Q790.386 1532.34 790.386 1537.76 Q790.386 1543.34 786.914 1546.44 Q783.441 1549.52 777.122 1549.52 Q774.946 1549.52 772.678 1549.15 Q770.432 1548.78 768.025 1548.04 L768.025 1543.34 Q770.108 1544.47 772.33 1545.03 Q774.553 1545.58 777.029 1545.58 Q781.034 1545.58 783.372 1543.48 Q785.71 1541.37 785.71 1537.76 Q785.71 1534.15 783.372 1532.04 Q781.034 1529.94 777.029 1529.94 Q775.154 1529.94 773.279 1530.35 Q771.428 1530.77 769.483 1531.65 L769.483 1514.29 Z\" fill=\"#000000\" fill-rule=\"evenodd\" fill-opacity=\"1\" /><path clip-path=\"url(#clip300)\" d=\"M1189.75 1517.37 Q1186.14 1517.37 1184.31 1520.93 Q1182.51 1524.47 1182.51 1531.6 Q1182.51 1538.71 1184.31 1542.27 Q1186.14 1545.82 1189.75 1545.82 Q1193.39 1545.82 1195.19 1542.27 Q1197.02 1538.71 1197.02 1531.6 Q1197.02 1524.47 1195.19 1520.93 Q1193.39 1517.37 1189.75 1517.37 M1189.75 1513.66 Q1195.56 1513.66 1198.62 1518.27 Q1201.7 1522.85 1201.7 1531.6 Q1201.7 1540.33 1198.62 1544.94 Q1195.56 1549.52 1189.75 1549.52 Q1183.94 1549.52 1180.86 1544.94 Q1177.81 1540.33 1177.81 1531.6 Q1177.81 1522.85 1180.86 1518.27 Q1183.94 1513.66 1189.75 1513.66 Z\" fill=\"#000000\" fill-rule=\"evenodd\" fill-opacity=\"1\" /><path clip-path=\"url(#clip300)\" d=\"M1209.92 1542.97 L1214.8 1542.97 L1214.8 1548.85 L1209.92 1548.85 L1209.92 1542.97 Z\" fill=\"#000000\" fill-rule=\"evenodd\" fill-opacity=\"1\" /><path clip-path=\"url(#clip300)\" d=\"M1225.03 1514.29 L1243.39 1514.29 L1243.39 1518.22 L1229.31 1518.22 L1229.31 1526.7 Q1230.33 1526.35 1231.35 1526.19 Q1232.37 1526 1233.39 1526 Q1239.17 1526 1242.55 1529.17 Q1245.93 1532.34 1245.93 1537.76 Q1245.93 1543.34 1242.46 1546.44 Q1238.99 1549.52 1232.67 1549.52 Q1230.49 1549.52 1228.23 1549.15 Q1225.98 1548.78 1223.57 1548.04 L1223.57 1543.34 Q1225.66 1544.47 1227.88 1545.03 Q1230.1 1545.58 1232.58 1545.58 Q1236.58 1545.58 1238.92 1543.48 Q1241.26 1541.37 1241.26 1537.76 Q1241.26 1534.15 1238.92 1532.04 Q1236.58 1529.94 1232.58 1529.94 Q1230.7 1529.94 1228.83 1530.35 Q1226.98 1530.77 1225.03 1531.65 L1225.03 1514.29 Z\" fill=\"#000000\" fill-rule=\"evenodd\" fill-opacity=\"1\" /><path clip-path=\"url(#clip300)\" d=\"M1265.15 1517.37 Q1261.54 1517.37 1259.71 1520.93 Q1257.9 1524.47 1257.9 1531.6 Q1257.9 1538.71 1259.71 1542.27 Q1261.54 1545.82 1265.15 1545.82 Q1268.78 1545.82 1270.59 1542.27 Q1272.42 1538.71 1272.42 1531.6 Q1272.42 1524.47 1270.59 1520.93 Q1268.78 1517.37 1265.15 1517.37 M1265.15 1513.66 Q1270.96 1513.66 1274.01 1518.27 Q1277.09 1522.85 1277.09 1531.6 Q1277.09 1540.33 1274.01 1544.94 Q1270.96 1549.52 1265.15 1549.52 Q1259.34 1549.52 1256.26 1544.94 Q1253.2 1540.33 1253.2 1531.6 Q1253.2 1522.85 1256.26 1518.27 Q1259.34 1513.66 1265.15 1513.66 Z\" fill=\"#000000\" fill-rule=\"evenodd\" fill-opacity=\"1\" /><path clip-path=\"url(#clip300)\" d=\"M1676.46 1517.37 Q1672.85 1517.37 1671.02 1520.93 Q1669.21 1524.47 1669.21 1531.6 Q1669.21 1538.71 1671.02 1542.27 Q1672.85 1545.82 1676.46 1545.82 Q1680.09 1545.82 1681.9 1542.27 Q1683.73 1538.71 1683.73 1531.6 Q1683.73 1524.47 1681.9 1520.93 Q1680.09 1517.37 1676.46 1517.37 M1676.46 1513.66 Q1682.27 1513.66 1685.32 1518.27 Q1688.4 1522.85 1688.4 1531.6 Q1688.4 1540.33 1685.32 1544.94 Q1682.27 1549.52 1676.46 1549.52 Q1670.65 1549.52 1667.57 1544.94 Q1664.51 1540.33 1664.51 1531.6 Q1664.51 1522.85 1667.57 1518.27 Q1670.65 1513.66 1676.46 1513.66 Z\" fill=\"#000000\" fill-rule=\"evenodd\" fill-opacity=\"1\" /><path clip-path=\"url(#clip300)\" d=\"M1696.62 1542.97 L1701.51 1542.97 L1701.51 1548.85 L1696.62 1548.85 L1696.62 1542.97 Z\" fill=\"#000000\" fill-rule=\"evenodd\" fill-opacity=\"1\" /><path clip-path=\"url(#clip300)\" d=\"M1710.51 1514.29 L1732.73 1514.29 L1732.73 1516.28 L1720.19 1548.85 L1715.3 1548.85 L1727.11 1518.22 L1710.51 1518.22 L1710.51 1514.29 Z\" fill=\"#000000\" fill-rule=\"evenodd\" fill-opacity=\"1\" /><path clip-path=\"url(#clip300)\" d=\"M1741.9 1514.29 L1760.26 1514.29 L1760.26 1518.22 L1746.18 1518.22 L1746.18 1526.7 Q1747.2 1526.35 1748.22 1526.19 Q1749.24 1526 1750.26 1526 Q1756.04 1526 1759.42 1529.17 Q1762.8 1532.34 1762.8 1537.76 Q1762.8 1543.34 1759.33 1546.44 Q1755.86 1549.52 1749.54 1549.52 Q1747.36 1549.52 1745.09 1549.15 Q1742.85 1548.78 1740.44 1548.04 L1740.44 1543.34 Q1742.52 1544.47 1744.75 1545.03 Q1746.97 1545.58 1749.44 1545.58 Q1753.45 1545.58 1755.79 1543.48 Q1758.13 1541.37 1758.13 1537.76 Q1758.13 1534.15 1755.79 1532.04 Q1753.45 1529.94 1749.44 1529.94 Q1747.57 1529.94 1745.7 1530.35 Q1743.84 1530.77 1741.9 1531.65 L1741.9 1514.29 Z\" fill=\"#000000\" fill-rule=\"evenodd\" fill-opacity=\"1\" /><path clip-path=\"url(#clip300)\" d=\"M2151.94 1544.91 L2159.58 1544.91 L2159.58 1518.55 L2151.27 1520.21 L2151.27 1515.95 L2159.53 1514.29 L2164.21 1514.29 L2164.21 1544.91 L2171.85 1544.91 L2171.85 1548.85 L2151.94 1548.85 L2151.94 1544.91 Z\" fill=\"#000000\" fill-rule=\"evenodd\" fill-opacity=\"1\" /><path clip-path=\"url(#clip300)\" d=\"M2181.29 1542.97 L2186.17 1542.97 L2186.17 1548.85 L2181.29 1548.85 L2181.29 1542.97 Z\" fill=\"#000000\" fill-rule=\"evenodd\" fill-opacity=\"1\" /><path clip-path=\"url(#clip300)\" d=\"M2206.36 1517.37 Q2202.75 1517.37 2200.92 1520.93 Q2199.11 1524.47 2199.11 1531.6 Q2199.11 1538.71 2200.92 1542.27 Q2202.75 1545.82 2206.36 1545.82 Q2209.99 1545.82 2211.8 1542.27 Q2213.63 1538.71 2213.63 1531.6 Q2213.63 1524.47 2211.8 1520.93 Q2209.99 1517.37 2206.36 1517.37 M2206.36 1513.66 Q2212.17 1513.66 2215.22 1518.27 Q2218.3 1522.85 2218.3 1531.6 Q2218.3 1540.33 2215.22 1544.94 Q2212.17 1549.52 2206.36 1549.52 Q2200.55 1549.52 2197.47 1544.94 Q2194.41 1540.33 2194.41 1531.6 Q2194.41 1522.85 2197.47 1518.27 Q2200.55 1513.66 2206.36 1513.66 Z\" fill=\"#000000\" fill-rule=\"evenodd\" fill-opacity=\"1\" /><path clip-path=\"url(#clip300)\" d=\"M2236.52 1517.37 Q2232.91 1517.37 2231.08 1520.93 Q2229.28 1524.47 2229.28 1531.6 Q2229.28 1538.71 2231.08 1542.27 Q2232.91 1545.82 2236.52 1545.82 Q2240.16 1545.82 2241.96 1542.27 Q2243.79 1538.71 2243.79 1531.6 Q2243.79 1524.47 2241.96 1520.93 Q2240.16 1517.37 2236.52 1517.37 M2236.52 1513.66 Q2242.33 1513.66 2245.39 1518.27 Q2248.47 1522.85 2248.47 1531.6 Q2248.47 1540.33 2245.39 1544.94 Q2242.33 1549.52 2236.52 1549.52 Q2230.71 1549.52 2227.63 1544.94 Q2224.58 1540.33 2224.58 1531.6 Q2224.58 1522.85 2227.63 1518.27 Q2230.71 1513.66 2236.52 1513.66 Z\" fill=\"#000000\" fill-rule=\"evenodd\" fill-opacity=\"1\" /><polyline clip-path=\"url(#clip302)\" style=\"stroke:#000000; stroke-linecap:round; stroke-linejoin:round; stroke-width:2; stroke-opacity:0.1; fill:none\" points=\"193.936,1445.75 2352.76,1445.75 \"/>\n",
       "<polyline clip-path=\"url(#clip302)\" style=\"stroke:#000000; stroke-linecap:round; stroke-linejoin:round; stroke-width:2; stroke-opacity:0.1; fill:none\" points=\"193.936,1106.3 2352.76,1106.3 \"/>\n",
       "<polyline clip-path=\"url(#clip302)\" style=\"stroke:#000000; stroke-linecap:round; stroke-linejoin:round; stroke-width:2; stroke-opacity:0.1; fill:none\" points=\"193.936,766.846 2352.76,766.846 \"/>\n",
       "<polyline clip-path=\"url(#clip302)\" style=\"stroke:#000000; stroke-linecap:round; stroke-linejoin:round; stroke-width:2; stroke-opacity:0.1; fill:none\" points=\"193.936,427.394 2352.76,427.394 \"/>\n",
       "<polyline clip-path=\"url(#clip302)\" style=\"stroke:#000000; stroke-linecap:round; stroke-linejoin:round; stroke-width:2; stroke-opacity:0.1; fill:none\" points=\"193.936,87.9423 2352.76,87.9423 \"/>\n",
       "<polyline clip-path=\"url(#clip300)\" style=\"stroke:#000000; stroke-linecap:round; stroke-linejoin:round; stroke-width:4; stroke-opacity:1; fill:none\" points=\"193.936,1486.45 193.936,47.2441 \"/>\n",
       "<polyline clip-path=\"url(#clip300)\" style=\"stroke:#000000; stroke-linecap:round; stroke-linejoin:round; stroke-width:4; stroke-opacity:1; fill:none\" points=\"193.936,1445.75 212.834,1445.75 \"/>\n",
       "<polyline clip-path=\"url(#clip300)\" style=\"stroke:#000000; stroke-linecap:round; stroke-linejoin:round; stroke-width:4; stroke-opacity:1; fill:none\" points=\"193.936,1106.3 212.834,1106.3 \"/>\n",
       "<polyline clip-path=\"url(#clip300)\" style=\"stroke:#000000; stroke-linecap:round; stroke-linejoin:round; stroke-width:4; stroke-opacity:1; fill:none\" points=\"193.936,766.846 212.834,766.846 \"/>\n",
       "<polyline clip-path=\"url(#clip300)\" style=\"stroke:#000000; stroke-linecap:round; stroke-linejoin:round; stroke-width:4; stroke-opacity:1; fill:none\" points=\"193.936,427.394 212.834,427.394 \"/>\n",
       "<polyline clip-path=\"url(#clip300)\" style=\"stroke:#000000; stroke-linecap:round; stroke-linejoin:round; stroke-width:4; stroke-opacity:1; fill:none\" points=\"193.936,87.9423 212.834,87.9423 \"/>\n",
       "<path clip-path=\"url(#clip300)\" d=\"M50.9921 1446.2 L80.6679 1446.2 L80.6679 1450.14 L50.9921 1450.14 L50.9921 1446.2 Z\" fill=\"#000000\" fill-rule=\"evenodd\" fill-opacity=\"1\" /><path clip-path=\"url(#clip300)\" d=\"M91.5706 1459.09 L99.2095 1459.09 L99.2095 1432.73 L90.8993 1434.4 L90.8993 1430.14 L99.1632 1428.47 L103.839 1428.47 L103.839 1459.09 L111.478 1459.09 L111.478 1463.03 L91.5706 1463.03 L91.5706 1459.09 Z\" fill=\"#000000\" fill-rule=\"evenodd\" fill-opacity=\"1\" /><path clip-path=\"url(#clip300)\" d=\"M120.922 1457.15 L125.807 1457.15 L125.807 1463.03 L120.922 1463.03 L120.922 1457.15 Z\" fill=\"#000000\" fill-rule=\"evenodd\" fill-opacity=\"1\" /><path clip-path=\"url(#clip300)\" d=\"M145.992 1431.55 Q142.381 1431.55 140.552 1435.11 Q138.746 1438.65 138.746 1445.78 Q138.746 1452.89 140.552 1456.46 Q142.381 1460 145.992 1460 Q149.626 1460 151.431 1456.46 Q153.26 1452.89 153.26 1445.78 Q153.26 1438.65 151.431 1435.11 Q149.626 1431.55 145.992 1431.55 M145.992 1427.84 Q151.802 1427.84 154.857 1432.45 Q157.936 1437.03 157.936 1445.78 Q157.936 1454.51 154.857 1459.12 Q151.802 1463.7 145.992 1463.7 Q140.181 1463.7 137.103 1459.12 Q134.047 1454.51 134.047 1445.78 Q134.047 1437.03 137.103 1432.45 Q140.181 1427.84 145.992 1427.84 Z\" fill=\"#000000\" fill-rule=\"evenodd\" fill-opacity=\"1\" /><path clip-path=\"url(#clip300)\" d=\"M51.9875 1106.75 L81.6633 1106.75 L81.6633 1110.68 L51.9875 1110.68 L51.9875 1106.75 Z\" fill=\"#000000\" fill-rule=\"evenodd\" fill-opacity=\"1\" /><path clip-path=\"url(#clip300)\" d=\"M101.756 1092.1 Q98.1447 1092.1 96.316 1095.66 Q94.5104 1099.2 94.5104 1106.33 Q94.5104 1113.44 96.316 1117 Q98.1447 1120.55 101.756 1120.55 Q105.39 1120.55 107.196 1117 Q109.024 1113.44 109.024 1106.33 Q109.024 1099.2 107.196 1095.66 Q105.39 1092.1 101.756 1092.1 M101.756 1088.39 Q107.566 1088.39 110.621 1093 Q113.7 1097.58 113.7 1106.33 Q113.7 1115.06 110.621 1119.67 Q107.566 1124.25 101.756 1124.25 Q95.9456 1124.25 92.8669 1119.67 Q89.8114 1115.06 89.8114 1106.33 Q89.8114 1097.58 92.8669 1093 Q95.9456 1088.39 101.756 1088.39 Z\" fill=\"#000000\" fill-rule=\"evenodd\" fill-opacity=\"1\" /><path clip-path=\"url(#clip300)\" d=\"M121.918 1117.7 L126.802 1117.7 L126.802 1123.58 L121.918 1123.58 L121.918 1117.7 Z\" fill=\"#000000\" fill-rule=\"evenodd\" fill-opacity=\"1\" /><path clip-path=\"url(#clip300)\" d=\"M137.033 1089.02 L155.39 1089.02 L155.39 1092.95 L141.316 1092.95 L141.316 1101.43 Q142.334 1101.08 143.353 1100.92 Q144.371 1100.73 145.39 1100.73 Q151.177 1100.73 154.556 1103.9 Q157.936 1107.07 157.936 1112.49 Q157.936 1118.07 154.464 1121.17 Q150.992 1124.25 144.672 1124.25 Q142.496 1124.25 140.228 1123.88 Q137.982 1123.51 135.575 1122.77 L135.575 1118.07 Q137.658 1119.2 139.881 1119.76 Q142.103 1120.31 144.58 1120.31 Q148.584 1120.31 150.922 1118.21 Q153.26 1116.1 153.26 1112.49 Q153.26 1108.88 150.922 1106.77 Q148.584 1104.67 144.58 1104.67 Q142.705 1104.67 140.83 1105.08 Q138.978 1105.5 137.033 1106.38 L137.033 1089.02 Z\" fill=\"#000000\" fill-rule=\"evenodd\" fill-opacity=\"1\" /><path clip-path=\"url(#clip300)\" d=\"M100.76 752.645 Q97.1493 752.645 95.3206 756.209 Q93.515 759.751 93.515 766.881 Q93.515 773.987 95.3206 777.552 Q97.1493 781.094 100.76 781.094 Q104.395 781.094 106.2 777.552 Q108.029 773.987 108.029 766.881 Q108.029 759.751 106.2 756.209 Q104.395 752.645 100.76 752.645 M100.76 748.941 Q106.571 748.941 109.626 753.547 Q112.705 758.131 112.705 766.881 Q112.705 775.608 109.626 780.214 Q106.571 784.797 100.76 784.797 Q94.9502 784.797 91.8715 780.214 Q88.816 775.608 88.816 766.881 Q88.816 758.131 91.8715 753.547 Q94.9502 748.941 100.76 748.941 Z\" fill=\"#000000\" fill-rule=\"evenodd\" fill-opacity=\"1\" /><path clip-path=\"url(#clip300)\" d=\"M120.922 778.246 L125.807 778.246 L125.807 784.126 L120.922 784.126 L120.922 778.246 Z\" fill=\"#000000\" fill-rule=\"evenodd\" fill-opacity=\"1\" /><path clip-path=\"url(#clip300)\" d=\"M145.992 752.645 Q142.381 752.645 140.552 756.209 Q138.746 759.751 138.746 766.881 Q138.746 773.987 140.552 777.552 Q142.381 781.094 145.992 781.094 Q149.626 781.094 151.431 777.552 Q153.26 773.987 153.26 766.881 Q153.26 759.751 151.431 756.209 Q149.626 752.645 145.992 752.645 M145.992 748.941 Q151.802 748.941 154.857 753.547 Q157.936 758.131 157.936 766.881 Q157.936 775.608 154.857 780.214 Q151.802 784.797 145.992 784.797 Q140.181 784.797 137.103 780.214 Q134.047 775.608 134.047 766.881 Q134.047 758.131 137.103 753.547 Q140.181 748.941 145.992 748.941 Z\" fill=\"#000000\" fill-rule=\"evenodd\" fill-opacity=\"1\" /><path clip-path=\"url(#clip300)\" d=\"M101.756 413.193 Q98.1447 413.193 96.316 416.758 Q94.5104 420.299 94.5104 427.429 Q94.5104 434.535 96.316 438.1 Q98.1447 441.642 101.756 441.642 Q105.39 441.642 107.196 438.1 Q109.024 434.535 109.024 427.429 Q109.024 420.299 107.196 416.758 Q105.39 413.193 101.756 413.193 M101.756 409.489 Q107.566 409.489 110.621 414.096 Q113.7 418.679 113.7 427.429 Q113.7 436.156 110.621 440.762 Q107.566 445.345 101.756 445.345 Q95.9456 445.345 92.8669 440.762 Q89.8114 436.156 89.8114 427.429 Q89.8114 418.679 92.8669 414.096 Q95.9456 409.489 101.756 409.489 Z\" fill=\"#000000\" fill-rule=\"evenodd\" fill-opacity=\"1\" /><path clip-path=\"url(#clip300)\" d=\"M121.918 438.795 L126.802 438.795 L126.802 444.674 L121.918 444.674 L121.918 438.795 Z\" fill=\"#000000\" fill-rule=\"evenodd\" fill-opacity=\"1\" /><path clip-path=\"url(#clip300)\" d=\"M137.033 410.114 L155.39 410.114 L155.39 414.049 L141.316 414.049 L141.316 422.521 Q142.334 422.174 143.353 422.012 Q144.371 421.827 145.39 421.827 Q151.177 421.827 154.556 424.998 Q157.936 428.17 157.936 433.586 Q157.936 439.165 154.464 442.267 Q150.992 445.345 144.672 445.345 Q142.496 445.345 140.228 444.975 Q137.982 444.605 135.575 443.864 L135.575 439.165 Q137.658 440.299 139.881 440.855 Q142.103 441.41 144.58 441.41 Q148.584 441.41 150.922 439.304 Q153.26 437.197 153.26 433.586 Q153.26 429.975 150.922 427.869 Q148.584 425.762 144.58 425.762 Q142.705 425.762 140.83 426.179 Q138.978 426.596 137.033 427.475 L137.033 410.114 Z\" fill=\"#000000\" fill-rule=\"evenodd\" fill-opacity=\"1\" /><path clip-path=\"url(#clip300)\" d=\"M91.5706 101.287 L99.2095 101.287 L99.2095 74.9215 L90.8993 76.5882 L90.8993 72.329 L99.1632 70.6623 L103.839 70.6623 L103.839 101.287 L111.478 101.287 L111.478 105.222 L91.5706 105.222 L91.5706 101.287 Z\" fill=\"#000000\" fill-rule=\"evenodd\" fill-opacity=\"1\" /><path clip-path=\"url(#clip300)\" d=\"M120.922 99.3427 L125.807 99.3427 L125.807 105.222 L120.922 105.222 L120.922 99.3427 Z\" fill=\"#000000\" fill-rule=\"evenodd\" fill-opacity=\"1\" /><path clip-path=\"url(#clip300)\" d=\"M145.992 73.741 Q142.381 73.741 140.552 77.3058 Q138.746 80.8474 138.746 87.977 Q138.746 95.0835 140.552 98.6483 Q142.381 102.19 145.992 102.19 Q149.626 102.19 151.431 98.6483 Q153.26 95.0835 153.26 87.977 Q153.26 80.8474 151.431 77.3058 Q149.626 73.741 145.992 73.741 M145.992 70.0373 Q151.802 70.0373 154.857 74.6438 Q157.936 79.2271 157.936 87.977 Q157.936 96.7038 154.857 101.31 Q151.802 105.894 145.992 105.894 Q140.181 105.894 137.103 101.31 Q134.047 96.7038 134.047 87.977 Q134.047 79.2271 137.103 74.6438 Q140.181 70.0373 145.992 70.0373 Z\" fill=\"#000000\" fill-rule=\"evenodd\" fill-opacity=\"1\" /><polyline clip-path=\"url(#clip302)\" style=\"stroke:#009af9; stroke-linecap:round; stroke-linejoin:round; stroke-width:4; stroke-opacity:1; fill:none\" points=\"255.035,766.846 258.278,195.382 261.521,149.808 264.764,672.062 268.007,1281.54 271.25,1417.37 274.493,954.558 277.736,319.001 280.979,95.5734 284.222,489.884 287.465,1139.07 290.708,1445.72 293.951,1127.63 297.194,477.537 300.437,93.6768 303.68,329.3 306.923,967.574 310.166,1421.13 313.409,1272.58 316.652,658.63 319.895,144.266 323.138,202.83 326.381,780.43 329.624,1345.53 332.867,1378.1 336.11,848.16 339.353,243.395 342.596,120.336 345.84,592.227 349.083,1224.81 352.326,1435.95 355.569,1031.35 358.812,383.338 362.055,88.2481 365.298,417.638 368.541,1068.39 371.784,1441.64 375.027,1193.92 378.27,553.181 381.513,109.069 384.756,270.276 387.999,888.451 391.242,1394.72 394.485,1323.19 397.728,739.683 400.971,181.175 404.214,161.63 407.457,699.034 410.7,1298.84 413.943,1409.08 417.186,928.303 420.429,298.945 423.672,100.172 426.915,514.905 430.158,1161.49 433.401,1444.9 436.644,1104.34 439.887,453.196 443.13,90.6928 446.373,350.419 449.616,993.362 452.859,1427.85 456.103,1254.05 459.346,631.901 462.589,133.932 465.832,218.401 469.075,807.576 472.318,1359.27 475.561,1365.79 478.804,821.128 482.047,226.517 485.29,129.144 488.533,618.615 491.776,1244.5 495.019,1430.82 498.262,1006.12 501.505,361.231 504.748,89.6066 507.991,441.211 511.234,1092.48 514.477,1444.09 517.72,1172.46 520.963,527.57 524.206,102.872 527.449,289.196 530.692,915.077 533.935,1404.55 537.178,1307.17 540.421,712.564 543.664,167.906 546.907,174.422 550.15,726.116 553.393,1315.29 556.636,1399.76 559.879,901.791 563.122,279.638 566.366,105.838 569.609,540.33 572.852,1183.27 576.095,1443 579.338,1080.5 582.581,429.357 585.824,88.7916 589.067,372.205 592.31,1018.79 595.553,1433.52 598.796,1234.75 602.039,605.389 605.282,124.611 608.525,234.85 611.768,834.658 615.011,1372.06 618.254,1352.52 621.497,794.009 624.74,210.504 627.983,138.973 631.226,645.241 634.469,1263.42 637.712,1424.62 640.955,980.511 644.198,339.774 647.441,92.0497 650.684,465.306 653.927,1116.05 657.17,1445.44 660.413,1150.35 663.656,502.342 666.899,97.7388 670.142,308.881 673.385,941.465 676.629,1413.36 679.872,1290.3 683.115,685.532 686.358,155.597 689.601,188.163 692.844,753.262 696.087,1330.86 699.33,1389.43 702.573,875.062 705.816,261.112 709.059,112.563 712.302,566.118 715.545,1204.39 718.788,1440.02 722.031,1056.15 725.274,406.058 728.517,87.9763 731.76,394.623 735.003,1043.81 738.246,1438.12 741.489,1214.69 744.732,579.134 747.975,116.319 751.218,252.151 754.461,861.63 757.704,1383.88 760.947,1338.31 764.19,766.846 767.433,195.382 770.676,149.808 773.919,672.062 777.162,1281.54 780.405,1417.37 783.648,954.558 786.892,319.001 790.135,95.5734 793.378,489.884 796.621,1139.07 799.864,1445.72 803.107,1127.63 806.35,477.537 809.593,93.6768 812.836,329.3 816.079,967.574 819.322,1421.13 822.565,1272.58 825.808,658.63 829.051,144.266 832.294,202.83 835.537,780.43 838.78,1345.53 842.023,1378.1 845.266,848.16 848.509,243.395 851.752,120.336 854.995,592.227 858.238,1224.81 861.481,1435.95 864.724,1031.35 867.967,383.338 871.21,88.2481 874.453,417.638 877.696,1068.39 880.939,1441.64 884.182,1193.92 887.425,553.181 890.668,109.069 893.911,270.276 897.155,888.451 900.398,1394.72 903.641,1323.19 906.884,739.683 910.127,181.175 913.37,161.63 916.613,699.034 919.856,1298.84 923.099,1409.08 926.342,928.303 929.585,298.945 932.828,100.172 936.071,514.905 939.314,1161.49 942.557,1444.9 945.8,1104.34 949.043,453.196 952.286,90.6928 955.529,350.419 958.772,993.362 962.015,1427.85 965.258,1254.05 968.501,631.901 971.744,133.932 974.987,218.401 978.23,807.576 981.473,1359.27 984.716,1365.79 987.959,821.128 991.202,226.517 994.445,129.144 997.688,618.615 1000.93,1244.5 1004.17,1430.82 1007.42,1006.12 1010.66,361.231 1013.9,89.6066 1017.15,441.211 1020.39,1092.48 1023.63,1444.09 1026.88,1172.46 1030.12,527.57 1033.36,102.872 1036.6,289.196 1039.85,915.077 1043.09,1404.55 1046.33,1307.17 1049.58,712.564 1052.82,167.906 1056.06,174.422 1059.31,726.116 1062.55,1315.29 1065.79,1399.76 1069.04,901.791 1072.28,279.638 1075.52,105.838 1078.76,540.33 1082.01,1183.27 1085.25,1443 1088.49,1080.5 1091.74,429.357 1094.98,88.7916 1098.22,372.205 1101.47,1018.79 1104.71,1433.52 1107.95,1234.75 1111.19,605.389 1114.44,124.611 1117.68,234.85 1120.92,834.658 1124.17,1372.06 1127.41,1352.52 1130.65,794.009 1133.9,210.504 1137.14,138.973 1140.38,645.241 1143.62,1263.42 1146.87,1424.62 1150.11,980.511 1153.35,339.774 1156.6,92.0497 1159.84,465.306 1163.08,1116.05 1166.33,1445.44 1169.57,1150.35 1172.81,502.342 1176.06,97.7388 1179.3,308.881 1182.54,941.465 1185.78,1413.36 1189.03,1290.3 1192.27,685.532 1195.51,155.597 1198.76,188.163 1202,753.262 1205.24,1330.86 1208.49,1389.43 1211.73,875.062 1214.97,261.112 1218.21,112.563 1221.46,566.118 1224.7,1204.39 1227.94,1440.02 1231.19,1056.15 1234.43,406.058 1237.67,87.9763 1240.92,394.623 1244.16,1043.81 1247.4,1438.12 1250.64,1214.69 1253.89,579.134 1257.13,116.319 1260.37,252.151 1263.62,861.63 1266.86,1383.88 1270.1,1338.31 1273.35,766.846 1276.59,195.382 1279.83,149.808 1283.08,672.062 1286.32,1281.54 1289.56,1417.37 1292.8,954.558 1296.05,319.001 1299.29,95.5734 1302.53,489.884 1305.78,1139.07 1309.02,1445.72 1312.26,1127.63 1315.51,477.537 1318.75,93.6768 1321.99,329.3 1325.23,967.574 1328.48,1421.13 1331.72,1272.58 1334.96,658.63 1338.21,144.266 1341.45,202.83 1344.69,780.43 1347.94,1345.53 1351.18,1378.1 1354.42,848.16 1357.66,243.395 1360.91,120.336 1364.15,592.227 1367.39,1224.81 1370.64,1435.95 1373.88,1031.35 1377.12,383.338 1380.37,88.2481 1383.61,417.638 1386.85,1068.39 1390.1,1441.64 1393.34,1193.92 1396.58,553.181 1399.82,109.069 1403.07,270.276 1406.31,888.451 1409.55,1394.72 1412.8,1323.19 1416.04,739.683 1419.28,181.175 1422.53,161.63 1425.77,699.034 1429.01,1298.84 1432.25,1409.08 1435.5,928.303 1438.74,298.945 1441.98,100.172 1445.23,514.905 1448.47,1161.49 1451.71,1444.9 1454.96,1104.34 1458.2,453.196 1461.44,90.6928 1464.68,350.419 1467.93,993.362 1471.17,1427.85 1474.41,1254.05 1477.66,631.901 1480.9,133.932 1484.14,218.401 1487.39,807.576 1490.63,1359.27 1493.87,1365.79 1497.11,821.128 1500.36,226.517 1503.6,129.144 1506.84,618.615 1510.09,1244.5 1513.33,1430.82 1516.57,1006.12 1519.82,361.231 1523.06,89.6066 1526.3,441.211 1529.55,1092.48 1532.79,1444.09 1536.03,1172.46 1539.27,527.57 1542.52,102.872 1545.76,289.196 1549,915.077 1552.25,1404.55 1555.49,1307.17 1558.73,712.564 1561.98,167.906 1565.22,174.422 1568.46,726.116 1571.7,1315.29 1574.95,1399.76 1578.19,901.791 1581.43,279.638 1584.68,105.838 1587.92,540.33 1591.16,1183.27 1594.41,1443 1597.65,1080.5 1600.89,429.357 1604.13,88.7916 1607.38,372.205 1610.62,1018.79 1613.86,1433.52 1617.11,1234.75 1620.35,605.389 1623.59,124.611 1626.84,234.85 1630.08,834.658 1633.32,1372.06 1636.57,1352.52 1639.81,794.009 1643.05,210.504 1646.29,138.973 1649.54,645.241 1652.78,1263.42 1656.02,1424.62 1659.27,980.511 1662.51,339.774 1665.75,92.0497 1669,465.306 1672.24,1116.05 1675.48,1445.44 1678.72,1150.35 1681.97,502.342 1685.21,97.7388 1688.45,308.881 1691.7,941.465 1694.94,1413.36 1698.18,1290.3 1701.43,685.532 1704.67,155.597 1707.91,188.163 1711.15,753.262 1714.4,1330.86 1717.64,1389.43 1720.88,875.062 1724.13,261.112 1727.37,112.563 1730.61,566.118 1733.86,1204.39 1737.1,1440.02 1740.34,1056.15 1743.59,406.058 1746.83,87.9763 1750.07,394.623 1753.31,1043.81 1756.56,1438.12 1759.8,1214.69 1763.04,579.134 1766.29,116.319 1769.53,252.151 1772.77,861.63 1776.02,1383.88 1779.26,1338.31 1782.5,766.846 1785.74,195.382 1788.99,149.808 1792.23,672.062 1795.47,1281.54 1798.72,1417.37 1801.96,954.558 1805.2,319.001 1808.45,95.5734 1811.69,489.884 1814.93,1139.07 1818.17,1445.72 1821.42,1127.63 1824.66,477.537 1827.9,93.6768 1831.15,329.3 1834.39,967.574 1837.63,1421.13 1840.88,1272.58 1844.12,658.63 1847.36,144.266 1850.61,202.83 1853.85,780.43 1857.09,1345.53 1860.33,1378.1 1863.58,848.16 1866.82,243.395 1870.06,120.336 1873.31,592.227 1876.55,1224.81 1879.79,1435.95 1883.04,1031.35 1886.28,383.338 1889.52,88.2481 1892.76,417.638 1896.01,1068.39 1899.25,1441.64 1902.49,1193.92 1905.74,553.181 1908.98,109.069 1912.22,270.276 1915.47,888.451 1918.71,1394.72 1921.95,1323.19 1925.19,739.683 1928.44,181.175 1931.68,161.63 1934.92,699.034 1938.17,1298.84 1941.41,1409.08 1944.65,928.303 1947.9,298.945 1951.14,100.172 1954.38,514.905 1957.63,1161.49 1960.87,1444.9 1964.11,1104.34 1967.35,453.196 1970.6,90.6928 1973.84,350.419 1977.08,993.362 1980.33,1427.85 1983.57,1254.05 1986.81,631.901 1990.06,133.932 1993.3,218.401 1996.54,807.576 1999.78,1359.27 2003.03,1365.79 2006.27,821.128 2009.51,226.517 2012.76,129.144 2016,618.615 2019.24,1244.5 2022.49,1430.82 2025.73,1006.12 2028.97,361.231 2032.21,89.6066 2035.46,441.211 2038.7,1092.48 2041.94,1444.09 2045.19,1172.46 2048.43,527.57 2051.67,102.872 2054.92,289.196 2058.16,915.077 2061.4,1404.55 2064.65,1307.17 2067.89,712.564 2071.13,167.906 2074.37,174.422 2077.62,726.116 2080.86,1315.29 2084.1,1399.76 2087.35,901.791 2090.59,279.638 2093.83,105.838 2097.08,540.33 2100.32,1183.27 2103.56,1443 2106.8,1080.5 2110.05,429.357 2113.29,88.7916 2116.53,372.205 2119.78,1018.79 2123.02,1433.52 2126.26,1234.75 2129.51,605.389 2132.75,124.611 2135.99,234.85 2139.23,834.658 2142.48,1372.06 2145.72,1352.52 2148.96,794.009 2152.21,210.504 2155.45,138.973 2158.69,645.241 2161.94,1263.42 2165.18,1424.62 2168.42,980.511 2171.67,339.774 2174.91,92.0497 2178.15,465.306 2181.39,1116.05 2184.64,1445.44 2187.88,1150.35 2191.12,502.342 2194.37,97.7388 2197.61,308.881 2200.85,941.465 2204.1,1413.36 2207.34,1290.3 2210.58,685.532 2213.82,155.597 2217.07,188.163 2220.31,753.262 2223.55,1330.86 2226.8,1389.43 2230.04,875.062 2233.28,261.112 2236.53,112.563 2239.77,566.118 2243.01,1204.39 2246.25,1440.02 2249.5,1056.15 2252.74,406.058 2255.98,87.9763 2259.23,394.623 2262.47,1043.81 2265.71,1438.12 2268.96,1214.69 2272.2,579.134 2275.44,116.319 2278.69,252.151 2281.93,861.63 2285.17,1383.88 2288.41,1338.31 2291.66,766.846 \"/>\n",
       "<path clip-path=\"url(#clip300)\" d=\"M2012.48 198.898 L2280.8 198.898 L2280.8 95.2176 L2012.48 95.2176  Z\" fill=\"#ffffff\" fill-rule=\"evenodd\" fill-opacity=\"1\"/>\n",
       "<polyline clip-path=\"url(#clip300)\" style=\"stroke:#000000; stroke-linecap:round; stroke-linejoin:round; stroke-width:4; stroke-opacity:1; fill:none\" points=\"2012.48,198.898 2280.8,198.898 2280.8,95.2176 2012.48,95.2176 2012.48,198.898 \"/>\n",
       "<polyline clip-path=\"url(#clip300)\" style=\"stroke:#009af9; stroke-linecap:round; stroke-linejoin:round; stroke-width:4; stroke-opacity:1; fill:none\" points=\"2036.47,147.058 2180.39,147.058 \"/>\n",
       "<path clip-path=\"url(#clip300)\" d=\"M2218.22 166.745 Q2216.42 171.375 2214.7 172.787 Q2212.99 174.199 2210.12 174.199 L2206.72 174.199 L2206.72 170.634 L2209.22 170.634 Q2210.98 170.634 2211.95 169.8 Q2212.92 168.967 2214.1 165.865 L2214.86 163.921 L2204.38 138.412 L2208.89 138.412 L2216.99 158.689 L2225.1 138.412 L2229.61 138.412 L2218.22 166.745 Z\" fill=\"#000000\" fill-rule=\"evenodd\" fill-opacity=\"1\" /><path clip-path=\"url(#clip300)\" d=\"M2236.9 160.402 L2244.54 160.402 L2244.54 134.037 L2236.23 135.703 L2236.23 131.444 L2244.49 129.778 L2249.17 129.778 L2249.17 160.402 L2256.81 160.402 L2256.81 164.338 L2236.9 164.338 L2236.9 160.402 Z\" fill=\"#000000\" fill-rule=\"evenodd\" fill-opacity=\"1\" /></svg>\n"
      ]
     },
     "execution_count": 106,
     "metadata": {},
     "output_type": "execute_result"
    }
   ],
   "source": [
    "plot(x1,y1)"
   ]
  },
  {
   "cell_type": "code",
   "execution_count": 107,
   "metadata": {},
   "outputs": [
    {
     "data": {
      "image/svg+xml": [
       "<?xml version=\"1.0\" encoding=\"utf-8\"?>\n",
       "<svg xmlns=\"http://www.w3.org/2000/svg\" xmlns:xlink=\"http://www.w3.org/1999/xlink\" width=\"600\" height=\"400\" viewBox=\"0 0 2400 1600\">\n",
       "<defs>\n",
       "  <clipPath id=\"clip340\">\n",
       "    <rect x=\"0\" y=\"0\" width=\"2400\" height=\"1600\"/>\n",
       "  </clipPath>\n",
       "</defs>\n",
       "<path clip-path=\"url(#clip340)\" d=\"M0 1600 L2400 1600 L2400 0 L0 0  Z\" fill=\"#ffffff\" fill-rule=\"evenodd\" fill-opacity=\"1\"/>\n",
       "<defs>\n",
       "  <clipPath id=\"clip341\">\n",
       "    <rect x=\"480\" y=\"0\" width=\"1681\" height=\"1600\"/>\n",
       "  </clipPath>\n",
       "</defs>\n",
       "<path clip-path=\"url(#clip340)\" d=\"M193.936 1486.45 L2352.76 1486.45 L2352.76 47.2441 L193.936 47.2441  Z\" fill=\"#ffffff\" fill-rule=\"evenodd\" fill-opacity=\"1\"/>\n",
       "<defs>\n",
       "  <clipPath id=\"clip342\">\n",
       "    <rect x=\"193\" y=\"47\" width=\"2160\" height=\"1440\"/>\n",
       "  </clipPath>\n",
       "</defs>\n",
       "<polyline clip-path=\"url(#clip342)\" style=\"stroke:#000000; stroke-linecap:round; stroke-linejoin:round; stroke-width:2; stroke-opacity:0.1; fill:none\" points=\"255.035,1486.45 255.035,47.2441 \"/>\n",
       "<polyline clip-path=\"url(#clip342)\" style=\"stroke:#000000; stroke-linecap:round; stroke-linejoin:round; stroke-width:2; stroke-opacity:0.1; fill:none\" points=\"741.242,1486.45 741.242,47.2441 \"/>\n",
       "<polyline clip-path=\"url(#clip342)\" style=\"stroke:#000000; stroke-linecap:round; stroke-linejoin:round; stroke-width:2; stroke-opacity:0.1; fill:none\" points=\"1227.45,1486.45 1227.45,47.2441 \"/>\n",
       "<polyline clip-path=\"url(#clip342)\" style=\"stroke:#000000; stroke-linecap:round; stroke-linejoin:round; stroke-width:2; stroke-opacity:0.1; fill:none\" points=\"1713.66,1486.45 1713.66,47.2441 \"/>\n",
       "<polyline clip-path=\"url(#clip342)\" style=\"stroke:#000000; stroke-linecap:round; stroke-linejoin:round; stroke-width:2; stroke-opacity:0.1; fill:none\" points=\"2199.87,1486.45 2199.87,47.2441 \"/>\n",
       "<polyline clip-path=\"url(#clip340)\" style=\"stroke:#000000; stroke-linecap:round; stroke-linejoin:round; stroke-width:4; stroke-opacity:1; fill:none\" points=\"193.936,1486.45 2352.76,1486.45 \"/>\n",
       "<polyline clip-path=\"url(#clip340)\" style=\"stroke:#000000; stroke-linecap:round; stroke-linejoin:round; stroke-width:4; stroke-opacity:1; fill:none\" points=\"255.035,1486.45 255.035,1467.55 \"/>\n",
       "<polyline clip-path=\"url(#clip340)\" style=\"stroke:#000000; stroke-linecap:round; stroke-linejoin:round; stroke-width:4; stroke-opacity:1; fill:none\" points=\"741.242,1486.45 741.242,1467.55 \"/>\n",
       "<polyline clip-path=\"url(#clip340)\" style=\"stroke:#000000; stroke-linecap:round; stroke-linejoin:round; stroke-width:4; stroke-opacity:1; fill:none\" points=\"1227.45,1486.45 1227.45,1467.55 \"/>\n",
       "<polyline clip-path=\"url(#clip340)\" style=\"stroke:#000000; stroke-linecap:round; stroke-linejoin:round; stroke-width:4; stroke-opacity:1; fill:none\" points=\"1713.66,1486.45 1713.66,1467.55 \"/>\n",
       "<polyline clip-path=\"url(#clip340)\" style=\"stroke:#000000; stroke-linecap:round; stroke-linejoin:round; stroke-width:4; stroke-opacity:1; fill:none\" points=\"2199.87,1486.45 2199.87,1467.55 \"/>\n",
       "<path clip-path=\"url(#clip340)\" d=\"M217.338 1517.37 Q213.727 1517.37 211.898 1520.93 Q210.093 1524.47 210.093 1531.6 Q210.093 1538.71 211.898 1542.27 Q213.727 1545.82 217.338 1545.82 Q220.972 1545.82 222.778 1542.27 Q224.607 1538.71 224.607 1531.6 Q224.607 1524.47 222.778 1520.93 Q220.972 1517.37 217.338 1517.37 M217.338 1513.66 Q223.148 1513.66 226.204 1518.27 Q229.282 1522.85 229.282 1531.6 Q229.282 1540.33 226.204 1544.94 Q223.148 1549.52 217.338 1549.52 Q211.528 1549.52 208.449 1544.94 Q205.394 1540.33 205.394 1531.6 Q205.394 1522.85 208.449 1518.27 Q211.528 1513.66 217.338 1513.66 Z\" fill=\"#000000\" fill-rule=\"evenodd\" fill-opacity=\"1\" /><path clip-path=\"url(#clip340)\" d=\"M237.5 1542.97 L242.384 1542.97 L242.384 1548.85 L237.5 1548.85 L237.5 1542.97 Z\" fill=\"#000000\" fill-rule=\"evenodd\" fill-opacity=\"1\" /><path clip-path=\"url(#clip340)\" d=\"M262.569 1517.37 Q258.958 1517.37 257.13 1520.93 Q255.324 1524.47 255.324 1531.6 Q255.324 1538.71 257.13 1542.27 Q258.958 1545.82 262.569 1545.82 Q266.204 1545.82 268.009 1542.27 Q269.838 1538.71 269.838 1531.6 Q269.838 1524.47 268.009 1520.93 Q266.204 1517.37 262.569 1517.37 M262.569 1513.66 Q268.38 1513.66 271.435 1518.27 Q274.514 1522.85 274.514 1531.6 Q274.514 1540.33 271.435 1544.94 Q268.38 1549.52 262.569 1549.52 Q256.759 1549.52 253.681 1544.94 Q250.625 1540.33 250.625 1531.6 Q250.625 1522.85 253.681 1518.27 Q256.759 1513.66 262.569 1513.66 Z\" fill=\"#000000\" fill-rule=\"evenodd\" fill-opacity=\"1\" /><path clip-path=\"url(#clip340)\" d=\"M292.731 1517.37 Q289.12 1517.37 287.291 1520.93 Q285.486 1524.47 285.486 1531.6 Q285.486 1538.71 287.291 1542.27 Q289.12 1545.82 292.731 1545.82 Q296.365 1545.82 298.171 1542.27 Q300 1538.71 300 1531.6 Q300 1524.47 298.171 1520.93 Q296.365 1517.37 292.731 1517.37 M292.731 1513.66 Q298.541 1513.66 301.597 1518.27 Q304.676 1522.85 304.676 1531.6 Q304.676 1540.33 301.597 1544.94 Q298.541 1549.52 292.731 1549.52 Q286.921 1549.52 283.842 1544.94 Q280.787 1540.33 280.787 1531.6 Q280.787 1522.85 283.842 1518.27 Q286.921 1513.66 292.731 1513.66 Z\" fill=\"#000000\" fill-rule=\"evenodd\" fill-opacity=\"1\" /><path clip-path=\"url(#clip340)\" d=\"M704.044 1517.37 Q700.433 1517.37 698.604 1520.93 Q696.798 1524.47 696.798 1531.6 Q696.798 1538.71 698.604 1542.27 Q700.433 1545.82 704.044 1545.82 Q707.678 1545.82 709.483 1542.27 Q711.312 1538.71 711.312 1531.6 Q711.312 1524.47 709.483 1520.93 Q707.678 1517.37 704.044 1517.37 M704.044 1513.66 Q709.854 1513.66 712.909 1518.27 Q715.988 1522.85 715.988 1531.6 Q715.988 1540.33 712.909 1544.94 Q709.854 1549.52 704.044 1549.52 Q698.233 1549.52 695.155 1544.94 Q692.099 1540.33 692.099 1531.6 Q692.099 1522.85 695.155 1518.27 Q698.233 1513.66 704.044 1513.66 Z\" fill=\"#000000\" fill-rule=\"evenodd\" fill-opacity=\"1\" /><path clip-path=\"url(#clip340)\" d=\"M724.206 1542.97 L729.09 1542.97 L729.09 1548.85 L724.206 1548.85 L724.206 1542.97 Z\" fill=\"#000000\" fill-rule=\"evenodd\" fill-opacity=\"1\" /><path clip-path=\"url(#clip340)\" d=\"M743.303 1544.91 L759.622 1544.91 L759.622 1548.85 L737.678 1548.85 L737.678 1544.91 Q740.34 1542.16 744.923 1537.53 Q749.529 1532.88 750.71 1531.53 Q752.955 1529.01 753.835 1527.27 Q754.738 1525.51 754.738 1523.82 Q754.738 1521.07 752.793 1519.33 Q750.872 1517.6 747.77 1517.6 Q745.571 1517.6 743.117 1518.36 Q740.687 1519.13 737.909 1520.68 L737.909 1515.95 Q740.733 1514.82 743.187 1514.24 Q745.641 1513.66 747.678 1513.66 Q753.048 1513.66 756.242 1516.35 Q759.437 1519.03 759.437 1523.52 Q759.437 1525.65 758.627 1527.57 Q757.84 1529.47 755.733 1532.07 Q755.154 1532.74 752.053 1535.95 Q748.951 1539.15 743.303 1544.91 Z\" fill=\"#000000\" fill-rule=\"evenodd\" fill-opacity=\"1\" /><path clip-path=\"url(#clip340)\" d=\"M769.483 1514.29 L787.839 1514.29 L787.839 1518.22 L773.765 1518.22 L773.765 1526.7 Q774.784 1526.35 775.802 1526.19 Q776.821 1526 777.84 1526 Q783.627 1526 787.006 1529.17 Q790.386 1532.34 790.386 1537.76 Q790.386 1543.34 786.914 1546.44 Q783.441 1549.52 777.122 1549.52 Q774.946 1549.52 772.678 1549.15 Q770.432 1548.78 768.025 1548.04 L768.025 1543.34 Q770.108 1544.47 772.33 1545.03 Q774.553 1545.58 777.029 1545.58 Q781.034 1545.58 783.372 1543.48 Q785.71 1541.37 785.71 1537.76 Q785.71 1534.15 783.372 1532.04 Q781.034 1529.94 777.029 1529.94 Q775.154 1529.94 773.279 1530.35 Q771.428 1530.77 769.483 1531.65 L769.483 1514.29 Z\" fill=\"#000000\" fill-rule=\"evenodd\" fill-opacity=\"1\" /><path clip-path=\"url(#clip340)\" d=\"M1189.75 1517.37 Q1186.14 1517.37 1184.31 1520.93 Q1182.51 1524.47 1182.51 1531.6 Q1182.51 1538.71 1184.31 1542.27 Q1186.14 1545.82 1189.75 1545.82 Q1193.39 1545.82 1195.19 1542.27 Q1197.02 1538.71 1197.02 1531.6 Q1197.02 1524.47 1195.19 1520.93 Q1193.39 1517.37 1189.75 1517.37 M1189.75 1513.66 Q1195.56 1513.66 1198.62 1518.27 Q1201.7 1522.85 1201.7 1531.6 Q1201.7 1540.33 1198.62 1544.94 Q1195.56 1549.52 1189.75 1549.52 Q1183.94 1549.52 1180.86 1544.94 Q1177.81 1540.33 1177.81 1531.6 Q1177.81 1522.85 1180.86 1518.27 Q1183.94 1513.66 1189.75 1513.66 Z\" fill=\"#000000\" fill-rule=\"evenodd\" fill-opacity=\"1\" /><path clip-path=\"url(#clip340)\" d=\"M1209.92 1542.97 L1214.8 1542.97 L1214.8 1548.85 L1209.92 1548.85 L1209.92 1542.97 Z\" fill=\"#000000\" fill-rule=\"evenodd\" fill-opacity=\"1\" /><path clip-path=\"url(#clip340)\" d=\"M1225.03 1514.29 L1243.39 1514.29 L1243.39 1518.22 L1229.31 1518.22 L1229.31 1526.7 Q1230.33 1526.35 1231.35 1526.19 Q1232.37 1526 1233.39 1526 Q1239.17 1526 1242.55 1529.17 Q1245.93 1532.34 1245.93 1537.76 Q1245.93 1543.34 1242.46 1546.44 Q1238.99 1549.52 1232.67 1549.52 Q1230.49 1549.52 1228.23 1549.15 Q1225.98 1548.78 1223.57 1548.04 L1223.57 1543.34 Q1225.66 1544.47 1227.88 1545.03 Q1230.1 1545.58 1232.58 1545.58 Q1236.58 1545.58 1238.92 1543.48 Q1241.26 1541.37 1241.26 1537.76 Q1241.26 1534.15 1238.92 1532.04 Q1236.58 1529.94 1232.58 1529.94 Q1230.7 1529.94 1228.83 1530.35 Q1226.98 1530.77 1225.03 1531.65 L1225.03 1514.29 Z\" fill=\"#000000\" fill-rule=\"evenodd\" fill-opacity=\"1\" /><path clip-path=\"url(#clip340)\" d=\"M1265.15 1517.37 Q1261.54 1517.37 1259.71 1520.93 Q1257.9 1524.47 1257.9 1531.6 Q1257.9 1538.71 1259.71 1542.27 Q1261.54 1545.82 1265.15 1545.82 Q1268.78 1545.82 1270.59 1542.27 Q1272.42 1538.71 1272.42 1531.6 Q1272.42 1524.47 1270.59 1520.93 Q1268.78 1517.37 1265.15 1517.37 M1265.15 1513.66 Q1270.96 1513.66 1274.01 1518.27 Q1277.09 1522.85 1277.09 1531.6 Q1277.09 1540.33 1274.01 1544.94 Q1270.96 1549.52 1265.15 1549.52 Q1259.34 1549.52 1256.26 1544.94 Q1253.2 1540.33 1253.2 1531.6 Q1253.2 1522.85 1256.26 1518.27 Q1259.34 1513.66 1265.15 1513.66 Z\" fill=\"#000000\" fill-rule=\"evenodd\" fill-opacity=\"1\" /><path clip-path=\"url(#clip340)\" d=\"M1676.46 1517.37 Q1672.85 1517.37 1671.02 1520.93 Q1669.21 1524.47 1669.21 1531.6 Q1669.21 1538.71 1671.02 1542.27 Q1672.85 1545.82 1676.46 1545.82 Q1680.09 1545.82 1681.9 1542.27 Q1683.73 1538.71 1683.73 1531.6 Q1683.73 1524.47 1681.9 1520.93 Q1680.09 1517.37 1676.46 1517.37 M1676.46 1513.66 Q1682.27 1513.66 1685.32 1518.27 Q1688.4 1522.85 1688.4 1531.6 Q1688.4 1540.33 1685.32 1544.94 Q1682.27 1549.52 1676.46 1549.52 Q1670.65 1549.52 1667.57 1544.94 Q1664.51 1540.33 1664.51 1531.6 Q1664.51 1522.85 1667.57 1518.27 Q1670.65 1513.66 1676.46 1513.66 Z\" fill=\"#000000\" fill-rule=\"evenodd\" fill-opacity=\"1\" /><path clip-path=\"url(#clip340)\" d=\"M1696.62 1542.97 L1701.51 1542.97 L1701.51 1548.85 L1696.62 1548.85 L1696.62 1542.97 Z\" fill=\"#000000\" fill-rule=\"evenodd\" fill-opacity=\"1\" /><path clip-path=\"url(#clip340)\" d=\"M1710.51 1514.29 L1732.73 1514.29 L1732.73 1516.28 L1720.19 1548.85 L1715.3 1548.85 L1727.11 1518.22 L1710.51 1518.22 L1710.51 1514.29 Z\" fill=\"#000000\" fill-rule=\"evenodd\" fill-opacity=\"1\" /><path clip-path=\"url(#clip340)\" d=\"M1741.9 1514.29 L1760.26 1514.29 L1760.26 1518.22 L1746.18 1518.22 L1746.18 1526.7 Q1747.2 1526.35 1748.22 1526.19 Q1749.24 1526 1750.26 1526 Q1756.04 1526 1759.42 1529.17 Q1762.8 1532.34 1762.8 1537.76 Q1762.8 1543.34 1759.33 1546.44 Q1755.86 1549.52 1749.54 1549.52 Q1747.36 1549.52 1745.09 1549.15 Q1742.85 1548.78 1740.44 1548.04 L1740.44 1543.34 Q1742.52 1544.47 1744.75 1545.03 Q1746.97 1545.58 1749.44 1545.58 Q1753.45 1545.58 1755.79 1543.48 Q1758.13 1541.37 1758.13 1537.76 Q1758.13 1534.15 1755.79 1532.04 Q1753.45 1529.94 1749.44 1529.94 Q1747.57 1529.94 1745.7 1530.35 Q1743.84 1530.77 1741.9 1531.65 L1741.9 1514.29 Z\" fill=\"#000000\" fill-rule=\"evenodd\" fill-opacity=\"1\" /><path clip-path=\"url(#clip340)\" d=\"M2151.94 1544.91 L2159.58 1544.91 L2159.58 1518.55 L2151.27 1520.21 L2151.27 1515.95 L2159.53 1514.29 L2164.21 1514.29 L2164.21 1544.91 L2171.85 1544.91 L2171.85 1548.85 L2151.94 1548.85 L2151.94 1544.91 Z\" fill=\"#000000\" fill-rule=\"evenodd\" fill-opacity=\"1\" /><path clip-path=\"url(#clip340)\" d=\"M2181.29 1542.97 L2186.17 1542.97 L2186.17 1548.85 L2181.29 1548.85 L2181.29 1542.97 Z\" fill=\"#000000\" fill-rule=\"evenodd\" fill-opacity=\"1\" /><path clip-path=\"url(#clip340)\" d=\"M2206.36 1517.37 Q2202.75 1517.37 2200.92 1520.93 Q2199.11 1524.47 2199.11 1531.6 Q2199.11 1538.71 2200.92 1542.27 Q2202.75 1545.82 2206.36 1545.82 Q2209.99 1545.82 2211.8 1542.27 Q2213.63 1538.71 2213.63 1531.6 Q2213.63 1524.47 2211.8 1520.93 Q2209.99 1517.37 2206.36 1517.37 M2206.36 1513.66 Q2212.17 1513.66 2215.22 1518.27 Q2218.3 1522.85 2218.3 1531.6 Q2218.3 1540.33 2215.22 1544.94 Q2212.17 1549.52 2206.36 1549.52 Q2200.55 1549.52 2197.47 1544.94 Q2194.41 1540.33 2194.41 1531.6 Q2194.41 1522.85 2197.47 1518.27 Q2200.55 1513.66 2206.36 1513.66 Z\" fill=\"#000000\" fill-rule=\"evenodd\" fill-opacity=\"1\" /><path clip-path=\"url(#clip340)\" d=\"M2236.52 1517.37 Q2232.91 1517.37 2231.08 1520.93 Q2229.28 1524.47 2229.28 1531.6 Q2229.28 1538.71 2231.08 1542.27 Q2232.91 1545.82 2236.52 1545.82 Q2240.16 1545.82 2241.96 1542.27 Q2243.79 1538.71 2243.79 1531.6 Q2243.79 1524.47 2241.96 1520.93 Q2240.16 1517.37 2236.52 1517.37 M2236.52 1513.66 Q2242.33 1513.66 2245.39 1518.27 Q2248.47 1522.85 2248.47 1531.6 Q2248.47 1540.33 2245.39 1544.94 Q2242.33 1549.52 2236.52 1549.52 Q2230.71 1549.52 2227.63 1544.94 Q2224.58 1540.33 2224.58 1531.6 Q2224.58 1522.85 2227.63 1518.27 Q2230.71 1513.66 2236.52 1513.66 Z\" fill=\"#000000\" fill-rule=\"evenodd\" fill-opacity=\"1\" /><polyline clip-path=\"url(#clip342)\" style=\"stroke:#000000; stroke-linecap:round; stroke-linejoin:round; stroke-width:2; stroke-opacity:0.1; fill:none\" points=\"193.936,1445.72 2352.76,1445.72 \"/>\n",
       "<polyline clip-path=\"url(#clip342)\" style=\"stroke:#000000; stroke-linecap:round; stroke-linejoin:round; stroke-width:2; stroke-opacity:0.1; fill:none\" points=\"193.936,1106.28 2352.76,1106.28 \"/>\n",
       "<polyline clip-path=\"url(#clip342)\" style=\"stroke:#000000; stroke-linecap:round; stroke-linejoin:round; stroke-width:2; stroke-opacity:0.1; fill:none\" points=\"193.936,766.846 2352.76,766.846 \"/>\n",
       "<polyline clip-path=\"url(#clip342)\" style=\"stroke:#000000; stroke-linecap:round; stroke-linejoin:round; stroke-width:2; stroke-opacity:0.1; fill:none\" points=\"193.936,427.411 2352.76,427.411 \"/>\n",
       "<polyline clip-path=\"url(#clip342)\" style=\"stroke:#000000; stroke-linecap:round; stroke-linejoin:round; stroke-width:2; stroke-opacity:0.1; fill:none\" points=\"193.936,87.9763 2352.76,87.9763 \"/>\n",
       "<polyline clip-path=\"url(#clip340)\" style=\"stroke:#000000; stroke-linecap:round; stroke-linejoin:round; stroke-width:4; stroke-opacity:1; fill:none\" points=\"193.936,1486.45 193.936,47.2441 \"/>\n",
       "<polyline clip-path=\"url(#clip340)\" style=\"stroke:#000000; stroke-linecap:round; stroke-linejoin:round; stroke-width:4; stroke-opacity:1; fill:none\" points=\"193.936,1445.72 212.834,1445.72 \"/>\n",
       "<polyline clip-path=\"url(#clip340)\" style=\"stroke:#000000; stroke-linecap:round; stroke-linejoin:round; stroke-width:4; stroke-opacity:1; fill:none\" points=\"193.936,1106.28 212.834,1106.28 \"/>\n",
       "<polyline clip-path=\"url(#clip340)\" style=\"stroke:#000000; stroke-linecap:round; stroke-linejoin:round; stroke-width:4; stroke-opacity:1; fill:none\" points=\"193.936,766.846 212.834,766.846 \"/>\n",
       "<polyline clip-path=\"url(#clip340)\" style=\"stroke:#000000; stroke-linecap:round; stroke-linejoin:round; stroke-width:4; stroke-opacity:1; fill:none\" points=\"193.936,427.411 212.834,427.411 \"/>\n",
       "<polyline clip-path=\"url(#clip340)\" style=\"stroke:#000000; stroke-linecap:round; stroke-linejoin:round; stroke-width:4; stroke-opacity:1; fill:none\" points=\"193.936,87.9763 212.834,87.9763 \"/>\n",
       "<path clip-path=\"url(#clip340)\" d=\"M50.9921 1446.17 L80.6679 1446.17 L80.6679 1450.1 L50.9921 1450.1 L50.9921 1446.17 Z\" fill=\"#000000\" fill-rule=\"evenodd\" fill-opacity=\"1\" /><path clip-path=\"url(#clip340)\" d=\"M91.5706 1459.06 L99.2095 1459.06 L99.2095 1432.69 L90.8993 1434.36 L90.8993 1430.1 L99.1632 1428.44 L103.839 1428.44 L103.839 1459.06 L111.478 1459.06 L111.478 1463 L91.5706 1463 L91.5706 1459.06 Z\" fill=\"#000000\" fill-rule=\"evenodd\" fill-opacity=\"1\" /><path clip-path=\"url(#clip340)\" d=\"M120.922 1457.12 L125.807 1457.12 L125.807 1463 L120.922 1463 L120.922 1457.12 Z\" fill=\"#000000\" fill-rule=\"evenodd\" fill-opacity=\"1\" /><path clip-path=\"url(#clip340)\" d=\"M145.992 1431.51 Q142.381 1431.51 140.552 1435.08 Q138.746 1438.62 138.746 1445.75 Q138.746 1452.86 140.552 1456.42 Q142.381 1459.96 145.992 1459.96 Q149.626 1459.96 151.431 1456.42 Q153.26 1452.86 153.26 1445.75 Q153.26 1438.62 151.431 1435.08 Q149.626 1431.51 145.992 1431.51 M145.992 1427.81 Q151.802 1427.81 154.857 1432.42 Q157.936 1437 157.936 1445.75 Q157.936 1454.48 154.857 1459.08 Q151.802 1463.67 145.992 1463.67 Q140.181 1463.67 137.103 1459.08 Q134.047 1454.48 134.047 1445.75 Q134.047 1437 137.103 1432.42 Q140.181 1427.81 145.992 1427.81 Z\" fill=\"#000000\" fill-rule=\"evenodd\" fill-opacity=\"1\" /><path clip-path=\"url(#clip340)\" d=\"M51.9875 1106.73 L81.6633 1106.73 L81.6633 1110.67 L51.9875 1110.67 L51.9875 1106.73 Z\" fill=\"#000000\" fill-rule=\"evenodd\" fill-opacity=\"1\" /><path clip-path=\"url(#clip340)\" d=\"M101.756 1092.08 Q98.1447 1092.08 96.316 1095.64 Q94.5104 1099.19 94.5104 1106.32 Q94.5104 1113.42 96.316 1116.99 Q98.1447 1120.53 101.756 1120.53 Q105.39 1120.53 107.196 1116.99 Q109.024 1113.42 109.024 1106.32 Q109.024 1099.19 107.196 1095.64 Q105.39 1092.08 101.756 1092.08 M101.756 1088.38 Q107.566 1088.38 110.621 1092.98 Q113.7 1097.57 113.7 1106.32 Q113.7 1115.04 110.621 1119.65 Q107.566 1124.23 101.756 1124.23 Q95.9456 1124.23 92.8669 1119.65 Q89.8114 1115.04 89.8114 1106.32 Q89.8114 1097.57 92.8669 1092.98 Q95.9456 1088.38 101.756 1088.38 Z\" fill=\"#000000\" fill-rule=\"evenodd\" fill-opacity=\"1\" /><path clip-path=\"url(#clip340)\" d=\"M121.918 1117.68 L126.802 1117.68 L126.802 1123.56 L121.918 1123.56 L121.918 1117.68 Z\" fill=\"#000000\" fill-rule=\"evenodd\" fill-opacity=\"1\" /><path clip-path=\"url(#clip340)\" d=\"M137.033 1089 L155.39 1089 L155.39 1092.94 L141.316 1092.94 L141.316 1101.41 Q142.334 1101.06 143.353 1100.9 Q144.371 1100.71 145.39 1100.71 Q151.177 1100.71 154.556 1103.89 Q157.936 1107.06 157.936 1112.47 Q157.936 1118.05 154.464 1121.15 Q150.992 1124.23 144.672 1124.23 Q142.496 1124.23 140.228 1123.86 Q137.982 1123.49 135.575 1122.75 L135.575 1118.05 Q137.658 1119.19 139.881 1119.74 Q142.103 1120.3 144.58 1120.3 Q148.584 1120.3 150.922 1118.19 Q153.26 1116.08 153.26 1112.47 Q153.26 1108.86 150.922 1106.76 Q148.584 1104.65 144.58 1104.65 Q142.705 1104.65 140.83 1105.07 Q138.978 1105.48 137.033 1106.36 L137.033 1089 Z\" fill=\"#000000\" fill-rule=\"evenodd\" fill-opacity=\"1\" /><path clip-path=\"url(#clip340)\" d=\"M100.76 752.645 Q97.1493 752.645 95.3206 756.209 Q93.515 759.751 93.515 766.881 Q93.515 773.987 95.3206 777.552 Q97.1493 781.094 100.76 781.094 Q104.395 781.094 106.2 777.552 Q108.029 773.987 108.029 766.881 Q108.029 759.751 106.2 756.209 Q104.395 752.645 100.76 752.645 M100.76 748.941 Q106.571 748.941 109.626 753.547 Q112.705 758.131 112.705 766.881 Q112.705 775.608 109.626 780.214 Q106.571 784.797 100.76 784.797 Q94.9502 784.797 91.8715 780.214 Q88.816 775.608 88.816 766.881 Q88.816 758.131 91.8715 753.547 Q94.9502 748.941 100.76 748.941 Z\" fill=\"#000000\" fill-rule=\"evenodd\" fill-opacity=\"1\" /><path clip-path=\"url(#clip340)\" d=\"M120.922 778.246 L125.807 778.246 L125.807 784.126 L120.922 784.126 L120.922 778.246 Z\" fill=\"#000000\" fill-rule=\"evenodd\" fill-opacity=\"1\" /><path clip-path=\"url(#clip340)\" d=\"M145.992 752.645 Q142.381 752.645 140.552 756.209 Q138.746 759.751 138.746 766.881 Q138.746 773.987 140.552 777.552 Q142.381 781.094 145.992 781.094 Q149.626 781.094 151.431 777.552 Q153.26 773.987 153.26 766.881 Q153.26 759.751 151.431 756.209 Q149.626 752.645 145.992 752.645 M145.992 748.941 Q151.802 748.941 154.857 753.547 Q157.936 758.131 157.936 766.881 Q157.936 775.608 154.857 780.214 Q151.802 784.797 145.992 784.797 Q140.181 784.797 137.103 780.214 Q134.047 775.608 134.047 766.881 Q134.047 758.131 137.103 753.547 Q140.181 748.941 145.992 748.941 Z\" fill=\"#000000\" fill-rule=\"evenodd\" fill-opacity=\"1\" /><path clip-path=\"url(#clip340)\" d=\"M101.756 413.21 Q98.1447 413.21 96.316 416.775 Q94.5104 420.316 94.5104 427.446 Q94.5104 434.552 96.316 438.117 Q98.1447 441.659 101.756 441.659 Q105.39 441.659 107.196 438.117 Q109.024 434.552 109.024 427.446 Q109.024 420.316 107.196 416.775 Q105.39 413.21 101.756 413.21 M101.756 409.506 Q107.566 409.506 110.621 414.113 Q113.7 418.696 113.7 427.446 Q113.7 436.173 110.621 440.779 Q107.566 445.362 101.756 445.362 Q95.9456 445.362 92.8669 440.779 Q89.8114 436.173 89.8114 427.446 Q89.8114 418.696 92.8669 414.113 Q95.9456 409.506 101.756 409.506 Z\" fill=\"#000000\" fill-rule=\"evenodd\" fill-opacity=\"1\" /><path clip-path=\"url(#clip340)\" d=\"M121.918 438.812 L126.802 438.812 L126.802 444.691 L121.918 444.691 L121.918 438.812 Z\" fill=\"#000000\" fill-rule=\"evenodd\" fill-opacity=\"1\" /><path clip-path=\"url(#clip340)\" d=\"M137.033 410.131 L155.39 410.131 L155.39 414.066 L141.316 414.066 L141.316 422.538 Q142.334 422.191 143.353 422.029 Q144.371 421.844 145.39 421.844 Q151.177 421.844 154.556 425.015 Q157.936 428.187 157.936 433.603 Q157.936 439.182 154.464 442.284 Q150.992 445.362 144.672 445.362 Q142.496 445.362 140.228 444.992 Q137.982 444.622 135.575 443.881 L135.575 439.182 Q137.658 440.316 139.881 440.872 Q142.103 441.427 144.58 441.427 Q148.584 441.427 150.922 439.321 Q153.26 437.214 153.26 433.603 Q153.26 429.992 150.922 427.886 Q148.584 425.779 144.58 425.779 Q142.705 425.779 140.83 426.196 Q138.978 426.613 137.033 427.492 L137.033 410.131 Z\" fill=\"#000000\" fill-rule=\"evenodd\" fill-opacity=\"1\" /><path clip-path=\"url(#clip340)\" d=\"M91.5706 101.321 L99.2095 101.321 L99.2095 74.9555 L90.8993 76.6222 L90.8993 72.3629 L99.1632 70.6963 L103.839 70.6963 L103.839 101.321 L111.478 101.321 L111.478 105.256 L91.5706 105.256 L91.5706 101.321 Z\" fill=\"#000000\" fill-rule=\"evenodd\" fill-opacity=\"1\" /><path clip-path=\"url(#clip340)\" d=\"M120.922 99.3767 L125.807 99.3767 L125.807 105.256 L120.922 105.256 L120.922 99.3767 Z\" fill=\"#000000\" fill-rule=\"evenodd\" fill-opacity=\"1\" /><path clip-path=\"url(#clip340)\" d=\"M145.992 73.775 Q142.381 73.775 140.552 77.3398 Q138.746 80.8814 138.746 88.011 Q138.746 95.1174 140.552 98.6822 Q142.381 102.224 145.992 102.224 Q149.626 102.224 151.431 98.6822 Q153.26 95.1174 153.26 88.011 Q153.26 80.8814 151.431 77.3398 Q149.626 73.775 145.992 73.775 M145.992 70.0713 Q151.802 70.0713 154.857 74.6777 Q157.936 79.261 157.936 88.011 Q157.936 96.7378 154.857 101.344 Q151.802 105.928 145.992 105.928 Q140.181 105.928 137.103 101.344 Q134.047 96.7378 134.047 88.011 Q134.047 79.261 137.103 74.6777 Q140.181 70.0713 145.992 70.0713 Z\" fill=\"#000000\" fill-rule=\"evenodd\" fill-opacity=\"1\" /><polyline clip-path=\"url(#clip342)\" style=\"stroke:#009af9; stroke-linecap:round; stroke-linejoin:round; stroke-width:4; stroke-opacity:1; fill:none\" points=\"255.035,766.846 255.238,724.219 255.442,681.761 255.646,639.638 255.849,598.018 256.053,557.064 256.257,516.937 256.46,477.797 256.664,439.798 256.868,403.089 257.071,367.816 257.275,334.118 257.479,302.128 257.682,271.971 257.886,243.768 258.09,217.629 258.293,193.657 258.497,171.948 258.701,152.586 258.904,135.649 259.108,121.203 259.312,109.304 259.515,100.001 259.719,93.3294 259.923,89.3159 260.126,87.9763 260.33,89.3159 260.534,93.3294 260.737,100.001 260.941,109.304 261.145,121.203 261.348,135.649 261.552,152.586 261.756,171.948 261.959,193.657 262.163,217.629 262.367,243.768 262.57,271.971 262.774,302.128 262.978,334.118 263.181,367.816 263.385,403.089 263.588,439.798 263.792,477.797 263.996,516.937 264.199,557.064 264.403,598.018 264.607,639.638 264.81,681.761 265.014,724.219 265.218,766.846 265.421,809.473 265.625,851.931 265.829,894.053 266.032,935.674 266.236,976.628 266.44,1016.75 266.643,1055.89 266.847,1093.89 267.051,1130.6 267.254,1165.88 267.458,1199.57 267.662,1231.56 267.865,1261.72 268.069,1289.92 268.273,1316.06 268.476,1340.03 268.68,1361.74 268.884,1381.11 269.087,1398.04 269.291,1412.49 269.495,1424.39 269.698,1433.69 269.902,1440.36 270.106,1444.38 270.309,1445.72 270.513,1444.38 270.717,1440.36 270.92,1433.69 271.124,1424.39 271.328,1412.49 271.531,1398.04 271.735,1381.11 271.939,1361.74 272.142,1340.03 272.346,1316.06 272.55,1289.92 272.753,1261.72 272.957,1231.56 273.161,1199.57 273.364,1165.88 273.568,1130.6 273.772,1093.89 273.975,1055.89 274.179,1016.75 274.383,976.628 274.586,935.674 274.79,894.053 274.994,851.931 275.197,809.473 275.401,766.846 275.605,724.219 275.808,681.761 276.012,639.638 276.216,598.018 276.419,557.064 276.623,516.937 276.827,477.797 277.03,439.798 277.234,403.089 277.438,367.816 277.641,334.118 277.845,302.128 278.049,271.971 278.252,243.768 278.456,217.629 278.659,193.657 278.863,171.948 279.067,152.586 279.27,135.649 279.474,121.203 279.678,109.304 279.881,100.001 280.085,93.3294 280.289,89.3159 280.492,87.9763 280.696,89.3159 280.9,93.3294 281.103,100.001 281.307,109.304 281.511,121.203 281.714,135.649 281.918,152.586 282.122,171.948 282.325,193.657 282.529,217.629 282.733,243.768 282.936,271.971 283.14,302.128 283.344,334.118 283.547,367.816 283.751,403.089 283.955,439.798 284.158,477.797 284.362,516.937 284.566,557.064 284.769,598.018 284.973,639.638 285.177,681.761 285.38,724.219 285.584,766.846 285.788,809.473 285.991,851.931 286.195,894.053 286.399,935.674 286.602,976.628 286.806,1016.75 287.01,1055.89 287.213,1093.89 287.417,1130.6 287.621,1165.88 287.824,1199.57 288.028,1231.56 288.232,1261.72 288.435,1289.92 288.639,1316.06 288.843,1340.03 289.046,1361.74 289.25,1381.11 289.454,1398.04 289.657,1412.49 289.861,1424.39 290.065,1433.69 290.268,1440.36 290.472,1444.38 290.676,1445.72 290.879,1444.38 291.083,1440.36 291.287,1433.69 291.49,1424.39 291.694,1412.49 291.898,1398.04 292.101,1381.11 292.305,1361.74 292.509,1340.03 292.712,1316.06 292.916,1289.92 293.12,1261.72 293.323,1231.56 293.527,1199.57 293.731,1165.88 293.934,1130.6 294.138,1093.89 294.341,1055.89 294.545,1016.75 294.749,976.628 294.952,935.674 295.156,894.053 295.36,851.931 295.563,809.473 295.767,766.846 295.971,724.219 296.174,681.761 296.378,639.638 296.582,598.018 296.785,557.064 296.989,516.937 297.193,477.797 297.396,439.798 297.6,403.089 297.804,367.816 298.007,334.118 298.211,302.128 298.415,271.971 298.618,243.768 298.822,217.629 299.026,193.657 299.229,171.948 299.433,152.586 299.637,135.649 299.84,121.203 300.044,109.304 300.248,100.001 300.451,93.3294 300.655,89.3159 300.859,87.9763 301.062,89.3159 301.266,93.3294 301.47,100.001 301.673,109.304 301.877,121.203 302.081,135.649 302.284,152.586 302.488,171.948 302.692,193.657 302.895,217.629 303.099,243.768 303.303,271.971 303.506,302.128 303.71,334.118 303.914,367.816 304.117,403.089 304.321,439.798 304.525,477.797 304.728,516.937 304.932,557.064 305.136,598.018 305.339,639.638 305.543,681.761 305.747,724.219 305.95,766.846 306.154,809.473 306.358,851.931 306.561,894.053 306.765,935.674 306.969,976.628 307.172,1016.75 307.376,1055.89 307.58,1093.89 307.783,1130.6 307.987,1165.88 308.191,1199.57 308.394,1231.56 308.598,1261.72 308.802,1289.92 309.005,1316.06 309.209,1340.03 309.412,1361.74 309.616,1381.11 309.82,1398.04 310.023,1412.49 310.227,1424.39 310.431,1433.69 310.634,1440.36 310.838,1444.38 311.042,1445.72 311.245,1444.38 311.449,1440.36 311.653,1433.69 311.856,1424.39 312.06,1412.49 312.264,1398.04 312.467,1381.11 312.671,1361.74 312.875,1340.03 313.078,1316.06 313.282,1289.92 313.486,1261.72 313.689,1231.56 313.893,1199.57 314.097,1165.88 314.3,1130.6 314.504,1093.89 314.708,1055.89 314.911,1016.75 315.115,976.628 315.319,935.674 315.522,894.053 315.726,851.931 315.93,809.473 316.133,766.846 316.337,724.219 316.541,681.761 316.744,639.638 316.948,598.018 317.152,557.064 317.355,516.937 317.559,477.797 317.763,439.798 317.966,403.089 318.17,367.816 318.374,334.118 318.577,302.128 318.781,271.971 318.985,243.768 319.188,217.629 319.392,193.657 319.596,171.948 319.799,152.586 320.003,135.649 320.207,121.203 320.41,109.304 320.614,100.001 320.818,93.3294 321.021,89.3159 321.225,87.9763 321.429,89.3159 321.632,93.3294 321.836,100.001 322.04,109.304 322.243,121.203 322.447,135.649 322.651,152.586 322.854,171.948 323.058,193.657 323.262,217.629 323.465,243.768 323.669,271.971 323.873,302.128 324.076,334.118 324.28,367.816 324.484,403.089 324.687,439.798 324.891,477.797 325.094,516.937 325.298,557.064 325.502,598.018 325.705,639.638 325.909,681.761 326.113,724.219 326.316,766.846 326.52,809.473 326.724,851.931 326.927,894.053 327.131,935.674 327.335,976.628 327.538,1016.75 327.742,1055.89 327.946,1093.89 328.149,1130.6 328.353,1165.88 328.557,1199.57 328.76,1231.56 328.964,1261.72 329.168,1289.92 329.371,1316.06 329.575,1340.03 329.779,1361.74 329.982,1381.11 330.186,1398.04 330.39,1412.49 330.593,1424.39 330.797,1433.69 331.001,1440.36 331.204,1444.38 331.408,1445.72 331.612,1444.38 331.815,1440.36 332.019,1433.69 332.223,1424.39 332.426,1412.49 332.63,1398.04 332.834,1381.11 333.037,1361.74 333.241,1340.03 333.445,1316.06 333.648,1289.92 333.852,1261.72 334.056,1231.56 334.259,1199.57 334.463,1165.88 334.667,1130.6 334.87,1093.89 335.074,1055.89 335.278,1016.75 335.481,976.628 335.685,935.674 335.889,894.053 336.092,851.931 336.296,809.473 336.5,766.846 336.703,724.219 336.907,681.761 337.111,639.638 337.314,598.018 337.518,557.064 337.722,516.937 337.925,477.797 338.129,439.798 338.333,403.089 338.536,367.816 338.74,334.118 338.944,302.128 339.147,271.971 339.351,243.768 339.555,217.629 339.758,193.657 339.962,171.948 340.165,152.586 340.369,135.649 340.573,121.203 340.776,109.304 340.98,100.001 341.184,93.3294 341.387,89.3159 341.591,87.9763 341.795,89.3159 341.998,93.3294 342.202,100.001 342.406,109.304 342.609,121.203 342.813,135.649 343.017,152.586 343.22,171.948 343.424,193.657 343.628,217.629 343.831,243.768 344.035,271.971 344.239,302.128 344.442,334.118 344.646,367.816 344.85,403.089 345.053,439.798 345.257,477.797 345.461,516.937 345.664,557.064 345.868,598.018 346.072,639.638 346.275,681.761 346.479,724.219 346.683,766.846 346.886,809.473 347.09,851.931 347.294,894.053 347.497,935.674 347.701,976.628 347.905,1016.75 348.108,1055.89 348.312,1093.89 348.516,1130.6 348.719,1165.88 348.923,1199.57 349.127,1231.56 349.33,1261.72 349.534,1289.92 349.738,1316.06 349.941,1340.03 350.145,1361.74 350.349,1381.11 350.552,1398.04 350.756,1412.49 350.96,1424.39 351.163,1433.69 351.367,1440.36 351.571,1444.38 351.774,1445.72 351.978,1444.38 352.182,1440.36 352.385,1433.69 352.589,1424.39 352.793,1412.49 352.996,1398.04 353.2,1381.11 353.404,1361.74 353.607,1340.03 353.811,1316.06 354.015,1289.92 354.218,1261.72 354.422,1231.56 354.626,1199.57 354.829,1165.88 355.033,1130.6 355.237,1093.89 355.44,1055.89 355.644,1016.75 355.847,976.628 356.051,935.674 356.255,894.053 356.458,851.931 356.662,809.473 356.866,766.846 357.069,724.219 357.273,681.761 357.477,639.638 357.68,598.018 357.884,557.064 358.088,516.937 358.291,477.797 358.495,439.798 358.699,403.089 358.902,367.816 359.106,334.118 359.31,302.128 359.513,271.971 359.717,243.768 359.921,217.629 360.124,193.657 360.328,171.948 360.532,152.586 360.735,135.649 360.939,121.203 361.143,109.304 361.346,100.001 361.55,93.3294 361.754,89.3159 361.957,87.9763 362.161,89.3159 362.365,93.3294 362.568,100.001 362.772,109.304 362.976,121.203 363.179,135.649 363.383,152.586 363.587,171.948 363.79,193.657 363.994,217.629 364.198,243.768 364.401,271.971 364.605,302.128 364.809,334.118 365.012,367.816 365.216,403.089 365.42,439.798 365.623,477.797 365.827,516.937 366.031,557.064 366.234,598.018 366.438,639.638 366.642,681.761 366.845,724.219 367.049,766.846 367.253,809.473 367.456,851.931 367.66,894.053 367.864,935.674 368.067,976.628 368.271,1016.75 368.475,1055.89 368.678,1093.89 368.882,1130.6 369.086,1165.88 369.289,1199.57 369.493,1231.56 369.697,1261.72 369.9,1289.92 370.104,1316.06 370.308,1340.03 370.511,1361.74 370.715,1381.11 370.918,1398.04 371.122,1412.49 371.326,1424.39 371.529,1433.69 371.733,1440.36 371.937,1444.38 372.14,1445.72 372.344,1444.38 372.548,1440.36 372.751,1433.69 372.955,1424.39 373.159,1412.49 373.362,1398.04 373.566,1381.11 373.77,1361.74 373.973,1340.03 374.177,1316.06 374.381,1289.92 374.584,1261.72 374.788,1231.56 374.992,1199.57 375.195,1165.88 375.399,1130.6 375.603,1093.89 375.806,1055.89 376.01,1016.75 376.214,976.628 376.417,935.674 376.621,894.053 376.825,851.931 377.028,809.473 377.232,766.846 377.436,724.219 377.639,681.761 377.843,639.638 378.047,598.018 378.25,557.064 378.454,516.937 378.658,477.797 378.861,439.798 379.065,403.089 379.269,367.816 379.472,334.118 379.676,302.128 379.88,271.971 380.083,243.768 380.287,217.629 380.491,193.657 380.694,171.948 380.898,152.586 381.102,135.649 381.305,121.203 381.509,109.304 381.713,100.001 381.916,93.3294 382.12,89.3159 382.324,87.9763 382.527,89.3159 382.731,93.3294 382.935,100.001 383.138,109.304 383.342,121.203 383.546,135.649 383.749,152.586 383.953,171.948 384.157,193.657 384.36,217.629 384.564,243.768 384.768,271.971 384.971,302.128 385.175,334.118 385.379,367.816 385.582,403.089 385.786,439.798 385.99,477.797 386.193,516.937 386.397,557.064 386.6,598.018 386.804,639.638 387.008,681.761 387.211,724.219 387.415,766.846 387.619,809.473 387.822,851.931 388.026,894.053 388.23,935.674 388.433,976.628 388.637,1016.75 388.841,1055.89 389.044,1093.89 389.248,1130.6 389.452,1165.88 389.655,1199.57 389.859,1231.56 390.063,1261.72 390.266,1289.92 390.47,1316.06 390.674,1340.03 390.877,1361.74 391.081,1381.11 391.285,1398.04 391.488,1412.49 391.692,1424.39 391.896,1433.69 392.099,1440.36 392.303,1444.38 392.507,1445.72 392.71,1444.38 392.914,1440.36 393.118,1433.69 393.321,1424.39 393.525,1412.49 393.729,1398.04 393.932,1381.11 394.136,1361.74 394.34,1340.03 394.543,1316.06 394.747,1289.92 394.951,1261.72 395.154,1231.56 395.358,1199.57 395.562,1165.88 395.765,1130.6 395.969,1093.89 396.173,1055.89 396.376,1016.75 396.58,976.628 396.784,935.674 396.987,894.053 397.191,851.931 397.395,809.473 397.598,766.846 397.802,724.219 398.006,681.761 398.209,639.638 398.413,598.018 398.617,557.064 398.82,516.937 399.024,477.797 399.228,439.798 399.431,403.089 399.635,367.816 399.839,334.118 400.042,302.128 400.246,271.971 400.45,243.768 400.653,217.629 400.857,193.657 401.061,171.948 401.264,152.586 401.468,135.649 401.671,121.203 401.875,109.304 402.079,100.001 402.282,93.3294 402.486,89.3159 402.69,87.9763 402.893,89.3159 403.097,93.3294 403.301,100.001 403.504,109.304 403.708,121.203 403.912,135.649 404.115,152.586 404.319,171.948 404.523,193.657 404.726,217.629 404.93,243.768 405.134,271.971 405.337,302.128 405.541,334.118 405.745,367.816 405.948,403.089 406.152,439.798 406.356,477.797 406.559,516.937 406.763,557.064 406.967,598.018 407.17,639.638 407.374,681.761 407.578,724.219 407.781,766.846 407.985,809.473 408.189,851.931 408.392,894.053 408.596,935.674 408.8,976.628 409.003,1016.75 409.207,1055.89 409.411,1093.89 409.614,1130.6 409.818,1165.88 410.022,1199.57 410.225,1231.56 410.429,1261.72 410.633,1289.92 410.836,1316.06 411.04,1340.03 411.244,1361.74 411.447,1381.11 411.651,1398.04 411.855,1412.49 412.058,1424.39 412.262,1433.69 412.466,1440.36 412.669,1444.38 412.873,1445.72 413.077,1444.38 413.28,1440.36 413.484,1433.69 413.688,1424.39 413.891,1412.49 414.095,1398.04 414.299,1381.11 414.502,1361.74 414.706,1340.03 414.91,1316.06 415.113,1289.92 415.317,1261.72 415.521,1231.56 415.724,1199.57 415.928,1165.88 416.132,1130.6 416.335,1093.89 416.539,1055.89 416.743,1016.75 416.946,976.628 417.15,935.674 417.353,894.053 417.557,851.931 417.761,809.473 417.964,766.846 418.168,724.219 418.372,681.761 418.575,639.638 418.779,598.018 418.983,557.064 419.186,516.937 419.39,477.797 419.594,439.798 419.797,403.089 420.001,367.816 420.205,334.118 420.408,302.128 420.612,271.971 420.816,243.768 421.019,217.629 421.223,193.657 421.427,171.948 421.63,152.586 421.834,135.649 422.038,121.203 422.241,109.304 422.445,100.001 422.649,93.3294 422.852,89.3159 423.056,87.9763 423.26,89.3159 423.463,93.3294 423.667,100.001 423.871,109.304 424.074,121.203 424.278,135.649 424.482,152.586 424.685,171.948 424.889,193.657 425.093,217.629 425.296,243.768 425.5,271.971 425.704,302.128 425.907,334.118 426.111,367.816 426.315,403.089 426.518,439.798 426.722,477.797 426.926,516.937 427.129,557.064 427.333,598.018 427.537,639.638 427.74,681.761 427.944,724.219 428.148,766.846 428.351,809.473 428.555,851.931 428.759,894.053 428.962,935.674 429.166,976.628 429.37,1016.75 429.573,1055.89 429.777,1093.89 429.981,1130.6 430.184,1165.88 430.388,1199.57 430.592,1231.56 430.795,1261.72 430.999,1289.92 431.203,1316.06 431.406,1340.03 431.61,1361.74 431.814,1381.11 432.017,1398.04 432.221,1412.49 432.424,1424.39 432.628,1433.69 432.832,1440.36 433.035,1444.38 433.239,1445.72 433.443,1444.38 433.646,1440.36 433.85,1433.69 434.054,1424.39 434.257,1412.49 434.461,1398.04 434.665,1381.11 434.868,1361.74 435.072,1340.03 435.276,1316.06 435.479,1289.92 435.683,1261.72 435.887,1231.56 436.09,1199.57 436.294,1165.88 436.498,1130.6 436.701,1093.89 436.905,1055.89 437.109,1016.75 437.312,976.628 437.516,935.674 437.72,894.053 437.923,851.931 438.127,809.473 438.331,766.846 438.534,724.219 438.738,681.761 438.942,639.638 439.145,598.018 439.349,557.064 439.553,516.937 439.756,477.797 439.96,439.798 440.164,403.089 440.367,367.816 440.571,334.118 440.775,302.128 440.978,271.971 441.182,243.768 441.386,217.629 441.589,193.657 441.793,171.948 441.997,152.586 442.2,135.649 442.404,121.203 442.608,109.304 442.811,100.001 443.015,93.3294 443.219,89.3159 443.422,87.9763 443.626,89.3159 443.83,93.3294 444.033,100.001 444.237,109.304 444.441,121.203 444.644,135.649 444.848,152.586 445.052,171.948 445.255,193.657 445.459,217.629 445.663,243.768 445.866,271.971 446.07,302.128 446.274,334.118 446.477,367.816 446.681,403.089 446.885,439.798 447.088,477.797 447.292,516.937 447.496,557.064 447.699,598.018 447.903,639.638 448.106,681.761 448.31,724.219 448.514,766.846 448.717,809.473 448.921,851.931 449.125,894.053 449.328,935.674 449.532,976.628 449.736,1016.75 449.939,1055.89 450.143,1093.89 450.347,1130.6 450.55,1165.88 450.754,1199.57 450.958,1231.56 451.161,1261.72 451.365,1289.92 451.569,1316.06 451.772,1340.03 451.976,1361.74 452.18,1381.11 452.383,1398.04 452.587,1412.49 452.791,1424.39 452.994,1433.69 453.198,1440.36 453.402,1444.38 453.605,1445.72 453.809,1444.38 454.013,1440.36 454.216,1433.69 454.42,1424.39 454.624,1412.49 454.827,1398.04 455.031,1381.11 455.235,1361.74 455.438,1340.03 455.642,1316.06 455.846,1289.92 456.049,1261.72 456.253,1231.56 456.457,1199.57 456.66,1165.88 456.864,1130.6 457.068,1093.89 457.271,1055.89 457.475,1016.75 457.679,976.628 457.882,935.674 458.086,894.053 458.29,851.931 458.493,809.473 458.697,766.846 458.901,724.219 459.104,681.761 459.308,639.638 459.512,598.018 459.715,557.064 459.919,516.937 460.123,477.797 460.326,439.798 460.53,403.089 460.734,367.816 460.937,334.118 461.141,302.128 461.345,271.971 461.548,243.768 461.752,217.629 461.956,193.657 462.159,171.948 462.363,152.586 462.567,135.649 462.77,121.203 462.974,109.304 463.177,100.001 463.381,93.3294 463.585,89.3159 463.788,87.9763 463.992,89.3159 464.196,93.3294 464.399,100.001 464.603,109.304 464.807,121.203 465.01,135.649 465.214,152.586 465.418,171.948 465.621,193.657 465.825,217.629 466.029,243.768 466.232,271.971 466.436,302.128 466.64,334.118 466.843,367.816 467.047,403.089 467.251,439.798 467.454,477.797 467.658,516.937 467.862,557.064 468.065,598.018 468.269,639.638 468.473,681.761 468.676,724.219 468.88,766.846 469.084,809.473 469.287,851.931 469.491,894.053 469.695,935.674 469.898,976.628 470.102,1016.75 470.306,1055.89 470.509,1093.89 470.713,1130.6 470.917,1165.88 471.12,1199.57 471.324,1231.56 471.528,1261.72 471.731,1289.92 471.935,1316.06 472.139,1340.03 472.342,1361.74 472.546,1381.11 472.75,1398.04 472.953,1412.49 473.157,1424.39 473.361,1433.69 473.564,1440.36 473.768,1444.38 473.972,1445.72 474.175,1444.38 474.379,1440.36 474.583,1433.69 474.786,1424.39 474.99,1412.49 475.194,1398.04 475.397,1381.11 475.601,1361.74 475.805,1340.03 476.008,1316.06 476.212,1289.92 476.416,1261.72 476.619,1231.56 476.823,1199.57 477.027,1165.88 477.23,1130.6 477.434,1093.89 477.638,1055.89 477.841,1016.75 478.045,976.628 478.249,935.674 478.452,894.053 478.656,851.931 478.859,809.473 479.063,766.846 479.267,724.219 479.47,681.761 479.674,639.638 479.878,598.018 480.081,557.064 480.285,516.937 480.489,477.797 480.692,439.798 480.896,403.089 481.1,367.816 481.303,334.118 481.507,302.128 481.711,271.971 481.914,243.768 482.118,217.629 482.322,193.657 482.525,171.948 482.729,152.586 482.933,135.649 483.136,121.203 483.34,109.304 483.544,100.001 483.747,93.3294 483.951,89.3159 484.155,87.9763 484.358,89.3159 484.562,93.3294 484.766,100.001 484.969,109.304 485.173,121.203 485.377,135.649 485.58,152.586 485.784,171.948 485.988,193.657 486.191,217.629 486.395,243.768 486.599,271.971 486.802,302.128 487.006,334.118 487.21,367.816 487.413,403.089 487.617,439.798 487.821,477.797 488.024,516.937 488.228,557.064 488.432,598.018 488.635,639.638 488.839,681.761 489.043,724.219 489.246,766.846 489.45,809.473 489.654,851.931 489.857,894.053 490.061,935.674 490.265,976.628 490.468,1016.75 490.672,1055.89 490.876,1093.89 491.079,1130.6 491.283,1165.88 491.487,1199.57 491.69,1231.56 491.894,1261.72 492.098,1289.92 492.301,1316.06 492.505,1340.03 492.709,1361.74 492.912,1381.11 493.116,1398.04 493.32,1412.49 493.523,1424.39 493.727,1433.69 493.93,1440.36 494.134,1444.38 494.338,1445.72 494.541,1444.38 494.745,1440.36 494.949,1433.69 495.152,1424.39 495.356,1412.49 495.56,1398.04 495.763,1381.11 495.967,1361.74 496.171,1340.03 496.374,1316.06 496.578,1289.92 496.782,1261.72 496.985,1231.56 497.189,1199.57 497.393,1165.88 497.596,1130.6 497.8,1093.89 498.004,1055.89 498.207,1016.75 498.411,976.628 498.615,935.674 498.818,894.053 499.022,851.931 499.226,809.473 499.429,766.846 499.633,724.219 499.837,681.761 500.04,639.638 500.244,598.018 500.448,557.064 500.651,516.937 500.855,477.797 501.059,439.798 501.262,403.089 501.466,367.816 501.67,334.118 501.873,302.128 502.077,271.971 502.281,243.768 502.484,217.629 502.688,193.657 502.892,171.948 503.095,152.586 503.299,135.649 503.503,121.203 503.706,109.304 503.91,100.001 504.114,93.3294 504.317,89.3159 504.521,87.9763 504.725,89.3159 504.928,93.3294 505.132,100.001 505.336,109.304 505.539,121.203 505.743,135.649 505.947,152.586 506.15,171.948 506.354,193.657 506.558,217.629 506.761,243.768 506.965,271.971 507.169,302.128 507.372,334.118 507.576,367.816 507.78,403.089 507.983,439.798 508.187,477.797 508.391,516.937 508.594,557.064 508.798,598.018 509.002,639.638 509.205,681.761 509.409,724.219 509.612,766.846 509.816,809.473 510.02,851.931 510.223,894.053 510.427,935.674 510.631,976.628 510.834,1016.75 511.038,1055.89 511.242,1093.89 511.445,1130.6 511.649,1165.88 511.853,1199.57 512.056,1231.56 512.26,1261.72 512.464,1289.92 512.667,1316.06 512.871,1340.03 513.075,1361.74 513.278,1381.11 513.482,1398.04 513.686,1412.49 513.889,1424.39 514.093,1433.69 514.297,1440.36 514.5,1444.38 514.704,1445.72 514.908,1444.38 515.111,1440.36 515.315,1433.69 515.519,1424.39 515.722,1412.49 515.926,1398.04 516.13,1381.11 516.333,1361.74 516.537,1340.03 516.741,1316.06 516.944,1289.92 517.148,1261.72 517.352,1231.56 517.555,1199.57 517.759,1165.88 517.963,1130.6 518.166,1093.89 518.37,1055.89 518.574,1016.75 518.777,976.628 518.981,935.674 519.185,894.053 519.388,851.931 519.592,809.473 519.796,766.846 519.999,724.219 520.203,681.761 520.407,639.638 520.61,598.018 520.814,557.064 521.018,516.937 521.221,477.797 521.425,439.798 521.629,403.089 521.832,367.816 522.036,334.118 522.24,302.128 522.443,271.971 522.647,243.768 522.851,217.629 523.054,193.657 523.258,171.948 523.462,152.586 523.665,135.649 523.869,121.203 524.073,109.304 524.276,100.001 524.48,93.3294 524.684,89.3159 524.887,87.9763 525.091,89.3159 525.294,93.3294 525.498,100.001 525.702,109.304 525.905,121.203 526.109,135.649 526.313,152.586 526.516,171.948 526.72,193.657 526.924,217.629 527.127,243.768 527.331,271.971 527.535,302.128 527.738,334.118 527.942,367.816 528.146,403.089 528.349,439.798 528.553,477.797 528.757,516.937 528.96,557.064 529.164,598.018 529.368,639.638 529.571,681.761 529.775,724.219 529.979,766.846 530.182,809.473 530.386,851.931 530.59,894.053 530.793,935.674 530.997,976.628 531.201,1016.75 531.404,1055.89 531.608,1093.89 531.812,1130.6 532.015,1165.88 532.219,1199.57 532.423,1231.56 532.626,1261.72 532.83,1289.92 533.034,1316.06 533.237,1340.03 533.441,1361.74 533.645,1381.11 533.848,1398.04 534.052,1412.49 534.256,1424.39 534.459,1433.69 534.663,1440.36 534.867,1444.38 535.07,1445.72 535.274,1444.38 535.478,1440.36 535.681,1433.69 535.885,1424.39 536.089,1412.49 536.292,1398.04 536.496,1381.11 536.7,1361.74 536.903,1340.03 537.107,1316.06 537.311,1289.92 537.514,1261.72 537.718,1231.56 537.922,1199.57 538.125,1165.88 538.329,1130.6 538.533,1093.89 538.736,1055.89 538.94,1016.75 539.144,976.628 539.347,935.674 539.551,894.053 539.755,851.931 539.958,809.473 540.162,766.846 540.365,724.219 540.569,681.761 540.773,639.638 540.976,598.018 541.18,557.064 541.384,516.937 541.587,477.797 541.791,439.798 541.995,403.089 542.198,367.816 542.402,334.118 542.606,302.128 542.809,271.971 543.013,243.768 543.217,217.629 543.42,193.657 543.624,171.948 543.828,152.586 544.031,135.649 544.235,121.203 544.439,109.304 544.642,100.001 544.846,93.3294 545.05,89.3159 545.253,87.9763 545.457,89.3159 545.661,93.3294 545.864,100.001 546.068,109.304 546.272,121.203 546.475,135.649 546.679,152.586 546.883,171.948 547.086,193.657 547.29,217.629 547.494,243.768 547.697,271.971 547.901,302.128 548.105,334.118 548.308,367.816 548.512,403.089 548.716,439.798 548.919,477.797 549.123,516.937 549.327,557.064 549.53,598.018 549.734,639.638 549.938,681.761 550.141,724.219 550.345,766.846 550.549,809.473 550.752,851.931 550.956,894.053 551.16,935.674 551.363,976.628 551.567,1016.75 551.771,1055.89 551.974,1093.89 552.178,1130.6 552.382,1165.88 552.585,1199.57 552.789,1231.56 552.993,1261.72 553.196,1289.92 553.4,1316.06 553.604,1340.03 553.807,1361.74 554.011,1381.11 554.215,1398.04 554.418,1412.49 554.622,1424.39 554.826,1433.69 555.029,1440.36 555.233,1444.38 555.437,1445.72 555.64,1444.38 555.844,1440.36 556.047,1433.69 556.251,1424.39 556.455,1412.49 556.658,1398.04 556.862,1381.11 557.066,1361.74 557.269,1340.03 557.473,1316.06 557.677,1289.92 557.88,1261.72 558.084,1231.56 558.288,1199.57 558.491,1165.88 558.695,1130.6 558.899,1093.89 559.102,1055.89 559.306,1016.75 559.51,976.628 559.713,935.674 559.917,894.053 560.121,851.931 560.324,809.473 560.528,766.846 560.732,724.219 560.935,681.761 561.139,639.638 561.343,598.018 561.546,557.064 561.75,516.937 561.954,477.797 562.157,439.798 562.361,403.089 562.565,367.816 562.768,334.118 562.972,302.128 563.176,271.971 563.379,243.768 563.583,217.629 563.787,193.657 563.99,171.948 564.194,152.586 564.398,135.649 564.601,121.203 564.805,109.304 565.009,100.001 565.212,93.3294 565.416,89.3159 565.62,87.9763 565.823,89.3159 566.027,93.3294 566.231,100.001 566.434,109.304 566.638,121.203 566.842,135.649 567.045,152.586 567.249,171.948 567.453,193.657 567.656,217.629 567.86,243.768 568.064,271.971 568.267,302.128 568.471,334.118 568.675,367.816 568.878,403.089 569.082,439.798 569.286,477.797 569.489,516.937 569.693,557.064 569.897,598.018 570.1,639.638 570.304,681.761 570.508,724.219 570.711,766.846 570.915,809.473 571.118,851.931 571.322,894.053 571.526,935.674 571.729,976.628 571.933,1016.75 572.137,1055.89 572.34,1093.89 572.544,1130.6 572.748,1165.88 572.951,1199.57 573.155,1231.56 573.359,1261.72 573.562,1289.92 573.766,1316.06 573.97,1340.03 574.173,1361.74 574.377,1381.11 574.581,1398.04 574.784,1412.49 574.988,1424.39 575.192,1433.69 575.395,1440.36 575.599,1444.38 575.803,1445.72 576.006,1444.38 576.21,1440.36 576.414,1433.69 576.617,1424.39 576.821,1412.49 577.025,1398.04 577.228,1381.11 577.432,1361.74 577.636,1340.03 577.839,1316.06 578.043,1289.92 578.247,1261.72 578.45,1231.56 578.654,1199.57 578.858,1165.88 579.061,1130.6 579.265,1093.89 579.469,1055.89 579.672,1016.75 579.876,976.628 580.08,935.674 580.283,894.053 580.487,851.931 580.691,809.473 580.894,766.846 581.098,724.219 581.302,681.761 581.505,639.638 581.709,598.018 581.913,557.064 582.116,516.937 582.32,477.797 582.524,439.798 582.727,403.089 582.931,367.816 583.135,334.118 583.338,302.128 583.542,271.971 583.746,243.768 583.949,217.629 584.153,193.657 584.357,171.948 584.56,152.586 584.764,135.649 584.968,121.203 585.171,109.304 585.375,100.001 585.579,93.3294 585.782,89.3159 585.986,87.9763 586.19,89.3159 586.393,93.3294 586.597,100.001 586.8,109.304 587.004,121.203 587.208,135.649 587.411,152.586 587.615,171.948 587.819,193.657 588.022,217.629 588.226,243.768 588.43,271.971 588.633,302.128 588.837,334.118 589.041,367.816 589.244,403.089 589.448,439.798 589.652,477.797 589.855,516.937 590.059,557.064 590.263,598.018 590.466,639.638 590.67,681.761 590.874,724.219 591.077,766.846 591.281,809.473 591.485,851.931 591.688,894.053 591.892,935.674 592.096,976.628 592.299,1016.75 592.503,1055.89 592.707,1093.89 592.91,1130.6 593.114,1165.88 593.318,1199.57 593.521,1231.56 593.725,1261.72 593.929,1289.92 594.132,1316.06 594.336,1340.03 594.54,1361.74 594.743,1381.11 594.947,1398.04 595.151,1412.49 595.354,1424.39 595.558,1433.69 595.762,1440.36 595.965,1444.38 596.169,1445.72 596.373,1444.38 596.576,1440.36 596.78,1433.69 596.984,1424.39 597.187,1412.49 597.391,1398.04 597.595,1381.11 597.798,1361.74 598.002,1340.03 598.206,1316.06 598.409,1289.92 598.613,1261.72 598.817,1231.56 599.02,1199.57 599.224,1165.88 599.428,1130.6 599.631,1093.89 599.835,1055.89 600.039,1016.75 600.242,976.628 600.446,935.674 600.65,894.053 600.853,851.931 601.057,809.473 601.261,766.846 601.464,724.219 601.668,681.761 601.871,639.638 602.075,598.018 602.279,557.064 602.482,516.937 602.686,477.797 602.89,439.798 603.093,403.089 603.297,367.816 603.501,334.118 603.704,302.128 603.908,271.971 604.112,243.768 604.315,217.629 604.519,193.657 604.723,171.948 604.926,152.586 605.13,135.649 605.334,121.203 605.537,109.304 605.741,100.001 605.945,93.3294 606.148,89.3159 606.352,87.9763 606.556,89.3159 606.759,93.3294 606.963,100.001 607.167,109.304 607.37,121.203 607.574,135.649 607.778,152.586 607.981,171.948 608.185,193.657 608.389,217.629 608.592,243.768 608.796,271.971 609,302.128 609.203,334.118 609.407,367.816 609.611,403.089 609.814,439.798 610.018,477.797 610.222,516.937 610.425,557.064 610.629,598.018 610.833,639.638 611.036,681.761 611.24,724.219 611.444,766.846 611.647,809.473 611.851,851.931 612.055,894.053 612.258,935.674 612.462,976.628 612.666,1016.75 612.869,1055.89 613.073,1093.89 613.277,1130.6 613.48,1165.88 613.684,1199.57 613.888,1231.56 614.091,1261.72 614.295,1289.92 614.499,1316.06 614.702,1340.03 614.906,1361.74 615.11,1381.11 615.313,1398.04 615.517,1412.49 615.721,1424.39 615.924,1433.69 616.128,1440.36 616.332,1444.38 616.535,1445.72 616.739,1444.38 616.943,1440.36 617.146,1433.69 617.35,1424.39 617.553,1412.49 617.757,1398.04 617.961,1381.11 618.164,1361.74 618.368,1340.03 618.572,1316.06 618.775,1289.92 618.979,1261.72 619.183,1231.56 619.386,1199.57 619.59,1165.88 619.794,1130.6 619.997,1093.89 620.201,1055.89 620.405,1016.75 620.608,976.628 620.812,935.674 621.016,894.053 621.219,851.931 621.423,809.473 621.627,766.846 621.83,724.219 622.034,681.761 622.238,639.638 622.441,598.018 622.645,557.064 622.849,516.937 623.052,477.797 623.256,439.798 623.46,403.089 623.663,367.816 623.867,334.118 624.071,302.128 624.274,271.971 624.478,243.768 624.682,217.629 624.885,193.657 625.089,171.948 625.293,152.586 625.496,135.649 625.7,121.203 625.904,109.304 626.107,100.001 626.311,93.3294 626.515,89.3159 626.718,87.9763 626.922,89.3159 627.126,93.3294 627.329,100.001 627.533,109.304 627.737,121.203 627.94,135.649 628.144,152.586 628.348,171.948 628.551,193.657 628.755,217.629 628.959,243.768 629.162,271.971 629.366,302.128 629.57,334.118 629.773,367.816 629.977,403.089 630.181,439.798 630.384,477.797 630.588,516.937 630.792,557.064 630.995,598.018 631.199,639.638 631.403,681.761 631.606,724.219 631.81,766.846 632.014,809.473 632.217,851.931 632.421,894.053 632.624,935.674 632.828,976.628 633.032,1016.75 633.235,1055.89 633.439,1093.89 633.643,1130.6 633.846,1165.88 634.05,1199.57 634.254,1231.56 634.457,1261.72 634.661,1289.92 634.865,1316.06 635.068,1340.03 635.272,1361.74 635.476,1381.11 635.679,1398.04 635.883,1412.49 636.087,1424.39 636.29,1433.69 636.494,1440.36 636.698,1444.38 636.901,1445.72 637.105,1444.38 637.309,1440.36 637.512,1433.69 637.716,1424.39 637.92,1412.49 638.123,1398.04 638.327,1381.11 638.531,1361.74 638.734,1340.03 638.938,1316.06 639.142,1289.92 639.345,1261.72 639.549,1231.56 639.753,1199.57 639.956,1165.88 640.16,1130.6 640.364,1093.89 640.567,1055.89 640.771,1016.75 640.975,976.628 641.178,935.674 641.382,894.053 641.586,851.931 641.789,809.473 641.993,766.846 642.197,724.219 642.4,681.761 642.604,639.638 642.808,598.018 643.011,557.064 643.215,516.937 643.419,477.797 643.622,439.798 643.826,403.089 644.03,367.816 644.233,334.118 644.437,302.128 644.641,271.971 644.844,243.768 645.048,217.629 645.252,193.657 645.455,171.948 645.659,152.586 645.863,135.649 646.066,121.203 646.27,109.304 646.474,100.001 646.677,93.3294 646.881,89.3159 647.085,87.9763 647.288,89.3159 647.492,93.3294 647.696,100.001 647.899,109.304 648.103,121.203 648.306,135.649 648.51,152.586 648.714,171.948 648.917,193.657 649.121,217.629 649.325,243.768 649.528,271.971 649.732,302.128 649.936,334.118 650.139,367.816 650.343,403.089 650.547,439.798 650.75,477.797 650.954,516.937 651.158,557.064 651.361,598.018 651.565,639.638 651.769,681.761 651.972,724.219 652.176,766.846 652.38,809.473 652.583,851.931 652.787,894.053 652.991,935.674 653.194,976.628 653.398,1016.75 653.602,1055.89 653.805,1093.89 654.009,1130.6 654.213,1165.88 654.416,1199.57 654.62,1231.56 654.824,1261.72 655.027,1289.92 655.231,1316.06 655.435,1340.03 655.638,1361.74 655.842,1381.11 656.046,1398.04 656.249,1412.49 656.453,1424.39 656.657,1433.69 656.86,1440.36 657.064,1444.38 657.268,1445.72 657.471,1444.38 657.675,1440.36 657.879,1433.69 658.082,1424.39 658.286,1412.49 658.49,1398.04 658.693,1381.11 658.897,1361.74 659.101,1340.03 659.304,1316.06 659.508,1289.92 659.712,1261.72 659.915,1231.56 660.119,1199.57 660.323,1165.88 660.526,1130.6 660.73,1093.89 660.934,1055.89 661.137,1016.75 661.341,976.628 661.545,935.674 661.748,894.053 661.952,851.931 662.156,809.473 662.359,766.846 662.563,724.219 662.767,681.761 662.97,639.638 663.174,598.018 663.377,557.064 663.581,516.937 663.785,477.797 663.988,439.798 664.192,403.089 664.396,367.816 664.599,334.118 664.803,302.128 665.007,271.971 665.21,243.768 665.414,217.629 665.618,193.657 665.821,171.948 666.025,152.586 666.229,135.649 666.432,121.203 666.636,109.304 666.84,100.001 667.043,93.3294 667.247,89.3159 667.451,87.9763 667.654,89.3159 667.858,93.3294 668.062,100.001 668.265,109.304 668.469,121.203 668.673,135.649 668.876,152.586 669.08,171.948 669.284,193.657 669.487,217.629 669.691,243.768 669.895,271.971 670.098,302.128 670.302,334.118 670.506,367.816 670.709,403.089 670.913,439.798 671.117,477.797 671.32,516.937 671.524,557.064 671.728,598.018 671.931,639.638 672.135,681.761 672.339,724.219 672.542,766.846 672.746,809.473 672.95,851.931 673.153,894.053 673.357,935.674 673.561,976.628 673.764,1016.75 673.968,1055.89 674.172,1093.89 674.375,1130.6 674.579,1165.88 674.783,1199.57 674.986,1231.56 675.19,1261.72 675.394,1289.92 675.597,1316.06 675.801,1340.03 676.005,1361.74 676.208,1381.11 676.412,1398.04 676.616,1412.49 676.819,1424.39 677.023,1433.69 677.227,1440.36 677.43,1444.38 677.634,1445.72 677.838,1444.38 678.041,1440.36 678.245,1433.69 678.449,1424.39 678.652,1412.49 678.856,1398.04 679.059,1381.11 679.263,1361.74 679.467,1340.03 679.67,1316.06 679.874,1289.92 680.078,1261.72 680.281,1231.56 680.485,1199.57 680.689,1165.88 680.892,1130.6 681.096,1093.89 681.3,1055.89 681.503,1016.75 681.707,976.628 681.911,935.674 682.114,894.053 682.318,851.931 682.522,809.473 682.725,766.846 682.929,724.219 683.133,681.761 683.336,639.638 683.54,598.018 683.744,557.064 683.947,516.937 684.151,477.797 684.355,439.798 684.558,403.089 684.762,367.816 684.966,334.118 685.169,302.128 685.373,271.971 685.577,243.768 685.78,217.629 685.984,193.657 686.188,171.948 686.391,152.586 686.595,135.649 686.799,121.203 687.002,109.304 687.206,100.001 687.41,93.3294 687.613,89.3159 687.817,87.9763 688.021,89.3159 688.224,93.3294 688.428,100.001 688.632,109.304 688.835,121.203 689.039,135.649 689.243,152.586 689.446,171.948 689.65,193.657 689.854,217.629 690.057,243.768 690.261,271.971 690.465,302.128 690.668,334.118 690.872,367.816 691.076,403.089 691.279,439.798 691.483,477.797 691.687,516.937 691.89,557.064 692.094,598.018 692.298,639.638 692.501,681.761 692.705,724.219 692.909,766.846 693.112,809.473 693.316,851.931 693.52,894.053 693.723,935.674 693.927,976.628 694.13,1016.75 694.334,1055.89 694.538,1093.89 694.741,1130.6 694.945,1165.88 695.149,1199.57 695.352,1231.56 695.556,1261.72 695.76,1289.92 695.963,1316.06 696.167,1340.03 696.371,1361.74 696.574,1381.11 696.778,1398.04 696.982,1412.49 697.185,1424.39 697.389,1433.69 697.593,1440.36 697.796,1444.38 698,1445.72 698.204,1444.38 698.407,1440.36 698.611,1433.69 698.815,1424.39 699.018,1412.49 699.222,1398.04 699.426,1381.11 699.629,1361.74 699.833,1340.03 700.037,1316.06 700.24,1289.92 700.444,1261.72 700.648,1231.56 700.851,1199.57 701.055,1165.88 701.259,1130.6 701.462,1093.89 701.666,1055.89 701.87,1016.75 702.073,976.628 702.277,935.674 702.481,894.053 702.684,851.931 702.888,809.473 703.092,766.846 703.295,724.219 703.499,681.761 703.703,639.638 703.906,598.018 704.11,557.064 704.314,516.937 704.517,477.797 704.721,439.798 704.925,403.089 705.128,367.816 705.332,334.118 705.536,302.128 705.739,271.971 705.943,243.768 706.147,217.629 706.35,193.657 706.554,171.948 706.758,152.586 706.961,135.649 707.165,121.203 707.369,109.304 707.572,100.001 707.776,93.3294 707.98,89.3159 708.183,87.9763 708.387,89.3159 708.591,93.3294 708.794,100.001 708.998,109.304 709.202,121.203 709.405,135.649 709.609,152.586 709.812,171.948 710.016,193.657 710.22,217.629 710.423,243.768 710.627,271.971 710.831,302.128 711.034,334.118 711.238,367.816 711.442,403.089 711.645,439.798 711.849,477.797 712.053,516.937 712.256,557.064 712.46,598.018 712.664,639.638 712.867,681.761 713.071,724.219 713.275,766.846 713.478,809.473 713.682,851.931 713.886,894.053 714.089,935.674 714.293,976.628 714.497,1016.75 714.7,1055.89 714.904,1093.89 715.108,1130.6 715.311,1165.88 715.515,1199.57 715.719,1231.56 715.922,1261.72 716.126,1289.92 716.33,1316.06 716.533,1340.03 716.737,1361.74 716.941,1381.11 717.144,1398.04 717.348,1412.49 717.552,1424.39 717.755,1433.69 717.959,1440.36 718.163,1444.38 718.366,1445.72 718.57,1444.38 718.774,1440.36 718.977,1433.69 719.181,1424.39 719.385,1412.49 719.588,1398.04 719.792,1381.11 719.996,1361.74 720.199,1340.03 720.403,1316.06 720.607,1289.92 720.81,1261.72 721.014,1231.56 721.218,1199.57 721.421,1165.88 721.625,1130.6 721.829,1093.89 722.032,1055.89 722.236,1016.75 722.44,976.628 722.643,935.674 722.847,894.053 723.051,851.931 723.254,809.473 723.458,766.846 723.662,724.219 723.865,681.761 724.069,639.638 724.273,598.018 724.476,557.064 724.68,516.937 724.883,477.797 725.087,439.798 725.291,403.089 725.494,367.816 725.698,334.118 725.902,302.128 726.105,271.971 726.309,243.768 726.513,217.629 726.716,193.657 726.92,171.948 727.124,152.586 727.327,135.649 727.531,121.203 727.735,109.304 727.938,100.001 728.142,93.3294 728.346,89.3159 728.549,87.9763 728.753,89.3159 728.957,93.3294 729.16,100.001 729.364,109.304 729.568,121.203 729.771,135.649 729.975,152.586 730.179,171.948 730.382,193.657 730.586,217.629 730.79,243.768 730.993,271.971 731.197,302.128 731.401,334.118 731.604,367.816 731.808,403.089 732.012,439.798 732.215,477.797 732.419,516.937 732.623,557.064 732.826,598.018 733.03,639.638 733.234,681.761 733.437,724.219 733.641,766.846 733.845,809.473 734.048,851.931 734.252,894.053 734.456,935.674 734.659,976.628 734.863,1016.75 735.067,1055.89 735.27,1093.89 735.474,1130.6 735.678,1165.88 735.881,1199.57 736.085,1231.56 736.289,1261.72 736.492,1289.92 736.696,1316.06 736.9,1340.03 737.103,1361.74 737.307,1381.11 737.511,1398.04 737.714,1412.49 737.918,1424.39 738.122,1433.69 738.325,1440.36 738.529,1444.38 738.733,1445.72 738.936,1444.38 739.14,1440.36 739.344,1433.69 739.547,1424.39 739.751,1412.49 739.955,1398.04 740.158,1381.11 740.362,1361.74 740.565,1340.03 740.769,1316.06 740.973,1289.92 741.176,1261.72 741.38,1231.56 741.584,1199.57 741.787,1165.88 741.991,1130.6 742.195,1093.89 742.398,1055.89 742.602,1016.75 742.806,976.628 743.009,935.674 743.213,894.053 743.417,851.931 743.62,809.473 743.824,766.846 744.028,724.219 744.231,681.761 744.435,639.638 744.639,598.018 744.842,557.064 745.046,516.937 745.25,477.797 745.453,439.798 745.657,403.089 745.861,367.816 746.064,334.118 746.268,302.128 746.472,271.971 746.675,243.768 746.879,217.629 747.083,193.657 747.286,171.948 747.49,152.586 747.694,135.649 747.897,121.203 748.101,109.304 748.305,100.001 748.508,93.3294 748.712,89.3159 748.916,87.9763 749.119,89.3159 749.323,93.3294 749.527,100.001 749.73,109.304 749.934,121.203 750.138,135.649 750.341,152.586 750.545,171.948 750.749,193.657 750.952,217.629 751.156,243.768 751.36,271.971 751.563,302.128 751.767,334.118 751.971,367.816 752.174,403.089 752.378,439.798 752.582,477.797 752.785,516.937 752.989,557.064 753.193,598.018 753.396,639.638 753.6,681.761 753.804,724.219 754.007,766.846 754.211,809.473 754.415,851.931 754.618,894.053 754.822,935.674 755.026,976.628 755.229,1016.75 755.433,1055.89 755.636,1093.89 755.84,1130.6 756.044,1165.88 756.247,1199.57 756.451,1231.56 756.655,1261.72 756.858,1289.92 757.062,1316.06 757.266,1340.03 757.469,1361.74 757.673,1381.11 757.877,1398.04 758.08,1412.49 758.284,1424.39 758.488,1433.69 758.691,1440.36 758.895,1444.38 759.099,1445.72 759.302,1444.38 759.506,1440.36 759.71,1433.69 759.913,1424.39 760.117,1412.49 760.321,1398.04 760.524,1381.11 760.728,1361.74 760.932,1340.03 761.135,1316.06 761.339,1289.92 761.543,1261.72 761.746,1231.56 761.95,1199.57 762.154,1165.88 762.357,1130.6 762.561,1093.89 762.765,1055.89 762.968,1016.75 763.172,976.628 763.376,935.674 763.579,894.053 763.783,851.931 763.987,809.473 764.19,766.846 764.394,724.219 764.598,681.761 764.801,639.638 765.005,598.018 765.209,557.064 765.412,516.937 765.616,477.797 765.82,439.798 766.023,403.089 766.227,367.816 766.431,334.118 766.634,302.128 766.838,271.971 767.042,243.768 767.245,217.629 767.449,193.657 767.653,171.948 767.856,152.586 768.06,135.649 768.264,121.203 768.467,109.304 768.671,100.001 768.875,93.3294 769.078,89.3159 769.282,87.9763 769.486,89.3159 769.689,93.3294 769.893,100.001 770.097,109.304 770.3,121.203 770.504,135.649 770.708,152.586 770.911,171.948 771.115,193.657 771.318,217.629 771.522,243.768 771.726,271.971 771.929,302.128 772.133,334.118 772.337,367.816 772.54,403.089 772.744,439.798 772.948,477.797 773.151,516.937 773.355,557.064 773.559,598.018 773.762,639.638 773.966,681.761 774.17,724.219 774.373,766.846 774.577,809.473 774.781,851.931 774.984,894.053 775.188,935.674 775.392,976.628 775.595,1016.75 775.799,1055.89 776.003,1093.89 776.206,1130.6 776.41,1165.88 776.614,1199.57 776.817,1231.56 777.021,1261.72 777.225,1289.92 777.428,1316.06 777.632,1340.03 777.836,1361.74 778.039,1381.11 778.243,1398.04 778.447,1412.49 778.65,1424.39 778.854,1433.69 779.058,1440.36 779.261,1444.38 779.465,1445.72 779.669,1444.38 779.872,1440.36 780.076,1433.69 780.28,1424.39 780.483,1412.49 780.687,1398.04 780.891,1381.11 781.094,1361.74 781.298,1340.03 781.502,1316.06 781.705,1289.92 781.909,1261.72 782.113,1231.56 782.316,1199.57 782.52,1165.88 782.724,1130.6 782.927,1093.89 783.131,1055.89 783.335,1016.75 783.538,976.628 783.742,935.674 783.946,894.053 784.149,851.931 784.353,809.473 784.557,766.846 784.76,724.219 784.964,681.761 785.168,639.638 785.371,598.018 785.575,557.064 785.779,516.937 785.982,477.797 786.186,439.798 786.389,403.089 786.593,367.816 786.797,334.118 787,302.128 787.204,271.971 787.408,243.768 787.611,217.629 787.815,193.657 788.019,171.948 788.222,152.586 788.426,135.649 788.63,121.203 788.833,109.304 789.037,100.001 789.241,93.3294 789.444,89.3159 789.648,87.9763 789.852,89.3159 790.055,93.3294 790.259,100.001 790.463,109.304 790.666,121.203 790.87,135.649 791.074,152.586 791.277,171.948 791.481,193.657 791.685,217.629 791.888,243.768 792.092,271.971 792.296,302.128 792.499,334.118 792.703,367.816 792.907,403.089 793.11,439.798 793.314,477.797 793.518,516.937 793.721,557.064 793.925,598.018 794.129,639.638 794.332,681.761 794.536,724.219 794.74,766.846 794.943,809.473 795.147,851.931 795.351,894.053 795.554,935.674 795.758,976.628 795.962,1016.75 796.165,1055.89 796.369,1093.89 796.573,1130.6 796.776,1165.88 796.98,1199.57 797.184,1231.56 797.387,1261.72 797.591,1289.92 797.795,1316.06 797.998,1340.03 798.202,1361.74 798.406,1381.11 798.609,1398.04 798.813,1412.49 799.017,1424.39 799.22,1433.69 799.424,1440.36 799.628,1444.38 799.831,1445.72 800.035,1444.38 800.239,1440.36 800.442,1433.69 800.646,1424.39 800.85,1412.49 801.053,1398.04 801.257,1381.11 801.461,1361.74 801.664,1340.03 801.868,1316.06 802.071,1289.92 802.275,1261.72 802.479,1231.56 802.682,1199.57 802.886,1165.88 803.09,1130.6 803.293,1093.89 803.497,1055.89 803.701,1016.75 803.904,976.628 804.108,935.674 804.312,894.053 804.515,851.931 804.719,809.473 804.923,766.846 805.126,724.219 805.33,681.761 805.534,639.638 805.737,598.018 805.941,557.064 806.145,516.937 806.348,477.797 806.552,439.798 806.756,403.089 806.959,367.816 807.163,334.118 807.367,302.128 807.57,271.971 807.774,243.768 807.978,217.629 808.181,193.657 808.385,171.948 808.589,152.586 808.792,135.649 808.996,121.203 809.2,109.304 809.403,100.001 809.607,93.3294 809.811,89.3159 810.014,87.9763 810.218,89.3159 810.422,93.3294 810.625,100.001 810.829,109.304 811.033,121.203 811.236,135.649 811.44,152.586 811.644,171.948 811.847,193.657 812.051,217.629 812.255,243.768 812.458,271.971 812.662,302.128 812.866,334.118 813.069,367.816 813.273,403.089 813.477,439.798 813.68,477.797 813.884,516.937 814.088,557.064 814.291,598.018 814.495,639.638 814.699,681.761 814.902,724.219 815.106,766.846 815.31,809.473 815.513,851.931 815.717,894.053 815.921,935.674 816.124,976.628 816.328,1016.75 816.532,1055.89 816.735,1093.89 816.939,1130.6 817.142,1165.88 817.346,1199.57 817.55,1231.56 817.753,1261.72 817.957,1289.92 818.161,1316.06 818.364,1340.03 818.568,1361.74 818.772,1381.11 818.975,1398.04 819.179,1412.49 819.383,1424.39 819.586,1433.69 819.79,1440.36 819.994,1444.38 820.197,1445.72 820.401,1444.38 820.605,1440.36 820.808,1433.69 821.012,1424.39 821.216,1412.49 821.419,1398.04 821.623,1381.11 821.827,1361.74 822.03,1340.03 822.234,1316.06 822.438,1289.92 822.641,1261.72 822.845,1231.56 823.049,1199.57 823.252,1165.88 823.456,1130.6 823.66,1093.89 823.863,1055.89 824.067,1016.75 824.271,976.628 824.474,935.674 824.678,894.053 824.882,851.931 825.085,809.473 825.289,766.846 825.493,724.219 825.696,681.761 825.9,639.638 826.104,598.018 826.307,557.064 826.511,516.937 826.715,477.797 826.918,439.798 827.122,403.089 827.326,367.816 827.529,334.118 827.733,302.128 827.937,271.971 828.14,243.768 828.344,217.629 828.548,193.657 828.751,171.948 828.955,152.586 829.159,135.649 829.362,121.203 829.566,109.304 829.77,100.001 829.973,93.3294 830.177,89.3159 830.381,87.9763 830.584,89.3159 830.788,93.3294 830.992,100.001 831.195,109.304 831.399,121.203 831.603,135.649 831.806,152.586 832.01,171.948 832.214,193.657 832.417,217.629 832.621,243.768 832.824,271.971 833.028,302.128 833.232,334.118 833.435,367.816 833.639,403.089 833.843,439.798 834.046,477.797 834.25,516.937 834.454,557.064 834.657,598.018 834.861,639.638 835.065,681.761 835.268,724.219 835.472,766.846 835.676,809.473 835.879,851.931 836.083,894.053 836.287,935.674 836.49,976.628 836.694,1016.75 836.898,1055.89 837.101,1093.89 837.305,1130.6 837.509,1165.88 837.712,1199.57 837.916,1231.56 838.12,1261.72 838.323,1289.92 838.527,1316.06 838.731,1340.03 838.934,1361.74 839.138,1381.11 839.342,1398.04 839.545,1412.49 839.749,1424.39 839.953,1433.69 840.156,1440.36 840.36,1444.38 840.564,1445.72 840.767,1444.38 840.971,1440.36 841.175,1433.69 841.378,1424.39 841.582,1412.49 841.786,1398.04 841.989,1381.11 842.193,1361.74 842.397,1340.03 842.6,1316.06 842.804,1289.92 843.008,1261.72 843.211,1231.56 843.415,1199.57 843.619,1165.88 843.822,1130.6 844.026,1093.89 844.23,1055.89 844.433,1016.75 844.637,976.628 844.841,935.674 845.044,894.053 845.248,851.931 845.452,809.473 845.655,766.846 845.859,724.219 846.063,681.761 846.266,639.638 846.47,598.018 846.674,557.064 846.877,516.937 847.081,477.797 847.285,439.798 847.488,403.089 847.692,367.816 847.895,334.118 848.099,302.128 848.303,271.971 848.506,243.768 848.71,217.629 848.914,193.657 849.117,171.948 849.321,152.586 849.525,135.649 849.728,121.203 849.932,109.304 850.136,100.001 850.339,93.3294 850.543,89.3159 850.747,87.9763 850.95,89.3159 851.154,93.3294 851.358,100.001 851.561,109.304 851.765,121.203 851.969,135.649 852.172,152.586 852.376,171.948 852.58,193.657 852.783,217.629 852.987,243.768 853.191,271.971 853.394,302.128 853.598,334.118 853.802,367.816 854.005,403.089 854.209,439.798 854.413,477.797 854.616,516.937 854.82,557.064 855.024,598.018 855.227,639.638 855.431,681.761 855.635,724.219 855.838,766.846 856.042,809.473 856.246,851.931 856.449,894.053 856.653,935.674 856.857,976.628 857.06,1016.75 857.264,1055.89 857.468,1093.89 857.671,1130.6 857.875,1165.88 858.079,1199.57 858.282,1231.56 858.486,1261.72 858.69,1289.92 858.893,1316.06 859.097,1340.03 859.301,1361.74 859.504,1381.11 859.708,1398.04 859.912,1412.49 860.115,1424.39 860.319,1433.69 860.523,1440.36 860.726,1444.38 860.93,1445.72 861.134,1444.38 861.337,1440.36 861.541,1433.69 861.745,1424.39 861.948,1412.49 862.152,1398.04 862.356,1381.11 862.559,1361.74 862.763,1340.03 862.967,1316.06 863.17,1289.92 863.374,1261.72 863.577,1231.56 863.781,1199.57 863.985,1165.88 864.188,1130.6 864.392,1093.89 864.596,1055.89 864.799,1016.75 865.003,976.628 865.207,935.674 865.41,894.053 865.614,851.931 865.818,809.473 866.021,766.846 866.225,724.219 866.429,681.761 866.632,639.638 866.836,598.018 867.04,557.064 867.243,516.937 867.447,477.797 867.651,439.798 867.854,403.089 868.058,367.816 868.262,334.118 868.465,302.128 868.669,271.971 868.873,243.768 869.076,217.629 869.28,193.657 869.484,171.948 869.687,152.586 869.891,135.649 870.095,121.203 870.298,109.304 870.502,100.001 870.706,93.3294 870.909,89.3159 871.113,87.9763 871.317,89.3159 871.52,93.3294 871.724,100.001 871.928,109.304 872.131,121.203 872.335,135.649 872.539,152.586 872.742,171.948 872.946,193.657 873.15,217.629 873.353,243.768 873.557,271.971 873.761,302.128 873.964,334.118 874.168,367.816 874.372,403.089 874.575,439.798 874.779,477.797 874.983,516.937 875.186,557.064 875.39,598.018 875.594,639.638 875.797,681.761 876.001,724.219 876.205,766.846 876.408,809.473 876.612,851.931 876.816,894.053 877.019,935.674 877.223,976.628 877.427,1016.75 877.63,1055.89 877.834,1093.89 878.038,1130.6 878.241,1165.88 878.445,1199.57 878.649,1231.56 878.852,1261.72 879.056,1289.92 879.259,1316.06 879.463,1340.03 879.667,1361.74 879.87,1381.11 880.074,1398.04 880.278,1412.49 880.481,1424.39 880.685,1433.69 880.889,1440.36 881.092,1444.38 881.296,1445.72 881.5,1444.38 881.703,1440.36 881.907,1433.69 882.111,1424.39 882.314,1412.49 882.518,1398.04 882.722,1381.11 882.925,1361.74 883.129,1340.03 883.333,1316.06 883.536,1289.92 883.74,1261.72 883.944,1231.56 884.147,1199.57 884.351,1165.88 884.555,1130.6 884.758,1093.89 884.962,1055.89 885.166,1016.75 885.369,976.628 885.573,935.674 885.777,894.053 885.98,851.931 886.184,809.473 886.388,766.846 886.591,724.219 886.795,681.761 886.999,639.638 887.202,598.018 887.406,557.064 887.61,516.937 887.813,477.797 888.017,439.798 888.221,403.089 888.424,367.816 888.628,334.118 888.832,302.128 889.035,271.971 889.239,243.768 889.443,217.629 889.646,193.657 889.85,171.948 890.054,152.586 890.257,135.649 890.461,121.203 890.665,109.304 890.868,100.001 891.072,93.3294 891.276,89.3159 891.479,87.9763 891.683,89.3159 891.887,93.3294 892.09,100.001 892.294,109.304 892.498,121.203 892.701,135.649 892.905,152.586 893.109,171.948 893.312,193.657 893.516,217.629 893.72,243.768 893.923,271.971 894.127,302.128 894.33,334.118 894.534,367.816 894.738,403.089 894.941,439.798 895.145,477.797 895.349,516.937 895.552,557.064 895.756,598.018 895.96,639.638 896.163,681.761 896.367,724.219 896.571,766.846 896.774,809.473 896.978,851.931 897.182,894.053 897.385,935.674 897.589,976.628 897.793,1016.75 897.996,1055.89 898.2,1093.89 898.404,1130.6 898.607,1165.88 898.811,1199.57 899.015,1231.56 899.218,1261.72 899.422,1289.92 899.626,1316.06 899.829,1340.03 900.033,1361.74 900.237,1381.11 900.44,1398.04 900.644,1412.49 900.848,1424.39 901.051,1433.69 901.255,1440.36 901.459,1444.38 901.662,1445.72 901.866,1444.38 902.07,1440.36 902.273,1433.69 902.477,1424.39 902.681,1412.49 902.884,1398.04 903.088,1381.11 903.292,1361.74 903.495,1340.03 903.699,1316.06 903.903,1289.92 904.106,1261.72 904.31,1231.56 904.514,1199.57 904.717,1165.88 904.921,1130.6 905.125,1093.89 905.328,1055.89 905.532,1016.75 905.736,976.628 905.939,935.674 906.143,894.053 906.347,851.931 906.55,809.473 906.754,766.846 906.958,724.219 907.161,681.761 907.365,639.638 907.569,598.018 907.772,557.064 907.976,516.937 908.18,477.797 908.383,439.798 908.587,403.089 908.791,367.816 908.994,334.118 909.198,302.128 909.402,271.971 909.605,243.768 909.809,217.629 910.012,193.657 910.216,171.948 910.42,152.586 910.623,135.649 910.827,121.203 911.031,109.304 911.234,100.001 911.438,93.3294 911.642,89.3159 911.845,87.9763 912.049,89.3159 912.253,93.3294 912.456,100.001 912.66,109.304 912.864,121.203 913.067,135.649 913.271,152.586 913.475,171.948 913.678,193.657 913.882,217.629 914.086,243.768 914.289,271.971 914.493,302.128 914.697,334.118 914.9,367.816 915.104,403.089 915.308,439.798 915.511,477.797 915.715,516.937 915.919,557.064 916.122,598.018 916.326,639.638 916.53,681.761 916.733,724.219 916.937,766.846 917.141,809.473 917.344,851.931 917.548,894.053 917.752,935.674 917.955,976.628 918.159,1016.75 918.363,1055.89 918.566,1093.89 918.77,1130.6 918.974,1165.88 919.177,1199.57 919.381,1231.56 919.585,1261.72 919.788,1289.92 919.992,1316.06 920.196,1340.03 920.399,1361.74 920.603,1381.11 920.807,1398.04 921.01,1412.49 921.214,1424.39 921.418,1433.69 921.621,1440.36 921.825,1444.38 922.029,1445.72 922.232,1444.38 922.436,1440.36 922.64,1433.69 922.843,1424.39 923.047,1412.49 923.251,1398.04 923.454,1381.11 923.658,1361.74 923.862,1340.03 924.065,1316.06 924.269,1289.92 924.473,1261.72 924.676,1231.56 924.88,1199.57 925.083,1165.88 925.287,1130.6 925.491,1093.89 925.694,1055.89 925.898,1016.75 926.102,976.628 926.305,935.674 926.509,894.053 926.713,851.931 926.916,809.473 927.12,766.846 927.324,724.219 927.527,681.761 927.731,639.638 927.935,598.018 928.138,557.064 928.342,516.937 928.546,477.797 928.749,439.798 928.953,403.089 929.157,367.816 929.36,334.118 929.564,302.128 929.768,271.971 929.971,243.768 930.175,217.629 930.379,193.657 930.582,171.948 930.786,152.586 930.99,135.649 931.193,121.203 931.397,109.304 931.601,100.001 931.804,93.3294 932.008,89.3159 932.212,87.9763 932.415,89.3159 932.619,93.3294 932.823,100.001 933.026,109.304 933.23,121.203 933.434,135.649 933.637,152.586 933.841,171.948 934.045,193.657 934.248,217.629 934.452,243.768 934.656,271.971 934.859,302.128 935.063,334.118 935.267,367.816 935.47,403.089 935.674,439.798 935.878,477.797 936.081,516.937 936.285,557.064 936.489,598.018 936.692,639.638 936.896,681.761 937.1,724.219 937.303,766.846 937.507,809.473 937.711,851.931 937.914,894.053 938.118,935.674 938.322,976.628 938.525,1016.75 938.729,1055.89 938.933,1093.89 939.136,1130.6 939.34,1165.88 939.544,1199.57 939.747,1231.56 939.951,1261.72 940.155,1289.92 940.358,1316.06 940.562,1340.03 940.765,1361.74 940.969,1381.11 941.173,1398.04 941.376,1412.49 941.58,1424.39 941.784,1433.69 941.987,1440.36 942.191,1444.38 942.395,1445.72 942.598,1444.38 942.802,1440.36 943.006,1433.69 943.209,1424.39 943.413,1412.49 943.617,1398.04 943.82,1381.11 944.024,1361.74 944.228,1340.03 944.431,1316.06 944.635,1289.92 944.839,1261.72 945.042,1231.56 945.246,1199.57 945.45,1165.88 945.653,1130.6 945.857,1093.89 946.061,1055.89 946.264,1016.75 946.468,976.628 946.672,935.674 946.875,894.053 947.079,851.931 947.283,809.473 947.486,766.846 947.69,724.219 947.894,681.761 948.097,639.638 948.301,598.018 948.505,557.064 948.708,516.937 948.912,477.797 949.116,439.798 949.319,403.089 949.523,367.816 949.727,334.118 949.93,302.128 950.134,271.971 950.338,243.768 950.541,217.629 950.745,193.657 950.949,171.948 951.152,152.586 951.356,135.649 951.56,121.203 951.763,109.304 951.967,100.001 952.171,93.3294 952.374,89.3159 952.578,87.9763 952.782,89.3159 952.985,93.3294 953.189,100.001 953.393,109.304 953.596,121.203 953.8,135.649 954.004,152.586 954.207,171.948 954.411,193.657 954.615,217.629 954.818,243.768 955.022,271.971 955.226,302.128 955.429,334.118 955.633,367.816 955.836,403.089 956.04,439.798 956.244,477.797 956.447,516.937 956.651,557.064 956.855,598.018 957.058,639.638 957.262,681.761 957.466,724.219 957.669,766.846 957.873,809.473 958.077,851.931 958.28,894.053 958.484,935.674 958.688,976.628 958.891,1016.75 959.095,1055.89 959.299,1093.89 959.502,1130.6 959.706,1165.88 959.91,1199.57 960.113,1231.56 960.317,1261.72 960.521,1289.92 960.724,1316.06 960.928,1340.03 961.132,1361.74 961.335,1381.11 961.539,1398.04 961.743,1412.49 961.946,1424.39 962.15,1433.69 962.354,1440.36 962.557,1444.38 962.761,1445.72 962.965,1444.38 963.168,1440.36 963.372,1433.69 963.576,1424.39 963.779,1412.49 963.983,1398.04 964.187,1381.11 964.39,1361.74 964.594,1340.03 964.798,1316.06 965.001,1289.92 965.205,1261.72 965.409,1231.56 965.612,1199.57 965.816,1165.88 966.02,1130.6 966.223,1093.89 966.427,1055.89 966.631,1016.75 966.834,976.628 967.038,935.674 967.242,894.053 967.445,851.931 967.649,809.473 967.853,766.846 968.056,724.219 968.26,681.761 968.464,639.638 968.667,598.018 968.871,557.064 969.075,516.937 969.278,477.797 969.482,439.798 969.686,403.089 969.889,367.816 970.093,334.118 970.297,302.128 970.5,271.971 970.704,243.768 970.908,217.629 971.111,193.657 971.315,171.948 971.518,152.586 971.722,135.649 971.926,121.203 972.129,109.304 972.333,100.001 972.537,93.3294 972.74,89.3159 972.944,87.9763 973.148,89.3159 973.351,93.3294 973.555,100.001 973.759,109.304 973.962,121.203 974.166,135.649 974.37,152.586 974.573,171.948 974.777,193.657 974.981,217.629 975.184,243.768 975.388,271.971 975.592,302.128 975.795,334.118 975.999,367.816 976.203,403.089 976.406,439.798 976.61,477.797 976.814,516.937 977.017,557.064 977.221,598.018 977.425,639.638 977.628,681.761 977.832,724.219 978.036,766.846 978.239,809.473 978.443,851.931 978.647,894.053 978.85,935.674 979.054,976.628 979.258,1016.75 979.461,1055.89 979.665,1093.89 979.869,1130.6 980.072,1165.88 980.276,1199.57 980.48,1231.56 980.683,1261.72 980.887,1289.92 981.091,1316.06 981.294,1340.03 981.498,1361.74 981.702,1381.11 981.905,1398.04 982.109,1412.49 982.313,1424.39 982.516,1433.69 982.72,1440.36 982.924,1444.38 983.127,1445.72 983.331,1444.38 983.535,1440.36 983.738,1433.69 983.942,1424.39 984.146,1412.49 984.349,1398.04 984.553,1381.11 984.757,1361.74 984.96,1340.03 985.164,1316.06 985.368,1289.92 985.571,1261.72 985.775,1231.56 985.979,1199.57 986.182,1165.88 986.386,1130.6 986.589,1093.89 986.793,1055.89 986.997,1016.75 987.2,976.628 987.404,935.674 987.608,894.053 987.811,851.931 988.015,809.473 988.219,766.846 988.422,724.219 988.626,681.761 988.83,639.638 989.033,598.018 989.237,557.064 989.441,516.937 989.644,477.797 989.848,439.798 990.052,403.089 990.255,367.816 990.459,334.118 990.663,302.128 990.866,271.971 991.07,243.768 991.274,217.629 991.477,193.657 991.681,171.948 991.885,152.586 992.088,135.649 992.292,121.203 992.496,109.304 992.699,100.001 992.903,93.3294 993.107,89.3159 993.31,87.9763 993.514,89.3159 993.718,93.3294 993.921,100.001 994.125,109.304 994.329,121.203 994.532,135.649 994.736,152.586 994.94,171.948 995.143,193.657 995.347,217.629 995.551,243.768 995.754,271.971 995.958,302.128 996.162,334.118 996.365,367.816 996.569,403.089 996.773,439.798 996.976,477.797 997.18,516.937 997.384,557.064 997.587,598.018 997.791,639.638 997.995,681.761 998.198,724.219 998.402,766.846 998.606,809.473 998.809,851.931 999.013,894.053 999.217,935.674 999.42,976.628 999.624,1016.75 999.828,1055.89 1000.03,1093.89 1000.23,1130.6 1000.44,1165.88 1000.64,1199.57 1000.85,1231.56 1001.05,1261.72 1001.25,1289.92 1001.46,1316.06 1001.66,1340.03 1001.86,1361.74 1002.07,1381.11 1002.27,1398.04 1002.48,1412.49 1002.68,1424.39 1002.88,1433.69 1003.09,1440.36 1003.29,1444.38 1003.49,1445.72 1003.7,1444.38 1003.9,1440.36 1004.1,1433.69 1004.31,1424.39 1004.51,1412.49 1004.72,1398.04 1004.92,1381.11 1005.12,1361.74 1005.33,1340.03 1005.53,1316.06 1005.73,1289.92 1005.94,1261.72 1006.14,1231.56 1006.34,1199.57 1006.55,1165.88 1006.75,1130.6 1006.96,1093.89 1007.16,1055.89 1007.36,1016.75 1007.57,976.628 1007.77,935.674 1007.97,894.053 1008.18,851.931 1008.38,809.473 1008.59,766.846 1008.79,724.219 1008.99,681.761 1009.2,639.638 1009.4,598.018 1009.6,557.064 1009.81,516.937 1010.01,477.797 1010.21,439.798 1010.42,403.089 1010.62,367.816 1010.83,334.118 1011.03,302.128 1011.23,271.971 1011.44,243.768 1011.64,217.629 1011.84,193.657 1012.05,171.948 1012.25,152.586 1012.45,135.649 1012.66,121.203 1012.86,109.304 1013.07,100.001 1013.27,93.3294 1013.47,89.3159 1013.68,87.9763 1013.88,89.3159 1014.08,93.3294 1014.29,100.001 1014.49,109.304 1014.69,121.203 1014.9,135.649 1015.1,152.586 1015.31,171.948 1015.51,193.657 1015.71,217.629 1015.92,243.768 1016.12,271.971 1016.32,302.128 1016.53,334.118 1016.73,367.816 1016.94,403.089 1017.14,439.798 1017.34,477.797 1017.55,516.937 1017.75,557.064 1017.95,598.018 1018.16,639.638 1018.36,681.761 1018.56,724.219 1018.77,766.846 1018.97,809.473 1019.18,851.931 1019.38,894.053 1019.58,935.674 1019.79,976.628 1019.99,1016.75 1020.19,1055.89 1020.4,1093.89 1020.6,1130.6 1020.8,1165.88 1021.01,1199.57 1021.21,1231.56 1021.42,1261.72 1021.62,1289.92 1021.82,1316.06 1022.03,1340.03 1022.23,1361.74 1022.43,1381.11 1022.64,1398.04 1022.84,1412.49 1023.05,1424.39 1023.25,1433.69 1023.45,1440.36 1023.66,1444.38 1023.86,1445.72 1024.06,1444.38 1024.27,1440.36 1024.47,1433.69 1024.67,1424.39 1024.88,1412.49 1025.08,1398.04 1025.29,1381.11 1025.49,1361.74 1025.69,1340.03 1025.9,1316.06 1026.1,1289.92 1026.3,1261.72 1026.51,1231.56 1026.71,1199.57 1026.91,1165.88 1027.12,1130.6 1027.32,1093.89 1027.53,1055.89 1027.73,1016.75 1027.93,976.628 1028.14,935.674 1028.34,894.053 1028.54,851.931 1028.75,809.473 1028.95,766.846 1029.15,724.219 1029.36,681.761 1029.56,639.638 1029.77,598.018 1029.97,557.064 1030.17,516.937 1030.38,477.797 1030.58,439.798 1030.78,403.089 1030.99,367.816 1031.19,334.118 1031.4,302.128 1031.6,271.971 1031.8,243.768 1032.01,217.629 1032.21,193.657 1032.41,171.948 1032.62,152.586 1032.82,135.649 1033.02,121.203 1033.23,109.304 1033.43,100.001 1033.64,93.3294 1033.84,89.3159 1034.04,87.9763 1034.25,89.3159 1034.45,93.3294 1034.65,100.001 1034.86,109.304 1035.06,121.203 1035.26,135.649 1035.47,152.586 1035.67,171.948 1035.88,193.657 1036.08,217.629 1036.28,243.768 1036.49,271.971 1036.69,302.128 1036.89,334.118 1037.1,367.816 1037.3,403.089 1037.51,439.798 1037.71,477.797 1037.91,516.937 1038.12,557.064 1038.32,598.018 1038.52,639.638 1038.73,681.761 1038.93,724.219 1039.13,766.846 1039.34,809.473 1039.54,851.931 1039.75,894.053 1039.95,935.674 1040.15,976.628 1040.36,1016.75 1040.56,1055.89 1040.76,1093.89 1040.97,1130.6 1041.17,1165.88 1041.37,1199.57 1041.58,1231.56 1041.78,1261.72 1041.99,1289.92 1042.19,1316.06 1042.39,1340.03 1042.6,1361.74 1042.8,1381.11 1043,1398.04 1043.21,1412.49 1043.41,1424.39 1043.61,1433.69 1043.82,1440.36 1044.02,1444.38 1044.23,1445.72 1044.43,1444.38 1044.63,1440.36 1044.84,1433.69 1045.04,1424.39 1045.24,1412.49 1045.45,1398.04 1045.65,1381.11 1045.86,1361.74 1046.06,1340.03 1046.26,1316.06 1046.47,1289.92 1046.67,1261.72 1046.87,1231.56 1047.08,1199.57 1047.28,1165.88 1047.48,1130.6 1047.69,1093.89 1047.89,1055.89 1048.1,1016.75 1048.3,976.628 1048.5,935.674 1048.71,894.053 1048.91,851.931 1049.11,809.473 1049.32,766.846 1049.52,724.219 1049.72,681.761 1049.93,639.638 1050.13,598.018 1050.34,557.064 1050.54,516.937 1050.74,477.797 1050.95,439.798 1051.15,403.089 1051.35,367.816 1051.56,334.118 1051.76,302.128 1051.97,271.971 1052.17,243.768 1052.37,217.629 1052.58,193.657 1052.78,171.948 1052.98,152.586 1053.19,135.649 1053.39,121.203 1053.59,109.304 1053.8,100.001 1054,93.3294 1054.21,89.3159 1054.41,87.9763 1054.61,89.3159 1054.82,93.3294 1055.02,100.001 1055.22,109.304 1055.43,121.203 1055.63,135.649 1055.83,152.586 1056.04,171.948 1056.24,193.657 1056.45,217.629 1056.65,243.768 1056.85,271.971 1057.06,302.128 1057.26,334.118 1057.46,367.816 1057.67,403.089 1057.87,439.798 1058.07,477.797 1058.28,516.937 1058.48,557.064 1058.69,598.018 1058.89,639.638 1059.09,681.761 1059.3,724.219 1059.5,766.846 1059.7,809.473 1059.91,851.931 1060.11,894.053 1060.32,935.674 1060.52,976.628 1060.72,1016.75 1060.93,1055.89 1061.13,1093.89 1061.33,1130.6 1061.54,1165.88 1061.74,1199.57 1061.94,1231.56 1062.15,1261.72 1062.35,1289.92 1062.56,1316.06 1062.76,1340.03 1062.96,1361.74 1063.17,1381.11 1063.37,1398.04 1063.57,1412.49 1063.78,1424.39 1063.98,1433.69 1064.18,1440.36 1064.39,1444.38 1064.59,1445.72 1064.8,1444.38 1065,1440.36 1065.2,1433.69 1065.41,1424.39 1065.61,1412.49 1065.81,1398.04 1066.02,1381.11 1066.22,1361.74 1066.43,1340.03 1066.63,1316.06 1066.83,1289.92 1067.04,1261.72 1067.24,1231.56 1067.44,1199.57 1067.65,1165.88 1067.85,1130.6 1068.05,1093.89 1068.26,1055.89 1068.46,1016.75 1068.67,976.628 1068.87,935.674 1069.07,894.053 1069.28,851.931 1069.48,809.473 1069.68,766.846 1069.89,724.219 1070.09,681.761 1070.29,639.638 1070.5,598.018 1070.7,557.064 1070.91,516.937 1071.11,477.797 1071.31,439.798 1071.52,403.089 1071.72,367.816 1071.92,334.118 1072.13,302.128 1072.33,271.971 1072.53,243.768 1072.74,217.629 1072.94,193.657 1073.15,171.948 1073.35,152.586 1073.55,135.649 1073.76,121.203 1073.96,109.304 1074.16,100.001 1074.37,93.3294 1074.57,89.3159 1074.78,87.9763 1074.98,89.3159 1075.18,93.3294 1075.39,100.001 1075.59,109.304 1075.79,121.203 1076,135.649 1076.2,152.586 1076.4,171.948 1076.61,193.657 1076.81,217.629 1077.02,243.768 1077.22,271.971 1077.42,302.128 1077.63,334.118 1077.83,367.816 1078.03,403.089 1078.24,439.798 1078.44,477.797 1078.64,516.937 1078.85,557.064 1079.05,598.018 1079.26,639.638 1079.46,681.761 1079.66,724.219 1079.87,766.846 1080.07,809.473 1080.27,851.931 1080.48,894.053 1080.68,935.674 1080.89,976.628 1081.09,1016.75 1081.29,1055.89 1081.5,1093.89 1081.7,1130.6 1081.9,1165.88 1082.11,1199.57 1082.31,1231.56 1082.51,1261.72 1082.72,1289.92 1082.92,1316.06 1083.13,1340.03 1083.33,1361.74 1083.53,1381.11 1083.74,1398.04 1083.94,1412.49 1084.14,1424.39 1084.35,1433.69 1084.55,1440.36 1084.75,1444.38 1084.96,1445.72 1085.16,1444.38 1085.37,1440.36 1085.57,1433.69 1085.77,1424.39 1085.98,1412.49 1086.18,1398.04 1086.38,1381.11 1086.59,1361.74 1086.79,1340.03 1086.99,1316.06 1087.2,1289.92 1087.4,1261.72 1087.61,1231.56 1087.81,1199.57 1088.01,1165.88 1088.22,1130.6 1088.42,1093.89 1088.62,1055.89 1088.83,1016.75 1089.03,976.628 1089.24,935.674 1089.44,894.053 1089.64,851.931 1089.85,809.473 1090.05,766.846 1090.25,724.219 1090.46,681.761 1090.66,639.638 1090.86,598.018 1091.07,557.064 1091.27,516.937 1091.48,477.797 1091.68,439.798 1091.88,403.089 1092.09,367.816 1092.29,334.118 1092.49,302.128 1092.7,271.971 1092.9,243.768 1093.1,217.629 1093.31,193.657 1093.51,171.948 1093.72,152.586 1093.92,135.649 1094.12,121.203 1094.33,109.304 1094.53,100.001 1094.73,93.3294 1094.94,89.3159 1095.14,87.9763 1095.35,89.3159 1095.55,93.3294 1095.75,100.001 1095.96,109.304 1096.16,121.203 1096.36,135.649 1096.57,152.586 1096.77,171.948 1096.97,193.657 1097.18,217.629 1097.38,243.768 1097.59,271.971 1097.79,302.128 1097.99,334.118 1098.2,367.816 1098.4,403.089 1098.6,439.798 1098.81,477.797 1099.01,516.937 1099.21,557.064 1099.42,598.018 1099.62,639.638 1099.83,681.761 1100.03,724.219 1100.23,766.846 1100.44,809.473 1100.64,851.931 1100.84,894.053 1101.05,935.674 1101.25,976.628 1101.46,1016.75 1101.66,1055.89 1101.86,1093.89 1102.07,1130.6 1102.27,1165.88 1102.47,1199.57 1102.68,1231.56 1102.88,1261.72 1103.08,1289.92 1103.29,1316.06 1103.49,1340.03 1103.7,1361.74 1103.9,1381.11 1104.1,1398.04 1104.31,1412.49 1104.51,1424.39 1104.71,1433.69 1104.92,1440.36 1105.12,1444.38 1105.32,1445.72 1105.53,1444.38 1105.73,1440.36 1105.94,1433.69 1106.14,1424.39 1106.34,1412.49 1106.55,1398.04 1106.75,1381.11 1106.95,1361.74 1107.16,1340.03 1107.36,1316.06 1107.56,1289.92 1107.77,1261.72 1107.97,1231.56 1108.18,1199.57 1108.38,1165.88 1108.58,1130.6 1108.79,1093.89 1108.99,1055.89 1109.19,1016.75 1109.4,976.628 1109.6,935.674 1109.81,894.053 1110.01,851.931 1110.21,809.473 1110.42,766.846 1110.62,724.219 1110.82,681.761 1111.03,639.638 1111.23,598.018 1111.43,557.064 1111.64,516.937 1111.84,477.797 1112.05,439.798 1112.25,403.089 1112.45,367.816 1112.66,334.118 1112.86,302.128 1113.06,271.971 1113.27,243.768 1113.47,217.629 1113.67,193.657 1113.88,171.948 1114.08,152.586 1114.29,135.649 1114.49,121.203 1114.69,109.304 1114.9,100.001 1115.1,93.3294 1115.3,89.3159 1115.51,87.9763 1115.71,89.3159 1115.92,93.3294 1116.12,100.001 1116.32,109.304 1116.53,121.203 1116.73,135.649 1116.93,152.586 1117.14,171.948 1117.34,193.657 1117.54,217.629 1117.75,243.768 1117.95,271.971 1118.16,302.128 1118.36,334.118 1118.56,367.816 1118.77,403.089 1118.97,439.798 1119.17,477.797 1119.38,516.937 1119.58,557.064 1119.78,598.018 1119.99,639.638 1120.19,681.761 1120.4,724.219 1120.6,766.846 1120.8,809.473 1121.01,851.931 1121.21,894.053 1121.41,935.674 1121.62,976.628 1121.82,1016.75 1122.02,1055.89 1122.23,1093.89 1122.43,1130.6 1122.64,1165.88 1122.84,1199.57 1123.04,1231.56 1123.25,1261.72 1123.45,1289.92 1123.65,1316.06 1123.86,1340.03 1124.06,1361.74 1124.27,1381.11 1124.47,1398.04 1124.67,1412.49 1124.88,1424.39 1125.08,1433.69 1125.28,1440.36 1125.49,1444.38 1125.69,1445.72 1125.89,1444.38 1126.1,1440.36 1126.3,1433.69 1126.51,1424.39 1126.71,1412.49 1126.91,1398.04 1127.12,1381.11 1127.32,1361.74 1127.52,1340.03 1127.73,1316.06 1127.93,1289.92 1128.13,1261.72 1128.34,1231.56 1128.54,1199.57 1128.75,1165.88 1128.95,1130.6 1129.15,1093.89 1129.36,1055.89 1129.56,1016.75 1129.76,976.628 1129.97,935.674 1130.17,894.053 1130.38,851.931 1130.58,809.473 1130.78,766.846 1130.99,724.219 1131.19,681.761 1131.39,639.638 1131.6,598.018 1131.8,557.064 1132,516.937 1132.21,477.797 1132.41,439.798 1132.62,403.089 1132.82,367.816 1133.02,334.118 1133.23,302.128 1133.43,271.971 1133.63,243.768 1133.84,217.629 1134.04,193.657 1134.24,171.948 1134.45,152.586 1134.65,135.649 1134.86,121.203 1135.06,109.304 1135.26,100.001 1135.47,93.3294 1135.67,89.3159 1135.87,87.9763 1136.08,89.3159 1136.28,93.3294 1136.48,100.001 1136.69,109.304 1136.89,121.203 1137.1,135.649 1137.3,152.586 1137.5,171.948 1137.71,193.657 1137.91,217.629 1138.11,243.768 1138.32,271.971 1138.52,302.128 1138.73,334.118 1138.93,367.816 1139.13,403.089 1139.34,439.798 1139.54,477.797 1139.74,516.937 1139.95,557.064 1140.15,598.018 1140.35,639.638 1140.56,681.761 1140.76,724.219 1140.97,766.846 1141.17,809.473 1141.37,851.931 1141.58,894.053 1141.78,935.674 1141.98,976.628 1142.19,1016.75 1142.39,1055.89 1142.59,1093.89 1142.8,1130.6 1143,1165.88 1143.21,1199.57 1143.41,1231.56 1143.61,1261.72 1143.82,1289.92 1144.02,1316.06 1144.22,1340.03 1144.43,1361.74 1144.63,1381.11 1144.84,1398.04 1145.04,1412.49 1145.24,1424.39 1145.45,1433.69 1145.65,1440.36 1145.85,1444.38 1146.06,1445.72 1146.26,1444.38 1146.46,1440.36 1146.67,1433.69 1146.87,1424.39 1147.08,1412.49 1147.28,1398.04 1147.48,1381.11 1147.69,1361.74 1147.89,1340.03 1148.09,1316.06 1148.3,1289.92 1148.5,1261.72 1148.7,1231.56 1148.91,1199.57 1149.11,1165.88 1149.32,1130.6 1149.52,1093.89 1149.72,1055.89 1149.93,1016.75 1150.13,976.628 1150.33,935.674 1150.54,894.053 1150.74,851.931 1150.94,809.473 1151.15,766.846 1151.35,724.219 1151.56,681.761 1151.76,639.638 1151.96,598.018 1152.17,557.064 1152.37,516.937 1152.57,477.797 1152.78,439.798 1152.98,403.089 1153.19,367.816 1153.39,334.118 1153.59,302.128 1153.8,271.971 1154,243.768 1154.2,217.629 1154.41,193.657 1154.61,171.948 1154.81,152.586 1155.02,135.649 1155.22,121.203 1155.43,109.304 1155.63,100.001 1155.83,93.3294 1156.04,89.3159 1156.24,87.9763 1156.44,89.3159 1156.65,93.3294 1156.85,100.001 1157.05,109.304 1157.26,121.203 1157.46,135.649 1157.67,152.586 1157.87,171.948 1158.07,193.657 1158.28,217.629 1158.48,243.768 1158.68,271.971 1158.89,302.128 1159.09,334.118 1159.3,367.816 1159.5,403.089 1159.7,439.798 1159.91,477.797 1160.11,516.937 1160.31,557.064 1160.52,598.018 1160.72,639.638 1160.92,681.761 1161.13,724.219 1161.33,766.846 1161.54,809.473 1161.74,851.931 1161.94,894.053 1162.15,935.674 1162.35,976.628 1162.55,1016.75 1162.76,1055.89 1162.96,1093.89 1163.16,1130.6 1163.37,1165.88 1163.57,1199.57 1163.78,1231.56 1163.98,1261.72 1164.18,1289.92 1164.39,1316.06 1164.59,1340.03 1164.79,1361.74 1165,1381.11 1165.2,1398.04 1165.4,1412.49 1165.61,1424.39 1165.81,1433.69 1166.02,1440.36 1166.22,1444.38 1166.42,1445.72 1166.63,1444.38 1166.83,1440.36 1167.03,1433.69 1167.24,1424.39 1167.44,1412.49 1167.65,1398.04 1167.85,1381.11 1168.05,1361.74 1168.26,1340.03 1168.46,1316.06 1168.66,1289.92 1168.87,1261.72 1169.07,1231.56 1169.27,1199.57 1169.48,1165.88 1169.68,1130.6 1169.89,1093.89 1170.09,1055.89 1170.29,1016.75 1170.5,976.628 1170.7,935.674 1170.9,894.053 1171.11,851.931 1171.31,809.473 1171.51,766.846 1171.72,724.219 1171.92,681.761 1172.13,639.638 1172.33,598.018 1172.53,557.064 1172.74,516.937 1172.94,477.797 1173.14,439.798 1173.35,403.089 1173.55,367.816 1173.76,334.118 1173.96,302.128 1174.16,271.971 1174.37,243.768 1174.57,217.629 1174.77,193.657 1174.98,171.948 1175.18,152.586 1175.38,135.649 1175.59,121.203 1175.79,109.304 1176,100.001 1176.2,93.3294 1176.4,89.3159 1176.61,87.9763 1176.81,89.3159 1177.01,93.3294 1177.22,100.001 1177.42,109.304 1177.62,121.203 1177.83,135.649 1178.03,152.586 1178.24,171.948 1178.44,193.657 1178.64,217.629 1178.85,243.768 1179.05,271.971 1179.25,302.128 1179.46,334.118 1179.66,367.816 1179.86,403.089 1180.07,439.798 1180.27,477.797 1180.48,516.937 1180.68,557.064 1180.88,598.018 1181.09,639.638 1181.29,681.761 1181.49,724.219 1181.7,766.846 1181.9,809.473 1182.11,851.931 1182.31,894.053 1182.51,935.674 1182.72,976.628 1182.92,1016.75 1183.12,1055.89 1183.33,1093.89 1183.53,1130.6 1183.73,1165.88 1183.94,1199.57 1184.14,1231.56 1184.35,1261.72 1184.55,1289.92 1184.75,1316.06 1184.96,1340.03 1185.16,1361.74 1185.36,1381.11 1185.57,1398.04 1185.77,1412.49 1185.97,1424.39 1186.18,1433.69 1186.38,1440.36 1186.59,1444.38 1186.79,1445.72 1186.99,1444.38 1187.2,1440.36 1187.4,1433.69 1187.6,1424.39 1187.81,1412.49 1188.01,1398.04 1188.22,1381.11 1188.42,1361.74 1188.62,1340.03 1188.83,1316.06 1189.03,1289.92 1189.23,1261.72 1189.44,1231.56 1189.64,1199.57 1189.84,1165.88 1190.05,1130.6 1190.25,1093.89 1190.46,1055.89 1190.66,1016.75 1190.86,976.628 1191.07,935.674 1191.27,894.053 1191.47,851.931 1191.68,809.473 1191.88,766.846 1192.08,724.219 1192.29,681.761 1192.49,639.638 1192.7,598.018 1192.9,557.064 1193.1,516.937 1193.31,477.797 1193.51,439.798 1193.71,403.089 1193.92,367.816 1194.12,334.118 1194.32,302.128 1194.53,271.971 1194.73,243.768 1194.94,217.629 1195.14,193.657 1195.34,171.948 1195.55,152.586 1195.75,135.649 1195.95,121.203 1196.16,109.304 1196.36,100.001 1196.57,93.3294 1196.77,89.3159 1196.97,87.9763 1197.18,89.3159 1197.38,93.3294 1197.58,100.001 1197.79,109.304 1197.99,121.203 1198.19,135.649 1198.4,152.586 1198.6,171.948 1198.81,193.657 1199.01,217.629 1199.21,243.768 1199.42,271.971 1199.62,302.128 1199.82,334.118 1200.03,367.816 1200.23,403.089 1200.43,439.798 1200.64,477.797 1200.84,516.937 1201.05,557.064 1201.25,598.018 1201.45,639.638 1201.66,681.761 1201.86,724.219 1202.06,766.846 1202.27,809.473 1202.47,851.931 1202.68,894.053 1202.88,935.674 1203.08,976.628 1203.29,1016.75 1203.49,1055.89 1203.69,1093.89 1203.9,1130.6 1204.1,1165.88 1204.3,1199.57 1204.51,1231.56 1204.71,1261.72 1204.92,1289.92 1205.12,1316.06 1205.32,1340.03 1205.53,1361.74 1205.73,1381.11 1205.93,1398.04 1206.14,1412.49 1206.34,1424.39 1206.54,1433.69 1206.75,1440.36 1206.95,1444.38 1207.16,1445.72 1207.36,1444.38 1207.56,1440.36 1207.77,1433.69 1207.97,1424.39 1208.17,1412.49 1208.38,1398.04 1208.58,1381.11 1208.79,1361.74 1208.99,1340.03 1209.19,1316.06 1209.4,1289.92 1209.6,1261.72 1209.8,1231.56 1210.01,1199.57 1210.21,1165.88 1210.41,1130.6 1210.62,1093.89 1210.82,1055.89 1211.03,1016.75 1211.23,976.628 1211.43,935.674 1211.64,894.053 1211.84,851.931 1212.04,809.473 1212.25,766.846 1212.45,724.219 1212.65,681.761 1212.86,639.638 1213.06,598.018 1213.27,557.064 1213.47,516.937 1213.67,477.797 1213.88,439.798 1214.08,403.089 1214.28,367.816 1214.49,334.118 1214.69,302.128 1214.89,271.971 1215.1,243.768 1215.3,217.629 1215.51,193.657 1215.71,171.948 1215.91,152.586 1216.12,135.649 1216.32,121.203 1216.52,109.304 1216.73,100.001 1216.93,93.3294 1217.14,89.3159 1217.34,87.9763 1217.54,89.3159 1217.75,93.3294 1217.95,100.001 1218.15,109.304 1218.36,121.203 1218.56,135.649 1218.76,152.586 1218.97,171.948 1219.17,193.657 1219.38,217.629 1219.58,243.768 1219.78,271.971 1219.99,302.128 1220.19,334.118 1220.39,367.816 1220.6,403.089 1220.8,439.798 1221,477.797 1221.21,516.937 1221.41,557.064 1221.62,598.018 1221.82,639.638 1222.02,681.761 1222.23,724.219 1222.43,766.846 1222.63,809.473 1222.84,851.931 1223.04,894.053 1223.25,935.674 1223.45,976.628 1223.65,1016.75 1223.86,1055.89 1224.06,1093.89 1224.26,1130.6 1224.47,1165.88 1224.67,1199.57 1224.87,1231.56 1225.08,1261.72 1225.28,1289.92 1225.49,1316.06 1225.69,1340.03 1225.89,1361.74 1226.1,1381.11 1226.3,1398.04 1226.5,1412.49 1226.71,1424.39 1226.91,1433.69 1227.11,1440.36 1227.32,1444.38 1227.52,1445.72 1227.73,1444.38 1227.93,1440.36 1228.13,1433.69 1228.34,1424.39 1228.54,1412.49 1228.74,1398.04 1228.95,1381.11 1229.15,1361.74 1229.35,1340.03 1229.56,1316.06 1229.76,1289.92 1229.97,1261.72 1230.17,1231.56 1230.37,1199.57 1230.58,1165.88 1230.78,1130.6 1230.98,1093.89 1231.19,1055.89 1231.39,1016.75 1231.6,976.628 1231.8,935.674 1232,894.053 1232.21,851.931 1232.41,809.473 1232.61,766.846 1232.82,724.219 1233.02,681.761 1233.22,639.638 1233.43,598.018 1233.63,557.064 1233.84,516.937 1234.04,477.797 1234.24,439.798 1234.45,403.089 1234.65,367.816 1234.85,334.118 1235.06,302.128 1235.26,271.971 1235.46,243.768 1235.67,217.629 1235.87,193.657 1236.08,171.948 1236.28,152.586 1236.48,135.649 1236.69,121.203 1236.89,109.304 1237.09,100.001 1237.3,93.3294 1237.5,89.3159 1237.71,87.9763 1237.91,89.3159 1238.11,93.3294 1238.32,100.001 1238.52,109.304 1238.72,121.203 1238.93,135.649 1239.13,152.586 1239.33,171.948 1239.54,193.657 1239.74,217.629 1239.95,243.768 1240.15,271.971 1240.35,302.128 1240.56,334.118 1240.76,367.816 1240.96,403.089 1241.17,439.798 1241.37,477.797 1241.57,516.937 1241.78,557.064 1241.98,598.018 1242.19,639.638 1242.39,681.761 1242.59,724.219 1242.8,766.846 1243,809.473 1243.2,851.931 1243.41,894.053 1243.61,935.674 1243.81,976.628 1244.02,1016.75 1244.22,1055.89 1244.43,1093.89 1244.63,1130.6 1244.83,1165.88 1245.04,1199.57 1245.24,1231.56 1245.44,1261.72 1245.65,1289.92 1245.85,1316.06 1246.06,1340.03 1246.26,1361.74 1246.46,1381.11 1246.67,1398.04 1246.87,1412.49 1247.07,1424.39 1247.28,1433.69 1247.48,1440.36 1247.68,1444.38 1247.89,1445.72 1248.09,1444.38 1248.3,1440.36 1248.5,1433.69 1248.7,1424.39 1248.91,1412.49 1249.11,1398.04 1249.31,1381.11 1249.52,1361.74 1249.72,1340.03 1249.92,1316.06 1250.13,1289.92 1250.33,1261.72 1250.54,1231.56 1250.74,1199.57 1250.94,1165.88 1251.15,1130.6 1251.35,1093.89 1251.55,1055.89 1251.76,1016.75 1251.96,976.628 1252.17,935.674 1252.37,894.053 1252.57,851.931 1252.78,809.473 1252.98,766.846 1253.18,724.219 1253.39,681.761 1253.59,639.638 1253.79,598.018 1254,557.064 1254.2,516.937 1254.41,477.797 1254.61,439.798 1254.81,403.089 1255.02,367.816 1255.22,334.118 1255.42,302.128 1255.63,271.971 1255.83,243.768 1256.03,217.629 1256.24,193.657 1256.44,171.948 1256.65,152.586 1256.85,135.649 1257.05,121.203 1257.26,109.304 1257.46,100.001 1257.66,93.3294 1257.87,89.3159 1258.07,87.9763 1258.27,89.3159 1258.48,93.3294 1258.68,100.001 1258.89,109.304 1259.09,121.203 1259.29,135.649 1259.5,152.586 1259.7,171.948 1259.9,193.657 1260.11,217.629 1260.31,243.768 1260.52,271.971 1260.72,302.128 1260.92,334.118 1261.13,367.816 1261.33,403.089 1261.53,439.798 1261.74,477.797 1261.94,516.937 1262.14,557.064 1262.35,598.018 1262.55,639.638 1262.76,681.761 1262.96,724.219 1263.16,766.846 1263.37,809.473 1263.57,851.931 1263.77,894.053 1263.98,935.674 1264.18,976.628 1264.38,1016.75 1264.59,1055.89 1264.79,1093.89 1265,1130.6 1265.2,1165.88 1265.4,1199.57 1265.61,1231.56 1265.81,1261.72 1266.01,1289.92 1266.22,1316.06 1266.42,1340.03 1266.63,1361.74 1266.83,1381.11 1267.03,1398.04 1267.24,1412.49 1267.44,1424.39 1267.64,1433.69 1267.85,1440.36 1268.05,1444.38 1268.25,1445.72 1268.46,1444.38 1268.66,1440.36 1268.87,1433.69 1269.07,1424.39 1269.27,1412.49 1269.48,1398.04 1269.68,1381.11 1269.88,1361.74 1270.09,1340.03 1270.29,1316.06 1270.49,1289.92 1270.7,1261.72 1270.9,1231.56 1271.11,1199.57 1271.31,1165.88 1271.51,1130.6 1271.72,1093.89 1271.92,1055.89 1272.12,1016.75 1272.33,976.628 1272.53,935.674 1272.73,894.053 1272.94,851.931 1273.14,809.473 1273.35,766.846 1273.55,724.219 1273.75,681.761 1273.96,639.638 1274.16,598.018 1274.36,557.064 1274.57,516.937 1274.77,477.797 1274.98,439.798 1275.18,403.089 1275.38,367.816 1275.59,334.118 1275.79,302.128 1275.99,271.971 1276.2,243.768 1276.4,217.629 1276.6,193.657 1276.81,171.948 1277.01,152.586 1277.22,135.649 1277.42,121.203 1277.62,109.304 1277.83,100.001 1278.03,93.3294 1278.23,89.3159 1278.44,87.9763 1278.64,89.3159 1278.84,93.3294 1279.05,100.001 1279.25,109.304 1279.46,121.203 1279.66,135.649 1279.86,152.586 1280.07,171.948 1280.27,193.657 1280.47,217.629 1280.68,243.768 1280.88,271.971 1281.09,302.128 1281.29,334.118 1281.49,367.816 1281.7,403.089 1281.9,439.798 1282.1,477.797 1282.31,516.937 1282.51,557.064 1282.71,598.018 1282.92,639.638 1283.12,681.761 1283.33,724.219 1283.53,766.846 1283.73,809.473 1283.94,851.931 1284.14,894.053 1284.34,935.674 1284.55,976.628 1284.75,1016.75 1284.95,1055.89 1285.16,1093.89 1285.36,1130.6 1285.57,1165.88 1285.77,1199.57 1285.97,1231.56 1286.18,1261.72 1286.38,1289.92 1286.58,1316.06 1286.79,1340.03 1286.99,1361.74 1287.19,1381.11 1287.4,1398.04 1287.6,1412.49 1287.81,1424.39 1288.01,1433.69 1288.21,1440.36 1288.42,1444.38 1288.62,1445.72 1288.82,1444.38 1289.03,1440.36 1289.23,1433.69 1289.44,1424.39 1289.64,1412.49 1289.84,1398.04 1290.05,1381.11 1290.25,1361.74 1290.45,1340.03 1290.66,1316.06 1290.86,1289.92 1291.06,1261.72 1291.27,1231.56 1291.47,1199.57 1291.68,1165.88 1291.88,1130.6 1292.08,1093.89 1292.29,1055.89 1292.49,1016.75 1292.69,976.628 1292.9,935.674 1293.1,894.053 1293.3,851.931 1293.51,809.473 1293.71,766.846 1293.92,724.219 1294.12,681.761 1294.32,639.638 1294.53,598.018 1294.73,557.064 1294.93,516.937 1295.14,477.797 1295.34,439.798 1295.55,403.089 1295.75,367.816 1295.95,334.118 1296.16,302.128 1296.36,271.971 1296.56,243.768 1296.77,217.629 1296.97,193.657 1297.17,171.948 1297.38,152.586 1297.58,135.649 1297.79,121.203 1297.99,109.304 1298.19,100.001 1298.4,93.3294 1298.6,89.3159 1298.8,87.9763 1299.01,89.3159 1299.21,93.3294 1299.41,100.001 1299.62,109.304 1299.82,121.203 1300.03,135.649 1300.23,152.586 1300.43,171.948 1300.64,193.657 1300.84,217.629 1301.04,243.768 1301.25,271.971 1301.45,302.128 1301.66,334.118 1301.86,367.816 1302.06,403.089 1302.27,439.798 1302.47,477.797 1302.67,516.937 1302.88,557.064 1303.08,598.018 1303.28,639.638 1303.49,681.761 1303.69,724.219 1303.9,766.846 1304.1,809.473 1304.3,851.931 1304.51,894.053 1304.71,935.674 1304.91,976.628 1305.12,1016.75 1305.32,1055.89 1305.52,1093.89 1305.73,1130.6 1305.93,1165.88 1306.14,1199.57 1306.34,1231.56 1306.54,1261.72 1306.75,1289.92 1306.95,1316.06 1307.15,1340.03 1307.36,1361.74 1307.56,1381.11 1307.76,1398.04 1307.97,1412.49 1308.17,1424.39 1308.38,1433.69 1308.58,1440.36 1308.78,1444.38 1308.99,1445.72 1309.19,1444.38 1309.39,1440.36 1309.6,1433.69 1309.8,1424.39 1310.01,1412.49 1310.21,1398.04 1310.41,1381.11 1310.62,1361.74 1310.82,1340.03 1311.02,1316.06 1311.23,1289.92 1311.43,1261.72 1311.63,1231.56 1311.84,1199.57 1312.04,1165.88 1312.25,1130.6 1312.45,1093.89 1312.65,1055.89 1312.86,1016.75 1313.06,976.628 1313.26,935.674 1313.47,894.053 1313.67,851.931 1313.87,809.473 1314.08,766.846 1314.28,724.219 1314.49,681.761 1314.69,639.638 1314.89,598.018 1315.1,557.064 1315.3,516.937 1315.5,477.797 1315.71,439.798 1315.91,403.089 1316.12,367.816 1316.32,334.118 1316.52,302.128 1316.73,271.971 1316.93,243.768 1317.13,217.629 1317.34,193.657 1317.54,171.948 1317.74,152.586 1317.95,135.649 1318.15,121.203 1318.36,109.304 1318.56,100.001 1318.76,93.3294 1318.97,89.3159 1319.17,87.9763 1319.37,89.3159 1319.58,93.3294 1319.78,100.001 1319.98,109.304 1320.19,121.203 1320.39,135.649 1320.6,152.586 1320.8,171.948 1321,193.657 1321.21,217.629 1321.41,243.768 1321.61,271.971 1321.82,302.128 1322.02,334.118 1322.22,367.816 1322.43,403.089 1322.63,439.798 1322.84,477.797 1323.04,516.937 1323.24,557.064 1323.45,598.018 1323.65,639.638 1323.85,681.761 1324.06,724.219 1324.26,766.846 1324.47,809.473 1324.67,851.931 1324.87,894.053 1325.08,935.674 1325.28,976.628 1325.48,1016.75 1325.69,1055.89 1325.89,1093.89 1326.09,1130.6 1326.3,1165.88 1326.5,1199.57 1326.71,1231.56 1326.91,1261.72 1327.11,1289.92 1327.32,1316.06 1327.52,1340.03 1327.72,1361.74 1327.93,1381.11 1328.13,1398.04 1328.33,1412.49 1328.54,1424.39 1328.74,1433.69 1328.95,1440.36 1329.15,1444.38 1329.35,1445.72 1329.56,1444.38 1329.76,1440.36 1329.96,1433.69 1330.17,1424.39 1330.37,1412.49 1330.58,1398.04 1330.78,1381.11 1330.98,1361.74 1331.19,1340.03 1331.39,1316.06 1331.59,1289.92 1331.8,1261.72 1332,1231.56 1332.2,1199.57 1332.41,1165.88 1332.61,1130.6 1332.82,1093.89 1333.02,1055.89 1333.22,1016.75 1333.43,976.628 1333.63,935.674 1333.83,894.053 1334.04,851.931 1334.24,809.473 1334.44,766.846 1334.65,724.219 1334.85,681.761 1335.06,639.638 1335.26,598.018 1335.46,557.064 1335.67,516.937 1335.87,477.797 1336.07,439.798 1336.28,403.089 1336.48,367.816 1336.68,334.118 1336.89,302.128 1337.09,271.971 1337.3,243.768 1337.5,217.629 1337.7,193.657 1337.91,171.948 1338.11,152.586 1338.31,135.649 1338.52,121.203 1338.72,109.304 1338.93,100.001 1339.13,93.3294 1339.33,89.3159 1339.54,87.9763 1339.74,89.3159 1339.94,93.3294 1340.15,100.001 1340.35,109.304 1340.55,121.203 1340.76,135.649 1340.96,152.586 1341.17,171.948 1341.37,193.657 1341.57,217.629 1341.78,243.768 1341.98,271.971 1342.18,302.128 1342.39,334.118 1342.59,367.816 1342.79,403.089 1343,439.798 1343.2,477.797 1343.41,516.937 1343.61,557.064 1343.81,598.018 1344.02,639.638 1344.22,681.761 1344.42,724.219 1344.63,766.846 1344.83,809.473 1345.04,851.931 1345.24,894.053 1345.44,935.674 1345.65,976.628 1345.85,1016.75 1346.05,1055.89 1346.26,1093.89 1346.46,1130.6 1346.66,1165.88 1346.87,1199.57 1347.07,1231.56 1347.28,1261.72 1347.48,1289.92 1347.68,1316.06 1347.89,1340.03 1348.09,1361.74 1348.29,1381.11 1348.5,1398.04 1348.7,1412.49 1348.9,1424.39 1349.11,1433.69 1349.31,1440.36 1349.52,1444.38 1349.72,1445.72 1349.92,1444.38 1350.13,1440.36 1350.33,1433.69 1350.53,1424.39 1350.74,1412.49 1350.94,1398.04 1351.14,1381.11 1351.35,1361.74 1351.55,1340.03 1351.76,1316.06 1351.96,1289.92 1352.16,1261.72 1352.37,1231.56 1352.57,1199.57 1352.77,1165.88 1352.98,1130.6 1353.18,1093.89 1353.39,1055.89 1353.59,1016.75 1353.79,976.628 1354,935.674 1354.2,894.053 1354.4,851.931 1354.61,809.473 1354.81,766.846 1355.01,724.219 1355.22,681.761 1355.42,639.638 1355.63,598.018 1355.83,557.064 1356.03,516.937 1356.24,477.797 1356.44,439.798 1356.64,403.089 1356.85,367.816 1357.05,334.118 1357.25,302.128 1357.46,271.971 1357.66,243.768 1357.87,217.629 1358.07,193.657 1358.27,171.948 1358.48,152.586 1358.68,135.649 1358.88,121.203 1359.09,109.304 1359.29,100.001 1359.5,93.3294 1359.7,89.3159 1359.9,87.9763 1360.11,89.3159 1360.31,93.3294 1360.51,100.001 1360.72,109.304 1360.92,121.203 1361.12,135.649 1361.33,152.586 1361.53,171.948 1361.74,193.657 1361.94,217.629 1362.14,243.768 1362.35,271.971 1362.55,302.128 1362.75,334.118 1362.96,367.816 1363.16,403.089 1363.36,439.798 1363.57,477.797 1363.77,516.937 1363.98,557.064 1364.18,598.018 1364.38,639.638 1364.59,681.761 1364.79,724.219 1364.99,766.846 1365.2,809.473 1365.4,851.931 1365.6,894.053 1365.81,935.674 1366.01,976.628 1366.22,1016.75 1366.42,1055.89 1366.62,1093.89 1366.83,1130.6 1367.03,1165.88 1367.23,1199.57 1367.44,1231.56 1367.64,1261.72 1367.85,1289.92 1368.05,1316.06 1368.25,1340.03 1368.46,1361.74 1368.66,1381.11 1368.86,1398.04 1369.07,1412.49 1369.27,1424.39 1369.47,1433.69 1369.68,1440.36 1369.88,1444.38 1370.09,1445.72 1370.29,1444.38 1370.49,1440.36 1370.7,1433.69 1370.9,1424.39 1371.1,1412.49 1371.31,1398.04 1371.51,1381.11 1371.71,1361.74 1371.92,1340.03 1372.12,1316.06 1372.33,1289.92 1372.53,1261.72 1372.73,1231.56 1372.94,1199.57 1373.14,1165.88 1373.34,1130.6 1373.55,1093.89 1373.75,1055.89 1373.96,1016.75 1374.16,976.628 1374.36,935.674 1374.57,894.053 1374.77,851.931 1374.97,809.473 1375.18,766.846 1375.38,724.219 1375.58,681.761 1375.79,639.638 1375.99,598.018 1376.2,557.064 1376.4,516.937 1376.6,477.797 1376.81,439.798 1377.01,403.089 1377.21,367.816 1377.42,334.118 1377.62,302.128 1377.82,271.971 1378.03,243.768 1378.23,217.629 1378.44,193.657 1378.64,171.948 1378.84,152.586 1379.05,135.649 1379.25,121.203 1379.45,109.304 1379.66,100.001 1379.86,93.3294 1380.06,89.3159 1380.27,87.9763 1380.47,89.3159 1380.68,93.3294 1380.88,100.001 1381.08,109.304 1381.29,121.203 1381.49,135.649 1381.69,152.586 1381.9,171.948 1382.1,193.657 1382.31,217.629 1382.51,243.768 1382.71,271.971 1382.92,302.128 1383.12,334.118 1383.32,367.816 1383.53,403.089 1383.73,439.798 1383.93,477.797 1384.14,516.937 1384.34,557.064 1384.55,598.018 1384.75,639.638 1384.95,681.761 1385.16,724.219 1385.36,766.846 1385.56,809.473 1385.77,851.931 1385.97,894.053 1386.17,935.674 1386.38,976.628 1386.58,1016.75 1386.79,1055.89 1386.99,1093.89 1387.19,1130.6 1387.4,1165.88 1387.6,1199.57 1387.8,1231.56 1388.01,1261.72 1388.21,1289.92 1388.42,1316.06 1388.62,1340.03 1388.82,1361.74 1389.03,1381.11 1389.23,1398.04 1389.43,1412.49 1389.64,1424.39 1389.84,1433.69 1390.04,1440.36 1390.25,1444.38 1390.45,1445.72 1390.66,1444.38 1390.86,1440.36 1391.06,1433.69 1391.27,1424.39 1391.47,1412.49 1391.67,1398.04 1391.88,1381.11 1392.08,1361.74 1392.28,1340.03 1392.49,1316.06 1392.69,1289.92 1392.9,1261.72 1393.1,1231.56 1393.3,1199.57 1393.51,1165.88 1393.71,1130.6 1393.91,1093.89 1394.12,1055.89 1394.32,1016.75 1394.52,976.628 1394.73,935.674 1394.93,894.053 1395.14,851.931 1395.34,809.473 1395.54,766.846 1395.75,724.219 1395.95,681.761 1396.15,639.638 1396.36,598.018 1396.56,557.064 1396.77,516.937 1396.97,477.797 1397.17,439.798 1397.38,403.089 1397.58,367.816 1397.78,334.118 1397.99,302.128 1398.19,271.971 1398.39,243.768 1398.6,217.629 1398.8,193.657 1399.01,171.948 1399.21,152.586 1399.41,135.649 1399.62,121.203 1399.82,109.304 1400.02,100.001 1400.23,93.3294 1400.43,89.3159 1400.63,87.9763 1400.84,89.3159 1401.04,93.3294 1401.25,100.001 1401.45,109.304 1401.65,121.203 1401.86,135.649 1402.06,152.586 1402.26,171.948 1402.47,193.657 1402.67,217.629 1402.88,243.768 1403.08,271.971 1403.28,302.128 1403.49,334.118 1403.69,367.816 1403.89,403.089 1404.1,439.798 1404.3,477.797 1404.5,516.937 1404.71,557.064 1404.91,598.018 1405.12,639.638 1405.32,681.761 1405.52,724.219 1405.73,766.846 1405.93,809.473 1406.13,851.931 1406.34,894.053 1406.54,935.674 1406.74,976.628 1406.95,1016.75 1407.15,1055.89 1407.36,1093.89 1407.56,1130.6 1407.76,1165.88 1407.97,1199.57 1408.17,1231.56 1408.37,1261.72 1408.58,1289.92 1408.78,1316.06 1408.99,1340.03 1409.19,1361.74 1409.39,1381.11 1409.6,1398.04 1409.8,1412.49 1410,1424.39 1410.21,1433.69 1410.41,1440.36 1410.61,1444.38 1410.82,1445.72 1411.02,1444.38 1411.23,1440.36 1411.43,1433.69 1411.63,1424.39 1411.84,1412.49 1412.04,1398.04 1412.24,1381.11 1412.45,1361.74 1412.65,1340.03 1412.85,1316.06 1413.06,1289.92 1413.26,1261.72 1413.47,1231.56 1413.67,1199.57 1413.87,1165.88 1414.08,1130.6 1414.28,1093.89 1414.48,1055.89 1414.69,1016.75 1414.89,976.628 1415.09,935.674 1415.3,894.053 1415.5,851.931 1415.71,809.473 1415.91,766.846 1416.11,724.219 1416.32,681.761 1416.52,639.638 1416.72,598.018 1416.93,557.064 1417.13,516.937 1417.34,477.797 1417.54,439.798 1417.74,403.089 1417.95,367.816 1418.15,334.118 1418.35,302.128 1418.56,271.971 1418.76,243.768 1418.96,217.629 1419.17,193.657 1419.37,171.948 1419.58,152.586 1419.78,135.649 1419.98,121.203 1420.19,109.304 1420.39,100.001 1420.59,93.3294 1420.8,89.3159 1421,87.9763 1421.2,89.3159 1421.41,93.3294 1421.61,100.001 1421.82,109.304 1422.02,121.203 1422.22,135.649 1422.43,152.586 1422.63,171.948 1422.83,193.657 1423.04,217.629 1423.24,243.768 1423.45,271.971 1423.65,302.128 1423.85,334.118 1424.06,367.816 1424.26,403.089 1424.46,439.798 1424.67,477.797 1424.87,516.937 1425.07,557.064 1425.28,598.018 1425.48,639.638 1425.69,681.761 1425.89,724.219 1426.09,766.846 1426.3,809.473 1426.5,851.931 1426.7,894.053 1426.91,935.674 1427.11,976.628 1427.31,1016.75 1427.52,1055.89 1427.72,1093.89 1427.93,1130.6 1428.13,1165.88 1428.33,1199.57 1428.54,1231.56 1428.74,1261.72 1428.94,1289.92 1429.15,1316.06 1429.35,1340.03 1429.55,1361.74 1429.76,1381.11 1429.96,1398.04 1430.17,1412.49 1430.37,1424.39 1430.57,1433.69 1430.78,1440.36 1430.98,1444.38 1431.18,1445.72 1431.39,1444.38 1431.59,1440.36 1431.8,1433.69 1432,1424.39 1432.2,1412.49 1432.41,1398.04 1432.61,1381.11 1432.81,1361.74 1433.02,1340.03 1433.22,1316.06 1433.42,1289.92 1433.63,1261.72 1433.83,1231.56 1434.04,1199.57 1434.24,1165.88 1434.44,1130.6 1434.65,1093.89 1434.85,1055.89 1435.05,1016.75 1435.26,976.628 1435.46,935.674 1435.66,894.053 1435.87,851.931 1436.07,809.473 1436.28,766.846 1436.48,724.219 1436.68,681.761 1436.89,639.638 1437.09,598.018 1437.29,557.064 1437.5,516.937 1437.7,477.797 1437.91,439.798 1438.11,403.089 1438.31,367.816 1438.52,334.118 1438.72,302.128 1438.92,271.971 1439.13,243.768 1439.33,217.629 1439.53,193.657 1439.74,171.948 1439.94,152.586 1440.15,135.649 1440.35,121.203 1440.55,109.304 1440.76,100.001 1440.96,93.3294 1441.16,89.3159 1441.37,87.9763 1441.57,89.3159 1441.77,93.3294 1441.98,100.001 1442.18,109.304 1442.39,121.203 1442.59,135.649 1442.79,152.586 1443,171.948 1443.2,193.657 1443.4,217.629 1443.61,243.768 1443.81,271.971 1444.01,302.128 1444.22,334.118 1444.42,367.816 1444.63,403.089 1444.83,439.798 1445.03,477.797 1445.24,516.937 1445.44,557.064 1445.64,598.018 1445.85,639.638 1446.05,681.761 1446.26,724.219 1446.46,766.846 1446.66,809.473 1446.87,851.931 1447.07,894.053 1447.27,935.674 1447.48,976.628 1447.68,1016.75 1447.88,1055.89 1448.09,1093.89 1448.29,1130.6 1448.5,1165.88 1448.7,1199.57 1448.9,1231.56 1449.11,1261.72 1449.31,1289.92 1449.51,1316.06 1449.72,1340.03 1449.92,1361.74 1450.12,1381.11 1450.33,1398.04 1450.53,1412.49 1450.74,1424.39 1450.94,1433.69 1451.14,1440.36 1451.35,1444.38 1451.55,1445.72 1451.75,1444.38 1451.96,1440.36 1452.16,1433.69 1452.37,1424.39 1452.57,1412.49 1452.77,1398.04 1452.98,1381.11 1453.18,1361.74 1453.38,1340.03 1453.59,1316.06 1453.79,1289.92 1453.99,1261.72 1454.2,1231.56 1454.4,1199.57 1454.61,1165.88 1454.81,1130.6 1455.01,1093.89 1455.22,1055.89 1455.42,1016.75 1455.62,976.628 1455.83,935.674 1456.03,894.053 1456.23,851.931 1456.44,809.473 1456.64,766.846 1456.85,724.219 1457.05,681.761 1457.25,639.638 1457.46,598.018 1457.66,557.064 1457.86,516.937 1458.07,477.797 1458.27,439.798 1458.47,403.089 1458.68,367.816 1458.88,334.118 1459.09,302.128 1459.29,271.971 1459.49,243.768 1459.7,217.629 1459.9,193.657 1460.1,171.948 1460.31,152.586 1460.51,135.649 1460.72,121.203 1460.92,109.304 1461.12,100.001 1461.33,93.3294 1461.53,89.3159 1461.73,87.9763 1461.94,89.3159 1462.14,93.3294 1462.34,100.001 1462.55,109.304 1462.75,121.203 1462.96,135.649 1463.16,152.586 1463.36,171.948 1463.57,193.657 1463.77,217.629 1463.97,243.768 1464.18,271.971 1464.38,302.128 1464.58,334.118 1464.79,367.816 1464.99,403.089 1465.2,439.798 1465.4,477.797 1465.6,516.937 1465.81,557.064 1466.01,598.018 1466.21,639.638 1466.42,681.761 1466.62,724.219 1466.83,766.846 1467.03,809.473 1467.23,851.931 1467.44,894.053 1467.64,935.674 1467.84,976.628 1468.05,1016.75 1468.25,1055.89 1468.45,1093.89 1468.66,1130.6 1468.86,1165.88 1469.07,1199.57 1469.27,1231.56 1469.47,1261.72 1469.68,1289.92 1469.88,1316.06 1470.08,1340.03 1470.29,1361.74 1470.49,1381.11 1470.69,1398.04 1470.9,1412.49 1471.1,1424.39 1471.31,1433.69 1471.51,1440.36 1471.71,1444.38 1471.92,1445.72 1472.12,1444.38 1472.32,1440.36 1472.53,1433.69 1472.73,1424.39 1472.93,1412.49 1473.14,1398.04 1473.34,1381.11 1473.55,1361.74 1473.75,1340.03 1473.95,1316.06 1474.16,1289.92 1474.36,1261.72 1474.56,1231.56 1474.77,1199.57 1474.97,1165.88 1475.18,1130.6 1475.38,1093.89 1475.58,1055.89 1475.79,1016.75 1475.99,976.628 1476.19,935.674 1476.4,894.053 1476.6,851.931 1476.8,809.473 1477.01,766.846 1477.21,724.219 1477.42,681.761 1477.62,639.638 1477.82,598.018 1478.03,557.064 1478.23,516.937 1478.43,477.797 1478.64,439.798 1478.84,403.089 1479.04,367.816 1479.25,334.118 1479.45,302.128 1479.66,271.971 1479.86,243.768 1480.06,217.629 1480.27,193.657 1480.47,171.948 1480.67,152.586 1480.88,135.649 1481.08,121.203 1481.29,109.304 1481.49,100.001 1481.69,93.3294 1481.9,89.3159 1482.1,87.9763 1482.3,89.3159 1482.51,93.3294 1482.71,100.001 1482.91,109.304 1483.12,121.203 1483.32,135.649 1483.53,152.586 1483.73,171.948 1483.93,193.657 1484.14,217.629 1484.34,243.768 1484.54,271.971 1484.75,302.128 1484.95,334.118 1485.15,367.816 1485.36,403.089 1485.56,439.798 1485.77,477.797 1485.97,516.937 1486.17,557.064 1486.38,598.018 1486.58,639.638 1486.78,681.761 1486.99,724.219 1487.19,766.846 1487.39,809.473 1487.6,851.931 1487.8,894.053 1488.01,935.674 1488.21,976.628 1488.41,1016.75 1488.62,1055.89 1488.82,1093.89 1489.02,1130.6 1489.23,1165.88 1489.43,1199.57 1489.64,1231.56 1489.84,1261.72 1490.04,1289.92 1490.25,1316.06 1490.45,1340.03 1490.65,1361.74 1490.86,1381.11 1491.06,1398.04 1491.26,1412.49 1491.47,1424.39 1491.67,1433.69 1491.88,1440.36 1492.08,1444.38 1492.28,1445.72 1492.49,1444.38 1492.69,1440.36 1492.89,1433.69 1493.1,1424.39 1493.3,1412.49 1493.5,1398.04 1493.71,1381.11 1493.91,1361.74 1494.12,1340.03 1494.32,1316.06 1494.52,1289.92 1494.73,1261.72 1494.93,1231.56 1495.13,1199.57 1495.34,1165.88 1495.54,1130.6 1495.75,1093.89 1495.95,1055.89 1496.15,1016.75 1496.36,976.628 1496.56,935.674 1496.76,894.053 1496.97,851.931 1497.17,809.473 1497.37,766.846 1497.58,724.219 1497.78,681.761 1497.99,639.638 1498.19,598.018 1498.39,557.064 1498.6,516.937 1498.8,477.797 1499,439.798 1499.21,403.089 1499.41,367.816 1499.61,334.118 1499.82,302.128 1500.02,271.971 1500.23,243.768 1500.43,217.629 1500.63,193.657 1500.84,171.948 1501.04,152.586 1501.24,135.649 1501.45,121.203 1501.65,109.304 1501.86,100.001 1502.06,93.3294 1502.26,89.3159 1502.47,87.9763 1502.67,89.3159 1502.87,93.3294 1503.08,100.001 1503.28,109.304 1503.48,121.203 1503.69,135.649 1503.89,152.586 1504.1,171.948 1504.3,193.657 1504.5,217.629 1504.71,243.768 1504.91,271.971 1505.11,302.128 1505.32,334.118 1505.52,367.816 1505.72,403.089 1505.93,439.798 1506.13,477.797 1506.34,516.937 1506.54,557.064 1506.74,598.018 1506.95,639.638 1507.15,681.761 1507.35,724.219 1507.56,766.846 1507.76,809.473 1507.96,851.931 1508.17,894.053 1508.37,935.674 1508.58,976.628 1508.78,1016.75 1508.98,1055.89 1509.19,1093.89 1509.39,1130.6 1509.59,1165.88 1509.8,1199.57 1510,1231.56 1510.21,1261.72 1510.41,1289.92 1510.61,1316.06 1510.82,1340.03 1511.02,1361.74 1511.22,1381.11 1511.43,1398.04 1511.63,1412.49 1511.83,1424.39 1512.04,1433.69 1512.24,1440.36 1512.45,1444.38 1512.65,1445.72 1512.85,1444.38 1513.06,1440.36 1513.26,1433.69 1513.46,1424.39 1513.67,1412.49 1513.87,1398.04 1514.07,1381.11 1514.28,1361.74 1514.48,1340.03 1514.69,1316.06 1514.89,1289.92 1515.09,1261.72 1515.3,1231.56 1515.5,1199.57 1515.7,1165.88 1515.91,1130.6 1516.11,1093.89 1516.32,1055.89 1516.52,1016.75 1516.72,976.628 1516.93,935.674 1517.13,894.053 1517.33,851.931 1517.54,809.473 1517.74,766.846 1517.94,724.219 1518.15,681.761 1518.35,639.638 1518.56,598.018 1518.76,557.064 1518.96,516.937 1519.17,477.797 1519.37,439.798 1519.57,403.089 1519.78,367.816 1519.98,334.118 1520.18,302.128 1520.39,271.971 1520.59,243.768 1520.8,217.629 1521,193.657 1521.2,171.948 1521.41,152.586 1521.61,135.649 1521.81,121.203 1522.02,109.304 1522.22,100.001 1522.42,93.3294 1522.63,89.3159 1522.83,87.9763 1523.04,89.3159 1523.24,93.3294 1523.44,100.001 1523.65,109.304 1523.85,121.203 1524.05,135.649 1524.26,152.586 1524.46,171.948 1524.67,193.657 1524.87,217.629 1525.07,243.768 1525.28,271.971 1525.48,302.128 1525.68,334.118 1525.89,367.816 1526.09,403.089 1526.29,439.798 1526.5,477.797 1526.7,516.937 1526.91,557.064 1527.11,598.018 1527.31,639.638 1527.52,681.761 1527.72,724.219 1527.92,766.846 1528.13,809.473 1528.33,851.931 1528.53,894.053 1528.74,935.674 1528.94,976.628 1529.15,1016.75 1529.35,1055.89 1529.55,1093.89 1529.76,1130.6 1529.96,1165.88 1530.16,1199.57 1530.37,1231.56 1530.57,1261.72 1530.78,1289.92 1530.98,1316.06 1531.18,1340.03 1531.39,1361.74 1531.59,1381.11 1531.79,1398.04 1532,1412.49 1532.2,1424.39 1532.4,1433.69 1532.61,1440.36 1532.81,1444.38 1533.02,1445.72 1533.22,1444.38 1533.42,1440.36 1533.63,1433.69 1533.83,1424.39 1534.03,1412.49 1534.24,1398.04 1534.44,1381.11 1534.64,1361.74 1534.85,1340.03 1535.05,1316.06 1535.26,1289.92 1535.46,1261.72 1535.66,1231.56 1535.87,1199.57 1536.07,1165.88 1536.27,1130.6 1536.48,1093.89 1536.68,1055.89 1536.88,1016.75 1537.09,976.628 1537.29,935.674 1537.5,894.053 1537.7,851.931 1537.9,809.473 1538.11,766.846 1538.31,724.219 1538.51,681.761 1538.72,639.638 1538.92,598.018 1539.13,557.064 1539.33,516.937 1539.53,477.797 1539.74,439.798 1539.94,403.089 1540.14,367.816 1540.35,334.118 1540.55,302.128 1540.75,271.971 1540.96,243.768 1541.16,217.629 1541.37,193.657 1541.57,171.948 1541.77,152.586 1541.98,135.649 1542.18,121.203 1542.38,109.304 1542.59,100.001 1542.79,93.3294 1542.99,89.3159 1543.2,87.9763 1543.4,89.3159 1543.61,93.3294 1543.81,100.001 1544.01,109.304 1544.22,121.203 1544.42,135.649 1544.62,152.586 1544.83,171.948 1545.03,193.657 1545.24,217.629 1545.44,243.768 1545.64,271.971 1545.85,302.128 1546.05,334.118 1546.25,367.816 1546.46,403.089 1546.66,439.798 1546.86,477.797 1547.07,516.937 1547.27,557.064 1547.48,598.018 1547.68,639.638 1547.88,681.761 1548.09,724.219 1548.29,766.846 1548.49,809.473 1548.7,851.931 1548.9,894.053 1549.1,935.674 1549.31,976.628 1549.51,1016.75 1549.72,1055.89 1549.92,1093.89 1550.12,1130.6 1550.33,1165.88 1550.53,1199.57 1550.73,1231.56 1550.94,1261.72 1551.14,1289.92 1551.34,1316.06 1551.55,1340.03 1551.75,1361.74 1551.96,1381.11 1552.16,1398.04 1552.36,1412.49 1552.57,1424.39 1552.77,1433.69 1552.97,1440.36 1553.18,1444.38 1553.38,1445.72 1553.59,1444.38 1553.79,1440.36 1553.99,1433.69 1554.2,1424.39 1554.4,1412.49 1554.6,1398.04 1554.81,1381.11 1555.01,1361.74 1555.21,1340.03 1555.42,1316.06 1555.62,1289.92 1555.83,1261.72 1556.03,1231.56 1556.23,1199.57 1556.44,1165.88 1556.64,1130.6 1556.84,1093.89 1557.05,1055.89 1557.25,1016.75 1557.45,976.628 1557.66,935.674 1557.86,894.053 1558.07,851.931 1558.27,809.473 1558.47,766.846 1558.68,724.219 1558.88,681.761 1559.08,639.638 1559.29,598.018 1559.49,557.064 1559.7,516.937 1559.9,477.797 1560.1,439.798 1560.31,403.089 1560.51,367.816 1560.71,334.118 1560.92,302.128 1561.12,271.971 1561.32,243.768 1561.53,217.629 1561.73,193.657 1561.94,171.948 1562.14,152.586 1562.34,135.649 1562.55,121.203 1562.75,109.304 1562.95,100.001 1563.16,93.3294 1563.36,89.3159 1563.56,87.9763 1563.77,89.3159 1563.97,93.3294 1564.18,100.001 1564.38,109.304 1564.58,121.203 1564.79,135.649 1564.99,152.586 1565.19,171.948 1565.4,193.657 1565.6,217.629 1565.8,243.768 1566.01,271.971 1566.21,302.128 1566.42,334.118 1566.62,367.816 1566.82,403.089 1567.03,439.798 1567.23,477.797 1567.43,516.937 1567.64,557.064 1567.84,598.018 1568.05,639.638 1568.25,681.761 1568.45,724.219 1568.66,766.846 1568.86,809.473 1569.06,851.931 1569.27,894.053 1569.47,935.674 1569.67,976.628 1569.88,1016.75 1570.08,1055.89 1570.29,1093.89 1570.49,1130.6 1570.69,1165.88 1570.9,1199.57 1571.1,1231.56 1571.3,1261.72 1571.51,1289.92 1571.71,1316.06 1571.91,1340.03 1572.12,1361.74 1572.32,1381.11 1572.53,1398.04 1572.73,1412.49 1572.93,1424.39 1573.14,1433.69 1573.34,1440.36 1573.54,1444.38 1573.75,1445.72 1573.95,1444.38 1574.16,1440.36 1574.36,1433.69 1574.56,1424.39 1574.77,1412.49 1574.97,1398.04 1575.17,1381.11 1575.38,1361.74 1575.58,1340.03 1575.78,1316.06 1575.99,1289.92 1576.19,1261.72 1576.4,1231.56 1576.6,1199.57 1576.8,1165.88 1577.01,1130.6 1577.21,1093.89 1577.41,1055.89 1577.62,1016.75 1577.82,976.628 1578.02,935.674 1578.23,894.053 1578.43,851.931 1578.64,809.473 1578.84,766.846 1579.04,724.219 1579.25,681.761 1579.45,639.638 1579.65,598.018 1579.86,557.064 1580.06,516.937 1580.26,477.797 1580.47,439.798 1580.67,403.089 1580.88,367.816 1581.08,334.118 1581.28,302.128 1581.49,271.971 1581.69,243.768 1581.89,217.629 1582.1,193.657 1582.3,171.948 1582.51,152.586 1582.71,135.649 1582.91,121.203 1583.12,109.304 1583.32,100.001 1583.52,93.3294 1583.73,89.3159 1583.93,87.9763 1584.13,89.3159 1584.34,93.3294 1584.54,100.001 1584.75,109.304 1584.95,121.203 1585.15,135.649 1585.36,152.586 1585.56,171.948 1585.76,193.657 1585.97,217.629 1586.17,243.768 1586.37,271.971 1586.58,302.128 1586.78,334.118 1586.99,367.816 1587.19,403.089 1587.39,439.798 1587.6,477.797 1587.8,516.937 1588,557.064 1588.21,598.018 1588.41,639.638 1588.62,681.761 1588.82,724.219 1589.02,766.846 1589.23,809.473 1589.43,851.931 1589.63,894.053 1589.84,935.674 1590.04,976.628 1590.24,1016.75 1590.45,1055.89 1590.65,1093.89 1590.86,1130.6 1591.06,1165.88 1591.26,1199.57 1591.47,1231.56 1591.67,1261.72 1591.87,1289.92 1592.08,1316.06 1592.28,1340.03 1592.48,1361.74 1592.69,1381.11 1592.89,1398.04 1593.1,1412.49 1593.3,1424.39 1593.5,1433.69 1593.71,1440.36 1593.91,1444.38 1594.11,1445.72 1594.32,1444.38 1594.52,1440.36 1594.72,1433.69 1594.93,1424.39 1595.13,1412.49 1595.34,1398.04 1595.54,1381.11 1595.74,1361.74 1595.95,1340.03 1596.15,1316.06 1596.35,1289.92 1596.56,1261.72 1596.76,1231.56 1596.97,1199.57 1597.17,1165.88 1597.37,1130.6 1597.58,1093.89 1597.78,1055.89 1597.98,1016.75 1598.19,976.628 1598.39,935.674 1598.59,894.053 1598.8,851.931 1599,809.473 1599.21,766.846 1599.41,724.219 1599.61,681.761 1599.82,639.638 1600.02,598.018 1600.22,557.064 1600.43,516.937 1600.63,477.797 1600.83,439.798 1601.04,403.089 1601.24,367.816 1601.45,334.118 1601.65,302.128 1601.85,271.971 1602.06,243.768 1602.26,217.629 1602.46,193.657 1602.67,171.948 1602.87,152.586 1603.08,135.649 1603.28,121.203 1603.48,109.304 1603.69,100.001 1603.89,93.3294 1604.09,89.3159 1604.3,87.9763 1604.5,89.3159 1604.7,93.3294 1604.91,100.001 1605.11,109.304 1605.32,121.203 1605.52,135.649 1605.72,152.586 1605.93,171.948 1606.13,193.657 1606.33,217.629 1606.54,243.768 1606.74,271.971 1606.94,302.128 1607.15,334.118 1607.35,367.816 1607.56,403.089 1607.76,439.798 1607.96,477.797 1608.17,516.937 1608.37,557.064 1608.57,598.018 1608.78,639.638 1608.98,681.761 1609.19,724.219 1609.39,766.846 1609.59,809.473 1609.8,851.931 1610,894.053 1610.2,935.674 1610.41,976.628 1610.61,1016.75 1610.81,1055.89 1611.02,1093.89 1611.22,1130.6 1611.43,1165.88 1611.63,1199.57 1611.83,1231.56 1612.04,1261.72 1612.24,1289.92 1612.44,1316.06 1612.65,1340.03 1612.85,1361.74 1613.05,1381.11 1613.26,1398.04 1613.46,1412.49 1613.67,1424.39 1613.87,1433.69 1614.07,1440.36 1614.28,1444.38 1614.48,1445.72 1614.68,1444.38 1614.89,1440.36 1615.09,1433.69 1615.29,1424.39 1615.5,1412.49 1615.7,1398.04 1615.91,1381.11 1616.11,1361.74 1616.31,1340.03 1616.52,1316.06 1616.72,1289.92 1616.92,1261.72 1617.13,1231.56 1617.33,1199.57 1617.54,1165.88 1617.74,1130.6 1617.94,1093.89 1618.15,1055.89 1618.35,1016.75 1618.55,976.628 1618.76,935.674 1618.96,894.053 1619.16,851.931 1619.37,809.473 1619.57,766.846 1619.78,724.219 1619.98,681.761 1620.18,639.638 1620.39,598.018 1620.59,557.064 1620.79,516.937 1621,477.797 1621.2,439.798 1621.4,403.089 1621.61,367.816 1621.81,334.118 1622.02,302.128 1622.22,271.971 1622.42,243.768 1622.63,217.629 1622.83,193.657 1623.03,171.948 1623.24,152.586 1623.44,135.649 1623.65,121.203 1623.85,109.304 1624.05,100.001 1624.26,93.3294 1624.46,89.3159 1624.66,87.9763 1624.87,89.3159 1625.07,93.3294 1625.27,100.001 1625.48,109.304 1625.68,121.203 1625.89,135.649 1626.09,152.586 1626.29,171.948 1626.5,193.657 1626.7,217.629 1626.9,243.768 1627.11,271.971 1627.31,302.128 1627.51,334.118 1627.72,367.816 1627.92,403.089 1628.13,439.798 1628.33,477.797 1628.53,516.937 1628.74,557.064 1628.94,598.018 1629.14,639.638 1629.35,681.761 1629.55,724.219 1629.75,766.846 1629.96,809.473 1630.16,851.931 1630.37,894.053 1630.57,935.674 1630.77,976.628 1630.98,1016.75 1631.18,1055.89 1631.38,1093.89 1631.59,1130.6 1631.79,1165.88 1632,1199.57 1632.2,1231.56 1632.4,1261.72 1632.61,1289.92 1632.81,1316.06 1633.01,1340.03 1633.22,1361.74 1633.42,1381.11 1633.62,1398.04 1633.83,1412.49 1634.03,1424.39 1634.24,1433.69 1634.44,1440.36 1634.64,1444.38 1634.85,1445.72 1635.05,1444.38 1635.25,1440.36 1635.46,1433.69 1635.66,1424.39 1635.86,1412.49 1636.07,1398.04 1636.27,1381.11 1636.48,1361.74 1636.68,1340.03 1636.88,1316.06 1637.09,1289.92 1637.29,1261.72 1637.49,1231.56 1637.7,1199.57 1637.9,1165.88 1638.11,1130.6 1638.31,1093.89 1638.51,1055.89 1638.72,1016.75 1638.92,976.628 1639.12,935.674 1639.33,894.053 1639.53,851.931 1639.73,809.473 1639.94,766.846 1640.14,724.219 1640.35,681.761 1640.55,639.638 1640.75,598.018 1640.96,557.064 1641.16,516.937 1641.36,477.797 1641.57,439.798 1641.77,403.089 1641.97,367.816 1642.18,334.118 1642.38,302.128 1642.59,271.971 1642.79,243.768 1642.99,217.629 1643.2,193.657 1643.4,171.948 1643.6,152.586 1643.81,135.649 1644.01,121.203 1644.21,109.304 1644.42,100.001 1644.62,93.3294 1644.83,89.3159 1645.03,87.9763 1645.23,89.3159 1645.44,93.3294 1645.64,100.001 1645.84,109.304 1646.05,121.203 1646.25,135.649 1646.46,152.586 1646.66,171.948 1646.86,193.657 1647.07,217.629 1647.27,243.768 1647.47,271.971 1647.68,302.128 1647.88,334.118 1648.08,367.816 1648.29,403.089 1648.49,439.798 1648.7,477.797 1648.9,516.937 1649.1,557.064 1649.31,598.018 1649.51,639.638 1649.71,681.761 1649.92,724.219 1650.12,766.846 1650.32,809.473 1650.53,851.931 1650.73,894.053 1650.94,935.674 1651.14,976.628 1651.34,1016.75 1651.55,1055.89 1651.75,1093.89 1651.95,1130.6 1652.16,1165.88 1652.36,1199.57 1652.57,1231.56 1652.77,1261.72 1652.97,1289.92 1653.18,1316.06 1653.38,1340.03 1653.58,1361.74 1653.79,1381.11 1653.99,1398.04 1654.19,1412.49 1654.4,1424.39 1654.6,1433.69 1654.81,1440.36 1655.01,1444.38 1655.21,1445.72 1655.42,1444.38 1655.62,1440.36 1655.82,1433.69 1656.03,1424.39 1656.23,1412.49 1656.43,1398.04 1656.64,1381.11 1656.84,1361.74 1657.05,1340.03 1657.25,1316.06 1657.45,1289.92 1657.66,1261.72 1657.86,1231.56 1658.06,1199.57 1658.27,1165.88 1658.47,1130.6 1658.67,1093.89 1658.88,1055.89 1659.08,1016.75 1659.29,976.628 1659.49,935.674 1659.69,894.053 1659.9,851.931 1660.1,809.473 1660.3,766.846 1660.51,724.219 1660.71,681.761 1660.92,639.638 1661.12,598.018 1661.32,557.064 1661.53,516.937 1661.73,477.797 1661.93,439.798 1662.14,403.089 1662.34,367.816 1662.54,334.118 1662.75,302.128 1662.95,271.971 1663.16,243.768 1663.36,217.629 1663.56,193.657 1663.77,171.948 1663.97,152.586 1664.17,135.649 1664.38,121.203 1664.58,109.304 1664.78,100.001 1664.99,93.3294 1665.19,89.3159 1665.4,87.9763 1665.6,89.3159 1665.8,93.3294 1666.01,100.001 1666.21,109.304 1666.41,121.203 1666.62,135.649 1666.82,152.586 1667.03,171.948 1667.23,193.657 1667.43,217.629 1667.64,243.768 1667.84,271.971 1668.04,302.128 1668.25,334.118 1668.45,367.816 1668.65,403.089 1668.86,439.798 1669.06,477.797 1669.27,516.937 1669.47,557.064 1669.67,598.018 1669.88,639.638 1670.08,681.761 1670.28,724.219 1670.49,766.846 1670.69,809.473 1670.89,851.931 1671.1,894.053 1671.3,935.674 1671.51,976.628 1671.71,1016.75 1671.91,1055.89 1672.12,1093.89 1672.32,1130.6 1672.52,1165.88 1672.73,1199.57 1672.93,1231.56 1673.13,1261.72 1673.34,1289.92 1673.54,1316.06 1673.75,1340.03 1673.95,1361.74 1674.15,1381.11 1674.36,1398.04 1674.56,1412.49 1674.76,1424.39 1674.97,1433.69 1675.17,1440.36 1675.38,1444.38 1675.58,1445.72 1675.78,1444.38 1675.99,1440.36 1676.19,1433.69 1676.39,1424.39 1676.6,1412.49 1676.8,1398.04 1677,1381.11 1677.21,1361.74 1677.41,1340.03 1677.62,1316.06 1677.82,1289.92 1678.02,1261.72 1678.23,1231.56 1678.43,1199.57 1678.63,1165.88 1678.84,1130.6 1679.04,1093.89 1679.24,1055.89 1679.45,1016.75 1679.65,976.628 1679.86,935.674 1680.06,894.053 1680.26,851.931 1680.47,809.473 1680.67,766.846 1680.87,724.219 1681.08,681.761 1681.28,639.638 1681.49,598.018 1681.69,557.064 1681.89,516.937 1682.1,477.797 1682.3,439.798 1682.5,403.089 1682.71,367.816 1682.91,334.118 1683.11,302.128 1683.32,271.971 1683.52,243.768 1683.73,217.629 1683.93,193.657 1684.13,171.948 1684.34,152.586 1684.54,135.649 1684.74,121.203 1684.95,109.304 1685.15,100.001 1685.35,93.3294 1685.56,89.3159 1685.76,87.9763 1685.97,89.3159 1686.17,93.3294 1686.37,100.001 1686.58,109.304 1686.78,121.203 1686.98,135.649 1687.19,152.586 1687.39,171.948 1687.59,193.657 1687.8,217.629 1688,243.768 1688.21,271.971 1688.41,302.128 1688.61,334.118 1688.82,367.816 1689.02,403.089 1689.22,439.798 1689.43,477.797 1689.63,516.937 1689.84,557.064 1690.04,598.018 1690.24,639.638 1690.45,681.761 1690.65,724.219 1690.85,766.846 1691.06,809.473 1691.26,851.931 1691.46,894.053 1691.67,935.674 1691.87,976.628 1692.08,1016.75 1692.28,1055.89 1692.48,1093.89 1692.69,1130.6 1692.89,1165.88 1693.09,1199.57 1693.3,1231.56 1693.5,1261.72 1693.7,1289.92 1693.91,1316.06 1694.11,1340.03 1694.32,1361.74 1694.52,1381.11 1694.72,1398.04 1694.93,1412.49 1695.13,1424.39 1695.33,1433.69 1695.54,1440.36 1695.74,1444.38 1695.95,1445.72 1696.15,1444.38 1696.35,1440.36 1696.56,1433.69 1696.76,1424.39 1696.96,1412.49 1697.17,1398.04 1697.37,1381.11 1697.57,1361.74 1697.78,1340.03 1697.98,1316.06 1698.19,1289.92 1698.39,1261.72 1698.59,1231.56 1698.8,1199.57 1699,1165.88 1699.2,1130.6 1699.41,1093.89 1699.61,1055.89 1699.81,1016.75 1700.02,976.628 1700.22,935.674 1700.43,894.053 1700.63,851.931 1700.83,809.473 1701.04,766.846 1701.24,724.219 1701.44,681.761 1701.65,639.638 1701.85,598.018 1702.05,557.064 1702.26,516.937 1702.46,477.797 1702.67,439.798 1702.87,403.089 1703.07,367.816 1703.28,334.118 1703.48,302.128 1703.68,271.971 1703.89,243.768 1704.09,217.629 1704.3,193.657 1704.5,171.948 1704.7,152.586 1704.91,135.649 1705.11,121.203 1705.31,109.304 1705.52,100.001 1705.72,93.3294 1705.92,89.3159 1706.13,87.9763 1706.33,89.3159 1706.54,93.3294 1706.74,100.001 1706.94,109.304 1707.15,121.203 1707.35,135.649 1707.55,152.586 1707.76,171.948 1707.96,193.657 1708.16,217.629 1708.37,243.768 1708.57,271.971 1708.78,302.128 1708.98,334.118 1709.18,367.816 1709.39,403.089 1709.59,439.798 1709.79,477.797 1710,516.937 1710.2,557.064 1710.41,598.018 1710.61,639.638 1710.81,681.761 1711.02,724.219 1711.22,766.846 1711.42,809.473 1711.63,851.931 1711.83,894.053 1712.03,935.674 1712.24,976.628 1712.44,1016.75 1712.65,1055.89 1712.85,1093.89 1713.05,1130.6 1713.26,1165.88 1713.46,1199.57 1713.66,1231.56 1713.87,1261.72 1714.07,1289.92 1714.27,1316.06 1714.48,1340.03 1714.68,1361.74 1714.89,1381.11 1715.09,1398.04 1715.29,1412.49 1715.5,1424.39 1715.7,1433.69 1715.9,1440.36 1716.11,1444.38 1716.31,1445.72 1716.52,1444.38 1716.72,1440.36 1716.92,1433.69 1717.13,1424.39 1717.33,1412.49 1717.53,1398.04 1717.74,1381.11 1717.94,1361.74 1718.14,1340.03 1718.35,1316.06 1718.55,1289.92 1718.76,1261.72 1718.96,1231.56 1719.16,1199.57 1719.37,1165.88 1719.57,1130.6 1719.77,1093.89 1719.98,1055.89 1720.18,1016.75 1720.38,976.628 1720.59,935.674 1720.79,894.053 1721,851.931 1721.2,809.473 1721.4,766.846 1721.61,724.219 1721.81,681.761 1722.01,639.638 1722.22,598.018 1722.42,557.064 1722.62,516.937 1722.83,477.797 1723.03,439.798 1723.24,403.089 1723.44,367.816 1723.64,334.118 1723.85,302.128 1724.05,271.971 1724.25,243.768 1724.46,217.629 1724.66,193.657 1724.87,171.948 1725.07,152.586 1725.27,135.649 1725.48,121.203 1725.68,109.304 1725.88,100.001 1726.09,93.3294 1726.29,89.3159 1726.49,87.9763 1726.7,89.3159 1726.9,93.3294 1727.11,100.001 1727.31,109.304 1727.51,121.203 1727.72,135.649 1727.92,152.586 1728.12,171.948 1728.33,193.657 1728.53,217.629 1728.73,243.768 1728.94,271.971 1729.14,302.128 1729.35,334.118 1729.55,367.816 1729.75,403.089 1729.96,439.798 1730.16,477.797 1730.36,516.937 1730.57,557.064 1730.77,598.018 1730.98,639.638 1731.18,681.761 1731.38,724.219 1731.59,766.846 1731.79,809.473 1731.99,851.931 1732.2,894.053 1732.4,935.674 1732.6,976.628 1732.81,1016.75 1733.01,1055.89 1733.22,1093.89 1733.42,1130.6 1733.62,1165.88 1733.83,1199.57 1734.03,1231.56 1734.23,1261.72 1734.44,1289.92 1734.64,1316.06 1734.84,1340.03 1735.05,1361.74 1735.25,1381.11 1735.46,1398.04 1735.66,1412.49 1735.86,1424.39 1736.07,1433.69 1736.27,1440.36 1736.47,1444.38 1736.68,1445.72 1736.88,1444.38 1737.08,1440.36 1737.29,1433.69 1737.49,1424.39 1737.7,1412.49 1737.9,1398.04 1738.1,1381.11 1738.31,1361.74 1738.51,1340.03 1738.71,1316.06 1738.92,1289.92 1739.12,1261.72 1739.33,1231.56 1739.53,1199.57 1739.73,1165.88 1739.94,1130.6 1740.14,1093.89 1740.34,1055.89 1740.55,1016.75 1740.75,976.628 1740.95,935.674 1741.16,894.053 1741.36,851.931 1741.57,809.473 1741.77,766.846 1741.97,724.219 1742.18,681.761 1742.38,639.638 1742.58,598.018 1742.79,557.064 1742.99,516.937 1743.19,477.797 1743.4,439.798 1743.6,403.089 1743.81,367.816 1744.01,334.118 1744.21,302.128 1744.42,271.971 1744.62,243.768 1744.82,217.629 1745.03,193.657 1745.23,171.948 1745.44,152.586 1745.64,135.649 1745.84,121.203 1746.05,109.304 1746.25,100.001 1746.45,93.3294 1746.66,89.3159 1746.86,87.9763 1747.06,89.3159 1747.27,93.3294 1747.47,100.001 1747.68,109.304 1747.88,121.203 1748.08,135.649 1748.29,152.586 1748.49,171.948 1748.69,193.657 1748.9,217.629 1749.1,243.768 1749.3,271.971 1749.51,302.128 1749.71,334.118 1749.92,367.816 1750.12,403.089 1750.32,439.798 1750.53,477.797 1750.73,516.937 1750.93,557.064 1751.14,598.018 1751.34,639.638 1751.54,681.761 1751.75,724.219 1751.95,766.846 1752.16,809.473 1752.36,851.931 1752.56,894.053 1752.77,935.674 1752.97,976.628 1753.17,1016.75 1753.38,1055.89 1753.58,1093.89 1753.79,1130.6 1753.99,1165.88 1754.19,1199.57 1754.4,1231.56 1754.6,1261.72 1754.8,1289.92 1755.01,1316.06 1755.21,1340.03 1755.41,1361.74 1755.62,1381.11 1755.82,1398.04 1756.03,1412.49 1756.23,1424.39 1756.43,1433.69 1756.64,1440.36 1756.84,1444.38 1757.04,1445.72 1757.25,1444.38 1757.45,1440.36 1757.65,1433.69 1757.86,1424.39 1758.06,1412.49 1758.27,1398.04 1758.47,1381.11 1758.67,1361.74 1758.88,1340.03 1759.08,1316.06 1759.28,1289.92 1759.49,1261.72 1759.69,1231.56 1759.9,1199.57 1760.1,1165.88 1760.3,1130.6 1760.51,1093.89 1760.71,1055.89 1760.91,1016.75 1761.12,976.628 1761.32,935.674 1761.52,894.053 1761.73,851.931 1761.93,809.473 1762.14,766.846 1762.34,724.219 1762.54,681.761 1762.75,639.638 1762.95,598.018 1763.15,557.064 1763.36,516.937 1763.56,477.797 1763.76,439.798 1763.97,403.089 1764.17,367.816 1764.38,334.118 1764.58,302.128 1764.78,271.971 1764.99,243.768 1765.19,217.629 1765.39,193.657 1765.6,171.948 1765.8,152.586 1766,135.649 1766.21,121.203 1766.41,109.304 1766.62,100.001 1766.82,93.3294 1767.02,89.3159 1767.23,87.9763 1767.43,89.3159 1767.63,93.3294 1767.84,100.001 1768.04,109.304 1768.25,121.203 1768.45,135.649 1768.65,152.586 1768.86,171.948 1769.06,193.657 1769.26,217.629 1769.47,243.768 1769.67,271.971 1769.87,302.128 1770.08,334.118 1770.28,367.816 1770.49,403.089 1770.69,439.798 1770.89,477.797 1771.1,516.937 1771.3,557.064 1771.5,598.018 1771.71,639.638 1771.91,681.761 1772.11,724.219 1772.32,766.846 1772.52,809.473 1772.73,851.931 1772.93,894.053 1773.13,935.674 1773.34,976.628 1773.54,1016.75 1773.74,1055.89 1773.95,1093.89 1774.15,1130.6 1774.36,1165.88 1774.56,1199.57 1774.76,1231.56 1774.97,1261.72 1775.17,1289.92 1775.37,1316.06 1775.58,1340.03 1775.78,1361.74 1775.98,1381.11 1776.19,1398.04 1776.39,1412.49 1776.6,1424.39 1776.8,1433.69 1777,1440.36 1777.21,1444.38 1777.41,1445.72 1777.61,1444.38 1777.82,1440.36 1778.02,1433.69 1778.22,1424.39 1778.43,1412.49 1778.63,1398.04 1778.84,1381.11 1779.04,1361.74 1779.24,1340.03 1779.45,1316.06 1779.65,1289.92 1779.85,1261.72 1780.06,1231.56 1780.26,1199.57 1780.46,1165.88 1780.67,1130.6 1780.87,1093.89 1781.08,1055.89 1781.28,1016.75 1781.48,976.628 1781.69,935.674 1781.89,894.053 1782.09,851.931 1782.3,809.473 1782.5,766.846 1782.71,724.219 1782.91,681.761 1783.11,639.638 1783.32,598.018 1783.52,557.064 1783.72,516.937 1783.93,477.797 1784.13,439.798 1784.33,403.089 1784.54,367.816 1784.74,334.118 1784.95,302.128 1785.15,271.971 1785.35,243.768 1785.56,217.629 1785.76,193.657 1785.96,171.948 1786.17,152.586 1786.37,135.649 1786.57,121.203 1786.78,109.304 1786.98,100.001 1787.19,93.3294 1787.39,89.3159 1787.59,87.9763 1787.8,89.3159 1788,93.3294 1788.2,100.001 1788.41,109.304 1788.61,121.203 1788.82,135.649 1789.02,152.586 1789.22,171.948 1789.43,193.657 1789.63,217.629 1789.83,243.768 1790.04,271.971 1790.24,302.128 1790.44,334.118 1790.65,367.816 1790.85,403.089 1791.06,439.798 1791.26,477.797 1791.46,516.937 1791.67,557.064 1791.87,598.018 1792.07,639.638 1792.28,681.761 1792.48,724.219 1792.68,766.846 1792.89,809.473 1793.09,851.931 1793.3,894.053 1793.5,935.674 1793.7,976.628 1793.91,1016.75 1794.11,1055.89 1794.31,1093.89 1794.52,1130.6 1794.72,1165.88 1794.92,1199.57 1795.13,1231.56 1795.33,1261.72 1795.54,1289.92 1795.74,1316.06 1795.94,1340.03 1796.15,1361.74 1796.35,1381.11 1796.55,1398.04 1796.76,1412.49 1796.96,1424.39 1797.17,1433.69 1797.37,1440.36 1797.57,1444.38 1797.78,1445.72 1797.98,1444.38 1798.18,1440.36 1798.39,1433.69 1798.59,1424.39 1798.79,1412.49 1799,1398.04 1799.2,1381.11 1799.41,1361.74 1799.61,1340.03 1799.81,1316.06 1800.02,1289.92 1800.22,1261.72 1800.42,1231.56 1800.63,1199.57 1800.83,1165.88 1801.03,1130.6 1801.24,1093.89 1801.44,1055.89 1801.65,1016.75 1801.85,976.628 1802.05,935.674 1802.26,894.053 1802.46,851.931 1802.66,809.473 1802.87,766.846 1803.07,724.219 1803.28,681.761 1803.48,639.638 1803.68,598.018 1803.89,557.064 1804.09,516.937 1804.29,477.797 1804.5,439.798 1804.7,403.089 1804.9,367.816 1805.11,334.118 1805.31,302.128 1805.52,271.971 1805.72,243.768 1805.92,217.629 1806.13,193.657 1806.33,171.948 1806.53,152.586 1806.74,135.649 1806.94,121.203 1807.14,109.304 1807.35,100.001 1807.55,93.3294 1807.76,89.3159 1807.96,87.9763 1808.16,89.3159 1808.37,93.3294 1808.57,100.001 1808.77,109.304 1808.98,121.203 1809.18,135.649 1809.39,152.586 1809.59,171.948 1809.79,193.657 1810,217.629 1810.2,243.768 1810.4,271.971 1810.61,302.128 1810.81,334.118 1811.01,367.816 1811.22,403.089 1811.42,439.798 1811.63,477.797 1811.83,516.937 1812.03,557.064 1812.24,598.018 1812.44,639.638 1812.64,681.761 1812.85,724.219 1813.05,766.846 1813.25,809.473 1813.46,851.931 1813.66,894.053 1813.87,935.674 1814.07,976.628 1814.27,1016.75 1814.48,1055.89 1814.68,1093.89 1814.88,1130.6 1815.09,1165.88 1815.29,1199.57 1815.49,1231.56 1815.7,1261.72 1815.9,1289.92 1816.11,1316.06 1816.31,1340.03 1816.51,1361.74 1816.72,1381.11 1816.92,1398.04 1817.12,1412.49 1817.33,1424.39 1817.53,1433.69 1817.74,1440.36 1817.94,1444.38 1818.14,1445.72 1818.35,1444.38 1818.55,1440.36 1818.75,1433.69 1818.96,1424.39 1819.16,1412.49 1819.36,1398.04 1819.57,1381.11 1819.77,1361.74 1819.98,1340.03 1820.18,1316.06 1820.38,1289.92 1820.59,1261.72 1820.79,1231.56 1820.99,1199.57 1821.2,1165.88 1821.4,1130.6 1821.6,1093.89 1821.81,1055.89 1822.01,1016.75 1822.22,976.628 1822.42,935.674 1822.62,894.053 1822.83,851.931 1823.03,809.473 1823.23,766.846 1823.44,724.219 1823.64,681.761 1823.85,639.638 1824.05,598.018 1824.25,557.064 1824.46,516.937 1824.66,477.797 1824.86,439.798 1825.07,403.089 1825.27,367.816 1825.47,334.118 1825.68,302.128 1825.88,271.971 1826.09,243.768 1826.29,217.629 1826.49,193.657 1826.7,171.948 1826.9,152.586 1827.1,135.649 1827.31,121.203 1827.51,109.304 1827.71,100.001 1827.92,93.3294 1828.12,89.3159 1828.33,87.9763 1828.53,89.3159 1828.73,93.3294 1828.94,100.001 1829.14,109.304 1829.34,121.203 1829.55,135.649 1829.75,152.586 1829.95,171.948 1830.16,193.657 1830.36,217.629 1830.57,243.768 1830.77,271.971 1830.97,302.128 1831.18,334.118 1831.38,367.816 1831.58,403.089 1831.79,439.798 1831.99,477.797 1832.2,516.937 1832.4,557.064 1832.6,598.018 1832.81,639.638 1833.01,681.761 1833.21,724.219 1833.42,766.846 1833.62,809.473 1833.82,851.931 1834.03,894.053 1834.23,935.674 1834.44,976.628 1834.64,1016.75 1834.84,1055.89 1835.05,1093.89 1835.25,1130.6 1835.45,1165.88 1835.66,1199.57 1835.86,1231.56 1836.06,1261.72 1836.27,1289.92 1836.47,1316.06 1836.68,1340.03 1836.88,1361.74 1837.08,1381.11 1837.29,1398.04 1837.49,1412.49 1837.69,1424.39 1837.9,1433.69 1838.1,1440.36 1838.31,1444.38 1838.51,1445.72 1838.71,1444.38 1838.92,1440.36 1839.12,1433.69 1839.32,1424.39 1839.53,1412.49 1839.73,1398.04 1839.93,1381.11 1840.14,1361.74 1840.34,1340.03 1840.55,1316.06 1840.75,1289.92 1840.95,1261.72 1841.16,1231.56 1841.36,1199.57 1841.56,1165.88 1841.77,1130.6 1841.97,1093.89 1842.17,1055.89 1842.38,1016.75 1842.58,976.628 1842.79,935.674 1842.99,894.053 1843.19,851.931 1843.4,809.473 1843.6,766.846 1843.8,724.219 1844.01,681.761 1844.21,639.638 1844.41,598.018 1844.62,557.064 1844.82,516.937 1845.03,477.797 1845.23,439.798 1845.43,403.089 1845.64,367.816 1845.84,334.118 1846.04,302.128 1846.25,271.971 1846.45,243.768 1846.66,217.629 1846.86,193.657 1847.06,171.948 1847.27,152.586 1847.47,135.649 1847.67,121.203 1847.88,109.304 1848.08,100.001 1848.28,93.3294 1848.49,89.3159 1848.69,87.9763 1848.9,89.3159 1849.1,93.3294 1849.3,100.001 1849.51,109.304 1849.71,121.203 1849.91,135.649 1850.12,152.586 1850.32,171.948 1850.52,193.657 1850.73,217.629 1850.93,243.768 1851.14,271.971 1851.34,302.128 1851.54,334.118 1851.75,367.816 1851.95,403.089 1852.15,439.798 1852.36,477.797 1852.56,516.937 1852.77,557.064 1852.97,598.018 1853.17,639.638 1853.38,681.761 1853.58,724.219 1853.78,766.846 1853.99,809.473 1854.19,851.931 1854.39,894.053 1854.6,935.674 1854.8,976.628 1855.01,1016.75 1855.21,1055.89 1855.41,1093.89 1855.62,1130.6 1855.82,1165.88 1856.02,1199.57 1856.23,1231.56 1856.43,1261.72 1856.63,1289.92 1856.84,1316.06 1857.04,1340.03 1857.25,1361.74 1857.45,1381.11 1857.65,1398.04 1857.86,1412.49 1858.06,1424.39 1858.26,1433.69 1858.47,1440.36 1858.67,1444.38 1858.87,1445.72 1859.08,1444.38 1859.28,1440.36 1859.49,1433.69 1859.69,1424.39 1859.89,1412.49 1860.1,1398.04 1860.3,1381.11 1860.5,1361.74 1860.71,1340.03 1860.91,1316.06 1861.12,1289.92 1861.32,1261.72 1861.52,1231.56 1861.73,1199.57 1861.93,1165.88 1862.13,1130.6 1862.34,1093.89 1862.54,1055.89 1862.74,1016.75 1862.95,976.628 1863.15,935.674 1863.36,894.053 1863.56,851.931 1863.76,809.473 1863.97,766.846 1864.17,724.219 1864.37,681.761 1864.58,639.638 1864.78,598.018 1864.98,557.064 1865.19,516.937 1865.39,477.797 1865.6,439.798 1865.8,403.089 1866,367.816 1866.21,334.118 1866.41,302.128 1866.61,271.971 1866.82,243.768 1867.02,217.629 1867.23,193.657 1867.43,171.948 1867.63,152.586 1867.84,135.649 1868.04,121.203 1868.24,109.304 1868.45,100.001 1868.65,93.3294 1868.85,89.3159 1869.06,87.9763 1869.26,89.3159 1869.47,93.3294 1869.67,100.001 1869.87,109.304 1870.08,121.203 1870.28,135.649 1870.48,152.586 1870.69,171.948 1870.89,193.657 1871.09,217.629 1871.3,243.768 1871.5,271.971 1871.71,302.128 1871.91,334.118 1872.11,367.816 1872.32,403.089 1872.52,439.798 1872.72,477.797 1872.93,516.937 1873.13,557.064 1873.33,598.018 1873.54,639.638 1873.74,681.761 1873.95,724.219 1874.15,766.846 1874.35,809.473 1874.56,851.931 1874.76,894.053 1874.96,935.674 1875.17,976.628 1875.37,1016.75 1875.58,1055.89 1875.78,1093.89 1875.98,1130.6 1876.19,1165.88 1876.39,1199.57 1876.59,1231.56 1876.8,1261.72 1877,1289.92 1877.2,1316.06 1877.41,1340.03 1877.61,1361.74 1877.82,1381.11 1878.02,1398.04 1878.22,1412.49 1878.43,1424.39 1878.63,1433.69 1878.83,1440.36 1879.04,1444.38 1879.24,1445.72 1879.44,1444.38 1879.65,1440.36 1879.85,1433.69 1880.06,1424.39 1880.26,1412.49 1880.46,1398.04 1880.67,1381.11 1880.87,1361.74 1881.07,1340.03 1881.28,1316.06 1881.48,1289.92 1881.69,1261.72 1881.89,1231.56 1882.09,1199.57 1882.3,1165.88 1882.5,1130.6 1882.7,1093.89 1882.91,1055.89 1883.11,1016.75 1883.31,976.628 1883.52,935.674 1883.72,894.053 1883.93,851.931 1884.13,809.473 1884.33,766.846 1884.54,724.219 1884.74,681.761 1884.94,639.638 1885.15,598.018 1885.35,557.064 1885.55,516.937 1885.76,477.797 1885.96,439.798 1886.17,403.089 1886.37,367.816 1886.57,334.118 1886.78,302.128 1886.98,271.971 1887.18,243.768 1887.39,217.629 1887.59,193.657 1887.79,171.948 1888,152.586 1888.2,135.649 1888.41,121.203 1888.61,109.304 1888.81,100.001 1889.02,93.3294 1889.22,89.3159 1889.42,87.9763 1889.63,89.3159 1889.83,93.3294 1890.04,100.001 1890.24,109.304 1890.44,121.203 1890.65,135.649 1890.85,152.586 1891.05,171.948 1891.26,193.657 1891.46,217.629 1891.66,243.768 1891.87,271.971 1892.07,302.128 1892.28,334.118 1892.48,367.816 1892.68,403.089 1892.89,439.798 1893.09,477.797 1893.29,516.937 1893.5,557.064 1893.7,598.018 1893.9,639.638 1894.11,681.761 1894.31,724.219 1894.52,766.846 1894.72,809.473 1894.92,851.931 1895.13,894.053 1895.33,935.674 1895.53,976.628 1895.74,1016.75 1895.94,1055.89 1896.15,1093.89 1896.35,1130.6 1896.55,1165.88 1896.76,1199.57 1896.96,1231.56 1897.16,1261.72 1897.37,1289.92 1897.57,1316.06 1897.77,1340.03 1897.98,1361.74 1898.18,1381.11 1898.39,1398.04 1898.59,1412.49 1898.79,1424.39 1899,1433.69 1899.2,1440.36 1899.4,1444.38 1899.61,1445.72 1899.81,1444.38 1900.01,1440.36 1900.22,1433.69 1900.42,1424.39 1900.63,1412.49 1900.83,1398.04 1901.03,1381.11 1901.24,1361.74 1901.44,1340.03 1901.64,1316.06 1901.85,1289.92 1902.05,1261.72 1902.25,1231.56 1902.46,1199.57 1902.66,1165.88 1902.87,1130.6 1903.07,1093.89 1903.27,1055.89 1903.48,1016.75 1903.68,976.628 1903.88,935.674 1904.09,894.053 1904.29,851.931 1904.5,809.473 1904.7,766.846 1904.9,724.219 1905.11,681.761 1905.31,639.638 1905.51,598.018 1905.72,557.064 1905.92,516.937 1906.12,477.797 1906.33,439.798 1906.53,403.089 1906.74,367.816 1906.94,334.118 1907.14,302.128 1907.35,271.971 1907.55,243.768 1907.75,217.629 1907.96,193.657 1908.16,171.948 1908.36,152.586 1908.57,135.649 1908.77,121.203 1908.98,109.304 1909.18,100.001 1909.38,93.3294 1909.59,89.3159 1909.79,87.9763 1909.99,89.3159 1910.2,93.3294 1910.4,100.001 1910.61,109.304 1910.81,121.203 1911.01,135.649 1911.22,152.586 1911.42,171.948 1911.62,193.657 1911.83,217.629 1912.03,243.768 1912.23,271.971 1912.44,302.128 1912.64,334.118 1912.85,367.816 1913.05,403.089 1913.25,439.798 1913.46,477.797 1913.66,516.937 1913.86,557.064 1914.07,598.018 1914.27,639.638 1914.47,681.761 1914.68,724.219 1914.88,766.846 1915.09,809.473 1915.29,851.931 1915.49,894.053 1915.7,935.674 1915.9,976.628 1916.1,1016.75 1916.31,1055.89 1916.51,1093.89 1916.72,1130.6 1916.92,1165.88 1917.12,1199.57 1917.33,1231.56 1917.53,1261.72 1917.73,1289.92 1917.94,1316.06 1918.14,1340.03 1918.34,1361.74 1918.55,1381.11 1918.75,1398.04 1918.96,1412.49 1919.16,1424.39 1919.36,1433.69 1919.57,1440.36 1919.77,1444.38 1919.97,1445.72 1920.18,1444.38 1920.38,1440.36 1920.58,1433.69 1920.79,1424.39 1920.99,1412.49 1921.2,1398.04 1921.4,1381.11 1921.6,1361.74 1921.81,1340.03 1922.01,1316.06 1922.21,1289.92 1922.42,1261.72 1922.62,1231.56 1922.82,1199.57 1923.03,1165.88 1923.23,1130.6 1923.44,1093.89 1923.64,1055.89 1923.84,1016.75 1924.05,976.628 1924.25,935.674 1924.45,894.053 1924.66,851.931 1924.86,809.473 1925.07,766.846 1925.27,724.219 1925.47,681.761 1925.68,639.638 1925.88,598.018 1926.08,557.064 1926.29,516.937 1926.49,477.797 1926.69,439.798 1926.9,403.089 1927.1,367.816 1927.31,334.118 1927.51,302.128 1927.71,271.971 1927.92,243.768 1928.12,217.629 1928.32,193.657 1928.53,171.948 1928.73,152.586 1928.93,135.649 1929.14,121.203 1929.34,109.304 1929.55,100.001 1929.75,93.3294 1929.95,89.3159 1930.16,87.9763 1930.36,89.3159 1930.56,93.3294 1930.77,100.001 1930.97,109.304 1931.18,121.203 1931.38,135.649 1931.58,152.586 1931.79,171.948 1931.99,193.657 1932.19,217.629 1932.4,243.768 1932.6,271.971 1932.8,302.128 1933.01,334.118 1933.21,367.816 1933.42,403.089 1933.62,439.798 1933.82,477.797 1934.03,516.937 1934.23,557.064 1934.43,598.018 1934.64,639.638 1934.84,681.761 1935.04,724.219 1935.25,766.846 1935.45,809.473 1935.66,851.931 1935.86,894.053 1936.06,935.674 1936.27,976.628 1936.47,1016.75 1936.67,1055.89 1936.88,1093.89 1937.08,1130.6 1937.28,1165.88 1937.49,1199.57 1937.69,1231.56 1937.9,1261.72 1938.1,1289.92 1938.3,1316.06 1938.51,1340.03 1938.71,1361.74 1938.91,1381.11 1939.12,1398.04 1939.32,1412.49 1939.53,1424.39 1939.73,1433.69 1939.93,1440.36 1940.14,1444.38 1940.34,1445.72 1940.54,1444.38 1940.75,1440.36 1940.95,1433.69 1941.15,1424.39 1941.36,1412.49 1941.56,1398.04 1941.77,1381.11 1941.97,1361.74 1942.17,1340.03 1942.38,1316.06 1942.58,1289.92 1942.78,1261.72 1942.99,1231.56 1943.19,1199.57 1943.39,1165.88 1943.6,1130.6 1943.8,1093.89 1944.01,1055.89 1944.21,1016.75 1944.41,976.628 1944.62,935.674 1944.82,894.053 1945.02,851.931 1945.23,809.473 1945.43,766.846 1945.64,724.219 1945.84,681.761 1946.04,639.638 1946.25,598.018 1946.45,557.064 1946.65,516.937 1946.86,477.797 1947.06,439.798 1947.26,403.089 1947.47,367.816 1947.67,334.118 1947.88,302.128 1948.08,271.971 1948.28,243.768 1948.49,217.629 1948.69,193.657 1948.89,171.948 1949.1,152.586 1949.3,135.649 1949.5,121.203 1949.71,109.304 1949.91,100.001 1950.12,93.3294 1950.32,89.3159 1950.52,87.9763 1950.73,89.3159 1950.93,93.3294 1951.13,100.001 1951.34,109.304 1951.54,121.203 1951.74,135.649 1951.95,152.586 1952.15,171.948 1952.36,193.657 1952.56,217.629 1952.76,243.768 1952.97,271.971 1953.17,302.128 1953.37,334.118 1953.58,367.816 1953.78,403.089 1953.99,439.798 1954.19,477.797 1954.39,516.937 1954.6,557.064 1954.8,598.018 1955,639.638 1955.21,681.761 1955.41,724.219 1955.61,766.846 1955.82,809.473 1956.02,851.931 1956.23,894.053 1956.43,935.674 1956.63,976.628 1956.84,1016.75 1957.04,1055.89 1957.24,1093.89 1957.45,1130.6 1957.65,1165.88 1957.85,1199.57 1958.06,1231.56 1958.26,1261.72 1958.47,1289.92 1958.67,1316.06 1958.87,1340.03 1959.08,1361.74 1959.28,1381.11 1959.48,1398.04 1959.69,1412.49 1959.89,1424.39 1960.1,1433.69 1960.3,1440.36 1960.5,1444.38 1960.71,1445.72 1960.91,1444.38 1961.11,1440.36 1961.32,1433.69 1961.52,1424.39 1961.72,1412.49 1961.93,1398.04 1962.13,1381.11 1962.34,1361.74 1962.54,1340.03 1962.74,1316.06 1962.95,1289.92 1963.15,1261.72 1963.35,1231.56 1963.56,1199.57 1963.76,1165.88 1963.96,1130.6 1964.17,1093.89 1964.37,1055.89 1964.58,1016.75 1964.78,976.628 1964.98,935.674 1965.19,894.053 1965.39,851.931 1965.59,809.473 1965.8,766.846 1966,724.219 1966.2,681.761 1966.41,639.638 1966.61,598.018 1966.82,557.064 1967.02,516.937 1967.22,477.797 1967.43,439.798 1967.63,403.089 1967.83,367.816 1968.04,334.118 1968.24,302.128 1968.45,271.971 1968.65,243.768 1968.85,217.629 1969.06,193.657 1969.26,171.948 1969.46,152.586 1969.67,135.649 1969.87,121.203 1970.07,109.304 1970.28,100.001 1970.48,93.3294 1970.69,89.3159 1970.89,87.9763 1971.09,89.3159 1971.3,93.3294 1971.5,100.001 1971.7,109.304 1971.91,121.203 1972.11,135.649 1972.31,152.586 1972.52,171.948 1972.72,193.657 1972.93,217.629 1973.13,243.768 1973.33,271.971 1973.54,302.128 1973.74,334.118 1973.94,367.816 1974.15,403.089 1974.35,439.798 1974.56,477.797 1974.76,516.937 1974.96,557.064 1975.17,598.018 1975.37,639.638 1975.57,681.761 1975.78,724.219 1975.98,766.846 1976.18,809.473 1976.39,851.931 1976.59,894.053 1976.8,935.674 1977,976.628 1977.2,1016.75 1977.41,1055.89 1977.61,1093.89 1977.81,1130.6 1978.02,1165.88 1978.22,1199.57 1978.42,1231.56 1978.63,1261.72 1978.83,1289.92 1979.04,1316.06 1979.24,1340.03 1979.44,1361.74 1979.65,1381.11 1979.85,1398.04 1980.05,1412.49 1980.26,1424.39 1980.46,1433.69 1980.66,1440.36 1980.87,1444.38 1981.07,1445.72 1981.28,1444.38 1981.48,1440.36 1981.68,1433.69 1981.89,1424.39 1982.09,1412.49 1982.29,1398.04 1982.5,1381.11 1982.7,1361.74 1982.91,1340.03 1983.11,1316.06 1983.31,1289.92 1983.52,1261.72 1983.72,1231.56 1983.92,1199.57 1984.13,1165.88 1984.33,1130.6 1984.53,1093.89 1984.74,1055.89 1984.94,1016.75 1985.15,976.628 1985.35,935.674 1985.55,894.053 1985.76,851.931 1985.96,809.473 1986.16,766.846 1986.37,724.219 1986.57,681.761 1986.77,639.638 1986.98,598.018 1987.18,557.064 1987.39,516.937 1987.59,477.797 1987.79,439.798 1988,403.089 1988.2,367.816 1988.4,334.118 1988.61,302.128 1988.81,271.971 1989.02,243.768 1989.22,217.629 1989.42,193.657 1989.63,171.948 1989.83,152.586 1990.03,135.649 1990.24,121.203 1990.44,109.304 1990.64,100.001 1990.85,93.3294 1991.05,89.3159 1991.26,87.9763 1991.46,89.3159 1991.66,93.3294 1991.87,100.001 1992.07,109.304 1992.27,121.203 1992.48,135.649 1992.68,152.586 1992.88,171.948 1993.09,193.657 1993.29,217.629 1993.5,243.768 1993.7,271.971 1993.9,302.128 1994.11,334.118 1994.31,367.816 1994.51,403.089 1994.72,439.798 1994.92,477.797 1995.12,516.937 1995.33,557.064 1995.53,598.018 1995.74,639.638 1995.94,681.761 1996.14,724.219 1996.35,766.846 1996.55,809.473 1996.75,851.931 1996.96,894.053 1997.16,935.674 1997.37,976.628 1997.57,1016.75 1997.77,1055.89 1997.98,1093.89 1998.18,1130.6 1998.38,1165.88 1998.59,1199.57 1998.79,1231.56 1998.99,1261.72 1999.2,1289.92 1999.4,1316.06 1999.61,1340.03 1999.81,1361.74 2000.01,1381.11 2000.22,1398.04 2000.42,1412.49 2000.62,1424.39 2000.83,1433.69 2001.03,1440.36 2001.23,1444.38 2001.44,1445.72 2001.64,1444.38 2001.85,1440.36 2002.05,1433.69 2002.25,1424.39 2002.46,1412.49 2002.66,1398.04 2002.86,1381.11 2003.07,1361.74 2003.27,1340.03 2003.48,1316.06 2003.68,1289.92 2003.88,1261.72 2004.09,1231.56 2004.29,1199.57 2004.49,1165.88 2004.7,1130.6 2004.9,1093.89 2005.1,1055.89 2005.31,1016.75 2005.51,976.628 2005.72,935.674 2005.92,894.053 2006.12,851.931 2006.33,809.473 2006.53,766.846 2006.73,724.219 2006.94,681.761 2007.14,639.638 2007.34,598.018 2007.55,557.064 2007.75,516.937 2007.96,477.797 2008.16,439.798 2008.36,403.089 2008.57,367.816 2008.77,334.118 2008.97,302.128 2009.18,271.971 2009.38,243.768 2009.59,217.629 2009.79,193.657 2009.99,171.948 2010.2,152.586 2010.4,135.649 2010.6,121.203 2010.81,109.304 2011.01,100.001 2011.21,93.3294 2011.42,89.3159 2011.62,87.9763 2011.83,89.3159 2012.03,93.3294 2012.23,100.001 2012.44,109.304 2012.64,121.203 2012.84,135.649 2013.05,152.586 2013.25,171.948 2013.45,193.657 2013.66,217.629 2013.86,243.768 2014.07,271.971 2014.27,302.128 2014.47,334.118 2014.68,367.816 2014.88,403.089 2015.08,439.798 2015.29,477.797 2015.49,516.937 2015.69,557.064 2015.9,598.018 2016.1,639.638 2016.31,681.761 2016.51,724.219 2016.71,766.846 2016.92,809.473 2017.12,851.931 2017.32,894.053 2017.53,935.674 2017.73,976.628 2017.94,1016.75 2018.14,1055.89 2018.34,1093.89 2018.55,1130.6 2018.75,1165.88 2018.95,1199.57 2019.16,1231.56 2019.36,1261.72 2019.56,1289.92 2019.77,1316.06 2019.97,1340.03 2020.18,1361.74 2020.38,1381.11 2020.58,1398.04 2020.79,1412.49 2020.99,1424.39 2021.19,1433.69 2021.4,1440.36 2021.6,1444.38 2021.8,1445.72 2022.01,1444.38 2022.21,1440.36 2022.42,1433.69 2022.62,1424.39 2022.82,1412.49 2023.03,1398.04 2023.23,1381.11 2023.43,1361.74 2023.64,1340.03 2023.84,1316.06 2024.05,1289.92 2024.25,1261.72 2024.45,1231.56 2024.66,1199.57 2024.86,1165.88 2025.06,1130.6 2025.27,1093.89 2025.47,1055.89 2025.67,1016.75 2025.88,976.628 2026.08,935.674 2026.29,894.053 2026.49,851.931 2026.69,809.473 2026.9,766.846 2027.1,724.219 2027.3,681.761 2027.51,639.638 2027.71,598.018 2027.91,557.064 2028.12,516.937 2028.32,477.797 2028.53,439.798 2028.73,403.089 2028.93,367.816 2029.14,334.118 2029.34,302.128 2029.54,271.971 2029.75,243.768 2029.95,217.629 2030.15,193.657 2030.36,171.948 2030.56,152.586 2030.77,135.649 2030.97,121.203 2031.17,109.304 2031.38,100.001 2031.58,93.3294 2031.78,89.3159 2031.99,87.9763 2032.19,89.3159 2032.4,93.3294 2032.6,100.001 2032.8,109.304 2033.01,121.203 2033.21,135.649 2033.41,152.586 2033.62,171.948 2033.82,193.657 2034.02,217.629 2034.23,243.768 2034.43,271.971 2034.64,302.128 2034.84,334.118 2035.04,367.816 2035.25,403.089 2035.45,439.798 2035.65,477.797 2035.86,516.937 2036.06,557.064 2036.26,598.018 2036.47,639.638 2036.67,681.761 2036.88,724.219 2037.08,766.846 2037.28,809.473 2037.49,851.931 2037.69,894.053 2037.89,935.674 2038.1,976.628 2038.3,1016.75 2038.51,1055.89 2038.71,1093.89 2038.91,1130.6 2039.12,1165.88 2039.32,1199.57 2039.52,1231.56 2039.73,1261.72 2039.93,1289.92 2040.13,1316.06 2040.34,1340.03 2040.54,1361.74 2040.75,1381.11 2040.95,1398.04 2041.15,1412.49 2041.36,1424.39 2041.56,1433.69 2041.76,1440.36 2041.97,1444.38 2042.17,1445.72 2042.37,1444.38 2042.58,1440.36 2042.78,1433.69 2042.99,1424.39 2043.19,1412.49 2043.39,1398.04 2043.6,1381.11 2043.8,1361.74 2044,1340.03 2044.21,1316.06 2044.41,1289.92 2044.61,1261.72 2044.82,1231.56 2045.02,1199.57 2045.23,1165.88 2045.43,1130.6 2045.63,1093.89 2045.84,1055.89 2046.04,1016.75 2046.24,976.628 2046.45,935.674 2046.65,894.053 2046.86,851.931 2047.06,809.473 2047.26,766.846 2047.47,724.219 2047.67,681.761 2047.87,639.638 2048.08,598.018 2048.28,557.064 2048.48,516.937 2048.69,477.797 2048.89,439.798 2049.1,403.089 2049.3,367.816 2049.5,334.118 2049.71,302.128 2049.91,271.971 2050.11,243.768 2050.32,217.629 2050.52,193.657 2050.72,171.948 2050.93,152.586 2051.13,135.649 2051.34,121.203 2051.54,109.304 2051.74,100.001 2051.95,93.3294 2052.15,89.3159 2052.35,87.9763 2052.56,89.3159 2052.76,93.3294 2052.97,100.001 2053.17,109.304 2053.37,121.203 2053.58,135.649 2053.78,152.586 2053.98,171.948 2054.19,193.657 2054.39,217.629 2054.59,243.768 2054.8,271.971 2055,302.128 2055.21,334.118 2055.41,367.816 2055.61,403.089 2055.82,439.798 2056.02,477.797 2056.22,516.937 2056.43,557.064 2056.63,598.018 2056.83,639.638 2057.04,681.761 2057.24,724.219 2057.45,766.846 2057.65,809.473 2057.85,851.931 2058.06,894.053 2058.26,935.674 2058.46,976.628 2058.67,1016.75 2058.87,1055.89 2059.07,1093.89 2059.28,1130.6 2059.48,1165.88 2059.69,1199.57 2059.89,1231.56 2060.09,1261.72 2060.3,1289.92 2060.5,1316.06 2060.7,1340.03 2060.91,1361.74 2061.11,1381.11 2061.32,1398.04 2061.52,1412.49 2061.72,1424.39 2061.93,1433.69 2062.13,1440.36 2062.33,1444.38 2062.54,1445.72 2062.74,1444.38 2062.94,1440.36 2063.15,1433.69 2063.35,1424.39 2063.56,1412.49 2063.76,1398.04 2063.96,1381.11 2064.17,1361.74 2064.37,1340.03 2064.57,1316.06 2064.78,1289.92 2064.98,1261.72 2065.18,1231.56 2065.39,1199.57 2065.59,1165.88 2065.8,1130.6 2066,1093.89 2066.2,1055.89 2066.41,1016.75 2066.61,976.628 2066.81,935.674 2067.02,894.053 2067.22,851.931 2067.43,809.473 2067.63,766.846 2067.83,724.219 2068.04,681.761 2068.24,639.638 2068.44,598.018 2068.65,557.064 2068.85,516.937 2069.05,477.797 2069.26,439.798 2069.46,403.089 2069.67,367.816 2069.87,334.118 2070.07,302.128 2070.28,271.971 2070.48,243.768 2070.68,217.629 2070.89,193.657 2071.09,171.948 2071.29,152.586 2071.5,135.649 2071.7,121.203 2071.91,109.304 2072.11,100.001 2072.31,93.3294 2072.52,89.3159 2072.72,87.9763 2072.92,89.3159 2073.13,93.3294 2073.33,100.001 2073.53,109.304 2073.74,121.203 2073.94,135.649 2074.15,152.586 2074.35,171.948 2074.55,193.657 2074.76,217.629 2074.96,243.768 2075.16,271.971 2075.37,302.128 2075.57,334.118 2075.78,367.816 2075.98,403.089 2076.18,439.798 2076.39,477.797 2076.59,516.937 2076.79,557.064 2077,598.018 2077.2,639.638 2077.4,681.761 2077.61,724.219 2077.81,766.846 2078.02,809.473 2078.22,851.931 2078.42,894.053 2078.63,935.674 2078.83,976.628 2079.03,1016.75 2079.24,1055.89 2079.44,1093.89 2079.64,1130.6 2079.85,1165.88 2080.05,1199.57 2080.26,1231.56 2080.46,1261.72 2080.66,1289.92 2080.87,1316.06 2081.07,1340.03 2081.27,1361.74 2081.48,1381.11 2081.68,1398.04 2081.89,1412.49 2082.09,1424.39 2082.29,1433.69 2082.5,1440.36 2082.7,1444.38 2082.9,1445.72 2083.11,1444.38 2083.31,1440.36 2083.51,1433.69 2083.72,1424.39 2083.92,1412.49 2084.13,1398.04 2084.33,1381.11 2084.53,1361.74 2084.74,1340.03 2084.94,1316.06 2085.14,1289.92 2085.35,1261.72 2085.55,1231.56 2085.75,1199.57 2085.96,1165.88 2086.16,1130.6 2086.37,1093.89 2086.57,1055.89 2086.77,1016.75 2086.98,976.628 2087.18,935.674 2087.38,894.053 2087.59,851.931 2087.79,809.473 2087.99,766.846 2088.2,724.219 2088.4,681.761 2088.61,639.638 2088.81,598.018 2089.01,557.064 2089.22,516.937 2089.42,477.797 2089.62,439.798 2089.83,403.089 2090.03,367.816 2090.24,334.118 2090.44,302.128 2090.64,271.971 2090.85,243.768 2091.05,217.629 2091.25,193.657 2091.46,171.948 2091.66,152.586 2091.86,135.649 2092.07,121.203 2092.27,109.304 2092.48,100.001 2092.68,93.3294 2092.88,89.3159 2093.09,87.9763 2093.29,89.3159 2093.49,93.3294 2093.7,100.001 2093.9,109.304 2094.1,121.203 2094.31,135.649 2094.51,152.586 2094.72,171.948 2094.92,193.657 2095.12,217.629 2095.33,243.768 2095.53,271.971 2095.73,302.128 2095.94,334.118 2096.14,367.816 2096.35,403.089 2096.55,439.798 2096.75,477.797 2096.96,516.937 2097.16,557.064 2097.36,598.018 2097.57,639.638 2097.77,681.761 2097.97,724.219 2098.18,766.846 2098.38,809.473 2098.59,851.931 2098.79,894.053 2098.99,935.674 2099.2,976.628 2099.4,1016.75 2099.6,1055.89 2099.81,1093.89 2100.01,1130.6 2100.21,1165.88 2100.42,1199.57 2100.62,1231.56 2100.83,1261.72 2101.03,1289.92 2101.23,1316.06 2101.44,1340.03 2101.64,1361.74 2101.84,1381.11 2102.05,1398.04 2102.25,1412.49 2102.45,1424.39 2102.66,1433.69 2102.86,1440.36 2103.07,1444.38 2103.27,1445.72 2103.47,1444.38 2103.68,1440.36 2103.88,1433.69 2104.08,1424.39 2104.29,1412.49 2104.49,1398.04 2104.7,1381.11 2104.9,1361.74 2105.1,1340.03 2105.31,1316.06 2105.51,1289.92 2105.71,1261.72 2105.92,1231.56 2106.12,1199.57 2106.32,1165.88 2106.53,1130.6 2106.73,1093.89 2106.94,1055.89 2107.14,1016.75 2107.34,976.628 2107.55,935.674 2107.75,894.053 2107.95,851.931 2108.16,809.473 2108.36,766.846 2108.56,724.219 2108.77,681.761 2108.97,639.638 2109.18,598.018 2109.38,557.064 2109.58,516.937 2109.79,477.797 2109.99,439.798 2110.19,403.089 2110.4,367.816 2110.6,334.118 2110.81,302.128 2111.01,271.971 2111.21,243.768 2111.42,217.629 2111.62,193.657 2111.82,171.948 2112.03,152.586 2112.23,135.649 2112.43,121.203 2112.64,109.304 2112.84,100.001 2113.05,93.3294 2113.25,89.3159 2113.45,87.9763 2113.66,89.3159 2113.86,93.3294 2114.06,100.001 2114.27,109.304 2114.47,121.203 2114.67,135.649 2114.88,152.586 2115.08,171.948 2115.29,193.657 2115.49,217.629 2115.69,243.768 2115.9,271.971 2116.1,302.128 2116.3,334.118 2116.51,367.816 2116.71,403.089 2116.92,439.798 2117.12,477.797 2117.32,516.937 2117.53,557.064 2117.73,598.018 2117.93,639.638 2118.14,681.761 2118.34,724.219 2118.54,766.846 2118.75,809.473 2118.95,851.931 2119.16,894.053 2119.36,935.674 2119.56,976.628 2119.77,1016.75 2119.97,1055.89 2120.17,1093.89 2120.38,1130.6 2120.58,1165.88 2120.78,1199.57 2120.99,1231.56 2121.19,1261.72 2121.4,1289.92 2121.6,1316.06 2121.8,1340.03 2122.01,1361.74 2122.21,1381.11 2122.41,1398.04 2122.62,1412.49 2122.82,1424.39 2123.02,1433.69 2123.23,1440.36 2123.43,1444.38 2123.64,1445.72 2123.84,1444.38 2124.04,1440.36 2124.25,1433.69 2124.45,1424.39 2124.65,1412.49 2124.86,1398.04 2125.06,1381.11 2125.27,1361.74 2125.47,1340.03 2125.67,1316.06 2125.88,1289.92 2126.08,1261.72 2126.28,1231.56 2126.49,1199.57 2126.69,1165.88 2126.89,1130.6 2127.1,1093.89 2127.3,1055.89 2127.51,1016.75 2127.71,976.628 2127.91,935.674 2128.12,894.053 2128.32,851.931 2128.52,809.473 2128.73,766.846 2128.93,724.219 2129.13,681.761 2129.34,639.638 2129.54,598.018 2129.75,557.064 2129.95,516.937 2130.15,477.797 2130.36,439.798 2130.56,403.089 2130.76,367.816 2130.97,334.118 2131.17,302.128 2131.38,271.971 2131.58,243.768 2131.78,217.629 2131.99,193.657 2132.19,171.948 2132.39,152.586 2132.6,135.649 2132.8,121.203 2133,109.304 2133.21,100.001 2133.41,93.3294 2133.62,89.3159 2133.82,87.9763 2134.02,89.3159 2134.23,93.3294 2134.43,100.001 2134.63,109.304 2134.84,121.203 2135.04,135.649 2135.24,152.586 2135.45,171.948 2135.65,193.657 2135.86,217.629 2136.06,243.768 2136.26,271.971 2136.47,302.128 2136.67,334.118 2136.87,367.816 2137.08,403.089 2137.28,439.798 2137.48,477.797 2137.69,516.937 2137.89,557.064 2138.1,598.018 2138.3,639.638 2138.5,681.761 2138.71,724.219 2138.91,766.846 2139.11,809.473 2139.32,851.931 2139.52,894.053 2139.73,935.674 2139.93,976.628 2140.13,1016.75 2140.34,1055.89 2140.54,1093.89 2140.74,1130.6 2140.95,1165.88 2141.15,1199.57 2141.35,1231.56 2141.56,1261.72 2141.76,1289.92 2141.97,1316.06 2142.17,1340.03 2142.37,1361.74 2142.58,1381.11 2142.78,1398.04 2142.98,1412.49 2143.19,1424.39 2143.39,1433.69 2143.59,1440.36 2143.8,1444.38 2144,1445.72 2144.21,1444.38 2144.41,1440.36 2144.61,1433.69 2144.82,1424.39 2145.02,1412.49 2145.22,1398.04 2145.43,1381.11 2145.63,1361.74 2145.84,1340.03 2146.04,1316.06 2146.24,1289.92 2146.45,1261.72 2146.65,1231.56 2146.85,1199.57 2147.06,1165.88 2147.26,1130.6 2147.46,1093.89 2147.67,1055.89 2147.87,1016.75 2148.08,976.628 2148.28,935.674 2148.48,894.053 2148.69,851.931 2148.89,809.473 2149.09,766.846 2149.3,724.219 2149.5,681.761 2149.7,639.638 2149.91,598.018 2150.11,557.064 2150.32,516.937 2150.52,477.797 2150.72,439.798 2150.93,403.089 2151.13,367.816 2151.33,334.118 2151.54,302.128 2151.74,271.971 2151.94,243.768 2152.15,217.629 2152.35,193.657 2152.56,171.948 2152.76,152.586 2152.96,135.649 2153.17,121.203 2153.37,109.304 2153.57,100.001 2153.78,93.3294 2153.98,89.3159 2154.19,87.9763 2154.39,89.3159 2154.59,93.3294 2154.8,100.001 2155,109.304 2155.2,121.203 2155.41,135.649 2155.61,152.586 2155.81,171.948 2156.02,193.657 2156.22,217.629 2156.43,243.768 2156.63,271.971 2156.83,302.128 2157.04,334.118 2157.24,367.816 2157.44,403.089 2157.65,439.798 2157.85,477.797 2158.05,516.937 2158.26,557.064 2158.46,598.018 2158.67,639.638 2158.87,681.761 2159.07,724.219 2159.28,766.846 2159.48,809.473 2159.68,851.931 2159.89,894.053 2160.09,935.674 2160.3,976.628 2160.5,1016.75 2160.7,1055.89 2160.91,1093.89 2161.11,1130.6 2161.31,1165.88 2161.52,1199.57 2161.72,1231.56 2161.92,1261.72 2162.13,1289.92 2162.33,1316.06 2162.54,1340.03 2162.74,1361.74 2162.94,1381.11 2163.15,1398.04 2163.35,1412.49 2163.55,1424.39 2163.76,1433.69 2163.96,1440.36 2164.16,1444.38 2164.37,1445.72 2164.57,1444.38 2164.78,1440.36 2164.98,1433.69 2165.18,1424.39 2165.39,1412.49 2165.59,1398.04 2165.79,1381.11 2166,1361.74 2166.2,1340.03 2166.4,1316.06 2166.61,1289.92 2166.81,1261.72 2167.02,1231.56 2167.22,1199.57 2167.42,1165.88 2167.63,1130.6 2167.83,1093.89 2168.03,1055.89 2168.24,1016.75 2168.44,976.628 2168.65,935.674 2168.85,894.053 2169.05,851.931 2169.26,809.473 2169.46,766.846 2169.66,724.219 2169.87,681.761 2170.07,639.638 2170.27,598.018 2170.48,557.064 2170.68,516.937 2170.89,477.797 2171.09,439.798 2171.29,403.089 2171.5,367.816 2171.7,334.118 2171.9,302.128 2172.11,271.971 2172.31,243.768 2172.51,217.629 2172.72,193.657 2172.92,171.948 2173.13,152.586 2173.33,135.649 2173.53,121.203 2173.74,109.304 2173.94,100.001 2174.14,93.3294 2174.35,89.3159 2174.55,87.9763 2174.76,89.3159 2174.96,93.3294 2175.16,100.001 2175.37,109.304 2175.57,121.203 2175.77,135.649 2175.98,152.586 2176.18,171.948 2176.38,193.657 2176.59,217.629 2176.79,243.768 2177,271.971 2177.2,302.128 2177.4,334.118 2177.61,367.816 2177.81,403.089 2178.01,439.798 2178.22,477.797 2178.42,516.937 2178.62,557.064 2178.83,598.018 2179.03,639.638 2179.24,681.761 2179.44,724.219 2179.64,766.846 2179.85,809.473 2180.05,851.931 2180.25,894.053 2180.46,935.674 2180.66,976.628 2180.86,1016.75 2181.07,1055.89 2181.27,1093.89 2181.48,1130.6 2181.68,1165.88 2181.88,1199.57 2182.09,1231.56 2182.29,1261.72 2182.49,1289.92 2182.7,1316.06 2182.9,1340.03 2183.11,1361.74 2183.31,1381.11 2183.51,1398.04 2183.72,1412.49 2183.92,1424.39 2184.12,1433.69 2184.33,1440.36 2184.53,1444.38 2184.73,1445.72 2184.94,1444.38 2185.14,1440.36 2185.35,1433.69 2185.55,1424.39 2185.75,1412.49 2185.96,1398.04 2186.16,1381.11 2186.36,1361.74 2186.57,1340.03 2186.77,1316.06 2186.97,1289.92 2187.18,1261.72 2187.38,1231.56 2187.59,1199.57 2187.79,1165.88 2187.99,1130.6 2188.2,1093.89 2188.4,1055.89 2188.6,1016.75 2188.81,976.628 2189.01,935.674 2189.22,894.053 2189.42,851.931 2189.62,809.473 2189.83,766.846 2190.03,724.219 2190.23,681.761 2190.44,639.638 2190.64,598.018 2190.84,557.064 2191.05,516.937 2191.25,477.797 2191.46,439.798 2191.66,403.089 2191.86,367.816 2192.07,334.118 2192.27,302.128 2192.47,271.971 2192.68,243.768 2192.88,217.629 2193.08,193.657 2193.29,171.948 2193.49,152.586 2193.7,135.649 2193.9,121.203 2194.1,109.304 2194.31,100.001 2194.51,93.3294 2194.71,89.3159 2194.92,87.9763 2195.12,89.3159 2195.32,93.3294 2195.53,100.001 2195.73,109.304 2195.94,121.203 2196.14,135.649 2196.34,152.586 2196.55,171.948 2196.75,193.657 2196.95,217.629 2197.16,243.768 2197.36,271.971 2197.57,302.128 2197.77,334.118 2197.97,367.816 2198.18,403.089 2198.38,439.798 2198.58,477.797 2198.79,516.937 2198.99,557.064 2199.19,598.018 2199.4,639.638 2199.6,681.761 2199.81,724.219 2200.01,766.846 2200.21,809.473 2200.42,851.931 2200.62,894.053 2200.82,935.674 2201.03,976.628 2201.23,1016.75 2201.43,1055.89 2201.64,1093.89 2201.84,1130.6 2202.05,1165.88 2202.25,1199.57 2202.45,1231.56 2202.66,1261.72 2202.86,1289.92 2203.06,1316.06 2203.27,1340.03 2203.47,1361.74 2203.68,1381.11 2203.88,1398.04 2204.08,1412.49 2204.29,1424.39 2204.49,1433.69 2204.69,1440.36 2204.9,1444.38 2205.1,1445.72 2205.3,1444.38 2205.51,1440.36 2205.71,1433.69 2205.92,1424.39 2206.12,1412.49 2206.32,1398.04 2206.53,1381.11 2206.73,1361.74 2206.93,1340.03 2207.14,1316.06 2207.34,1289.92 2207.54,1261.72 2207.75,1231.56 2207.95,1199.57 2208.16,1165.88 2208.36,1130.6 2208.56,1093.89 2208.77,1055.89 2208.97,1016.75 2209.17,976.628 2209.38,935.674 2209.58,894.053 2209.79,851.931 2209.99,809.473 2210.19,766.846 2210.4,724.219 2210.6,681.761 2210.8,639.638 2211.01,598.018 2211.21,557.064 2211.41,516.937 2211.62,477.797 2211.82,439.798 2212.03,403.089 2212.23,367.816 2212.43,334.118 2212.64,302.128 2212.84,271.971 2213.04,243.768 2213.25,217.629 2213.45,193.657 2213.65,171.948 2213.86,152.586 2214.06,135.649 2214.27,121.203 2214.47,109.304 2214.67,100.001 2214.88,93.3294 2215.08,89.3159 2215.28,87.9763 2215.49,89.3159 2215.69,93.3294 2215.89,100.001 2216.1,109.304 2216.3,121.203 2216.51,135.649 2216.71,152.586 2216.91,171.948 2217.12,193.657 2217.32,217.629 2217.52,243.768 2217.73,271.971 2217.93,302.128 2218.14,334.118 2218.34,367.816 2218.54,403.089 2218.75,439.798 2218.95,477.797 2219.15,516.937 2219.36,557.064 2219.56,598.018 2219.76,639.638 2219.97,681.761 2220.17,724.219 2220.38,766.846 2220.58,809.473 2220.78,851.931 2220.99,894.053 2221.19,935.674 2221.39,976.628 2221.6,1016.75 2221.8,1055.89 2222,1093.89 2222.21,1130.6 2222.41,1165.88 2222.62,1199.57 2222.82,1231.56 2223.02,1261.72 2223.23,1289.92 2223.43,1316.06 2223.63,1340.03 2223.84,1361.74 2224.04,1381.11 2224.25,1398.04 2224.45,1412.49 2224.65,1424.39 2224.86,1433.69 2225.06,1440.36 2225.26,1444.38 2225.47,1445.72 2225.67,1444.38 2225.87,1440.36 2226.08,1433.69 2226.28,1424.39 2226.49,1412.49 2226.69,1398.04 2226.89,1381.11 2227.1,1361.74 2227.3,1340.03 2227.5,1316.06 2227.71,1289.92 2227.91,1261.72 2228.11,1231.56 2228.32,1199.57 2228.52,1165.88 2228.73,1130.6 2228.93,1093.89 2229.13,1055.89 2229.34,1016.75 2229.54,976.628 2229.74,935.674 2229.95,894.053 2230.15,851.931 2230.35,809.473 2230.56,766.846 2230.76,724.219 2230.97,681.761 2231.17,639.638 2231.37,598.018 2231.58,557.064 2231.78,516.937 2231.98,477.797 2232.19,439.798 2232.39,403.089 2232.6,367.816 2232.8,334.118 2233,302.128 2233.21,271.971 2233.41,243.768 2233.61,217.629 2233.82,193.657 2234.02,171.948 2234.22,152.586 2234.43,135.649 2234.63,121.203 2234.84,109.304 2235.04,100.001 2235.24,93.3294 2235.45,89.3159 2235.65,87.9763 2235.85,89.3159 2236.06,93.3294 2236.26,100.001 2236.46,109.304 2236.67,121.203 2236.87,135.649 2237.08,152.586 2237.28,171.948 2237.48,193.657 2237.69,217.629 2237.89,243.768 2238.09,271.971 2238.3,302.128 2238.5,334.118 2238.71,367.816 2238.91,403.089 2239.11,439.798 2239.32,477.797 2239.52,516.937 2239.72,557.064 2239.93,598.018 2240.13,639.638 2240.33,681.761 2240.54,724.219 2240.74,766.846 2240.95,809.473 2241.15,851.931 2241.35,894.053 2241.56,935.674 2241.76,976.628 2241.96,1016.75 2242.17,1055.89 2242.37,1093.89 2242.57,1130.6 2242.78,1165.88 2242.98,1199.57 2243.19,1231.56 2243.39,1261.72 2243.59,1289.92 2243.8,1316.06 2244,1340.03 2244.2,1361.74 2244.41,1381.11 2244.61,1398.04 2244.81,1412.49 2245.02,1424.39 2245.22,1433.69 2245.43,1440.36 2245.63,1444.38 2245.83,1445.72 2246.04,1444.38 2246.24,1440.36 2246.44,1433.69 2246.65,1424.39 2246.85,1412.49 2247.06,1398.04 2247.26,1381.11 2247.46,1361.74 2247.67,1340.03 2247.87,1316.06 2248.07,1289.92 2248.28,1261.72 2248.48,1231.56 2248.68,1199.57 2248.89,1165.88 2249.09,1130.6 2249.3,1093.89 2249.5,1055.89 2249.7,1016.75 2249.91,976.628 2250.11,935.674 2250.31,894.053 2250.52,851.931 2250.72,809.473 2250.92,766.846 2251.13,724.219 2251.33,681.761 2251.54,639.638 2251.74,598.018 2251.94,557.064 2252.15,516.937 2252.35,477.797 2252.55,439.798 2252.76,403.089 2252.96,367.816 2253.17,334.118 2253.37,302.128 2253.57,271.971 2253.78,243.768 2253.98,217.629 2254.18,193.657 2254.39,171.948 2254.59,152.586 2254.79,135.649 2255,121.203 2255.2,109.304 2255.41,100.001 2255.61,93.3294 2255.81,89.3159 2256.02,87.9763 2256.22,89.3159 2256.42,93.3294 2256.63,100.001 2256.83,109.304 2257.03,121.203 2257.24,135.649 2257.44,152.586 2257.65,171.948 2257.85,193.657 2258.05,217.629 2258.26,243.768 2258.46,271.971 2258.66,302.128 2258.87,334.118 2259.07,367.816 2259.27,403.089 2259.48,439.798 2259.68,477.797 2259.89,516.937 2260.09,557.064 2260.29,598.018 2260.5,639.638 2260.7,681.761 2260.9,724.219 2261.11,766.846 2261.31,809.473 2261.52,851.931 2261.72,894.053 2261.92,935.674 2262.13,976.628 2262.33,1016.75 2262.53,1055.89 2262.74,1093.89 2262.94,1130.6 2263.14,1165.88 2263.35,1199.57 2263.55,1231.56 2263.76,1261.72 2263.96,1289.92 2264.16,1316.06 2264.37,1340.03 2264.57,1361.74 2264.77,1381.11 2264.98,1398.04 2265.18,1412.49 2265.38,1424.39 2265.59,1433.69 2265.79,1440.36 2266,1444.38 2266.2,1445.72 2266.4,1444.38 2266.61,1440.36 2266.81,1433.69 2267.01,1424.39 2267.22,1412.49 2267.42,1398.04 2267.63,1381.11 2267.83,1361.74 2268.03,1340.03 2268.24,1316.06 2268.44,1289.92 2268.64,1261.72 2268.85,1231.56 2269.05,1199.57 2269.25,1165.88 2269.46,1130.6 2269.66,1093.89 2269.87,1055.89 2270.07,1016.75 2270.27,976.628 2270.48,935.674 2270.68,894.053 2270.88,851.931 2271.09,809.473 2271.29,766.846 2271.49,724.219 2271.7,681.761 2271.9,639.638 2272.11,598.018 2272.31,557.064 2272.51,516.937 2272.72,477.797 2272.92,439.798 2273.12,403.089 2273.33,367.816 2273.53,334.118 2273.73,302.128 2273.94,271.971 2274.14,243.768 2274.35,217.629 2274.55,193.657 2274.75,171.948 2274.96,152.586 2275.16,135.649 2275.36,121.203 2275.57,109.304 2275.77,100.001 2275.98,93.3294 2276.18,89.3159 2276.38,87.9763 2276.59,89.3159 2276.79,93.3294 2276.99,100.001 2277.2,109.304 2277.4,121.203 2277.6,135.649 2277.81,152.586 2278.01,171.948 2278.22,193.657 2278.42,217.629 2278.62,243.768 2278.83,271.971 2279.03,302.128 2279.23,334.118 2279.44,367.816 2279.64,403.089 2279.84,439.798 2280.05,477.797 2280.25,516.937 2280.46,557.064 2280.66,598.018 2280.86,639.638 2281.07,681.761 2281.27,724.219 2281.47,766.846 2281.68,809.473 2281.88,851.931 2282.09,894.053 2282.29,935.674 2282.49,976.628 2282.7,1016.75 2282.9,1055.89 2283.1,1093.89 2283.31,1130.6 2283.51,1165.88 2283.71,1199.57 2283.92,1231.56 2284.12,1261.72 2284.33,1289.92 2284.53,1316.06 2284.73,1340.03 2284.94,1361.74 2285.14,1381.11 2285.34,1398.04 2285.55,1412.49 2285.75,1424.39 2285.95,1433.69 2286.16,1440.36 2286.36,1444.38 2286.57,1445.72 2286.77,1444.38 2286.97,1440.36 2287.18,1433.69 2287.38,1424.39 2287.58,1412.49 2287.79,1398.04 2287.99,1381.11 2288.19,1361.74 2288.4,1340.03 2288.6,1316.06 2288.81,1289.92 2289.01,1261.72 2289.21,1231.56 2289.42,1199.57 2289.62,1165.88 2289.82,1130.6 2290.03,1093.89 2290.23,1055.89 2290.44,1016.75 2290.64,976.628 2290.84,935.674 2291.05,894.053 2291.25,851.931 2291.45,809.473 2291.66,766.846 \"/>\n",
       "<path clip-path=\"url(#clip340)\" d=\"M2012.48 198.898 L2280.8 198.898 L2280.8 95.2176 L2012.48 95.2176  Z\" fill=\"#ffffff\" fill-rule=\"evenodd\" fill-opacity=\"1\"/>\n",
       "<polyline clip-path=\"url(#clip340)\" style=\"stroke:#000000; stroke-linecap:round; stroke-linejoin:round; stroke-width:4; stroke-opacity:1; fill:none\" points=\"2012.48,198.898 2280.8,198.898 2280.8,95.2176 2012.48,95.2176 2012.48,198.898 \"/>\n",
       "<polyline clip-path=\"url(#clip340)\" style=\"stroke:#009af9; stroke-linecap:round; stroke-linejoin:round; stroke-width:4; stroke-opacity:1; fill:none\" points=\"2036.47,147.058 2180.39,147.058 \"/>\n",
       "<path clip-path=\"url(#clip340)\" d=\"M2218.22 166.745 Q2216.42 171.375 2214.7 172.787 Q2212.99 174.199 2210.12 174.199 L2206.72 174.199 L2206.72 170.634 L2209.22 170.634 Q2210.98 170.634 2211.95 169.8 Q2212.92 168.967 2214.1 165.865 L2214.86 163.921 L2204.38 138.412 L2208.89 138.412 L2216.99 158.689 L2225.1 138.412 L2229.61 138.412 L2218.22 166.745 Z\" fill=\"#000000\" fill-rule=\"evenodd\" fill-opacity=\"1\" /><path clip-path=\"url(#clip340)\" d=\"M2236.9 160.402 L2244.54 160.402 L2244.54 134.037 L2236.23 135.703 L2236.23 131.444 L2244.49 129.778 L2249.17 129.778 L2249.17 160.402 L2256.81 160.402 L2256.81 164.338 L2236.9 164.338 L2236.9 160.402 Z\" fill=\"#000000\" fill-rule=\"evenodd\" fill-opacity=\"1\" /></svg>\n"
      ]
     },
     "execution_count": 107,
     "metadata": {},
     "output_type": "execute_result"
    }
   ],
   "source": [
    "plot(x2,y2)"
   ]
  },
  {
   "cell_type": "code",
   "execution_count": 108,
   "metadata": {},
   "outputs": [],
   "source": [
    "#2) "
   ]
  },
  {
   "cell_type": "code",
   "execution_count": 109,
   "metadata": {},
   "outputs": [
    {
     "data": {
      "text/plain": [
       "SM2 (generic function with 1 method)"
      ]
     },
     "execution_count": 109,
     "metadata": {},
     "output_type": "execute_result"
    }
   ],
   "source": [
    "function SM2(x,y)\n",
    "    \n",
    "    n = length(x)\n",
    "    \n",
    "    if n%2==0\n",
    "        n = n-1\n",
    "    else\n",
    "        n = n\n",
    "    end\n",
    "    \n",
    "    h = (x[n] - x[1])/(n+2)\n",
    "    sp = 0\n",
    "    \n",
    "    for j in 0:Int64.(((n-1)/2)-1)\n",
    "        sp = sp + y[1 + Int64.(2*j+1)]\n",
    "    end\n",
    "    \n",
    "    I = 2*h*sp\n",
    "    return I \n",
    "    \n",
    "end"
   ]
  },
  {
   "cell_type": "code",
   "execution_count": 110,
   "metadata": {},
   "outputs": [
    {
     "data": {
      "text/plain": [
       "ST2 (generic function with 1 method)"
      ]
     },
     "execution_count": 110,
     "metadata": {},
     "output_type": "execute_result"
    }
   ],
   "source": [
    "function ST2(x,y)\n",
    "    \n",
    "    n = length(x)\n",
    "    h = (x[n] - x[1])/n\n",
    "    sp = 0\n",
    "    \n",
    "    for j in 1:(n-1)\n",
    "        sp = sp + y[1 + j]\n",
    "    end\n",
    "    \n",
    "    I = (h/2)*(y[1] + 2*sp + y[n])\n",
    "    return I \n",
    "    \n",
    "end"
   ]
  },
  {
   "cell_type": "code",
   "execution_count": 111,
   "metadata": {},
   "outputs": [
    {
     "data": {
      "text/plain": [
       "SS2 (generic function with 1 method)"
      ]
     },
     "execution_count": 111,
     "metadata": {},
     "output_type": "execute_result"
    }
   ],
   "source": [
    "function SS2(x,y)\n",
    "    \n",
    "    n = length(x)\n",
    "    \n",
    "    if n%2==0\n",
    "        n = n-1\n",
    "    else\n",
    "        n = n\n",
    "    end\n",
    "    \n",
    "    h = (x[n] - x[1])/n\n",
    "    sp = 0\n",
    "    si = 0\n",
    "    \n",
    "    for j in 1:Int64.(((n-1)/2)-1)\n",
    "        sp = sp + y[1 + 2j]\n",
    "    end\n",
    "    \n",
    "     for j in 1:Int64.((n-1)/2)\n",
    "        si = si + y[1 + (2*j-1)]\n",
    "    end\n",
    "    \n",
    "    I = (h/3)*(y[1] + 2*sp + 4*si + y[n])\n",
    "    return I \n",
    "    \n",
    "end"
   ]
  },
  {
   "cell_type": "code",
   "execution_count": 112,
   "metadata": {},
   "outputs": [],
   "source": [
    "#3) "
   ]
  },
  {
   "cell_type": "code",
   "execution_count": 113,
   "metadata": {},
   "outputs": [
    {
     "data": {
      "text/html": [
       "<div><div style = \"float: left;\"><span>2×4 DataFrame</span></div><div style = \"clear: both;\"></div></div><div class = \"data-frame\" style = \"overflow-x: scroll;\"><table class = \"data-frame\" style = \"margin-bottom: 6px;\"><thead><tr class = \"header\"><th class = \"rowNumber\" style = \"font-weight: bold; text-align: right;\">Row</th><th style = \"text-align: left;\">Puntos</th><th style = \"text-align: left;\">Punto Medio</th><th style = \"text-align: left;\">Trapecio</th><th style = \"text-align: left;\">Simpson</th></tr><tr class = \"subheader headerLastRow\"><th class = \"rowNumber\" style = \"font-weight: bold; text-align: right;\"></th><th title = \"String\" style = \"text-align: left;\">String</th><th title = \"Float64\" style = \"text-align: left;\">Float64</th><th title = \"Float64\" style = \"text-align: left;\">Float64</th><th title = \"Float64\" style = \"text-align: left;\">Float64</th></tr></thead><tbody><tr><td class = \"rowNumber\" style = \"font-weight: bold; text-align: right;\">1</td><td style = \"text-align: left;\">629</td><td style = \"text-align: right;\">-5.32853e-16</td><td style = \"text-align: right;\">-1.4194e-16</td><td style = \"text-align: right;\">-1.55054e-16</td></tr><tr><td class = \"rowNumber\" style = \"font-weight: bold; text-align: right;\">2</td><td style = \"text-align: left;\">10001</td><td style = \"text-align: right;\">-1.73929e-16</td><td style = \"text-align: right;\">-9.01485e-17</td><td style = \"text-align: right;\">-1.11423e-16</td></tr></tbody></table></div>"
      ],
      "text/latex": [
       "\\begin{tabular}{r|cccc}\n",
       "\t& Puntos & Punto Medio & Trapecio & Simpson\\\\\n",
       "\t\\hline\n",
       "\t& String & Float64 & Float64 & Float64\\\\\n",
       "\t\\hline\n",
       "\t1 & 629 & -5.32853e-16 & -1.4194e-16 & -1.55054e-16 \\\\\n",
       "\t2 & 10001 & -1.73929e-16 & -9.01485e-17 & -1.11423e-16 \\\\\n",
       "\\end{tabular}\n"
      ],
      "text/plain": [
       "\u001b[1m2×4 DataFrame\u001b[0m\n",
       "\u001b[1m Row \u001b[0m│\u001b[1m Puntos \u001b[0m\u001b[1m Punto Medio  \u001b[0m\u001b[1m Trapecio     \u001b[0m\u001b[1m Simpson      \u001b[0m\n",
       "     │\u001b[90m String \u001b[0m\u001b[90m Float64      \u001b[0m\u001b[90m Float64      \u001b[0m\u001b[90m Float64      \u001b[0m\n",
       "─────┼──────────────────────────────────────────────────\n",
       "   1 │ 629     -5.32853e-16  -1.4194e-16   -1.55054e-16\n",
       "   2 │ 10001   -1.73929e-16  -9.01485e-17  -1.11423e-16"
      ]
     },
     "execution_count": 113,
     "metadata": {},
     "output_type": "execute_result"
    }
   ],
   "source": [
    "A´ = [\"629\", \"10001\"]\n",
    "B´ = [SM2(x1,y1), SM2(x2,y2)]\n",
    "C´ = [ST2(x1,y1), ST2(x2,y2)]\n",
    "D´ = [SS2(x1,y1), SS2(x2,y2)]\n",
    "\n",
    "DataFrame(\"Puntos\" => A´, \"Punto Medio\" => B´, \"Trapecio\" => C´,\"Simpson\" => D´)"
   ]
  },
  {
   "cell_type": "code",
   "execution_count": null,
   "metadata": {},
   "outputs": [],
   "source": []
  },
  {
   "cell_type": "code",
   "execution_count": 131,
   "metadata": {},
   "outputs": [],
   "source": [
    "VE1 = [j for j in 1:0.01:12];"
   ]
  },
  {
   "cell_type": "code",
   "execution_count": 132,
   "metadata": {},
   "outputs": [
    {
     "data": {
      "text/plain": [
       "1101-element Vector{Float64}:\n",
       "   1.0\n",
       "   1.0201\n",
       "   1.0404\n",
       "   1.0609\n",
       "   1.0816000000000001\n",
       "   1.1025\n",
       "   1.1236000000000002\n",
       "   1.1449\n",
       "   1.1664\n",
       "   1.1881000000000002\n",
       "   1.2100000000000002\n",
       "   1.2321000000000002\n",
       "   1.2544000000000002\n",
       "   ⋮\n",
       " 141.37210000000002\n",
       " 141.61\n",
       " 141.84810000000002\n",
       " 142.0864\n",
       " 142.32489999999999\n",
       " 142.56359999999998\n",
       " 142.80249999999998\n",
       " 143.04160000000002\n",
       " 143.2809\n",
       " 143.52040000000002\n",
       " 143.7601\n",
       " 144.0"
      ]
     },
     "execution_count": 132,
     "metadata": {},
     "output_type": "execute_result"
    }
   ],
   "source": [
    "VE2 = [i(j) for j in VE1]"
   ]
  },
  {
   "cell_type": "code",
   "execution_count": 133,
   "metadata": {},
   "outputs": [
    {
     "data": {
      "text/plain": [
       "575.1438086587951"
      ]
     },
     "execution_count": 133,
     "metadata": {},
     "output_type": "execute_result"
    }
   ],
   "source": [
    "SS2(VE1,VE2)"
   ]
  },
  {
   "cell_type": "code",
   "execution_count": 134,
   "metadata": {},
   "outputs": [
    {
     "data": {
      "text/plain": [
       "i (generic function with 1 method)"
      ]
     },
     "execution_count": 134,
     "metadata": {},
     "output_type": "execute_result"
    }
   ],
   "source": [
    "i(x) = x^2"
   ]
  },
  {
   "cell_type": "code",
   "execution_count": 135,
   "metadata": {},
   "outputs": [
    {
     "data": {
      "text/plain": [
       "575.6666666666665"
      ]
     },
     "execution_count": 135,
     "metadata": {},
     "output_type": "execute_result"
    }
   ],
   "source": [
    "SS(1,12,12,i)"
   ]
  },
  {
   "cell_type": "code",
   "execution_count": null,
   "metadata": {},
   "outputs": [],
   "source": []
  },
  {
   "cell_type": "markdown",
   "metadata": {},
   "source": [
    "1. **Notar que Windows usa `\"\\\"` en vez de `\"/\"`.**\n",
    "\n",
    "2. Cuando entre a github a ver los links a los archivos, seleccione primero el archivo, cuando se visualice selecione el botón **Raw**. Fíjese que el link debe comenzar con https://raw.githubusercontent.com"
   ]
  },
  {
   "cell_type": "code",
   "execution_count": null,
   "metadata": {},
   "outputs": [],
   "source": []
  },
  {
   "cell_type": "markdown",
   "metadata": {},
   "source": [
    "## Problema C.1\n",
    "Idem problema 4, para las siguientes integrales: \n",
    "1. $\\int_{1/2}^1 x^4 dx$\n",
    "2. $\\int_0^{\\pi/4} x \\sin x dx$"
   ]
  },
  {
   "cell_type": "code",
   "execution_count": null,
   "metadata": {},
   "outputs": [],
   "source": []
  },
  {
   "cell_type": "markdown",
   "metadata": {},
   "source": [
    "## Problema C.2\n",
    "**Integración numérica en dos dimensiones**\n",
    "1. Haga un programa que integre funciones en la region $a\\le x \\le b\\,;\\;c \\le y \\le d$ siguiendo el código delineado en la clase teórica, usando el método de cuadratura de Simpson en cada coordenada.\n",
    "2. Evalue nume\n",
    "ricamente con no menos de 8 cifras significativas las integrales\n",
    "$$\n",
    "\\int_0^2\\,dx\\, \\int_0^1\\,dy\\, e^{-x\\,y} \\;\\;\\;\\;\\;\\;\\;\\;\\;\\;\\;\\;\\;\\;\n",
    "\\int_{7/5}^2\\,dx\\, \\int_1^{3/2}\\,dy\\, \\ln{(x+2 y)}\n",
    "$$\n",
    "3. Modifique el programa para permitir que los límites de integración en $y$ sean función de $x$ y evalue la integral\n",
    "$$\n",
    "\\int_0^1\\,dx\\, \\int_0^{\\sqrt{1-x^2}}\\,dy\\, e^{-x\\,y} \n",
    "$$"
   ]
  },
  {
   "cell_type": "code",
   "execution_count": null,
   "metadata": {},
   "outputs": [],
   "source": []
  }
 ],
 "metadata": {
  "@webio": {
   "lastCommId": null,
   "lastKernelId": null
  },
  "kernelspec": {
   "display_name": "Julia 1.8.5",
   "language": "julia",
   "name": "julia-1.8"
  },
  "language_info": {
   "file_extension": ".jl",
   "mimetype": "application/julia",
   "name": "julia",
   "version": "1.8.5"
  }
 },
 "nbformat": 4,
 "nbformat_minor": 4
}
